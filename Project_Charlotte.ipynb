{
 "cells": [
  {
   "cell_type": "code",
   "execution_count": 2,
   "id": "2093efe7-ddac-4719-ac52-5c7d39467a8f",
   "metadata": {},
   "outputs": [],
   "source": [
    "import bw2data as bd\n",
    "import bw2calc as bc\n",
    "import bw2io as bi\n",
    "import os               # to use \"operating system dependent functionality\"\n",
    "import numpy as np      # \"the fundamental package for scientific computing with Python\"\n",
    "import pandas as pd     # \"high-performance, easy-to-use data structures and data analysis tools\" for Python"
   ]
  },
  {
   "cell_type": "code",
   "execution_count": 3,
   "id": "763470f4-7e6a-47fd-98ab-0bfab9800973",
   "metadata": {},
   "outputs": [],
   "source": [
    "bd.projects.set_current(\"ei38-teaching-25\")"
   ]
  },
  {
   "cell_type": "code",
   "execution_count": 4,
   "id": "fba3a853-97bc-4ba6-a12b-e1d137d9e940",
   "metadata": {},
   "outputs": [
    {
     "data": {
      "text/plain": [
       "Databases dictionary with 4 object(s):\n",
       "\tEXIOBASE 3.8.1 2017 monetary\n",
       "\tEXIOBASE 3.8.1 2017 monetary biosphere\n",
       "\tbiosphere3\n",
       "\tei 3.8 cutoff"
      ]
     },
     "execution_count": 4,
     "metadata": {},
     "output_type": "execute_result"
    }
   ],
   "source": [
    "bd.databases"
   ]
  },
  {
   "cell_type": "code",
   "execution_count": 6,
   "id": "5d8b804c-1211-4127-95a5-038d7f84e5ed",
   "metadata": {},
   "outputs": [],
   "source": [
    "bd.projects.set_current(\"AS-group-project\")"
   ]
  },
  {
   "cell_type": "code",
   "execution_count": 7,
   "id": "48bada1a-decf-4622-968e-fc5f01d481d4",
   "metadata": {},
   "outputs": [
    {
     "data": {
      "text/plain": [
       "Databases dictionary with 4 object(s):\n",
       "\tEXIOBASE 3.8.1 2017 monetary\n",
       "\tEXIOBASE 3.8.1 2017 monetary biosphere\n",
       "\tbiosphere3\n",
       "\tei 3.8 cutoff"
      ]
     },
     "execution_count": 7,
     "metadata": {},
     "output_type": "execute_result"
    }
   ],
   "source": [
    "bd.databases"
   ]
  },
  {
   "cell_type": "code",
   "execution_count": 9,
   "id": "029f2a48-7325-4503-98f6-dd32d668b1b9",
   "metadata": {},
   "outputs": [],
   "source": [
    "eidb = bd.Database(\"ei 3.8 cutoff\")"
   ]
  },
  {
   "cell_type": "code",
   "execution_count": 33,
   "id": "10d46a8c-38fe-467a-ab86-877c5d7997f1",
   "metadata": {},
   "outputs": [],
   "source": [
    "forwarding_act = [act for act in eidb if 'forwarding' in act['name'] and act['location']==\"RER\"][0]"
   ]
  },
  {
   "cell_type": "code",
   "execution_count": 39,
   "id": "cb8b575b-4690-46b3-a169-5f09c4bd706f",
   "metadata": {},
   "outputs": [
    {
     "data": {
      "text/plain": [
       "('ei 3.8 cutoff', '39f73b6fa228fc6df946cc78891f1456')"
      ]
     },
     "execution_count": 39,
     "metadata": {},
     "output_type": "execute_result"
    }
   ],
   "source": [
    "forwarding_act.key"
   ]
  },
  {
   "cell_type": "code",
   "execution_count": 40,
   "id": "fa0f5004-9cf1-4060-bf3d-1138db253726",
   "metadata": {},
   "outputs": [],
   "source": [
    "chipping_act = [act for act in eidb if 'chipping' in act['name'] and 'mobile' in act['name'] and act['location']==\"RER\"][0]"
   ]
  },
  {
   "cell_type": "code",
   "execution_count": null,
   "id": "bdc47d70-25fe-433e-b898-853012d5b2f2",
   "metadata": {},
   "outputs": [],
   "source": []
  },
  {
   "cell_type": "code",
   "execution_count": 11,
   "id": "f9d4d7df-ec50-4c26-8f76-fdc5a4a8493f",
   "metadata": {},
   "outputs": [],
   "source": [
    "db = bd.Database(\"charcrete\")"
   ]
  },
  {
   "cell_type": "code",
   "execution_count": null,
   "id": "385796b4-591b-4773-9435-d3e66705d7a7",
   "metadata": {},
   "outputs": [],
   "source": [
    "charcrete_activities = {\n",
    "    (\"charcrete\", '1'): {\n",
    "        \"name\": \"biochar production\",\n",
    "        'unit': 'ton',\n",
    "        'categories': (\"comment\", \"category here\"), #?\n",
    "        'database': 'charcrete',\n",
    "        \"exchanges\": [{\n",
    "            \"amount\": 0.33,\n",
    "            \"input\": ('ei 3.8 cutoff', '39f73b6fa228fc6df946cc78891f1456'), #Forwarding\n",
    "            \"type\": \"technosphere\",\n",
    "            \"uncertainty type\":0,\n",
    "            \"unit=\": \"kg\"},\n",
    "                      {\n",
    "            \"amount\": 0.33,\n",
    "            \"input\": ('ei 3.8 cutoff', '917ee40e1f6bb293b45e575558fae131'), #Deformation stroke\n",
    "            \"type\": \"technosphere\",\n",
    "            \"uncertainty type\":0,\n",
    "            \"unit=\": \"kg\"}\n",
    "        ],\n",
    "        },\n",
    "     (\"charcrete\", '2'): {\n",
    "        \"name\": \"Water drinking\",\n",
    "        'unit': 'liter',\n",
    "        'categories': (\"Another made up\", \"category here\"),\n",
    "        'database': 'Db as dict',\n",
    "        \"exchanges\": [{\n",
    "            \"amount\": 1,\n",
    "            \"input\": (\"Db as dict\", \"1\"), #Our water bottle\n",
    "            \"type\": \"technosphere\",\n",
    "            \"uncertainty type\":5,\n",
    "            \"loc\":0.005,\n",
    "            \"minimum\":0.0005,\n",
    "            \"maximum\":0.05,\n",
    "            \"unit\": \"kg\"},\n",
    "                      {\n",
    "            \"amount\": 1,\n",
    "            \"input\": ('ei 3.8 cutoff', '45bfccbefdcb65b912edbe3411b7c707'), #Water\n",
    "            \"type\": \"technosphere\",\n",
    "            \"uncertainty type\":0,\n",
    "            \"unit=\": \"kg\"}],\n",
    "        }\n",
    "}"
   ]
  }
 ],
 "metadata": {
  "kernelspec": {
   "display_name": "Python [conda env:bw25]",
   "language": "python",
   "name": "conda-env-bw25-py"
  },
  "language_info": {
   "codemirror_mode": {
    "name": "ipython",
    "version": 3
   },
   "file_extension": ".py",
   "mimetype": "text/x-python",
   "name": "python",
   "nbconvert_exporter": "python",
   "pygments_lexer": "ipython3",
   "version": "3.10.6"
  }
 },
 "nbformat": 4,
 "nbformat_minor": 5
}
