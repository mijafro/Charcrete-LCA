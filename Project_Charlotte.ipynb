{
 "cells": [
  {
   "cell_type": "code",
   "execution_count": 2,
   "id": "2093efe7-ddac-4719-ac52-5c7d39467a8f",
   "metadata": {
    "tags": []
   },
   "outputs": [],
   "source": [
    "import bw2data as bd\n",
    "import bw2calc as bc\n",
    "import bw2io as bi\n",
    "import os               # to use \"operating system dependent functionality\"\n",
    "import numpy as np      # \"the fundamental package for scientific computing with Python\"\n",
    "import pandas as pd     # \"high-performance, easy-to-use data structures and data analysis tools\" for Python"
   ]
  },
  {
   "cell_type": "code",
   "execution_count": 3,
   "id": "763470f4-7e6a-47fd-98ab-0bfab9800973",
   "metadata": {
    "collapsed": true,
    "jupyter": {
     "outputs_hidden": true
    }
   },
   "outputs": [],
   "source": [
    "bd.projects.set_current(\"ei38-teaching-25\")"
   ]
  },
  {
   "cell_type": "code",
   "execution_count": 94,
   "id": "fba3a853-97bc-4ba6-a12b-e1d137d9e940",
   "metadata": {
    "collapsed": true,
    "jupyter": {
     "outputs_hidden": true
    }
   },
   "outputs": [
    {
     "data": {
      "text/plain": [
       "Databases dictionary with 4 object(s):\n",
       "\tEXIOBASE 3.8.1 2017 monetary\n",
       "\tEXIOBASE 3.8.1 2017 monetary biosphere\n",
       "\tbiosphere3\n",
       "\tei 3.8 cutoff"
      ]
     },
     "execution_count": 94,
     "metadata": {},
     "output_type": "execute_result"
    }
   ],
   "source": [
    "bd.databases"
   ]
  },
  {
   "cell_type": "code",
   "execution_count": 93,
   "id": "f143bfd5-95c1-4e41-b8e7-84187abd9ae3",
   "metadata": {
    "collapsed": true,
    "jupyter": {
     "outputs_hidden": true
    }
   },
   "outputs": [],
   "source": [
    "db = bd.Database('charcrete')\n",
    "del bd.databases[db.name]"
   ]
  },
  {
   "cell_type": "code",
   "execution_count": 3,
   "id": "5d8b804c-1211-4127-95a5-038d7f84e5ed",
   "metadata": {
    "tags": []
   },
   "outputs": [],
   "source": [
    "bd.projects.set_current(\"AS-group-project\")"
   ]
  },
  {
   "cell_type": "code",
   "execution_count": 4,
   "id": "48bada1a-decf-4622-968e-fc5f01d481d4",
   "metadata": {
    "tags": []
   },
   "outputs": [
    {
     "data": {
      "text/plain": [
       "Databases dictionary with 5 object(s):\n",
       "\tEXIOBASE 3.8.1 2017 monetary\n",
       "\tEXIOBASE 3.8.1 2017 monetary biosphere\n",
       "\tbiosphere3\n",
       "\tcharcrete_db\n",
       "\tei 3.8 cutoff"
      ]
     },
     "execution_count": 4,
     "metadata": {},
     "output_type": "execute_result"
    }
   ],
   "source": [
    "bd.databases"
   ]
  },
  {
   "cell_type": "code",
   "execution_count": 5,
   "id": "029f2a48-7325-4503-98f6-dd32d668b1b9",
   "metadata": {
    "tags": []
   },
   "outputs": [],
   "source": [
    "eidb = bd.Database(\"ei 3.8 cutoff\")"
   ]
  },
  {
   "cell_type": "code",
   "execution_count": 33,
   "id": "10d46a8c-38fe-467a-ab86-877c5d7997f1",
   "metadata": {
    "collapsed": true,
    "jupyter": {
     "outputs_hidden": true
    }
   },
   "outputs": [],
   "source": [
    "forwarding_act = [act for act in eidb if 'forwarding' in act['name'] and act['location']==\"RER\"][0]"
   ]
  },
  {
   "cell_type": "code",
   "execution_count": 114,
   "id": "cb8b575b-4690-46b3-a169-5f09c4bd706f",
   "metadata": {
    "collapsed": true,
    "jupyter": {
     "outputs_hidden": true
    },
    "tags": []
   },
   "outputs": [
    {
     "data": {
      "text/plain": [
       "{'comment': 'The inventory refers to 1 productive machine hour (PMS) - referring to the operational time of the machine including breaks up to 15 minutes - of a forwarder class II (10 - 12 t) with an average engine power of 110 kW and a total weight of 11,049 kg.\\nA forwarder is a forestry vehicle that carries felled logs from the stump to a roadside landing. Unlike a skidder, a forwarder carries logs clear of the ground, which can reduce soil impacts but tends to limit the size of the logs it can move. Forwarders are typically employed together with harvesters in cut-to-length logging operations.\\nImage: https://db3.ecoinvent.org/images/8840519f-6554-4a44-8589-fe5c5b02e11c\\nGeography:  Emission profile according to European legislation\\nTechnology:  Average european technology',\n",
       " 'classifications': [('ISIC rev.4 ecoinvent', '0220:Logging'),\n",
       "  ('CPC', '8614: Support and operation services to forestry and logging')],\n",
       " 'activity type': 'ordinary transforming activity',\n",
       " 'activity': '44df2f1f-4296-4472-9a04-61fd1bb6f625',\n",
       " 'database': 'ei 3.8 cutoff',\n",
       " 'filename': '44df2f1f-4296-4472-9a04-61fd1bb6f625_746fcd09-118b-4e91-87be-64b0883ff04f.spold',\n",
       " 'location': 'RER',\n",
       " 'name': 'forwarding, forwarder',\n",
       " 'synonyms': ['mechanical harvesting'],\n",
       " 'parameters': [{'description': 'load factor',\n",
       "   'id': '7623e2d4-c451-412e-a3ab-d182023c6970',\n",
       "   'unit': 'dimensionless',\n",
       "   'comment': 'according to Lambrecht et al. 2004',\n",
       "   'amount': 0.5,\n",
       "   'pedigree': {'reliability': 3,\n",
       "    'completeness': 3,\n",
       "    'temporal correlation': 1,\n",
       "    'geographical correlation': 1,\n",
       "    'further technological correlation': 1},\n",
       "   'uncertainty type': 2,\n",
       "   'loc': -0.6931,\n",
       "   'scale': 0.743370701601832,\n",
       "   'scale without pedigree': 0.7416198487095663,\n",
       "   'name': 'LF'},\n",
       "  {'description': 'share of EURO IIIa',\n",
       "   'id': 'e8396f33-100f-4c42-a15d-c4e2c5d75373',\n",
       "   'unit': 'dimensionless',\n",
       "   'comment': 'assuming that the relevant share of foresassuming that the relevant share of forest machinery belongs to vehicle types tier EURO IIIa and EURO IIIb as define in the Guideline 97/68/EG by the European Commission.',\n",
       "   'amount': 0.5,\n",
       "   'pedigree': {'reliability': 5,\n",
       "    'completeness': 4,\n",
       "    'temporal correlation': 1,\n",
       "    'geographical correlation': 1,\n",
       "    'further technological correlation': 1},\n",
       "   'uncertainty type': 2,\n",
       "   'loc': -0.6931,\n",
       "   'scale': 0.7694153624668538,\n",
       "   'scale without pedigree': 0.7416198487095663,\n",
       "   'name': 'EURO_IIIa'},\n",
       "  {'description': 'diesel consumption',\n",
       "   'id': '4a0e4bed-99e6-4462-abb5-71844dded323',\n",
       "   'unit': 'l/hour',\n",
       "   'comment': 'according to Jirousek et al. 2007 (see general comments field for total of evaulated literature)',\n",
       "   'amount': 11.0,\n",
       "   'pedigree': {'reliability': 5,\n",
       "    'completeness': 4,\n",
       "    'temporal correlation': 1,\n",
       "    'geographical correlation': 1,\n",
       "    'further technological correlation': 1},\n",
       "   'uncertainty type': 2,\n",
       "   'loc': 2.398,\n",
       "   'scale': 0.7694153624668538,\n",
       "   'scale without pedigree': 0.7416198487095663,\n",
       "   'name': 'diesel_consumption'},\n",
       "  {'description': 'engine power',\n",
       "   'id': 'b4dcc13e-d303-4867-8e70-aaa05f88ac5f',\n",
       "   'unit': 'kW',\n",
       "   'comment': 'according to Jirousek et al. 2007',\n",
       "   'amount': 110.0,\n",
       "   'pedigree': {'reliability': 3,\n",
       "    'completeness': 3,\n",
       "    'temporal correlation': 1,\n",
       "    'geographical correlation': 1,\n",
       "    'further technological correlation': 1},\n",
       "   'uncertainty type': 2,\n",
       "   'loc': 4.7,\n",
       "   'scale': 0.743370701601832,\n",
       "   'scale without pedigree': 0.7416198487095663,\n",
       "   'name': 'EP'},\n",
       "  {'description': 'share of EURO IIIb',\n",
       "   'id': '0968e9b8-eda0-41f1-bc05-596dabaa49a9',\n",
       "   'unit': 'dimensionless',\n",
       "   'comment': 'assuming that the relevant share of foresassuming that the relevant share of forest machinery belongs to vehicle types tier EURO IIIa and EURO IIIb as define in the Guideline 97/68/EG by the European Commission.',\n",
       "   'amount': 0.5,\n",
       "   'pedigree': {'reliability': 1,\n",
       "    'completeness': 1,\n",
       "    'temporal correlation': 1,\n",
       "    'geographical correlation': 1,\n",
       "    'further technological correlation': 1},\n",
       "   'uncertainty type': 2,\n",
       "   'loc': -0.6931,\n",
       "   'scale': 0.9311581913539981,\n",
       "   'scale without pedigree': 0.9311581913539981,\n",
       "   'name': 'EURO_IIIb'},\n",
       "  {'description': 'lifetime of machine, productive machine hours',\n",
       "   'id': '18e00514-3c03-41f7-98ad-4eb31f87bc93',\n",
       "   'unit': 'hour',\n",
       "   'comment': 'Oral personal communication, P. Wiss, Präsident des Verbandes Forstunternehmer Schweiz',\n",
       "   'amount': 17600.0,\n",
       "   'pedigree': {'reliability': 3,\n",
       "    'completeness': 3,\n",
       "    'temporal correlation': 1,\n",
       "    'geographical correlation': 1,\n",
       "    'further technological correlation': 1},\n",
       "   'uncertainty type': 2,\n",
       "   'loc': 9.776,\n",
       "   'scale': 0.743370701601832,\n",
       "   'scale without pedigree': 0.7416198487095663,\n",
       "   'name': 'total_PMH'}],\n",
       " 'authors': {'data entry': {'name': 'Frank Werner',\n",
       "   'email': 'frank@frankwerner.ch'},\n",
       "  'data generator': {'name': 'Frank Werner', 'email': 'frank@frankwerner.ch'}},\n",
       " 'type': 'process',\n",
       " 'reference product': 'forwarding, forwarder',\n",
       " 'flow': '746fcd09-118b-4e91-87be-64b0883ff04f',\n",
       " 'unit': 'hour',\n",
       " 'production amount': 1.0,\n",
       " 'code': '39f73b6fa228fc6df946cc78891f1456',\n",
       " 'id': 4847}"
      ]
     },
     "execution_count": 114,
     "metadata": {},
     "output_type": "execute_result"
    }
   ],
   "source": [
    "forwarding_act.as_dict()"
   ]
  },
  {
   "cell_type": "code",
   "execution_count": 40,
   "id": "fa0f5004-9cf1-4060-bf3d-1138db253726",
   "metadata": {
    "collapsed": true,
    "jupyter": {
     "outputs_hidden": true
    }
   },
   "outputs": [],
   "source": [
    "chipping_act = [act for act in eidb if 'chipping' in act['name'] and 'mobile' in act['name'] and act['location']==\"RER\"][0]"
   ]
  },
  {
   "cell_type": "code",
   "execution_count": 116,
   "id": "bdc47d70-25fe-433e-b898-853012d5b2f2",
   "metadata": {
    "collapsed": true,
    "jupyter": {
     "outputs_hidden": true
    }
   },
   "outputs": [
    {
     "data": {
      "text/plain": [
       "'wood chipping, chipper, mobile, diesel, at forest road'"
      ]
     },
     "execution_count": 116,
     "metadata": {},
     "output_type": "execute_result"
    }
   ],
   "source": [
    "chipping_act['reference product']"
   ]
  },
  {
   "cell_type": "code",
   "execution_count": 52,
   "id": "d38b3d18-3339-42eb-80f4-1808f2f99b34",
   "metadata": {
    "collapsed": true,
    "jupyter": {
     "outputs_hidden": true
    }
   },
   "outputs": [],
   "source": [
    "chip_transport = [\n",
    "act for act in eidb if \n",
    "     \"market for transport, freight, lorry, unspecified\" in act['name'] \n",
    "    and act['location']=='RER'\n",
    "    and not \"generic\" in act['name']\n",
    "][0]"
   ]
  },
  {
   "cell_type": "code",
   "execution_count": 117,
   "id": "da40d3a4-efe8-4a0e-9968-d1649cfe0f90",
   "metadata": {
    "collapsed": true,
    "jupyter": {
     "outputs_hidden": true
    }
   },
   "outputs": [
    {
     "data": {
      "text/plain": [
       "{'comment': \"This is the market for 'transport, freight, lorry, unspecified', in the the geography of Europe. This is a generic market; the suppliers of this market make available this generic product by redirecting a part of the production of several more specific products.\\nThis is a market activity. Each market represents the consumption mix of a product in a given geography, connecting suppliers with consumers of the same product in the same geographical area. Markets group the producers and also the imports of the product (if relevant) within the same geographical area. They also account for transport to the consumer and for the losses during that process, when relevant.\\nNo transport or losses have been considered for the generic product supplied in this market, as the transport modelled in the upstream niche markets for the more specific products do already account it.\\nThis is delivering the service of transportation of 1 metric ton across the distance of 1 km. This service only considers the transportation of goods. The vehicle operates with diesel, and it provides a fleet average that includes different lorry classes as well as EURO classes. Specific transport activities are available in the database, this represents a generic product that can be used when no further information are available.  This service provides combines data for transport which is calculated for an average load factor, including empty return trips.\",\n",
       " 'classifications': [('EcoSpold01Categories', 'transport systems/road'),\n",
       "  ('ISIC rev.4 ecoinvent', '4923:Freight transport by road'),\n",
       "  ('CPC', '6511: Road transport services of freight')],\n",
       " 'activity type': 'market activity',\n",
       " 'activity': 'f632c141-a309-4673-8453-e2c9929dbea5',\n",
       " 'database': 'ei 3.8 cutoff',\n",
       " 'filename': 'f632c141-a309-4673-8453-e2c9929dbea5_cfbce515-3f54-4411-ad9d-3d26b7faa15a.spold',\n",
       " 'location': 'RER',\n",
       " 'name': 'market for transport, freight, lorry, unspecified',\n",
       " 'synonyms': [],\n",
       " 'parameters': [],\n",
       " 'authors': {'data entry': {'name': 'Lucia Valsasina',\n",
       "   'email': 'valsasina@ecoinvent.org'},\n",
       "  'data generator': {'name': 'Lucia Valsasina',\n",
       "   'email': 'valsasina@ecoinvent.org'}},\n",
       " 'type': 'process',\n",
       " 'reference product': 'transport, freight, lorry, unspecified',\n",
       " 'flow': 'cfbce515-3f54-4411-ad9d-3d26b7faa15a',\n",
       " 'unit': 'ton kilometer',\n",
       " 'production amount': 1.0,\n",
       " 'code': '2b0c1793924e1bb3e821cbe15bee1a32',\n",
       " 'id': 20556}"
      ]
     },
     "execution_count": 117,
     "metadata": {},
     "output_type": "execute_result"
    }
   ],
   "source": [
    "chip_transport.as_dict()"
   ]
  },
  {
   "cell_type": "code",
   "execution_count": 58,
   "id": "cc2d609c-5045-41ff-bb30-aab4378d695e",
   "metadata": {
    "collapsed": true,
    "jupyter": {
     "outputs_hidden": true
    }
   },
   "outputs": [],
   "source": [
    "elec = [\n",
    "act for act in eidb if \n",
    "     \"market for electricity, high voltage\" in act['name'] \n",
    "    and act['location']=='SE'\n",
    "][0]"
   ]
  },
  {
   "cell_type": "code",
   "execution_count": 118,
   "id": "fd8779d9-ee33-42a8-b400-925a94960c00",
   "metadata": {
    "collapsed": true,
    "jupyter": {
     "outputs_hidden": true
    }
   },
   "outputs": [
    {
     "data": {
      "text/plain": [
       "'market for electricity, high voltage' (kilowatt hour, SE, None)"
      ]
     },
     "execution_count": 118,
     "metadata": {},
     "output_type": "execute_result"
    }
   ],
   "source": [
    "elec"
   ]
  },
  {
   "cell_type": "code",
   "execution_count": 70,
   "id": "b79cbb75-3fa0-4d99-a72a-b915c99d9d46",
   "metadata": {
    "collapsed": true,
    "jupyter": {
     "outputs_hidden": true
    }
   },
   "outputs": [],
   "source": [
    "N20_act = [\n",
    "act for act in bd.Database('biosphere3') if \n",
    "     'Dinitrogen' in act['name'] \n",
    "][0]"
   ]
  },
  {
   "cell_type": "code",
   "execution_count": 119,
   "id": "b8bb3e94-a33f-4427-8588-d3fb0eb5cad9",
   "metadata": {
    "collapsed": true,
    "jupyter": {
     "outputs_hidden": true
    }
   },
   "outputs": [
    {
     "data": {
      "text/plain": [
       "'Dinitrogen monoxide' (kilogram, None, ('air', 'non-urban air or from high stacks'))"
      ]
     },
     "execution_count": 119,
     "metadata": {},
     "output_type": "execute_result"
    }
   ],
   "source": [
    "N20_act"
   ]
  },
  {
   "cell_type": "code",
   "execution_count": 81,
   "id": "a6c2a09e-e031-4878-88f0-54a694e3c346",
   "metadata": {
    "collapsed": true,
    "jupyter": {
     "outputs_hidden": true
    }
   },
   "outputs": [],
   "source": [
    "CH4_act = [\n",
    "act for act in bd.Database('biosphere3') if \n",
    "     'Methane, non-fossil' in act['name'] \n",
    "    and 'high stacks' in str(act['categories'])\n",
    "][0]"
   ]
  },
  {
   "cell_type": "code",
   "execution_count": 121,
   "id": "8b3e53ed-483f-495a-a4b5-9411de79cfd4",
   "metadata": {
    "collapsed": true,
    "jupyter": {
     "outputs_hidden": true
    }
   },
   "outputs": [
    {
     "data": {
      "text/plain": [
       "{'categories': ('air', 'non-urban air or from high stacks'),\n",
       " 'code': '57bdb443-d4a6-423d-8024-959b8261d02e',\n",
       " 'CAS number': '000074-82-8',\n",
       " 'name': 'Methane, non-fossil',\n",
       " 'database': 'biosphere3',\n",
       " 'unit': 'kilogram',\n",
       " 'type': 'emission',\n",
       " 'id': 1690}"
      ]
     },
     "execution_count": 121,
     "metadata": {},
     "output_type": "execute_result"
    }
   ],
   "source": [
    "CH4_act.as_dict()"
   ]
  },
  {
   "cell_type": "code",
   "execution_count": 95,
   "id": "f9d4d7df-ec50-4c26-8f76-fdc5a4a8493f",
   "metadata": {
    "collapsed": true,
    "jupyter": {
     "outputs_hidden": true
    }
   },
   "outputs": [],
   "source": [
    "db = bd.Database(\"charcrete_db\")"
   ]
  },
  {
   "cell_type": "code",
   "execution_count": 96,
   "id": "385796b4-591b-4773-9435-d3e66705d7a7",
   "metadata": {
    "collapsed": true,
    "jupyter": {
     "outputs_hidden": true
    }
   },
   "outputs": [],
   "source": [
    "charcrete_activities = {\n",
    "    (\"charcrete_db\", '1'): {\n",
    "        \"name\": \"woodchip production\",\n",
    "        'unit': 'ton',\n",
    "        'categories': (\"comment\", \"category here\"), #?\n",
    "        'database': 'charcrete_db',\n",
    "        \"exchanges\": [{\n",
    "            \"amount\": 0.15739,\n",
    "            \"input\": ('ei 3.8 cutoff', '39f73b6fa228fc6df946cc78891f1456'), #Forwarding\n",
    "            \"type\": \"technosphere\",\n",
    "            \"uncertainty type\":0,\n",
    "            \"unit=\": \"hour\"},\n",
    "                      {\n",
    "            \"amount\": 0.047136,\n",
    "            \"input\": ('ei 3.8 cutoff', 'a4f64071a3a353f807b933a6ddfc1f81'), #Chipping\n",
    "            \"type\": \"technosphere\",\n",
    "            \"uncertainty type\":0,\n",
    "            \"unit=\": \"hour\"}\n",
    "        ]\n",
    "        },\n",
    "        (\"charcrete_db\", '2'): {\n",
    "        \"name\": \"woodchip transport\",\n",
    "        'unit': 'ton',\n",
    "        'categories': (\"comment\", \"lorry, unspecified, RER - 200km\"), #\n",
    "        'database': 'charcrete_db',\n",
    "        \"exchanges\": [{\n",
    "            \"amount\": 200,\n",
    "            \"input\": ('ei 3.8 cutoff', '2b0c1793924e1bb3e821cbe15bee1a32'), #transport\n",
    "            \"type\": \"technosphere\",\n",
    "            \"uncertainty type\":0,\n",
    "            \"unit=\": \"ton.km\"},\n",
    "        ]\n",
    "        },\n",
    "        (\"charcrete_db\", '3'): {\n",
    "        \"name\": \"pyrolysis\",\n",
    "        'unit': 'ton',\n",
    "        'categories': (\"comment\", \"For one ton of biomass, Sweden mix - HV\"), #\n",
    "        'database': 'charcrete_db',\n",
    "        \"exchanges\": [{\n",
    "            \"amount\": 0.010,\n",
    "            \"input\": ('ei 3.8 cutoff', 'b3e6b1396a7aad9719da6e6e4aef374a'), #electricity HV\n",
    "            \"type\": \"technosphere\",\n",
    "            \"uncertainty type\":0,\n",
    "            \"unit=\": \"kWh\"},\n",
    "            {\n",
    "            \"amount\": 0.108,\n",
    "            \"input\": ('biosphere3', 'afd6d670-bbb0-4625-9730-04088a5b035e'), #N20\n",
    "            \"type\": \"biosphere\",\n",
    "            \"uncertainty type\":0,\n",
    "            \"unit=\": \"kilogram\"},\n",
    "                        {\n",
    "            \"amount\": 0.198,\n",
    "            \"input\": ('biosphere3', '57bdb443-d4a6-423d-8024-959b8261d02e'), #CH4\n",
    "            \"type\": \"biosphere\",\n",
    "            \"uncertainty type\":0,\n",
    "            \"unit=\": \"kilogram\"},\n",
    "        ]\n",
    "        },\n",
    "     (\"charcrete_db\", '4'): {\n",
    "        \"name\": \"biochar production\",\n",
    "        'unit': 'ton',\n",
    "        'categories': (\"comment\", \"category here\"),\n",
    "        'database': 'charcrete_db',\n",
    "        \"exchanges\": [{\n",
    "            \"amount\": 2.7, #amount is 1/0.37 as we get 370 kilo of biochar out of 1 ton woodchips\n",
    "            \"input\": (\"charcrete_db\", \"1\"), #woodchip production\n",
    "            \"type\": \"technosphere\",\n",
    "            \"uncertainty type\":0,\n",
    "            \"unit\": \"ton\"},\n",
    "            {\n",
    "            \"amount\": 2.7,\n",
    "            \"input\": (\"charcrete_db\", \"2\"), #woodchip transport\n",
    "            \"type\": \"technosphere\",\n",
    "            \"uncertainty type\":0,\n",
    "            \"unit\": \"ton\"},\n",
    "            {\n",
    "            \"amount\": 2.7,\n",
    "            \"input\": (\"charcrete_db\", \"3\"), #pyrolysis\n",
    "            \"type\": \"technosphere\",\n",
    "            \"uncertainty type\":0,\n",
    "            \"unit\": \"ton\"},\n",
    "                      ]\n",
    "        }\n",
    "}"
   ]
  },
  {
   "cell_type": "code",
   "execution_count": 97,
   "id": "5a5f78a0-e31f-4721-8c13-7a43304bffd3",
   "metadata": {
    "collapsed": true,
    "jupyter": {
     "outputs_hidden": true
    }
   },
   "outputs": [
    {
     "name": "stdout",
     "output_type": "stream",
     "text": [
      "Not able to determine geocollections for all datasets. This database is not ready for regionalization.\n",
      "Warning: No valid output stream.\n",
      "Title: Writing activities to SQLite3 database:\n",
      "  Started: 10/26/2022 13:41:50\n",
      "  Finished: 10/26/2022 13:41:50\n",
      "  Total time elapsed: 00:00:00\n",
      "  CPU %: 0.00\n",
      "  Memory %: 0.37\n"
     ]
    }
   ],
   "source": [
    "db.write(charcrete_activities)"
   ]
  },
  {
   "cell_type": "code",
   "execution_count": 100,
   "id": "138d0284-416f-46a6-9fde-9dc575e985c6",
   "metadata": {
    "collapsed": true,
    "jupyter": {
     "outputs_hidden": true
    }
   },
   "outputs": [
    {
     "data": {
      "text/plain": [
       "'pyrolysis' (ton, None, ('comment', 'For one ton of biomass, Sweden mix - HV'))"
      ]
     },
     "execution_count": 100,
     "metadata": {},
     "output_type": "execute_result"
    }
   ],
   "source": [
    "act_t = db.random()\n",
    "act_t"
   ]
  },
  {
   "cell_type": "code",
   "execution_count": 101,
   "id": "fb676cf6-7306-469a-8147-88ef19e17e68",
   "metadata": {
    "collapsed": true,
    "jupyter": {
     "outputs_hidden": true
    }
   },
   "outputs": [],
   "source": [
    "ipcc2013 = ('IPCC 2013', 'climate change', 'GWP 100a')"
   ]
  },
  {
   "cell_type": "code",
   "execution_count": 104,
   "id": "ca5066b1-152e-4a8c-8e1b-297b6f9bd3f4",
   "metadata": {
    "collapsed": true,
    "jupyter": {
     "outputs_hidden": true
    }
   },
   "outputs": [],
   "source": [
    "lca_w = bc.LCA({act_t:1},ipcc2013)"
   ]
  },
  {
   "cell_type": "code",
   "execution_count": 105,
   "id": "a65479d2-b22d-439b-8de9-37acf08574f5",
   "metadata": {
    "collapsed": true,
    "jupyter": {
     "outputs_hidden": true
    }
   },
   "outputs": [
    {
     "data": {
      "text/plain": [
       "34.24181453257221"
      ]
     },
     "execution_count": 105,
     "metadata": {},
     "output_type": "execute_result"
    }
   ],
   "source": [
    "lca_w.lci()\n",
    "lca_w.lcia()\n",
    "lca_w.score"
   ]
  },
  {
   "cell_type": "code",
   "execution_count": 106,
   "id": "8d43efdc-49cc-4487-aaa2-86e7e87fe82d",
   "metadata": {
    "collapsed": true,
    "jupyter": {
     "outputs_hidden": true
    }
   },
   "outputs": [],
   "source": [
    "dp = db.datapackage()"
   ]
  },
  {
   "cell_type": "code",
   "execution_count": 107,
   "id": "93267552-a242-4f4f-8be3-973e579bc23a",
   "metadata": {
    "collapsed": true,
    "jupyter": {
     "outputs_hidden": true
    },
    "tags": []
   },
   "outputs": [
    {
     "data": {
      "text/plain": [
       "{'profile': 'data-package',\n",
       " 'name': 'charcrete_db',\n",
       " 'id': '50c7c6ebaa05458aa475dc00b5fb1472',\n",
       " 'licenses': [{'name': 'ODC-PDDL-1.0',\n",
       "   'path': 'http://opendatacommons.org/licenses/pddl/',\n",
       "   'title': 'Open Data Commons Public Domain Dedication and License v1.0'}],\n",
       " 'resources': [{'profile': 'data-resource',\n",
       "   'format': 'npy',\n",
       "   'mediatype': 'application/octet-stream',\n",
       "   'name': 'charcrete_db_inventory_geomapping_matrix.indices',\n",
       "   'matrix': 'inv_geomapping_matrix',\n",
       "   'kind': 'indices',\n",
       "   'path': 'charcrete_db_inventory_geomapping_matrix.indices.npy',\n",
       "   'group': 'charcrete_db_inventory_geomapping_matrix',\n",
       "   'nrows': 4,\n",
       "   'category': 'vector'},\n",
       "  {'profile': 'data-resource',\n",
       "   'format': 'npy',\n",
       "   'mediatype': 'application/octet-stream',\n",
       "   'name': 'charcrete_db_inventory_geomapping_matrix.data',\n",
       "   'matrix': 'inv_geomapping_matrix',\n",
       "   'kind': 'data',\n",
       "   'path': 'charcrete_db_inventory_geomapping_matrix.data.npy',\n",
       "   'group': 'charcrete_db_inventory_geomapping_matrix',\n",
       "   'nrows': 4,\n",
       "   'category': 'vector'},\n",
       "  {'profile': 'data-resource',\n",
       "   'format': 'npy',\n",
       "   'mediatype': 'application/octet-stream',\n",
       "   'name': 'charcrete_db_biosphere_matrix.indices',\n",
       "   'matrix': 'biosphere_matrix',\n",
       "   'kind': 'indices',\n",
       "   'path': 'charcrete_db_biosphere_matrix.indices.npy',\n",
       "   'group': 'charcrete_db_biosphere_matrix',\n",
       "   'nrows': 2,\n",
       "   'category': 'vector'},\n",
       "  {'profile': 'data-resource',\n",
       "   'format': 'npy',\n",
       "   'mediatype': 'application/octet-stream',\n",
       "   'name': 'charcrete_db_biosphere_matrix.data',\n",
       "   'matrix': 'biosphere_matrix',\n",
       "   'kind': 'data',\n",
       "   'path': 'charcrete_db_biosphere_matrix.data.npy',\n",
       "   'group': 'charcrete_db_biosphere_matrix',\n",
       "   'nrows': 2,\n",
       "   'category': 'vector'},\n",
       "  {'profile': 'data-resource',\n",
       "   'format': 'npy',\n",
       "   'mediatype': 'application/octet-stream',\n",
       "   'name': 'charcrete_db_technosphere_matrix.indices',\n",
       "   'matrix': 'technosphere_matrix',\n",
       "   'kind': 'indices',\n",
       "   'path': 'charcrete_db_technosphere_matrix.indices.npy',\n",
       "   'group': 'charcrete_db_technosphere_matrix',\n",
       "   'nrows': 11,\n",
       "   'category': 'vector'},\n",
       "  {'profile': 'data-resource',\n",
       "   'format': 'npy',\n",
       "   'mediatype': 'application/octet-stream',\n",
       "   'name': 'charcrete_db_technosphere_matrix.data',\n",
       "   'matrix': 'technosphere_matrix',\n",
       "   'kind': 'data',\n",
       "   'path': 'charcrete_db_technosphere_matrix.data.npy',\n",
       "   'group': 'charcrete_db_technosphere_matrix',\n",
       "   'nrows': 11,\n",
       "   'category': 'vector'},\n",
       "  {'profile': 'data-resource',\n",
       "   'format': 'npy',\n",
       "   'mediatype': 'application/octet-stream',\n",
       "   'name': 'charcrete_db_technosphere_matrix.flip',\n",
       "   'matrix': 'technosphere_matrix',\n",
       "   'kind': 'flip',\n",
       "   'path': 'charcrete_db_technosphere_matrix.flip.npy',\n",
       "   'group': 'charcrete_db_technosphere_matrix',\n",
       "   'nrows': 11,\n",
       "   'category': 'vector'}],\n",
       " 'created': '2022-10-26T13:41:50.698360Z',\n",
       " 'combinatorial': False,\n",
       " 'sequential': False,\n",
       " 'seed': None,\n",
       " 'sum_intra_duplicates': True,\n",
       " 'sum_inter_duplicates': False}"
      ]
     },
     "execution_count": 107,
     "metadata": {},
     "output_type": "execute_result"
    }
   ],
   "source": [
    "dp.metadata"
   ]
  },
  {
   "cell_type": "code",
   "execution_count": null,
   "id": "32d361af-6faf-45f4-816b-3b716d485c45",
   "metadata": {
    "collapsed": true,
    "jupyter": {
     "outputs_hidden": true
    }
   },
   "outputs": [],
   "source": [
    "db.new_activity"
   ]
  },
  {
   "cell_type": "code",
   "execution_count": 132,
   "id": "bb80319d-7377-47a3-bf26-dee2122afc69",
   "metadata": {
    "collapsed": true,
    "jupyter": {
     "outputs_hidden": true
    }
   },
   "outputs": [],
   "source": [
    "concrete_20MPa_PE = [\n",
    "    act for act in eidb if \n",
    "    'concrete' in act['name'] \n",
    "    and '20MPa' in act['name']\n",
    "    and 'self' in act['name']\n",
    "    and 'Portland' in act['name']\n",
    "    and act['location']=='PE'\n",
    "][0]"
   ]
  },
  {
   "cell_type": "code",
   "execution_count": null,
   "id": "08474d5d-4f12-4831-989d-b640d4ee9730",
   "metadata": {
    "collapsed": true,
    "jupyter": {
     "outputs_hidden": true
    }
   },
   "outputs": [],
   "source": [
    "concrete_20MPa_PE.technosphere"
   ]
  },
  {
   "cell_type": "code",
   "execution_count": 134,
   "id": "5a2bef01-a27a-43e7-b665-3ec75d214af0",
   "metadata": {
    "tags": []
   },
   "outputs": [
    {
     "name": "stdout",
     "output_type": "stream",
     "text": [
      "gravel, crushed 1063.578\n",
      "electricity, medium voltage 0.85799\n",
      "wastewater from concrete production -0.02472\n",
      "sand 709.052\n",
      "waste concrete -70.79325\n",
      "synthetic rubber 0.0345\n",
      "scrap steel -0.0238\n",
      "lubricating oil 0.0499\n",
      "waste mineral oil -0.0499\n",
      "tap water 325.76325\n",
      "waste rubber, unspecified -0.0345\n",
      "cement, Portland 393.975\n",
      "steel, low-alloyed, hot rolled 0.0238\n"
     ]
    }
   ],
   "source": [
    "for exc in concrete_20MPa_PE.technosphere() : \n",
    "    print(exc['name'], exc['amount'])"
   ]
  },
  {
   "cell_type": "code",
   "execution_count": 14,
   "id": "ac59d1fe-55d9-497b-9d99-9a1180c1a250",
   "metadata": {
    "tags": []
   },
   "outputs": [
    {
     "data": {
      "text/plain": [
       "'transport, freight, lorry, unspecified'"
      ]
     },
     "execution_count": 14,
     "metadata": {},
     "output_type": "execute_result"
    }
   ],
   "source": [
    "[act for act in eidb if 'market for transport, freight, lorry, unspecified' in act['name'] and act['location']=='RER' and not 'EURO' in act['name']\n",
    "][0]['reference product']"
   ]
  },
  {
   "cell_type": "code",
   "execution_count": null,
   "id": "409df56b-9960-4169-a1c8-55b92e9e4e7b",
   "metadata": {},
   "outputs": [],
   "source": []
  }
 ],
 "metadata": {
  "kernelspec": {
   "display_name": "Python [conda env:bw25]",
   "language": "python",
   "name": "conda-env-bw25-py"
  },
  "language_info": {
   "codemirror_mode": {
    "name": "ipython",
    "version": 3
   },
   "file_extension": ".py",
   "mimetype": "text/x-python",
   "name": "python",
   "nbconvert_exporter": "python",
   "pygments_lexer": "ipython3",
   "version": "3.10.6"
  }
 },
 "nbformat": 4,
 "nbformat_minor": 5
}
