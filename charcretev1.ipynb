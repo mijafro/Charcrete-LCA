{
 "cells": [
  {
   "cell_type": "markdown",
   "metadata": {
    "deletable": true,
    "editable": true
   },
   "source": [
    "# Setup"
   ]
  },
  {
   "cell_type": "markdown",
   "metadata": {},
   "source": [
    "Switch kernel to bw25 if necessary"
   ]
  },
  {
   "cell_type": "code",
   "execution_count": 1,
   "metadata": {
    "deletable": true,
    "editable": true,
    "tags": []
   },
   "outputs": [],
   "source": [
    "import bw_processing as bwp\n",
    "import matrix_utils as mu\n",
    "import bw2calc as bc\n",
    "import bw2data as bd\n",
    "import bw2io as bi\n",
    "import numpy as np\n",
    "import seaborn as sb\n",
    "import pandas as pd\n",
    "from pathlib import Path"
   ]
  },
  {
   "cell_type": "code",
   "execution_count": 129,
   "metadata": {},
   "outputs": [],
   "source": [
    "import bw2analyzer as ba"
   ]
  },
  {
   "cell_type": "code",
   "execution_count": 4,
   "metadata": {},
   "outputs": [],
   "source": [
    "if 'ei38-teaching-25' not in bd.projects:\n",
    "    bi.restore_project_directory(\"/srv/data/projects/ecoinvent38-25.tar.gz\")"
   ]
  },
  {
   "cell_type": "code",
   "execution_count": 5,
   "metadata": {},
   "outputs": [
    {
     "data": {
      "text/plain": [
       "Brightway2 projects manager with 9 objects:\n",
       "\tCorrelated and dependent sampling\n",
       "\tLithium GSA\n",
       "\tbrightcon22\n",
       "\tdatapackage demo\n",
       "\tdefault\n",
       "\tei38-teaching\n",
       "\tei38-teaching-25\n",
       "\tei_38\n",
       "\tyour project name\n",
       "Use `projects.report()` to get a report on all projects."
      ]
     },
     "execution_count": 5,
     "metadata": {},
     "output_type": "execute_result"
    }
   ],
   "source": [
    "bd.projects # dont know if we need to create our own project?"
   ]
  },
  {
   "cell_type": "code",
   "execution_count": 53,
   "metadata": {},
   "outputs": [],
   "source": [
    "bd.projects.set_current('ei38-teaching-25')"
   ]
  },
  {
   "cell_type": "code",
   "execution_count": 54,
   "metadata": {},
   "outputs": [
    {
     "data": {
      "text/plain": [
       "Databases dictionary with 4 object(s):\n",
       "\tEXIOBASE 3.8.1 2017 monetary\n",
       "\tEXIOBASE 3.8.1 2017 monetary biosphere\n",
       "\tbiosphere3\n",
       "\tei 3.8 cutoff"
      ]
     },
     "execution_count": 54,
     "metadata": {},
     "output_type": "execute_result"
    }
   ],
   "source": [
    "bd.databases"
   ]
  },
  {
   "cell_type": "markdown",
   "metadata": {},
   "source": [
    "# Create activities?"
   ]
  },
  {
   "cell_type": "code",
   "execution_count": 55,
   "metadata": {},
   "outputs": [],
   "source": [
    "# easy to change names of biosphere and ei db:s\n",
    "biosphere = 'biosphere3'\n",
    "ecoinvent = 'ei 3.8 cutoff'"
   ]
  },
  {
   "cell_type": "code",
   "execution_count": 56,
   "metadata": {},
   "outputs": [],
   "source": [
    "# could be good to have idk\n",
    "eidb = bd.Database('ei 3.8 cutoff')\n",
    "my_bio = bd.Database(biosphere)"
   ]
  },
  {
   "cell_type": "markdown",
   "metadata": {},
   "source": [
    "## Template for searching activities etc"
   ]
  },
  {
   "cell_type": "code",
   "execution_count": null,
   "metadata": {},
   "outputs": [],
   "source": [
    "bd.Database(biosphere).search('carbon dioxide')"
   ]
  },
  {
   "cell_type": "code",
   "execution_count": null,
   "metadata": {},
   "outputs": [],
   "source": [
    "bd.Database(ecoinvent).search('copper')"
   ]
  },
  {
   "cell_type": "code",
   "execution_count": 31,
   "metadata": {},
   "outputs": [
    {
     "data": {
      "text/plain": [
       "'Carbon dioxide, fossil' (kilogram, None, ('air', 'urban air close to ground'))"
      ]
     },
     "execution_count": 31,
     "metadata": {},
     "output_type": "execute_result"
    }
   ],
   "source": [
    "activity_I_want = [act for act in bd.Database(biosphere) if 'Carbon dioxide' in act['name'] \n",
    "                                            and 'fossil' in act['name']\n",
    "                                            and 'non' not in act['name']\n",
    "                                            and 'urban air close to ground' in str(act['categories'])\n",
    "         ][0]\n",
    "activity_I_want"
   ]
  },
  {
   "cell_type": "code",
   "execution_count": 32,
   "metadata": {
    "collapsed": false,
    "deletable": true,
    "editable": true,
    "jupyter": {
     "outputs_hidden": false
    }
   },
   "outputs": [
    {
     "data": {
      "text/plain": [
       "('biosphere3', 'f9749677-9c9f-4678-ab55-c607dfdc2cb9')"
      ]
     },
     "execution_count": 32,
     "metadata": {},
     "output_type": "execute_result"
    }
   ],
   "source": [
    "activity_I_want.key"
   ]
  },
  {
   "cell_type": "code",
   "execution_count": 34,
   "metadata": {},
   "outputs": [
    {
     "data": {
      "text/plain": [
       "'Carbon dioxide, fossil' (kilogram, None, ('air', 'urban air close to ground'))"
      ]
     },
     "execution_count": 34,
     "metadata": {},
     "output_type": "execute_result"
    }
   ],
   "source": [
    "bd.get_activity(activity_I_want.key)"
   ]
  },
  {
   "cell_type": "code",
   "execution_count": 51,
   "metadata": {},
   "outputs": [
    {
     "name": "stdout",
     "output_type": "stream",
     "text": [
      "Excluding 19 filtered results\n"
     ]
    },
    {
     "data": {
      "text/plain": [
       "['Carbon dioxide, fossil' (kilogram, None, ('air', 'urban air close to ground')),\n",
       " 'Carbon dioxide, fossil' (kilogram, None, ('air', 'non-urban air or from high stacks')),\n",
       " 'Carbon dioxide, non-fossil' (kilogram, None, ('air', 'non-urban air or from high stacks')),\n",
       " 'Carbon dioxide, non-fossil' (kilogram, None, ('air', 'urban air close to ground'))]"
      ]
     },
     "execution_count": 51,
     "metadata": {},
     "output_type": "execute_result"
    }
   ],
   "source": [
    "bd.Database(biosphere).search('carbon dioxide', filter={'categories':'urban', 'name':'fossil'})"
   ]
  },
  {
   "cell_type": "code",
   "execution_count": null,
   "metadata": {},
   "outputs": [],
   "source": [
    "# Using search\n",
    "bd.Database(ecoinvent).search('transport', filter={'name':'lorry'})"
   ]
  },
  {
   "cell_type": "markdown",
   "metadata": {},
   "source": [
    "## Methods"
   ]
  },
  {
   "cell_type": "code",
   "execution_count": 39,
   "metadata": {},
   "outputs": [],
   "source": [
    "ipcc2013 = [m for m in bd.methods if 'IPCC' in m[0]\n",
    "                    and ('2013') in str(m)\n",
    "                    and 'GWP 100' in str(m)\n",
    "                    and 'no LT' not in str(m)][0]"
   ]
  },
  {
   "cell_type": "code",
   "execution_count": 42,
   "metadata": {},
   "outputs": [
    {
     "data": {
      "text/plain": [
       "tuple"
      ]
     },
     "execution_count": 42,
     "metadata": {},
     "output_type": "execute_result"
    }
   ],
   "source": [
    "type(ipcc2013)"
   ]
  },
  {
   "cell_type": "code",
   "execution_count": 40,
   "metadata": {
    "deletable": true,
    "editable": true,
    "tags": []
   },
   "outputs": [],
   "source": [
    "ipcc_2013_method = bd.Method(ipcc2013)"
   ]
  },
  {
   "cell_type": "code",
   "execution_count": 41,
   "metadata": {
    "collapsed": false,
    "deletable": true,
    "editable": true,
    "jupyter": {
     "outputs_hidden": false
    }
   },
   "outputs": [
    {
     "data": {
      "text/plain": [
       "bw2data.method.Method"
      ]
     },
     "execution_count": 41,
     "metadata": {},
     "output_type": "execute_result"
    }
   ],
   "source": [
    "type(ipcc_2013_method)"
   ]
  },
  {
   "cell_type": "code",
   "execution_count": 41,
   "metadata": {
    "collapsed": false,
    "deletable": true,
    "editable": true,
    "jupyter": {
     "outputs_hidden": false
    }
   },
   "outputs": [
    {
     "data": {
      "text/plain": [
       "('IPCC 2013', 'climate change', 'GWP 100a')"
      ]
     },
     "execution_count": 41,
     "metadata": {},
     "output_type": "execute_result"
    }
   ],
   "source": [
    "ipcc_2013_method.name"
   ]
  },
  {
   "cell_type": "code",
   "execution_count": 42,
   "metadata": {
    "collapsed": false,
    "deletable": true,
    "editable": true,
    "jupyter": {
     "outputs_hidden": false
    }
   },
   "outputs": [
    {
     "data": {
      "text/plain": [
       "{'description': \"IPCC characterisation factors for the direct global warming potential of air emissions in ecoinvent 3.2. See the ecoinvent report 'Implementation of IPCC impact assessment method 2007 and 2013 to ecoinvent database 3.2 (2015.11.30)' for more details. Doesn't include: indirect formation of dinitrogen monoxide from nitrogen emissions, radiative forcing due to emissions of NOx, water, sulphate, etc. in the lower stratosphere + upper troposphere, carbon climate feedbacks, and any emissions which have cooling effects (e.g. black carbon). All CO is assumed to convert completely to CO2. Biogenic CO2 uptake and biogenic CO2 emissions are not characterised, except for 'Carbon dioxide, from soil or biomass stock' (deforestation and land transformation).\",\n",
       " 'filename': 'LCIA_Implementation_3.8.xlsx',\n",
       " 'unit': 'kg CO2-Eq',\n",
       " 'abbreviation': 'ipcc-2013cg.bd5af3f67229a1cc291b8ecb7f316fcf',\n",
       " 'num_cfs': 211}"
      ]
     },
     "execution_count": 42,
     "metadata": {},
     "output_type": "execute_result"
    }
   ],
   "source": [
    "ipcc_2013_method.metadata"
   ]
  },
  {
   "cell_type": "code",
   "execution_count": 43,
   "metadata": {
    "collapsed": false,
    "deletable": true,
    "editable": true,
    "jupyter": {
     "outputs_hidden": false
    }
   },
   "outputs": [
    {
     "data": {
      "text/plain": [
       "'kg CO2-Eq'"
      ]
     },
     "execution_count": 43,
     "metadata": {},
     "output_type": "execute_result"
    }
   ],
   "source": [
    "ipcc_2013_method.metadata['unit']"
   ]
  },
  {
   "cell_type": "markdown",
   "metadata": {},
   "source": [
    "# Creating LCI"
   ]
  },
  {
   "cell_type": "code",
   "execution_count": 74,
   "metadata": {},
   "outputs": [
    {
     "data": {
      "text/plain": [
       "Databases dictionary with 5 object(s):\n",
       "\tEXIOBASE 3.8.1 2017 monetary\n",
       "\tEXIOBASE 3.8.1 2017 monetary biosphere\n",
       "\tbiosphere3\n",
       "\tcharcrete\n",
       "\tei 3.8 cutoff"
      ]
     },
     "execution_count": 74,
     "metadata": {},
     "output_type": "execute_result"
    }
   ],
   "source": [
    "# creating new activity? let's do that in our database?\n",
    "bd.databases"
   ]
  },
  {
   "cell_type": "code",
   "execution_count": 73,
   "metadata": {},
   "outputs": [],
   "source": [
    "user_db = bd.Database(\"charcrete\")"
   ]
  },
  {
   "cell_type": "code",
   "execution_count": 70,
   "metadata": {},
   "outputs": [
    {
     "data": {
      "text/plain": [
       "Databases dictionary with 4 object(s):\n",
       "\tEXIOBASE 3.8.1 2017 monetary\n",
       "\tEXIOBASE 3.8.1 2017 monetary biosphere\n",
       "\tbiosphere3\n",
       "\tei 3.8 cutoff"
      ]
     },
     "execution_count": 70,
     "metadata": {},
     "output_type": "execute_result"
    }
   ],
   "source": [
    "bd.databases"
   ]
  },
  {
   "cell_type": "code",
   "execution_count": 84,
   "metadata": {
    "collapsed": false,
    "deletable": true,
    "editable": true,
    "jupyter": {
     "outputs_hidden": false
    }
   },
   "outputs": [],
   "source": [
    "example_data3 = {\n",
    "    (\"charcrete\", \"A\"): {\n",
    "        \"name\": \"A\",\n",
    "        \"exchanges\": [{\n",
    "            \"amount\": 1.0,\n",
    "            \"input\": (\"charcrete\", \"B\"),\n",
    "            \"type\": \"technosphere\"\n",
    "            }],\n",
    "        'unit': 'kilogram',\n",
    "        'location': 'here',\n",
    "        'categories': (\"very\", \"interesting\")\n",
    "        },\n",
    "    (\"charcrete\", \"B\"): {\n",
    "        \"name\": \"B\",\n",
    "        \"exchanges\": [],\n",
    "        'unit': 'microgram',\n",
    "        'location': 'there',\n",
    "        'categories': ('quite', 'boring')\n",
    "        }\n",
    "    }"
   ]
  },
  {
   "cell_type": "code",
   "execution_count": 85,
   "metadata": {},
   "outputs": [
    {
     "name": "stdout",
     "output_type": "stream",
     "text": [
      "Not able to determine geocollections for all datasets. This database is not ready for regionalization.\n",
      "Warning: No valid output stream.\n",
      "Title: Writing activities to SQLite3 database:\n",
      "  Started: 10/26/2022 12:16:34\n",
      "  Finished: 10/26/2022 12:16:34\n",
      "  Total time elapsed: 00:00:00\n",
      "  CPU %: 0.00\n",
      "  Memory %: 0.20\n"
     ]
    }
   ],
   "source": [
    "user_db.write(example_data3)"
   ]
  },
  {
   "cell_type": "code",
   "execution_count": 87,
   "metadata": {},
   "outputs": [
    {
     "data": {
      "text/plain": [
       "2"
      ]
     },
     "execution_count": 87,
     "metadata": {},
     "output_type": "execute_result"
    }
   ],
   "source": [
    "len(user_db)"
   ]
  },
  {
   "cell_type": "code",
   "execution_count": 109,
   "metadata": {},
   "outputs": [
    {
     "data": {
      "text/plain": [
       "[]"
      ]
     },
     "execution_count": 109,
     "metadata": {},
     "output_type": "execute_result"
    }
   ],
   "source": [
    "user_db.search('*')"
   ]
  },
  {
   "cell_type": "code",
   "execution_count": 104,
   "metadata": {},
   "outputs": [],
   "source": [
    "act = user_db.search('*')[0]"
   ]
  },
  {
   "cell_type": "code",
   "execution_count": 107,
   "metadata": {},
   "outputs": [],
   "source": [
    "del(act)"
   ]
  },
  {
   "cell_type": "code",
   "execution_count": 108,
   "metadata": {},
   "outputs": [
    {
     "data": {
      "text/plain": [
       "[]"
      ]
     },
     "execution_count": 108,
     "metadata": {},
     "output_type": "execute_result"
    }
   ],
   "source": [
    "user_db.search('*')"
   ]
  },
  {
   "cell_type": "code",
   "execution_count": 110,
   "metadata": {},
   "outputs": [
    {
     "data": {
      "text/plain": [
       "Brightway2 SQLiteBackend: charcrete"
      ]
     },
     "execution_count": 110,
     "metadata": {},
     "output_type": "execute_result"
    }
   ],
   "source": [
    "user_db"
   ]
  },
  {
   "cell_type": "code",
   "execution_count": 111,
   "metadata": {},
   "outputs": [
    {
     "data": {
      "text/plain": [
       "0"
      ]
     },
     "execution_count": 111,
     "metadata": {},
     "output_type": "execute_result"
    }
   ],
   "source": [
    "len(user_db)"
   ]
  },
  {
   "cell_type": "markdown",
   "metadata": {},
   "source": [
    "## find data"
   ]
  },
  {
   "cell_type": "code",
   "execution_count": 112,
   "metadata": {},
   "outputs": [
    {
     "data": {
      "text/plain": [
       "['market for forwarding, forwarder' (hour, GLO, None),\n",
       " 'forwarding, forwarder' (hour, RER, None),\n",
       " 'forwarding, forwarder' (hour, RoW, None)]"
      ]
     },
     "execution_count": 112,
     "metadata": {},
     "output_type": "execute_result"
    }
   ],
   "source": [
    "bd.Database(ecoinvent).search('forwarding')"
   ]
  },
  {
   "cell_type": "code",
   "execution_count": 115,
   "metadata": {},
   "outputs": [
    {
     "data": {
      "text/plain": [
       "'forwarding, forwarder' (hour, RER, None)"
      ]
     },
     "execution_count": 115,
     "metadata": {},
     "output_type": "execute_result"
    }
   ],
   "source": [
    "activity_I_want = [act for act in bd.Database(ecoinvent) if 'forwarding' in act['name'] and act['location'] == \n",
    "                   'RER'\n",
    "         ][0]\n",
    "activity_I_want"
   ]
  },
  {
   "cell_type": "code",
   "execution_count": 116,
   "metadata": {},
   "outputs": [],
   "source": [
    "forwarding_act = [act for act in bd.Database(ecoinvent) if 'forwarding' in act['name'] and act['location'] == \n",
    "                   'RER'][0]"
   ]
  },
  {
   "cell_type": "code",
   "execution_count": 117,
   "metadata": {},
   "outputs": [
    {
     "data": {
      "text/plain": [
       "'forwarding, forwarder' (hour, RER, None)"
      ]
     },
     "execution_count": 117,
     "metadata": {},
     "output_type": "execute_result"
    }
   ],
   "source": [
    "forwarding_act"
   ]
  },
  {
   "cell_type": "code",
   "execution_count": 118,
   "metadata": {},
   "outputs": [
    {
     "data": {
      "text/plain": [
       "['market for wood chipping, chipper, mobile, diesel, at forest road' (hour, GLO, None),\n",
       " 'wood chipping, mobile chipper, at forest road' (hour, RER, None),\n",
       " 'wood chipping, mobile chipper, at forest road' (hour, RoW, None)]"
      ]
     },
     "execution_count": 118,
     "metadata": {},
     "output_type": "execute_result"
    }
   ],
   "source": [
    "bd.Database(ecoinvent).search('wood chipping, mobile chipper, at forest road')"
   ]
  },
  {
   "cell_type": "code",
   "execution_count": 119,
   "metadata": {},
   "outputs": [
    {
     "data": {
      "text/plain": [
       "'wood chipping, mobile chipper, at forest road' (hour, RER, None)"
      ]
     },
     "execution_count": 119,
     "metadata": {},
     "output_type": "execute_result"
    }
   ],
   "source": [
    "activity_I_want = [act for act in bd.Database(ecoinvent) if 'wood chipping, mobile chipper, at forest road' in act['name'] and act['location'] == \n",
    "                   'RER'\n",
    "         ][0]\n",
    "activity_I_want"
   ]
  },
  {
   "cell_type": "code",
   "execution_count": 120,
   "metadata": {
    "tags": []
   },
   "outputs": [
    {
     "data": {
      "text/plain": [
       "'wood chipping, mobile chipper, at forest road' (hour, RER, None)"
      ]
     },
     "execution_count": 120,
     "metadata": {},
     "output_type": "execute_result"
    }
   ],
   "source": [
    "activity_I_want"
   ]
  },
  {
   "cell_type": "code",
   "execution_count": 121,
   "metadata": {},
   "outputs": [],
   "source": [
    "wood_chipping_act = [act for act in bd.Database(ecoinvent) if 'wood chipping, mobile chipper, at forest road' in act['name'] \n",
    "                     and act['location'] == 'RER'][0]"
   ]
  },
  {
   "cell_type": "code",
   "execution_count": 122,
   "metadata": {},
   "outputs": [
    {
     "data": {
      "text/plain": [
       "'wood chipping, mobile chipper, at forest road' (hour, RER, None)"
      ]
     },
     "execution_count": 122,
     "metadata": {},
     "output_type": "execute_result"
    }
   ],
   "source": [
    "wood_chipping_act"
   ]
  },
  {
   "cell_type": "markdown",
   "metadata": {},
   "source": [
    "# regionalization of concrete production?"
   ]
  },
  {
   "cell_type": "code",
   "execution_count": 134,
   "metadata": {},
   "outputs": [],
   "source": [
    "concrete_market = bd.get_activity(database=ecoinvent, name=\"market group for concrete, normal\", location = \"GLO\")"
   ]
  },
  {
   "cell_type": "code",
   "execution_count": 125,
   "metadata": {},
   "outputs": [
    {
     "data": {
      "text/plain": [
       "'market group for concrete, normal' (cubic meter, GLO, None)"
      ]
     },
     "execution_count": 125,
     "metadata": {},
     "output_type": "execute_result"
    }
   ],
   "source": [
    "concrete_market"
   ]
  },
  {
   "cell_type": "code",
   "execution_count": 126,
   "metadata": {},
   "outputs": [],
   "source": [
    "ipcc = ('IPCC 2013', 'climate change', 'GWP 100a')"
   ]
  },
  {
   "cell_type": "code",
   "execution_count": 131,
   "metadata": {},
   "outputs": [
    {
     "name": "stdout",
     "output_type": "stream",
     "text": [
      "Fraction of score | Absolute score | Amount | Activity\n",
      "0001 | 283.4 |     1 | 'market group for concrete, normal' (cubic meter, GLO, None)\n",
      "  0.0144 | 4.086 | 0.0226 | 'market for concrete, normal' (cubic meter, BR, None)\n",
      "    0.0144 | 4.086 | 0.0226 | 'concrete, all types to generic market for concrete, normal strength' \n",
      "      0.00275 | 0.7798 | 0.003616 | 'market for concrete, 30MPa' (cubic meter, BR, None)\n",
      "      0.0115 | 3.253 | 0.01876 | 'market for concrete, 25MPa' (cubic meter, BR, None)\n",
      "  0.00208 | 0.5893 | 0.002355 | 'market for concrete, normal' (cubic meter, CO, None)\n",
      "    0.00208 | 0.5893 | 0.002355 | 'concrete, all types to generic market for concrete, normal strength' \n",
      "      0.00208 | 0.5893 | 0.002355 | 'market for concrete, 20MPa' (cubic meter, CO, None)\n",
      "  0.0261 |  7.39 | 0.01907 | 'market for concrete, normal' (cubic meter, IN, None)\n",
      "    0.0261 |  7.39 | 0.01907 | 'concrete, all types to generic market for concrete, normal strength' \n",
      "      0.0261 |  7.39 | 0.01907 | 'market for concrete, 25-30MPa' (cubic meter, IN, None)\n",
      "  0.0129 | 3.665 | 0.01072 | 'market for concrete, normal' (cubic meter, PE, None)\n",
      "    0.0129 | 3.665 | 0.01072 | 'concrete, all types to generic market for concrete, normal strength' \n",
      "      0.0129 | 3.665 | 0.01072 | 'market for concrete, 20MPa' (cubic meter, PE, None)\n",
      "  0.0457 | 12.96 | 0.04542 | 'market for concrete, normal' (cubic meter, RNA, None)\n",
      "    0.0457 | 12.96 | 0.04542 | 'concrete, all types to generic market for concrete, normal strength' \n",
      "      0.00797 |  2.26 | 0.009174 | 'market for concrete, 20MPa' (cubic meter, RNA, None)\n",
      "      0.0134 | 3.806 | 0.01099 | 'market for concrete, 35MPa' (cubic meter, RNA, None)\n",
      "      0.0162 | 4.597 | 0.01835 | 'market for concrete, 25MPa' (cubic meter, RNA, None)\n",
      "      0.00811 | 2.298 | 0.006903 | 'market for concrete, 30-32MPa' (cubic meter, RNA, None)\n",
      "  0.00158 | 0.4488 | 0.001532 | 'market for concrete, normal' (cubic meter, ZA, None)\n",
      "    0.00158 | 0.4488 | 0.001532 | 'concrete, all types to generic market for concrete, normal strength' \n",
      "  0.897 | 254.2 | 0.8976 | 'market for concrete, normal' (cubic meter, RoW, None)\n",
      "    0.00191 | 0.5415 | 0.002046 | 'concrete, all types to generic market for concrete, normal strength' \n",
      "      0.00106 | 0.3001 | 0.001179 | 'market for concrete, 25MPa' (cubic meter, AT, None)\n",
      "    0.895 | 253.7 | 0.8956 | 'concrete, all types to generic market for concrete, normal strength' \n",
      "      0.0909 | 25.76 | 0.1085 | 'market for concrete, 20MPa' (cubic meter, RoW, None)\n",
      "      0.184 | 52.24 | 0.2281 | 'market for concrete, 25MPa' (cubic meter, RoW, None)\n",
      "      0.44 | 124.7 | 0.383 | 'market for concrete, 25-30MPa' (cubic meter, RoW, None)\n",
      "      0.0903 | 25.59 | 0.09174 | 'market for concrete, 35MPa' (cubic meter, RoW, None)\n",
      "      0.0276 |  7.82 | 0.02833 | 'market for concrete, 30MPa' (cubic meter, RoW, None)\n",
      "      0.0621 | 17.61 | 0.05588 | 'market for concrete, 30-32MPa' (cubic meter, RoW, None)\n"
     ]
    }
   ],
   "source": [
    "ba.print_recursive_calculation(concrete_market, ipcc, cutoff=0.001) # CA\n",
    "# short cut: we assume that the ones contributing most is the ones we need to regionalize\n",
    "# is there a way to sort this data?"
   ]
  },
  {
   "cell_type": "code",
   "execution_count": 138,
   "metadata": {},
   "outputs": [],
   "source": [
    "# could also do specifically for 20MPa\n",
    "concrete_markets = [act for act in bd.Database(ecoinvent) if 'market for concrete, 20MPa' in act['name']]"
   ]
  },
  {
   "cell_type": "code",
   "execution_count": 139,
   "metadata": {},
   "outputs": [
    {
     "data": {
      "text/plain": [
       "['market for concrete, 20MPa' (cubic meter, PE, None),\n",
       " 'market for concrete, 20MPa' (cubic meter, ZA, None),\n",
       " 'market for concrete, 20MPa' (cubic meter, RNA, None),\n",
       " 'market for concrete, 20MPa' (cubic meter, RoW, None),\n",
       " 'market for concrete, 20MPa' (cubic meter, CO, None)]"
      ]
     },
     "execution_count": 139,
     "metadata": {},
     "output_type": "execute_result"
    }
   ],
   "source": [
    "concrete_markets"
   ]
  },
  {
   "cell_type": "markdown",
   "metadata": {},
   "source": [
    "PE = Peru\n",
    "\n",
    "ZA = South Africa\n",
    "\n",
    "RNA = Northern America\n",
    "\n",
    "RoW = Rest of world\n",
    "\n",
    "CO = Colombia"
   ]
  },
  {
   "cell_type": "code",
   "execution_count": 140,
   "metadata": {},
   "outputs": [],
   "source": [
    "fu, data_objs, _ = bd.prepare_lca_inputs({concrete_market: 1}, method=ipcc)"
   ]
  },
  {
   "cell_type": "code",
   "execution_count": 141,
   "metadata": {},
   "outputs": [],
   "source": [
    "lca = bc.LCA(fu, data_objs=data_objs)"
   ]
  },
  {
   "cell_type": "code",
   "execution_count": 142,
   "metadata": {},
   "outputs": [],
   "source": [
    "lca.lci()\n",
    "lca.lcia()"
   ]
  },
  {
   "cell_type": "code",
   "execution_count": 144,
   "metadata": {},
   "outputs": [
    {
     "data": {
      "text/plain": [
       "283.44576866175254"
      ]
     },
     "execution_count": 144,
     "metadata": {},
     "output_type": "execute_result"
    }
   ],
   "source": [
    "lca.score # global market for \"normal\" concrete"
   ]
  },
  {
   "cell_type": "code",
   "execution_count": 150,
   "metadata": {},
   "outputs": [
    {
     "data": {
      "text/plain": [
       "'PE'"
      ]
     },
     "execution_count": 150,
     "metadata": {},
     "output_type": "execute_result"
    }
   ],
   "source": [
    "concrete_markets[0]['location']"
   ]
  },
  {
   "cell_type": "code",
   "execution_count": 151,
   "metadata": {},
   "outputs": [
    {
     "name": "stdout",
     "output_type": "stream",
     "text": [
      "PE 341.7487287312562\n",
      "ZA 234.01566863447212\n",
      "RNA 246.39245279678855\n",
      "RoW 237.44010359161643\n",
      "CO 250.2176994748129\n"
     ]
    }
   ],
   "source": [
    "# calculate score for different markets\n",
    "for market in concrete_markets:\n",
    "    fu, data_objs, _ = bd.prepare_lca_inputs({market: 1}, method=ipcc)\n",
    "    lca = bc.LCA(fu, data_objs=data_objs)\n",
    "    lca.lci()\n",
    "    lca.lcia()\n",
    "    print(market['location'], lca.score)"
   ]
  },
  {
   "cell_type": "code",
   "execution_count": 152,
   "metadata": {},
   "outputs": [
    {
     "name": "stdout",
     "output_type": "stream",
     "text": [
      "Fraction of score | Absolute score | Amount | Activity\n",
      "0001 | 341.7 |     1 | 'market for concrete, 20MPa' (cubic meter, PE, None)\n",
      "  0.0199 | 6.805 |    72 | 'market for transport, freight, lorry >32 metric ton, EURO3' (ton kilo\n",
      "    0.0199 | 6.805 |    72 | 'transport, freight, lorry >32 metric ton, EURO3' (ton kilometer, RoW,\n",
      "      0.00291 | 0.9936 | 0.07848 | 'market for road' (meter-year, GLO, None)\n",
      "      0.00204 | 0.6984 |  1.23 | 'market for diesel, low-sulfur' (kilogram, RoW, None)\n",
      "  0.00887 | 3.032 |  0.01 | 'concrete production, 20MPa, ready-mix, with cement, limestone 21-35%'\n",
      "    0.00774 | 2.644 | 3.914 | 'market for cement, limestone 21-35%' (kilogram, PE, None)\n",
      "      0.00747 | 2.553 | 3.914 | 'cement production, limestone 21-35%' (kilogram, PE, None)\n",
      "  0.00682 | 2.332 | 0.01048 | 'concrete production, 20MPa, ready-mix, with cement, pozzolana and fly\n",
      "    0.00569 | 1.945 | 3.237 | 'market for cement, pozzolana and fly ash 36-55%' (kilogram, RoW, None\n",
      "      0.00164 | 0.5619 | 0.9969 | 'cement production, pozzolana and fly ash 36-55%' (kilogram, PE, None)\n",
      "      0.00384 | 1.312 |  2.24 | 'cement production, pozzolana and fly ash 36-55%' (kilogram, RoW, None\n",
      "  0.0251 |  8.58 | 0.02714 | 'concrete production, 20MPa, ready-mix, with Portland cement' (cubic m\n",
      "    0.0222 | 7.577 | 8.387 | 'market for cement, Portland' (kilogram, PE, None)\n",
      "      0.0216 | 7.382 | 8.387 | 'cement production, Portland' (kilogram, PE, None)\n",
      "    0.00141 | 0.4823 |  31.2 | 'market for gravel, crushed' (kilogram, RoW, None)\n",
      "  0.161 | 55.09 | 0.2095 | 'concrete production, 20MPa, self, construction, with cement, pozzolan\n",
      "    0.0101 | 3.445 | 222.8 | 'market for gravel, crushed' (kilogram, RoW, None)\n",
      "      0.00291 | 0.9935 | 7.198 | 'market for transport, freight, lorry, unspecified' (ton kilometer, Ro\n",
      "      0.00544 | 1.858 | 222.8 | 'gravel production, crushed' (kilogram, RoW, None)\n",
      "    0.00517 | 1.768 | 148.6 | 'market for sand' (kilogram, RoW, None)\n",
      "      0.00194 | 0.6624 | 4.799 | 'market for transport, freight, lorry, unspecified' (ton kilometer, Ro\n",
      "      0.00129 | 0.4416 | 105.1 | 'gravel and sand quarry operation' (kilogram, RoW, None)\n",
      "    0.145 | 49.59 | 82.55 | 'market for cement, pozzolana and fly ash 36-55%' (kilogram, RoW, None\n",
      "      0.0419 | 14.33 | 25.42 | 'cement production, pozzolana and fly ash 36-55%' (kilogram, PE, None)\n",
      "      0.0979 | 33.45 | 57.13 | 'cement production, pozzolana and fly ash 36-55%' (kilogram, RoW, None\n",
      "      0.00148 | 0.5067 | 0.2568 | 'market for transport, freight, light commercial vehicle' (ton kilomet\n",
      "      0.00309 | 1.057 | 7.656 | 'market for transport, freight, lorry, unspecified' (ton kilometer, Ro\n",
      "  0.171 | 58.46 |   0.2 | 'concrete production, 20MPa, self-construction, with cement, limestone\n",
      "    0.00494 | 1.687 | 141.8 | 'market for sand' (kilogram, RoW, None)\n",
      "      0.00185 | 0.6322 |  4.58 | 'market for transport, freight, lorry, unspecified' (ton kilometer, Ro\n",
      "      0.00123 | 0.4216 | 100.3 | 'gravel and sand quarry operation' (kilogram, RoW, None)\n",
      "    0.00962 | 3.288 | 212.7 | 'market for gravel, crushed' (kilogram, RoW, None)\n",
      "      0.00278 | 0.9484 | 6.871 | 'market for transport, freight, lorry, unspecified' (ton kilometer, Ro\n",
      "      0.00519 | 1.774 | 212.7 | 'gravel production, crushed' (kilogram, RoW, None)\n",
      "    0.156 | 53.22 |  78.8 | 'market for cement, limestone 21-35%' (kilogram, PE, None)\n",
      "      0.00536 | 1.832 | 19.38 | 'market for transport, freight, lorry >32 metric ton, EURO3' (ton kilo\n",
      "      0.15 | 51.39 |  78.8 | 'cement production, limestone 21-35%' (kilogram, PE, None)\n",
      "  0.607 | 207.5 | 0.5429 | 'concrete production, 20MPa, self-construction, with Portland cement' \n",
      "    0.0261 | 8.926 | 577.4 | 'market for gravel, crushed' (kilogram, RoW, None)\n",
      "      0.00753 | 2.574 | 18.65 | 'market for transport, freight, lorry, unspecified' (ton kilometer, Ro\n",
      "      0.0141 | 4.814 | 577.4 | 'gravel production, crushed' (kilogram, RoW, None)\n",
      "      0.00216 | 0.7374 | 0.3918 | 'market group for transport, freight, light commercial vehicle' (ton k\n",
      "    0.0134 |  4.58 | 384.9 | 'market for sand' (kilogram, RoW, None)\n",
      "      0.00502 | 1.716 | 12.43 | 'market for transport, freight, lorry, unspecified' (ton kilometer, Ro\n",
      "      0.00157 | 0.5373 | 112.6 | 'sand quarry operation, extraction from river bed' (kilogram, RoW, Non\n",
      "      0.00335 | 1.144 | 272.3 | 'gravel and sand quarry operation' (kilogram, RoW, None)\n",
      "      0.00188 | 0.6429 | 0.3258 | 'market for transport, freight, light commercial vehicle' (ton kilomet\n",
      "    0.565 | 193.2 | 213.9 | 'market for cement, Portland' (kilogram, PE, None)\n",
      "      0.0145 | 4.972 | 52.61 | 'market for transport, freight, lorry >32 metric ton, EURO3' (ton kilo\n",
      "      0.551 | 188.2 | 213.9 | 'cement production, Portland' (kilogram, PE, None)\n"
     ]
    }
   ],
   "source": [
    "# but then we could also open these markets up? and see the subactivities for prod of concrete\n",
    "ba.print_recursive_calculation(concrete_markets[0], ipcc, cutoff=0.001) # CA\n",
    "# short cut: we assume that the ones contributing most is the ones we need to regionalize\n",
    "# is there a way to sort this data?"
   ]
  },
  {
   "cell_type": "markdown",
   "metadata": {},
   "source": [
    "What would happen in ecoinvent if we were to change the concrete markets?"
   ]
  },
  {
   "cell_type": "code",
   "execution_count": 153,
   "metadata": {},
   "outputs": [
    {
     "data": {
      "text/plain": [
       "'wood chipping, mobile chipper, at forest road' (hour, RER, None)"
      ]
     },
     "execution_count": 153,
     "metadata": {},
     "output_type": "execute_result"
    }
   ],
   "source": [
    "wood_chipping_act # will use this one for now - we can put in charcrete later"
   ]
  },
  {
   "cell_type": "markdown",
   "metadata": {},
   "source": [
    "Ok so let's go back to the market for conrete, normal and assume that we change one share of the market to our charcrete activity "
   ]
  },
  {
   "cell_type": "code",
   "execution_count": 154,
   "metadata": {},
   "outputs": [
    {
     "name": "stdout",
     "output_type": "stream",
     "text": [
      "Fraction of score | Absolute score | Amount | Activity\n",
      "0001 | 283.4 |     1 | 'market group for concrete, normal' (cubic meter, GLO, None)\n",
      "  0.0144 | 4.086 | 0.0226 | 'market for concrete, normal' (cubic meter, BR, None)\n",
      "    0.0144 | 4.086 | 0.0226 | 'concrete, all types to generic market for concrete, normal strength' \n",
      "      0.00275 | 0.7798 | 0.003616 | 'market for concrete, 30MPa' (cubic meter, BR, None)\n",
      "      0.0115 | 3.253 | 0.01876 | 'market for concrete, 25MPa' (cubic meter, BR, None)\n",
      "  0.00208 | 0.5893 | 0.002355 | 'market for concrete, normal' (cubic meter, CO, None)\n",
      "    0.00208 | 0.5893 | 0.002355 | 'concrete, all types to generic market for concrete, normal strength' \n",
      "      0.00208 | 0.5893 | 0.002355 | 'market for concrete, 20MPa' (cubic meter, CO, None)\n",
      "  0.0261 |  7.39 | 0.01907 | 'market for concrete, normal' (cubic meter, IN, None)\n",
      "    0.0261 |  7.39 | 0.01907 | 'concrete, all types to generic market for concrete, normal strength' \n",
      "      0.0261 |  7.39 | 0.01907 | 'market for concrete, 25-30MPa' (cubic meter, IN, None)\n",
      "  0.0129 | 3.665 | 0.01072 | 'market for concrete, normal' (cubic meter, PE, None)\n",
      "    0.0129 | 3.665 | 0.01072 | 'concrete, all types to generic market for concrete, normal strength' \n",
      "      0.0129 | 3.665 | 0.01072 | 'market for concrete, 20MPa' (cubic meter, PE, None)\n",
      "  0.0457 | 12.96 | 0.04542 | 'market for concrete, normal' (cubic meter, RNA, None)\n",
      "    0.0457 | 12.96 | 0.04542 | 'concrete, all types to generic market for concrete, normal strength' \n",
      "      0.00797 |  2.26 | 0.009174 | 'market for concrete, 20MPa' (cubic meter, RNA, None)\n",
      "      0.0134 | 3.806 | 0.01099 | 'market for concrete, 35MPa' (cubic meter, RNA, None)\n",
      "      0.0162 | 4.597 | 0.01835 | 'market for concrete, 25MPa' (cubic meter, RNA, None)\n",
      "      0.00811 | 2.298 | 0.006903 | 'market for concrete, 30-32MPa' (cubic meter, RNA, None)\n",
      "  0.00158 | 0.4488 | 0.001532 | 'market for concrete, normal' (cubic meter, ZA, None)\n",
      "    0.00158 | 0.4488 | 0.001532 | 'concrete, all types to generic market for concrete, normal strength' \n",
      "  0.897 | 254.2 | 0.8976 | 'market for concrete, normal' (cubic meter, RoW, None)\n",
      "    0.00191 | 0.5415 | 0.002046 | 'concrete, all types to generic market for concrete, normal strength' \n",
      "      0.00106 | 0.3001 | 0.001179 | 'market for concrete, 25MPa' (cubic meter, AT, None)\n",
      "    0.895 | 253.7 | 0.8956 | 'concrete, all types to generic market for concrete, normal strength' \n",
      "      0.0909 | 25.76 | 0.1085 | 'market for concrete, 20MPa' (cubic meter, RoW, None)\n",
      "      0.184 | 52.24 | 0.2281 | 'market for concrete, 25MPa' (cubic meter, RoW, None)\n",
      "      0.44 | 124.7 | 0.383 | 'market for concrete, 25-30MPa' (cubic meter, RoW, None)\n",
      "      0.0903 | 25.59 | 0.09174 | 'market for concrete, 35MPa' (cubic meter, RoW, None)\n",
      "      0.0276 |  7.82 | 0.02833 | 'market for concrete, 30MPa' (cubic meter, RoW, None)\n",
      "      0.0621 | 17.61 | 0.05588 | 'market for concrete, 30-32MPa' (cubic meter, RoW, None)\n"
     ]
    }
   ],
   "source": [
    "ba.print_recursive_calculation(concrete_market, ipcc, cutoff=0.001) # CA\n",
    "# short cut: we assume that the ones contributing most is the ones we need to regionalize\n",
    "# is there a way to sort this data?"
   ]
  },
  {
   "cell_type": "markdown",
   "metadata": {},
   "source": [
    "So basically, this market is in itself 8 other markets: \n",
    "\n",
    "CH\n",
    "\n",
    "BR\n",
    "\n",
    "CO\n",
    "\n",
    "IN\n",
    "\n",
    "PE\n",
    "\n",
    "RNA\n",
    "\n",
    "ZA\n",
    "\n",
    "RoW"
   ]
  },
  {
   "cell_type": "markdown",
   "metadata": {},
   "source": [
    "Check that they all add up to 1?"
   ]
  },
  {
   "cell_type": "code",
   "execution_count": 155,
   "metadata": {},
   "outputs": [
    {
     "data": {
      "text/plain": [
       "1.0000000000000002"
      ]
     },
     "execution_count": 155,
     "metadata": {},
     "output_type": "execute_result"
    }
   ],
   "source": [
    "sum(exc['amount'] for exc in concrete_market.technosphere()) # does all inputs sum up to one?"
   ]
  },
  {
   "cell_type": "markdown",
   "metadata": {},
   "source": [
    "idk why it's not exactly one but ok"
   ]
  },
  {
   "cell_type": "code",
   "execution_count": 157,
   "metadata": {},
   "outputs": [
    {
     "name": "stdout",
     "output_type": "stream",
     "text": [
      "180.79326949989576 'market for concrete, normal' (cubic meter, BR, None)\n",
      "145.4238269670096 'market for concrete, normal' (cubic meter, CH, None)\n",
      "250.21769947481295 'market for concrete, normal' (cubic meter, CO, None)\n",
      "387.578860852761 'market for concrete, normal' (cubic meter, IN, None)\n",
      "341.74872873125537 'market for concrete, normal' (cubic meter, PE, None)\n",
      "285.4110569349046 'market for concrete, normal' (cubic meter, RNA, None)\n",
      "292.9779465046128 'market for concrete, normal' (cubic meter, ZA, None)\n",
      "283.1982537946509 'market for concrete, normal' (cubic meter, RoW, None)\n"
     ]
    }
   ],
   "source": [
    "for exc in concrete_market.technosphere():\n",
    "    lca.redo_lcia({exc.input.id: 1})\n",
    "    print(lca.score, exc.input)\n",
    "    # print the different scores of the different markets i guess"
   ]
  },
  {
   "cell_type": "markdown",
   "metadata": {},
   "source": [
    "ok let's start with a weird example: say that we replace all concrete in RNA with charcrete (wood_chipping_act for now)"
   ]
  },
  {
   "cell_type": "code",
   "execution_count": null,
   "metadata": {},
   "outputs": [],
   "source": [
    "concrete_market.copy(Database=\"make stuff up\") # something on gh to show hpw to build a cupply chain in python idk"
   ]
  },
  {
   "cell_type": "code",
   "execution_count": 161,
   "metadata": {},
   "outputs": [],
   "source": [
    "# ... can we make this into a generic function? like, given an activity, a subactivity and a replacement activity?\n",
    "\n",
    "# also - can we visualize a before - after?\n",
    "\n",
    "market_share = 0.0457 # demand of market (market share)\n",
    "gangnam_style = 1_000_000 # need a large number because somehting about conflicts in id:s in db - dont want to overlap stuff\n",
    "\n",
    "indices = np.array(\n",
    "    [\n",
    "        (gangnam_style, gangnam_style), # Production exchange for new motor ( activity produces itself ) - need to have this to make matrix square\n",
    "        (concrete_market.id, gangnam_style),  # the whole market\n",
    "        (bd.get_activity(database=ecoinvent, name='market for concrete, normal', location = 'RNA').id, gangnam_style), # subtract RNA concrete prod\n",
    "    ] + [\n",
    "        (node.id, gangnam_style) for node in [wood_chipping_act] # replace with this - something about new dps replacing old ones - could also have the values being added together?\n",
    "        # see gh bw processing -> policies\n",
    "        # we have not changes ei - we have added a new activity\n",
    "        # in these positions - one new row, one new col\n",
    "    ], dtype=bwp.INDICES_DTYPE\n",
    ")\n",
    "data = np.array([\n",
    "        1,\n",
    "        1,\n",
    "        market_share, # old market\n",
    "    ] + [\n",
    "        market_share # new market - same amount\n",
    "    ]\n",
    ") \n",
    "flip = np.array(\n",
    "    [False, True, False] + [True for _ in [wood_chipping_act]] # First False because ?, True - motor is consumed, False because numbers are negative ... ?, \n",
    ") # could alsos set minussign if you prefer but i still wouldnt know where"
   ]
  },
  {
   "cell_type": "code",
   "execution_count": 162,
   "metadata": {},
   "outputs": [],
   "source": [
    "dp = bwp.create_datapackage()\n",
    "\n",
    "dp.add_persistent_vector(\n",
    "    matrix=\"technosphere_matrix\",\n",
    "    data_array=data,\n",
    "    indices_array=indices,\n",
    "    flip_array=flip,\n",
    "    name=\"Market without US\",\n",
    ")"
   ]
  },
  {
   "cell_type": "code",
   "execution_count": 163,
   "metadata": {},
   "outputs": [],
   "source": [
    "_, data_objs, _ = bd.prepare_lca_inputs({concrete_market: 1}, ipcc) # data_objs - still using ei"
   ]
  },
  {
   "cell_type": "code",
   "execution_count": 164,
   "metadata": {},
   "outputs": [
    {
     "data": {
      "text/plain": [
       "283.44576866175174"
      ]
     },
     "execution_count": 164,
     "metadata": {},
     "output_type": "execute_result"
    }
   ],
   "source": [
    "lca = bc.LCA({motor.id: 1}, data_objs=data_objs + [dp]) # old motor + add [dp] (new motor)\n",
    "lca.lci()\n",
    "lca.lcia()\n",
    "lca.score"
   ]
  },
  {
   "cell_type": "code",
   "execution_count": 165,
   "metadata": {},
   "outputs": [
    {
     "data": {
      "text/plain": [
       "283.0965523271845"
      ]
     },
     "execution_count": 165,
     "metadata": {},
     "output_type": "execute_result"
    }
   ],
   "source": [
    "lca.lcia({gangnam_style: 1}) # new motor\n",
    "lca.score"
   ]
  },
  {
   "cell_type": "markdown",
   "metadata": {},
   "source": [
    "# Trying something"
   ]
  },
  {
   "cell_type": "code",
   "execution_count": 172,
   "metadata": {},
   "outputs": [],
   "source": [
    "concrete_RNA = bd.get_activity(database=ecoinvent, name='market for concrete, normal', location = 'RNA')"
   ]
  },
  {
   "cell_type": "code",
   "execution_count": 173,
   "metadata": {},
   "outputs": [
    {
     "data": {
      "text/plain": [
       "'market for concrete, normal' (cubic meter, RNA, None)"
      ]
     },
     "execution_count": 173,
     "metadata": {},
     "output_type": "execute_result"
    }
   ],
   "source": [
    "concrete_RNA"
   ]
  },
  {
   "cell_type": "code",
   "execution_count": 185,
   "metadata": {},
   "outputs": [
    {
     "name": "stdout",
     "output_type": "stream",
     "text": [
      "Exchange: 1.0 cubic meter 'market group for concrete, normal' (cubic meter, GLO, None) to 'market group for concrete, normal' (cubic meter, GLO, None)>\n",
      "concrete, normal\n",
      "18901\n",
      "22099\n",
      "Exchange: 0.0226016949011232 cubic meter 'market for concrete, normal' (cubic meter, BR, None) to 'market group for concrete, normal' (cubic meter, GLO, None)>\n",
      "concrete, normal\n",
      "5266\n",
      "22099\n",
      "Exchange: 0.000680925588410356 cubic meter 'market for concrete, normal' (cubic meter, CH, None) to 'market group for concrete, normal' (cubic meter, GLO, None)>\n",
      "concrete, normal\n",
      "18417\n",
      "22099\n",
      "Exchange: 0.00235506608812062 cubic meter 'market for concrete, normal' (cubic meter, CO, None) to 'market group for concrete, normal' (cubic meter, GLO, None)>\n",
      "concrete, normal\n",
      "11087\n",
      "22099\n",
      "Exchange: 0.01906591647549 cubic meter 'market for concrete, normal' (cubic meter, IN, None) to 'market group for concrete, normal' (cubic meter, GLO, None)>\n",
      "concrete, normal\n",
      "14553\n",
      "22099\n",
      "Exchange: 0.0107245780174631 cubic meter 'market for concrete, normal' (cubic meter, PE, None) to 'market group for concrete, normal' (cubic meter, GLO, None)>\n",
      "concrete, normal\n",
      "23135\n",
      "22099\n",
      "Exchange: 0.0454155754069573 cubic meter 'market for concrete, normal' (cubic meter, RNA, None) to 'market group for concrete, normal' (cubic meter, GLO, None)>\n",
      "concrete, normal\n",
      "22099\n",
      "22099\n",
      "True\n",
      "0.0454155754069573\n",
      "Exchange: 0.00153183994392364 cubic meter 'market for concrete, normal' (cubic meter, ZA, None) to 'market group for concrete, normal' (cubic meter, GLO, None)>\n",
      "concrete, normal\n",
      "16409\n",
      "22099\n",
      "Exchange: 0.897624403578512 cubic meter 'market for concrete, normal' (cubic meter, RoW, None) to 'market group for concrete, normal' (cubic meter, GLO, None)>\n",
      "concrete, normal\n",
      "19248\n",
      "22099\n"
     ]
    }
   ],
   "source": [
    "for exc in list(concrete_market.exchanges()):\n",
    "    print(exc)\n",
    "    print(exc['name'])\n",
    "    print(exc.input.id)\n",
    "    print(concrete_RNA.id)\n",
    "    if exc.input.id == concrete_RNA.id:\n",
    "        print('True')\n",
    "        print(exc['amount'])"
   ]
  },
  {
   "cell_type": "code",
   "execution_count": 196,
   "metadata": {},
   "outputs": [],
   "source": [
    "def replace_stuff(main_act, sub_act, repl_act, method):\n",
    "    \n",
    "    # first we need the demand of the sub_act in the main act\n",
    "    for exc in list(main_act.exchanges()):\n",
    "        if exc.input.id == sub_act.id:\n",
    "            demand = exc['amount']\n",
    "    \n",
    "    gangnam_style = 1_000_000\n",
    "\n",
    "    indices = np.array(\n",
    "    [\n",
    "        (gangnam_style, gangnam_style), # Production exchange for new main_act ( activity produces itself ) - need to have this to make matrix square\n",
    "        (main_act.id, gangnam_style),  \n",
    "        (sub_act.id, gangnam_style), # subtract sub_act\n",
    "    ] + [\n",
    "        (node.id, gangnam_style) for node in [repl_act] # replace with this - something about new dps replacing old ones - could also have the values being added together?\n",
    "        # see gh bw processing -> policies\n",
    "    ], dtype=bwp.INDICES_DTYPE\n",
    "    )\n",
    "    \n",
    "    data = np.array([\n",
    "            1,\n",
    "            1,\n",
    "            demand, # old activity\n",
    "        ] + [\n",
    "            demand # new activity - same amount\n",
    "        ]\n",
    "    ) \n",
    "    flip = np.array(\n",
    "        [False, True, False] + [True for _ in [repl_act]] # First False because ?, True - motor is consumed, False because numbers are negative ... ?,\n",
    "        # WAIT I think I get it. This is the data array, where we put False for old act, and True for new act...\n",
    "        # ...This is probably where we would want to change things to create new market shares...?\n",
    "    ) # could alsos set minussign if you prefer but i still wouldnt know where\n",
    "    \n",
    "    # return(demand)\n",
    "    \n",
    "    dp = bwp.create_datapackage()\n",
    "\n",
    "    dp.add_persistent_vector(\n",
    "        matrix=\"technosphere_matrix\",\n",
    "        data_array=data,\n",
    "        indices_array=indices,\n",
    "        flip_array=flip,\n",
    "        name=\"New technosphere\",\n",
    "    )\n",
    "    \n",
    "    _, data_objs, _ = bd.prepare_lca_inputs({main_act: 1}, ipcc) # data_objs - still using ei\n",
    "    \n",
    "    lca = bc.LCA({main_act.id: 1}, data_objs=data_objs + [dp]) # old motor + add [dp] (new motor)\n",
    "    lca.lci()\n",
    "    lca.lcia()\n",
    "    lcascore1 = lca.score # first version\n",
    "    \n",
    "    lca.lcia({gangnam_style: 1}) # new motor\n",
    "    lcascore2 = lca.score # substituted sub_act w repl_act\n",
    "    \n",
    "    return(lcascore1, lcascore2)"
   ]
  },
  {
   "cell_type": "code",
   "execution_count": 197,
   "metadata": {},
   "outputs": [
    {
     "name": "stdout",
     "output_type": "stream",
     "text": [
      "(283.44576866175174, 283.0987257563718)\n"
     ]
    }
   ],
   "source": [
    "print(replace_stuff(concrete_market, concrete_RNA, wood_chipping_act, ipcc))"
   ]
  },
  {
   "cell_type": "code",
   "execution_count": 198,
   "metadata": {},
   "outputs": [
    {
     "data": {
      "text/plain": [
       "'market group for concrete, normal' (cubic meter, GLO, None)"
      ]
     },
     "execution_count": 198,
     "metadata": {},
     "output_type": "execute_result"
    }
   ],
   "source": [
    "concrete_market"
   ]
  },
  {
   "cell_type": "code",
   "execution_count": 199,
   "metadata": {},
   "outputs": [
    {
     "data": {
      "text/plain": [
       "'market for concrete, normal' (cubic meter, RNA, None)"
      ]
     },
     "execution_count": 199,
     "metadata": {},
     "output_type": "execute_result"
    }
   ],
   "source": [
    "concrete_RNA"
   ]
  },
  {
   "cell_type": "code",
   "execution_count": 200,
   "metadata": {},
   "outputs": [
    {
     "data": {
      "text/plain": [
       "'wood chipping, mobile chipper, at forest road' (hour, RER, None)"
      ]
     },
     "execution_count": 200,
     "metadata": {},
     "output_type": "execute_result"
    }
   ],
   "source": [
    "wood_chipping_act"
   ]
  },
  {
   "cell_type": "code",
   "execution_count": 201,
   "metadata": {},
   "outputs": [
    {
     "data": {
      "text/plain": [
       "('IPCC 2013', 'climate change', 'GWP 100a')"
      ]
     },
     "execution_count": 201,
     "metadata": {},
     "output_type": "execute_result"
    }
   ],
   "source": [
    "ipcc"
   ]
  },
  {
   "cell_type": "markdown",
   "metadata": {},
   "source": [
    "now... it would be supercool if we could visualize this...\n",
    "\n",
    "The amount of each input and the share of the impacts... before and after...\n",
    "\n",
    "Let's draw what we want to see"
   ]
  },
  {
   "cell_type": "markdown",
   "metadata": {},
   "source": [
    "# Trying something - changing market shares"
   ]
  },
  {
   "cell_type": "code",
   "execution_count": null,
   "metadata": {},
   "outputs": [],
   "source": [
    "(node.id, gangnam_style) for node in [repl_act] # this one works..."
   ]
  },
  {
   "cell_type": "code",
   "execution_count": 229,
   "metadata": {},
   "outputs": [],
   "source": [
    "test=[(exc.input.id) for exc in concrete_market.exchanges()]"
   ]
  },
  {
   "cell_type": "code",
   "execution_count": 230,
   "metadata": {},
   "outputs": [
    {
     "data": {
      "text/plain": [
       "[18901, 5266, 18417, 11087, 14553, 23135, 22099, 16409, 19248]"
      ]
     },
     "execution_count": 230,
     "metadata": {},
     "output_type": "execute_result"
    }
   ],
   "source": [
    "test"
   ]
  },
  {
   "cell_type": "code",
   "execution_count": 231,
   "metadata": {},
   "outputs": [],
   "source": [
    "test=[(exc.input.id, 1000) for exc in concrete_market.exchanges()]"
   ]
  },
  {
   "cell_type": "code",
   "execution_count": 232,
   "metadata": {},
   "outputs": [
    {
     "data": {
      "text/plain": [
       "[(18901, 1000),\n",
       " (5266, 1000),\n",
       " (18417, 1000),\n",
       " (11087, 1000),\n",
       " (14553, 1000),\n",
       " (23135, 1000),\n",
       " (22099, 1000),\n",
       " (16409, 1000),\n",
       " (19248, 1000)]"
      ]
     },
     "execution_count": 232,
     "metadata": {},
     "output_type": "execute_result"
    }
   ],
   "source": [
    "test"
   ]
  },
  {
   "cell_type": "code",
   "execution_count": 220,
   "metadata": {},
   "outputs": [
    {
     "data": {
      "text/plain": [
       "[Exchange: 1.0 cubic meter 'market group for concrete, normal' (cubic meter, GLO, None) to 'market group for concrete, normal' (cubic meter, GLO, None)>,\n",
       " Exchange: 0.0226016949011232 cubic meter 'market for concrete, normal' (cubic meter, BR, None) to 'market group for concrete, normal' (cubic meter, GLO, None)>,\n",
       " Exchange: 0.000680925588410356 cubic meter 'market for concrete, normal' (cubic meter, CH, None) to 'market group for concrete, normal' (cubic meter, GLO, None)>,\n",
       " Exchange: 0.00235506608812062 cubic meter 'market for concrete, normal' (cubic meter, CO, None) to 'market group for concrete, normal' (cubic meter, GLO, None)>,\n",
       " Exchange: 0.01906591647549 cubic meter 'market for concrete, normal' (cubic meter, IN, None) to 'market group for concrete, normal' (cubic meter, GLO, None)>,\n",
       " Exchange: 0.0107245780174631 cubic meter 'market for concrete, normal' (cubic meter, PE, None) to 'market group for concrete, normal' (cubic meter, GLO, None)>,\n",
       " Exchange: 0.0454155754069573 cubic meter 'market for concrete, normal' (cubic meter, RNA, None) to 'market group for concrete, normal' (cubic meter, GLO, None)>,\n",
       " Exchange: 0.00153183994392364 cubic meter 'market for concrete, normal' (cubic meter, ZA, None) to 'market group for concrete, normal' (cubic meter, GLO, None)>,\n",
       " Exchange: 0.897624403578512 cubic meter 'market for concrete, normal' (cubic meter, RoW, None) to 'market group for concrete, normal' (cubic meter, GLO, None)>]"
      ]
     },
     "execution_count": 220,
     "metadata": {},
     "output_type": "execute_result"
    }
   ],
   "source": [
    "list(concrete_market.exchanges())"
   ]
  },
  {
   "cell_type": "code",
   "execution_count": 235,
   "metadata": {},
   "outputs": [],
   "source": [
    "def change_market_shares(main_act, repl_act, market_share, method):\n",
    "    \n",
    "    gangnam_style = 1_000_000\n",
    "\n",
    "    indices = np.array(\n",
    "    [\n",
    "        (gangnam_style, gangnam_style), # Production exchange for new main_act ( activity produces itself ) - need to have this to make matrix square\n",
    "        (main_act.id, gangnam_style)]\n",
    "        +\n",
    "        [\n",
    "        \n",
    "        (exc.input.id, 1000) for exc in main_act.exchanges()\n",
    "        #(sub_act.id, gangnam_style), # subtract sub_act - here we need to add all the sub_acts\n",
    "    ] + [\n",
    "        (node.id, gangnam_style) for node in [repl_act] # replace with this - something about new dps replacing old ones - could also have the values being added together?\n",
    "        # see gh bw processing -> policies\n",
    "    ], dtype=bwp.INDICES_DTYPE\n",
    "    )\n",
    "    \n",
    "    data = np.array([\n",
    "            1,\n",
    "            1,\n",
    "        ]\n",
    "        +\n",
    "        [\n",
    "        exc['amount']*(10-market_share) for exc in list(main_act.exchanges())\n",
    "        ]\n",
    "        +\n",
    "        [\n",
    "            market_share # new activity - same amount\n",
    "        ]\n",
    "    ) \n",
    "    flip = np.array(\n",
    "        [False, True] + [True for exc in list(main_act.exchanges())] + [True for _ in [repl_act]] # First False because ?, True - motor is consumed, False because numbers are negative ... ?,\n",
    "        # WAIT I think I get it. This is the data array, where we put False for old act, and True for new act...\n",
    "        # ...This is probably where we would want to change things to create new market shares...?\n",
    "    ) # could alsos set minussign if you prefer but i still wouldnt know where\n",
    "    \n",
    "    # return(demand)\n",
    "    \n",
    "    dp = bwp.create_datapackage()\n",
    "\n",
    "    dp.add_persistent_vector(\n",
    "        matrix=\"technosphere_matrix\",\n",
    "        data_array=data,\n",
    "        indices_array=indices,\n",
    "        flip_array=flip,\n",
    "        name=\"New technosphere\",\n",
    "    )\n",
    "    \n",
    "    _, data_objs, _ = bd.prepare_lca_inputs({main_act: 1}, ipcc) # data_objs - still using ei\n",
    "    \n",
    "    '''\n",
    "    \n",
    "    lca = bc.LCA({main_act.id: 1}, data_objs=data_objs + [dp]) # old motor + add [dp] (new motor)\n",
    "    lca.lci()\n",
    "    lca.lcia()\n",
    "    lcascore1 = lca.score\n",
    "    \n",
    "    lca.lcia({gangnam_style: 1}) # new motor\n",
    "    lcascore2 = lca.score\n",
    "    \n",
    "    '''\n",
    "    \n",
    "    # return(lcascore1, lcascore2)\n",
    "    \n",
    "    return(dp)"
   ]
  },
  {
   "cell_type": "code",
   "execution_count": 236,
   "metadata": {},
   "outputs": [],
   "source": [
    "test_dp = change_market_shares(concrete_market, wood_chipping_act, 0.1, ipcc)"
   ]
  },
  {
   "cell_type": "code",
   "execution_count": 249,
   "metadata": {},
   "outputs": [
    {
     "data": {
      "text/plain": [
       "{'profile': 'data-package',\n",
       " 'name': 'c1592589a8f046e09d5fe58009312eda',\n",
       " 'id': '7ce2092a948145dc841a1ce4953fe8ca',\n",
       " 'licenses': [{'name': 'ODC-PDDL-1.0',\n",
       "   'path': 'http://opendatacommons.org/licenses/pddl/',\n",
       "   'title': 'Open Data Commons Public Domain Dedication and License v1.0'}],\n",
       " 'resources': [{'profile': 'data-resource',\n",
       "   'format': 'npy',\n",
       "   'mediatype': 'application/octet-stream',\n",
       "   'name': 'New technosphere.indices',\n",
       "   'matrix': 'technosphere_matrix',\n",
       "   'kind': 'indices',\n",
       "   'path': 'New technosphere.indices.npy',\n",
       "   'group': 'New technosphere',\n",
       "   'category': 'vector',\n",
       "   'nrows': 12},\n",
       "  {'profile': 'data-resource',\n",
       "   'format': 'npy',\n",
       "   'mediatype': 'application/octet-stream',\n",
       "   'name': 'New technosphere.data',\n",
       "   'matrix': 'technosphere_matrix',\n",
       "   'kind': 'data',\n",
       "   'path': 'New technosphere.data.npy',\n",
       "   'group': 'New technosphere',\n",
       "   'category': 'vector',\n",
       "   'nrows': 12},\n",
       "  {'profile': 'data-resource',\n",
       "   'format': 'npy',\n",
       "   'mediatype': 'application/octet-stream',\n",
       "   'name': 'New technosphere.flip',\n",
       "   'matrix': 'technosphere_matrix',\n",
       "   'kind': 'flip',\n",
       "   'path': 'New technosphere.flip.npy',\n",
       "   'group': 'New technosphere',\n",
       "   'category': 'vector',\n",
       "   'nrows': 12}],\n",
       " 'created': '2022-10-26T15:07:35.923839Z',\n",
       " 'combinatorial': False,\n",
       " 'sequential': False,\n",
       " 'seed': None,\n",
       " 'sum_intra_duplicates': True,\n",
       " 'sum_inter_duplicates': False}"
      ]
     },
     "execution_count": 249,
     "metadata": {},
     "output_type": "execute_result"
    }
   ],
   "source": [
    "test_dp.metadata"
   ]
  },
  {
   "cell_type": "code",
   "execution_count": null,
   "metadata": {},
   "outputs": [],
   "source": []
  },
  {
   "cell_type": "code",
   "execution_count": 246,
   "metadata": {},
   "outputs": [
    {
     "data": {
      "text/plain": [
       "\u001b[0;31mSignature:\u001b[0m\n",
       "\u001b[0mbwp\u001b[0m\u001b[0;34m.\u001b[0m\u001b[0mcreate_datapackage\u001b[0m\u001b[0;34m(\u001b[0m\u001b[0;34m\u001b[0m\n",
       "\u001b[0;34m\u001b[0m    \u001b[0mfs\u001b[0m\u001b[0;34m:\u001b[0m \u001b[0mOptional\u001b[0m\u001b[0;34m[\u001b[0m\u001b[0mfs\u001b[0m\u001b[0;34m.\u001b[0m\u001b[0mbase\u001b[0m\u001b[0;34m.\u001b[0m\u001b[0mFS\u001b[0m\u001b[0;34m]\u001b[0m \u001b[0;34m=\u001b[0m \u001b[0;32mNone\u001b[0m\u001b[0;34m,\u001b[0m\u001b[0;34m\u001b[0m\n",
       "\u001b[0;34m\u001b[0m    \u001b[0mname\u001b[0m\u001b[0;34m:\u001b[0m \u001b[0mOptional\u001b[0m\u001b[0;34m[\u001b[0m\u001b[0mstr\u001b[0m\u001b[0;34m]\u001b[0m \u001b[0;34m=\u001b[0m \u001b[0;32mNone\u001b[0m\u001b[0;34m,\u001b[0m\u001b[0;34m\u001b[0m\n",
       "\u001b[0;34m\u001b[0m    \u001b[0mid_\u001b[0m\u001b[0;34m:\u001b[0m \u001b[0mOptional\u001b[0m\u001b[0;34m[\u001b[0m\u001b[0mstr\u001b[0m\u001b[0;34m]\u001b[0m \u001b[0;34m=\u001b[0m \u001b[0;32mNone\u001b[0m\u001b[0;34m,\u001b[0m\u001b[0;34m\u001b[0m\n",
       "\u001b[0;34m\u001b[0m    \u001b[0mmetadata\u001b[0m\u001b[0;34m:\u001b[0m \u001b[0mOptional\u001b[0m\u001b[0;34m[\u001b[0m\u001b[0mdict\u001b[0m\u001b[0;34m]\u001b[0m \u001b[0;34m=\u001b[0m \u001b[0;32mNone\u001b[0m\u001b[0;34m,\u001b[0m\u001b[0;34m\u001b[0m\n",
       "\u001b[0;34m\u001b[0m    \u001b[0mcombinatorial\u001b[0m\u001b[0;34m:\u001b[0m \u001b[0mbool\u001b[0m \u001b[0;34m=\u001b[0m \u001b[0;32mFalse\u001b[0m\u001b[0;34m,\u001b[0m\u001b[0;34m\u001b[0m\n",
       "\u001b[0;34m\u001b[0m    \u001b[0msequential\u001b[0m\u001b[0;34m:\u001b[0m \u001b[0mbool\u001b[0m \u001b[0;34m=\u001b[0m \u001b[0;32mFalse\u001b[0m\u001b[0;34m,\u001b[0m\u001b[0;34m\u001b[0m\n",
       "\u001b[0;34m\u001b[0m    \u001b[0mseed\u001b[0m\u001b[0;34m:\u001b[0m \u001b[0mOptional\u001b[0m\u001b[0;34m[\u001b[0m\u001b[0mint\u001b[0m\u001b[0;34m]\u001b[0m \u001b[0;34m=\u001b[0m \u001b[0;32mNone\u001b[0m\u001b[0;34m,\u001b[0m\u001b[0;34m\u001b[0m\n",
       "\u001b[0;34m\u001b[0m    \u001b[0msum_intra_duplicates\u001b[0m\u001b[0;34m:\u001b[0m \u001b[0mbool\u001b[0m \u001b[0;34m=\u001b[0m \u001b[0;32mTrue\u001b[0m\u001b[0;34m,\u001b[0m\u001b[0;34m\u001b[0m\n",
       "\u001b[0;34m\u001b[0m    \u001b[0msum_inter_duplicates\u001b[0m\u001b[0;34m:\u001b[0m \u001b[0mbool\u001b[0m \u001b[0;34m=\u001b[0m \u001b[0;32mFalse\u001b[0m\u001b[0;34m,\u001b[0m\u001b[0;34m\u001b[0m\n",
       "\u001b[0;34m\u001b[0m\u001b[0;34m)\u001b[0m \u001b[0;34m->\u001b[0m \u001b[0mbw_processing\u001b[0m\u001b[0;34m.\u001b[0m\u001b[0mdatapackage\u001b[0m\u001b[0;34m.\u001b[0m\u001b[0mDatapackage\u001b[0m\u001b[0;34m\u001b[0m\u001b[0;34m\u001b[0m\u001b[0m\n",
       "\u001b[0;31mDocstring:\u001b[0m\n",
       "Create a new data package.\n",
       "\n",
       "All arguments are optional; if a `PyFilesystem2 <https://docs.pyfilesystem.org/en/latest/>`__ filesystem is not provided, a `MemoryFS <https://docs.pyfilesystem.org/en/latest/reference/memoryfs.html>`__ will be used.\n",
       "\n",
       "All metadata elements should follow the `datapackage specification <https://frictionlessdata.io/specs/data-package/>`__.\n",
       "\n",
       "Licenses are specified as a list in ``metadata``. The default license is the `Open Data Commons Public Domain Dedication and License v1.0 <http://opendatacommons.org/licenses/pddl/>`__.\n",
       "\n",
       "Args:\n",
       "\n",
       "    * fs: A `Filesystem`, optional. A new `MemoryFS` is used if not provided.\n",
       "    * name: `str`, optional. A new uuid is used if not provided.\n",
       "    * id_. `str`, optional. A new uuid is used if not provided.\n",
       "    * metadata. `dict`, optional. Metadata dictionary following datapackage specification; see above.\n",
       "    * combinatorial. `bool`, default `False.: Policy on how to sample columns across multiple data arrays; see readme.\n",
       "    * sequential. `bool`, default `False.: Policy on how to sample columns in data arrays; see readme.\n",
       "    * seed. `int`, optional. Seed to use in random number generator.\n",
       "    * sum_intra_duplicates. `bool`, default `True`. Should duplicate elements in a single data resource be summed together, or should the last value replace previous values.\n",
       "    * sum_inter_duplicates. `bool`, default `False`. Should duplicate elements in across data resources be summed together, or should the last value replace previous values. Order of data resources is given by the order they are added to the data package.\n",
       "\n",
       "Returns:\n",
       "\n",
       "    A `Datapackage` instance.\n",
       "\u001b[0;31mFile:\u001b[0m      /opt/tljh/user/envs/bw25/lib/python3.10/site-packages/bw_processing/datapackage.py\n",
       "\u001b[0;31mType:\u001b[0m      function\n"
      ]
     },
     "metadata": {},
     "output_type": "display_data"
    }
   ],
   "source": [
    "bwp.create_datapackage?"
   ]
  },
  {
   "cell_type": "markdown",
   "metadata": {
    "deletable": true,
    "editable": true,
    "jp-MarkdownHeadingCollapsed": true,
    "tags": []
   },
   "source": [
    "## 2) My first LCA"
   ]
  },
  {
   "cell_type": "markdown",
   "metadata": {
    "deletable": true,
    "editable": true
   },
   "source": [
    "Brightway has a so-called LCA object.  \n",
    "It is instantiated using `LCA(args)`.  \n",
    "The only required argument is a functional unit, described by a dictionary with keys = activities and values = amounts (more [here](https://docs.brightwaylca.org/lca.html#specifying-a-functional-unit)).  \n",
    "A second argument that is often passed is an LCIA method, passed using the method tuple.  "
   ]
  },
  {
   "cell_type": "markdown",
   "metadata": {
    "deletable": true,
    "editable": true
   },
   "source": [
    "### 2.1) General syntax of LCA calculations"
   ]
  },
  {
   "cell_type": "markdown",
   "metadata": {
    "deletable": true,
    "editable": true
   },
   "source": [
    "Let's create our first LCA object using our random activity and our IPCC method.  "
   ]
  },
  {
   "cell_type": "code",
   "execution_count": null,
   "metadata": {
    "deletable": true,
    "editable": true,
    "tags": []
   },
   "outputs": [],
   "source": [
    "myFirstLCA_quick = bw.LCA({random_act:1}, ('IPCC 2013', 'climate change', 'GWP 100a'))"
   ]
  },
  {
   "cell_type": "markdown",
   "metadata": {
    "deletable": true,
    "editable": true
   },
   "source": [
    "The steps to get to the impact score are as follows:"
   ]
  },
  {
   "cell_type": "code",
   "execution_count": null,
   "metadata": {
    "collapsed": false,
    "deletable": true,
    "editable": true,
    "jupyter": {
     "outputs_hidden": false
    }
   },
   "outputs": [],
   "source": [
    "myFirstLCA_quick.lci()    # Builds matrices, solves the system, generates an LCI matrix.\n",
    "myFirstLCA_quick.lcia()   # Characterization, i.e. the multiplication of the elements \n",
    "                          # of the LCI matrix with characterization factors from the chosen method\n",
    "myFirstLCA_quick.score    # Returns the score, i.e. the sum of the characterized inventory"
   ]
  },
  {
   "cell_type": "markdown",
   "metadata": {
    "deletable": true,
    "editable": true
   },
   "source": [
    "Let's not take a closer look at the LCA object and its methods/attributes. We'll do this by creating a new LCA object: "
   ]
  },
  {
   "cell_type": "code",
   "execution_count": null,
   "metadata": {
    "deletable": true,
    "editable": true,
    "tags": []
   },
   "outputs": [],
   "source": [
    "myFirstLCA = bw.LCA({random_act:1}, ('IPCC 2013', 'climate change', 'GWP 100a'))"
   ]
  },
  {
   "cell_type": "markdown",
   "metadata": {
    "deletable": true,
    "editable": true
   },
   "source": [
    "### 2.2) the `demand` attribute"
   ]
  },
  {
   "cell_type": "code",
   "execution_count": null,
   "metadata": {
    "collapsed": false,
    "deletable": true,
    "editable": true,
    "jupyter": {
     "outputs_hidden": false
    }
   },
   "outputs": [],
   "source": [
    "myFirstLCA.demand"
   ]
  },
  {
   "cell_type": "markdown",
   "metadata": {
    "deletable": true,
    "editable": true
   },
   "source": [
    "To access the actual activity from the demand, you would do this:"
   ]
  },
  {
   "cell_type": "code",
   "execution_count": null,
   "metadata": {
    "collapsed": false,
    "deletable": true,
    "editable": true,
    "jupyter": {
     "outputs_hidden": false
    }
   },
   "outputs": [],
   "source": [
    "demanded_act = list(myFirstLCA.demand.keys())[0]\n",
    "demanded_act"
   ]
  },
  {
   "cell_type": "code",
   "execution_count": null,
   "metadata": {
    "collapsed": false,
    "deletable": true,
    "editable": true,
    "jupyter": {
     "outputs_hidden": false
    }
   },
   "outputs": [],
   "source": [
    "demanded_act == random_act"
   ]
  },
  {
   "cell_type": "markdown",
   "metadata": {
    "deletable": true,
    "editable": true
   },
   "source": [
    "There are also other attributes that have simply not been built yet, such as the `demand_array` and the `score`. To generate them, we first need to actually build the matrices. This will be done when calling the `.lci()` method."
   ]
  },
  {
   "cell_type": "markdown",
   "metadata": {
    "deletable": true,
    "editable": true
   },
   "source": [
    "### 2.3) Reminder of the system that needs to be solved in calculating an LCI"
   ]
  },
  {
   "cell_type": "markdown",
   "metadata": {
    "deletable": true,
    "editable": true
   },
   "source": [
    "Before actually running the `.lci()` method, here's a quick refresher of the actual calculation that Brightway will need to do to calculate the inventory:  \n",
    "\n",
    "$g=BA^{-1}f$  \n",
    "\n",
    "where:  \n",
    "\n",
    "  - $A$ = the technosphere matrix  \n",
    "  - $B$ = the biosphere matrix (matrix with elementary flows)  \n",
    "  - $f$ = the final demand vector  \n",
    "  - $g$ = the inventory  "
   ]
  },
  {
   "cell_type": "markdown",
   "metadata": {
    "deletable": true,
    "editable": true,
    "solution": "hidden",
    "solution_first": true
   },
   "source": [
    "**Discussion:** Knowing what you do about the structure of Brightway (notably, activities and exchanges), what needs to happen to generate these matrices?"
   ]
  },
  {
   "cell_type": "markdown",
   "metadata": {
    "deletable": true,
    "editable": true,
    "solution": "hidden"
   },
   "source": [
    "To consider:  \n",
    "  - how should the order of the rows and columns be determined?  \n",
    "  - how should we keep track of what is in each row and column?  \n",
    "  - The parameters in the matrices are sometimes actually probability distribution functions - how should we consider this uncertainty information?  \n",
    "  - The matrices are *sparse*, i.e. they are mostly made up of zeros. Should we consider this? Why? How?"
   ]
  },
  {
   "cell_type": "markdown",
   "metadata": {
    "deletable": true,
    "editable": true
   },
   "source": [
    "### 2.4) Building the matrices"
   ]
  },
  {
   "cell_type": "markdown",
   "metadata": {
    "deletable": true,
    "editable": true
   },
   "source": [
    "#### Structured arrays"
   ]
  },
  {
   "cell_type": "markdown",
   "metadata": {
    "deletable": true,
    "editable": true
   },
   "source": [
    "LCI data imported in Brightway is stored in the `databases.db` database, discussed above.  \n",
    "It is also stored in [numpy *structured arrays*](https://docs.scipy.org/doc/numpy/user/basics.rec.html). Here is a look at the  structured array for my ecoinvent 2.2 import (put in a pandas DataFrame because it looks nicer):  \n",
    "<img src=\"images/structured_array_ecoinvent38.JPG\">"
   ]
  },
  {
   "cell_type": "markdown",
   "metadata": {
    "deletable": true,
    "editable": true,
    "solution2": "shown",
    "solution2_first": true
   },
   "source": [
    "**Exercise**(not core): Load the structured array of the ecoinvent database you are working with now."
   ]
  },
  {
   "cell_type": "code",
   "execution_count": null,
   "metadata": {
    "collapsed": false,
    "jupyter": {
     "outputs_hidden": false
    }
   },
   "outputs": [],
   "source": [
    "eidb.filepath_processed()"
   ]
  },
  {
   "cell_type": "code",
   "execution_count": null,
   "metadata": {
    "collapsed": false,
    "deletable": true,
    "editable": true,
    "jupyter": {
     "outputs_hidden": false
    },
    "solution2": "shown"
   },
   "outputs": [],
   "source": [
    "your_structured_array = np.load(eidb.filepath_processed())\n",
    "pd.DataFrame(your_structured_array).head()"
   ]
  },
  {
   "cell_type": "markdown",
   "metadata": {
    "deletable": true,
    "editable": true
   },
   "source": [
    "In this array:  \n",
    "  - `input` and `output` columns are integers that map to an activity. This mapping is found in the `mapping.pickle` file in the `project` directory and it looks something like this:"
   ]
  },
  {
   "cell_type": "code",
   "execution_count": null,
   "metadata": {
    "collapsed": false,
    "jupyter": {
     "outputs_hidden": false
    }
   },
   "outputs": [],
   "source": [
    "pd.Series(bw.mapping).head()"
   ]
  },
  {
   "cell_type": "markdown",
   "metadata": {
    "deletable": true,
    "editable": true
   },
   "source": [
    "  - `row` and `col`store *dummy* placeholder information about the location of the parameter in the matrices. \n",
    "  - the `type` indicates whether the exchange is a reference flow (`type`=0), technosphere exchange (`type`=1) or elementary flow (`type`=2).  \n",
    "  - the other columns deal with uncertainty data. We'll cover that later, but one can always read about these columns in the [`stats_arrays` documentation](http://stats-arrays.readthedocs.io/en/latest/)"
   ]
  },
  {
   "cell_type": "markdown",
   "metadata": {
    "deletable": true,
    "editable": true
   },
   "source": [
    "When the `.lci()` method is called, the structured arrayas are used to build matrices. The code responsible to do this is in the [`MatrixBuilder` class methods](https://2.docs.brightway.dev/technical/bw2calc.html#matrix-builder). \n",
    "\n",
    "The method `MatrixBuilder.build_dictionary` is used to take input and output values, respectively, and figure out which rows and columns they correspond to. The actual code is succinct - only one line - but what it does is:\n",
    "  - Get all unique values, as each value will appear multiple times\n",
    "  - Sort these values\n",
    "  - Give them integer indices, starting with zero\n",
    "This information on row and column indices is sufficient to build matrices. These matrices are build in a [COOrdinate sparse matrix](https://docs.scipy.org/doc/scipy/reference/generated/scipy.sparse.coo_matrix.html) format, where, for each exchange, three values are required: row position, column position, and amount (the actual value). The sparse matrices are actually stored in [CSR format](https://docs.scipy.org/doc/scipy/reference/generated/scipy.sparse.csr_matrix.html#scipy.sparse.csr_matrix), but this is a detail.  \n",
    "\n",
    "Some more details are are found [here](https://2.docs.brightway.dev/technical/bw2calc.html#matrix-builders).  "
   ]
  },
  {
   "cell_type": "markdown",
   "metadata": {
    "deletable": true,
    "editable": true
   },
   "source": [
    "Let's now finally run the `.lci()`."
   ]
  },
  {
   "cell_type": "code",
   "execution_count": null,
   "metadata": {
    "deletable": true,
    "editable": true,
    "tags": []
   },
   "outputs": [],
   "source": [
    "myFirstLCA.lci()"
   ]
  },
  {
   "cell_type": "markdown",
   "metadata": {
    "deletable": true,
    "editable": true
   },
   "source": [
    "Here's what the structured arrays *now* look like:  "
   ]
  },
  {
   "cell_type": "code",
   "execution_count": null,
   "metadata": {
    "collapsed": false,
    "deletable": true,
    "editable": true,
    "jupyter": {
     "outputs_hidden": false
    }
   },
   "outputs": [],
   "source": [
    "pd.DataFrame(myFirstLCA.bio_params).head(5) # Technosphere parameters are at myFirstLCA.tech_params"
   ]
  },
  {
   "cell_type": "markdown",
   "metadata": {
    "deletable": true,
    "editable": true
   },
   "source": [
    "We see that the row and col numbers are no longer dummy variables, but that they actually have real matrix indices."
   ]
  },
  {
   "cell_type": "markdown",
   "metadata": {
    "deletable": true,
    "editable": true
   },
   "source": [
    "#### Dictionaries that map between incides and activities"
   ]
  },
  {
   "cell_type": "markdown",
   "metadata": {
    "deletable": true,
    "editable": true
   },
   "source": [
    "One of the useful things that the `MatrixBuilder` produces are `dictionaries` that map row and column numbers to the keys of activities.  There are three such dictionaries, all directly accessible as attributes of the LCA object:\n",
    " - `activity_dict`: Columns in the technosphere matrix $A$ or biosphere matrix $B$\n",
    " - `product_dict` : Rows in the technosphere matrix $A$  \n",
    " - `biosphere_dict`: Rows in the biosphere matrix $B$"
   ]
  },
  {
   "cell_type": "markdown",
   "metadata": {
    "deletable": true,
    "editable": true
   },
   "source": [
    "Here what this dictionary looks like:"
   ]
  },
  {
   "cell_type": "code",
   "execution_count": null,
   "metadata": {
    "collapsed": false,
    "deletable": true,
    "editable": true,
    "jupyter": {
     "outputs_hidden": false
    }
   },
   "outputs": [],
   "source": [
    "myFirstLCA.activity_dict"
   ]
  },
  {
   "cell_type": "markdown",
   "metadata": {
    "deletable": true,
    "editable": true
   },
   "source": [
    "So, if I know the key to my activity (which, again,  is a `tuple` consisting of the database name and the activity code), I can read the column index (from `activity_dict`) or row index (from `product_dict` or `biosphere_dict` for the $A$ or $B$ matrices, respectively). \n",
    "\n",
    "Let's find out what column is associated with the activity that is producing our final demand as reference flow."
   ]
  },
  {
   "cell_type": "code",
   "execution_count": null,
   "metadata": {
    "collapsed": false,
    "deletable": true,
    "editable": true,
    "jupyter": {
     "outputs_hidden": false
    }
   },
   "outputs": [],
   "source": [
    "# Getting the key from the `demand`attribute:\n",
    "act_key = list(myFirstLCA.demand)[0].key\n",
    "# Getting the column number from the activity_dict:\n",
    "col_index = myFirstLCA.activity_dict[act_key]\n",
    "print(\"The column index for activity {} is {}\".format(act_key, col_index))"
   ]
  },
  {
   "cell_type": "markdown",
   "metadata": {
    "deletable": true,
    "editable": true
   },
   "source": [
    "While this is useful, it is often more useful to determine what a row or column in the matrices actually refers to. In these cases, we need a dictionary that maps row or column indices to activity keys, and not the opposite.  \n",
    "We can do this by reversing our dictionaries:"
   ]
  },
  {
   "cell_type": "code",
   "execution_count": null,
   "metadata": {
    "collapsed": false,
    "deletable": true,
    "editable": true,
    "jupyter": {
     "outputs_hidden": false
    }
   },
   "outputs": [],
   "source": [
    "myFirstLCA_rev_activity_dict = {value:key for key, value in myFirstLCA.activity_dict.items()}\n",
    "myFirstLCA_rev_activity_dict"
   ]
  },
  {
   "cell_type": "markdown",
   "metadata": {
    "deletable": true,
    "editable": true
   },
   "source": [
    "As a convenience, Brightway offers a method that will generate the three reverse dictionaries simultaneously.  \n",
    "`.reverse_dict()` returns three reverse dicts (reverse activity dict,  reverse product dict,  reverse biosphere dict) *in that order*. The syntax for creating and assigning these reverse dicts is therefore: "
   ]
  },
  {
   "cell_type": "code",
   "execution_count": null,
   "metadata": {
    "deletable": true,
    "editable": true,
    "tags": []
   },
   "outputs": [],
   "source": [
    "myFirstLCA_rev_act_dict, myFirstLCA_rev_product_dict, myFirstLCA_rev_bio_dict = myFirstLCA.reverse_dict()"
   ]
  },
  {
   "cell_type": "markdown",
   "metadata": {
    "deletable": true,
    "editable": true
   },
   "source": [
    "#### $A$ and $B$ Matrices"
   ]
  },
  {
   "cell_type": "markdown",
   "metadata": {
    "deletable": true,
    "editable": true
   },
   "source": [
    "We can also access the matrices that were constructed. Let's look at the technosphere matrix ($A$).  \n",
    "The ** $A$ matrix**, with each element $a_{ij}$ provides information on the amount of input or output of product $i$ from activity $j$. When $i=j$, the element $a_{ij}$ is the *reference flow* for the activity described in the column."
   ]
  },
  {
   "cell_type": "code",
   "execution_count": null,
   "metadata": {
    "collapsed": false,
    "deletable": true,
    "editable": true,
    "jupyter": {
     "outputs_hidden": false
    }
   },
   "outputs": [],
   "source": [
    "myFirstLCA.technosphere_matrix"
   ]
  },
  {
   "cell_type": "markdown",
   "metadata": {
    "deletable": true,
    "editable": true
   },
   "source": [
    "I am told that the dimensions of the matrix is $n*n$ where $n$ is the number of activities in my product system, and that the amount of actually stored elements is much less than $n^2$ (because the matrix is *sparse* and zero values are not stored).  "
   ]
  },
  {
   "cell_type": "markdown",
   "metadata": {
    "deletable": true,
    "editable": true
   },
   "source": [
    "We can have an idea of what it stores by printing it out:"
   ]
  },
  {
   "cell_type": "code",
   "execution_count": null,
   "metadata": {
    "collapsed": false,
    "deletable": true,
    "editable": true,
    "jupyter": {
     "outputs_hidden": false
    }
   },
   "outputs": [],
   "source": [
    "print(myFirstLCA.technosphere_matrix)"
   ]
  },
  {
   "cell_type": "markdown",
   "metadata": {
    "deletable": true,
    "editable": true
   },
   "source": [
    "It therefore stores both the coordinates and the values (as expected).\n",
    "We can slice this matrix using coordinates. For example, let's say we wanted a view of the exchanges associated with the unit process providing our functional unit.  \n",
    "We already know found the column number for that activity: "
   ]
  },
  {
   "cell_type": "code",
   "execution_count": null,
   "metadata": {
    "collapsed": false,
    "deletable": true,
    "editable": true,
    "jupyter": {
     "outputs_hidden": false
    }
   },
   "outputs": [],
   "source": [
    "print(\"As a reminder, the column index for  {} is  {}\".format(act_key, col_index))"
   ]
  },
  {
   "cell_type": "markdown",
   "metadata": {
    "deletable": true,
    "editable": true
   },
   "source": [
    "To return the whole column from the $A$ matrix, we therefore slice the $A$ matrix.  \n",
    "Python notes:  \n",
    "  - In Python, slicing is done using []\n",
    "  - We specify rows first, then columns  \n",
    "  - `:` refers to \"the whole row\" or \"the whole column\" (depending if it is passed first or second in the []) "
   ]
  },
  {
   "cell_type": "code",
   "execution_count": null,
   "metadata": {
    "collapsed": false,
    "deletable": true,
    "editable": true,
    "jupyter": {
     "outputs_hidden": false
    }
   },
   "outputs": [],
   "source": [
    "myColumn = myFirstLCA.technosphere_matrix[:, col_index]\n",
    "myColumn"
   ]
  },
  {
   "cell_type": "markdown",
   "metadata": {
    "deletable": true,
    "editable": true
   },
   "source": [
    "Printing this out gives:"
   ]
  },
  {
   "cell_type": "code",
   "execution_count": null,
   "metadata": {
    "collapsed": false,
    "deletable": true,
    "editable": true,
    "jupyter": {
     "outputs_hidden": false
    }
   },
   "outputs": [],
   "source": [
    "print(myColumn)"
   ]
  },
  {
   "cell_type": "markdown",
   "metadata": {
    "deletable": true,
    "editable": true
   },
   "source": [
    "Not too useful: it would be better to get the *names* to these exchanges.  \n",
    "We need to do two things:  \n",
    "  - Get the indices from the CSR matrix (we can do this by converting it to a sparse matrix in `COOrdinate` format first)  \n",
    "  - Get the activity code for the each index (we can do this using the reverse of the `activity_dict`)  \n",
    "  - Use `get_activity` to access the actual names of the activities.  "
   ]
  },
  {
   "cell_type": "markdown",
   "metadata": {
    "deletable": true,
    "editable": true
   },
   "source": [
    "1) Converting the CSR matrix to a COO matrix:  "
   ]
  },
  {
   "cell_type": "code",
   "execution_count": null,
   "metadata": {
    "collapsed": false,
    "deletable": true,
    "editable": true,
    "jupyter": {
     "outputs_hidden": false
    }
   },
   "outputs": [],
   "source": [
    "myColumnCOO = myColumn.tocoo()\n",
    "myColumnCOO"
   ]
  },
  {
   "cell_type": "markdown",
   "metadata": {
    "deletable": true,
    "editable": true
   },
   "source": [
    "It is still a sparse matrix with the same number of elements, and it looks quite like the CSR version when we print it out:"
   ]
  },
  {
   "cell_type": "code",
   "execution_count": null,
   "metadata": {
    "collapsed": false,
    "deletable": true,
    "editable": true,
    "jupyter": {
     "outputs_hidden": false
    }
   },
   "outputs": [],
   "source": [
    "print(myColumnCOO)"
   ]
  },
  {
   "cell_type": "markdown",
   "metadata": {
    "deletable": true,
    "editable": true
   },
   "source": [
    "However, we can directly access the rows and column indices using `row` and `col`:  "
   ]
  },
  {
   "cell_type": "code",
   "execution_count": null,
   "metadata": {
    "collapsed": false,
    "deletable": true,
    "editable": true,
    "jupyter": {
     "outputs_hidden": false
    }
   },
   "outputs": [],
   "source": [
    "myColumnCOO.row"
   ]
  },
  {
   "cell_type": "markdown",
   "metadata": {
    "deletable": true,
    "editable": true
   },
   "source": [
    "2) Get the activity code for each element using the **reverse** product dictionary we produced above:"
   ]
  },
  {
   "cell_type": "code",
   "execution_count": null,
   "metadata": {
    "collapsed": false,
    "deletable": true,
    "editable": true,
    "jupyter": {
     "outputs_hidden": false
    }
   },
   "outputs": [],
   "source": [
    "# Using a list comprehension:\n",
    "[myFirstLCA_rev_product_dict[i] for i in myColumnCOO.row]"
   ]
  },
  {
   "cell_type": "markdown",
   "metadata": {
    "deletable": true,
    "editable": true
   },
   "source": [
    "It would be even nicer to get the names for these:"
   ]
  },
  {
   "cell_type": "code",
   "execution_count": null,
   "metadata": {
    "collapsed": false,
    "deletable": true,
    "editable": true,
    "jupyter": {
     "outputs_hidden": false
    }
   },
   "outputs": [],
   "source": [
    "names_of_my_inputs = [bw.get_activity(myFirstLCA_rev_product_dict[i])['name'] for i in myColumnCOO.row]\n",
    "names_of_my_inputs"
   ]
  },
  {
   "cell_type": "markdown",
   "metadata": {
    "deletable": true,
    "editable": true
   },
   "source": [
    "We can put these in a neat Pandas Series, with actual names and amounts:"
   ]
  },
  {
   "cell_type": "code",
   "execution_count": null,
   "metadata": {
    "collapsed": false,
    "deletable": true,
    "editable": true,
    "jupyter": {
     "outputs_hidden": false
    }
   },
   "outputs": [],
   "source": [
    "# First create a dict with the information I want:\n",
    "myColumnAsDict = dict(zip(names_of_my_inputs,myColumnCOO.data))\n",
    "# Create Pandas Series from dict\n",
    "pd.Series(myColumnAsDict, name=\"Nice series with information on exchanges in my foreground process\")"
   ]
  },
  {
   "cell_type": "markdown",
   "metadata": {
    "deletable": true,
    "editable": true,
    "solution": "shown",
    "solution_first": true
   },
   "source": [
    "Alternative way to generate similar information without even looking at the matrices:"
   ]
  },
  {
   "cell_type": "code",
   "execution_count": null,
   "metadata": {
    "collapsed": false,
    "deletable": true,
    "editable": true,
    "jupyter": {
     "outputs_hidden": false
    },
    "solution": "shown"
   },
   "outputs": [],
   "source": [
    "pd.Series({bw.get_activity(exc.input)['name']:exc.amount for exc in random_act.technosphere()}, \n",
    "          name=\"alternative way to generate exchanges\")"
   ]
  },
  {
   "cell_type": "markdown",
   "metadata": {
    "deletable": true,
    "editable": true,
    "solution": "shown"
   },
   "source": [
    "Note the differences:  \n",
    "  - The reference flow is not there (activity.technosphere() only returns technoshere exchanges where the input is not equal to the output)  \n",
    "  - The values are positive, not negative (because the $A$ matrix is $I-Z$ where $Z$ contains the information on these inputs."
   ]
  },
  {
   "cell_type": "markdown",
   "metadata": {
    "deletable": true,
    "editable": true,
    "solution": "shown",
    "solution2": "shown",
    "solution2_first": true
   },
   "source": [
    "**Exercise**: Create a Pandas Series with the elementary flows of the activity supplying the reference flow for myFirstLCA."
   ]
  },
  {
   "cell_type": "code",
   "execution_count": null,
   "metadata": {
    "collapsed": false,
    "deletable": true,
    "editable": true,
    "jupyter": {
     "outputs_hidden": false
    },
    "solution2": "shown"
   },
   "outputs": [],
   "source": [
    "# Solution\n",
    "myBioColumn = myFirstLCA.biosphere_matrix[:, col_index]\n",
    "myBioValues = myBioColumn.tocoo().data\n",
    "myBioNames = [bw.get_activity(myFirstLCA_rev_bio_dict[row])['name'] for row in myBioColumn.tocoo().row]\n",
    "pd.Series(dict(zip(myBioNames, myBioValues)))"
   ]
  },
  {
   "cell_type": "markdown",
   "metadata": {
    "deletable": true,
    "editable": true
   },
   "source": [
    "#### Demand array $f$"
   ]
  },
  {
   "cell_type": "markdown",
   "metadata": {
    "deletable": true,
    "editable": true
   },
   "source": [
    "The demand array is the $f$ in $As=f$. \n",
    "It is an attribute of the LCA object:"
   ]
  },
  {
   "cell_type": "code",
   "execution_count": null,
   "metadata": {
    "collapsed": false,
    "deletable": true,
    "editable": true,
    "jupyter": {
     "outputs_hidden": false
    }
   },
   "outputs": [],
   "source": [
    "myFirstLCA.demand_array"
   ]
  },
  {
   "cell_type": "markdown",
   "metadata": {
    "deletable": true,
    "editable": true
   },
   "source": [
    "Looks like it is all zeros, but not so:"
   ]
  },
  {
   "cell_type": "code",
   "execution_count": null,
   "metadata": {
    "collapsed": false,
    "deletable": true,
    "editable": true,
    "jupyter": {
     "outputs_hidden": false
    }
   },
   "outputs": [],
   "source": [
    "myFirstLCA.demand_array.sum()"
   ]
  },
  {
   "cell_type": "markdown",
   "metadata": {
    "deletable": true,
    "editable": true
   },
   "source": [
    "So where is the one? We can know this by using our `activity_dict`."
   ]
  },
  {
   "cell_type": "code",
   "execution_count": null,
   "metadata": {
    "collapsed": false,
    "deletable": true,
    "editable": true,
    "jupyter": {
     "outputs_hidden": false
    }
   },
   "outputs": [],
   "source": [
    "demand_database = list(myFirstLCA.demand.keys())[0]['database']\n",
    "demand_code = list(myFirstLCA.demand.keys())[0]['code']\n",
    "(demand_database, demand_code)"
   ]
  },
  {
   "cell_type": "code",
   "execution_count": null,
   "metadata": {
    "collapsed": false,
    "deletable": true,
    "editable": true,
    "jupyter": {
     "outputs_hidden": false
    }
   },
   "outputs": [],
   "source": [
    "row_of_demand = myFirstLCA.activity_dict[(demand_database, demand_code)]\n",
    "row_of_demand # Row number of our demand vector containing the functional unit."
   ]
  },
  {
   "cell_type": "code",
   "execution_count": null,
   "metadata": {
    "collapsed": false,
    "deletable": true,
    "editable": true,
    "jupyter": {
     "outputs_hidden": false
    }
   },
   "outputs": [],
   "source": [
    "myFirstLCA.demand_array[row_of_demand]"
   ]
  },
  {
   "cell_type": "markdown",
   "metadata": {
    "deletable": true,
    "editable": true
   },
   "source": [
    "### 2.5) Solution to the inventory calculation"
   ]
  },
  {
   "cell_type": "markdown",
   "metadata": {
    "deletable": true,
    "editable": true
   },
   "source": [
    "We saw above how `.lci()` produced the $A$ and $B$ matrices.  \n",
    "`.lci()` also *solves* the equation $As=f$ and calculated the inventory by multiplying the solution to this equation by the biosphere matrix.  "
   ]
  },
  {
   "cell_type": "markdown",
   "metadata": {
    "deletable": true,
    "editable": true
   },
   "source": [
    "#### Supply array"
   ]
  },
  {
   "cell_type": "markdown",
   "metadata": {
    "deletable": true,
    "editable": true
   },
   "source": [
    "Vector containing the amount each activity will need to provide to meet the functional demand, i.e. $s=A^{-1}f$."
   ]
  },
  {
   "cell_type": "code",
   "execution_count": null,
   "metadata": {
    "collapsed": false,
    "deletable": true,
    "editable": true,
    "jupyter": {
     "outputs_hidden": false
    }
   },
   "outputs": [],
   "source": [
    "myFirstLCA.supply_array"
   ]
  },
  {
   "cell_type": "code",
   "execution_count": null,
   "metadata": {
    "collapsed": false,
    "deletable": true,
    "editable": true,
    "jupyter": {
     "outputs_hidden": false
    }
   },
   "outputs": [],
   "source": [
    "myFirstLCA.supply_array.shape"
   ]
  },
  {
   "cell_type": "markdown",
   "metadata": {
    "deletable": true,
    "editable": true
   },
   "source": [
    "**Inventory matrix**  \n",
    "Contains the inventory *by activity* (i.e. not summed). In other words, we do not have $g=BA^{-1}f$, but rather $G=B \\cdot diag(A^{-1}f)$"
   ]
  },
  {
   "cell_type": "code",
   "execution_count": null,
   "metadata": {
    "collapsed": false,
    "deletable": true,
    "editable": true,
    "jupyter": {
     "outputs_hidden": false
    }
   },
   "outputs": [],
   "source": [
    "myFirstLCA.inventory"
   ]
  },
  {
   "cell_type": "markdown",
   "metadata": {
    "deletable": true,
    "editable": true
   },
   "source": [
    "We can aggregate the LCI results along the columns (i.e. calculate the cradle-to-gate inventory):"
   ]
  },
  {
   "cell_type": "code",
   "execution_count": null,
   "metadata": {
    "collapsed": false,
    "deletable": true,
    "editable": true,
    "jupyter": {
     "outputs_hidden": false
    }
   },
   "outputs": [],
   "source": [
    "LCI_cradle_to_gate = myFirstLCA.inventory.sum(axis=1)\n",
    "LCI_cradle_to_gate.shape"
   ]
  },
  {
   "cell_type": "markdown",
   "metadata": {
    "deletable": true,
    "editable": true,
    "solution2": "shown",
    "solution2_first": true
   },
   "source": [
    "**Exercise:** Get the total (cradle-to-gate) emissions of nitrous oxide emitted to air in the \"urban air\" subcompartment."
   ]
  },
  {
   "cell_type": "code",
   "execution_count": null,
   "metadata": {
    "collapsed": false,
    "deletable": true,
    "editable": true,
    "jupyter": {
     "outputs_hidden": false
    },
    "solution2": "shown"
   },
   "outputs": [],
   "source": [
    "NOx_act = [act for act in my_bio if 'Dinitrogen monoxide' in act['name']\n",
    "                       and 'urban air close to ground' in str(act['categories'])\n",
    "         ][0]\n",
    "NOx_act.key"
   ]
  },
  {
   "cell_type": "code",
   "execution_count": null,
   "metadata": {
    "collapsed": false,
    "deletable": true,
    "editable": true,
    "jupyter": {
     "outputs_hidden": false
    },
    "solution2": "shown"
   },
   "outputs": [],
   "source": [
    "NOx_row = myFirstLCA.biosphere_dict[NOx_act]\n",
    "NOx_row"
   ]
  },
  {
   "cell_type": "code",
   "execution_count": null,
   "metadata": {
    "collapsed": false,
    "deletable": true,
    "editable": true,
    "jupyter": {
     "outputs_hidden": false
    },
    "solution2": "shown"
   },
   "outputs": [],
   "source": [
    "myFirstLCA.inventory[NOx_row, :].sum()"
   ]
  },
  {
   "cell_type": "markdown",
   "metadata": {
    "deletable": true,
    "editable": true
   },
   "source": [
    "### 2.7) LCIA"
   ]
  },
  {
   "cell_type": "markdown",
   "metadata": {
    "deletable": true,
    "editable": true
   },
   "source": [
    "The LCIA calculation is done via the `.lcia()` method."
   ]
  },
  {
   "cell_type": "code",
   "execution_count": null,
   "metadata": {
    "deletable": true,
    "editable": true,
    "tags": []
   },
   "outputs": [],
   "source": [
    "myFirstLCA.lcia()"
   ]
  },
  {
   "cell_type": "markdown",
   "metadata": {
    "deletable": true,
    "editable": true
   },
   "source": [
    "A number of other matrices are now available:"
   ]
  },
  {
   "cell_type": "code",
   "execution_count": null,
   "metadata": {
    "collapsed": false,
    "deletable": true,
    "editable": true,
    "jupyter": {
     "outputs_hidden": false
    }
   },
   "outputs": [],
   "source": [
    "# Matrix of characterization factors:\n",
    "myFirstLCA.characterization_matrix"
   ]
  },
  {
   "cell_type": "code",
   "execution_count": null,
   "metadata": {
    "collapsed": false,
    "deletable": true,
    "editable": true,
    "jupyter": {
     "outputs_hidden": false
    }
   },
   "outputs": [],
   "source": [
    "myFirstLCA.characterization_matrix.shape"
   ]
  },
  {
   "cell_type": "code",
   "execution_count": null,
   "metadata": {
    "collapsed": false,
    "deletable": true,
    "editable": true,
    "jupyter": {
     "outputs_hidden": false
    }
   },
   "outputs": [],
   "source": [
    "# Matrix of characterized inventory flows\n",
    "myFirstLCA.characterized_inventory"
   ]
  },
  {
   "cell_type": "markdown",
   "metadata": {
    "deletable": true,
    "editable": true
   },
   "source": [
    "Question: would there be more, less or just as many elements in the inventory matrix as there are in the characterized inventory matrix?"
   ]
  },
  {
   "cell_type": "markdown",
   "metadata": {
    "deletable": true,
    "editable": true
   },
   "source": [
    "The overall score is now an attribute of the LCA object: "
   ]
  },
  {
   "cell_type": "code",
   "execution_count": null,
   "metadata": {
    "collapsed": false,
    "deletable": true,
    "editable": true,
    "jupyter": {
     "outputs_hidden": false
    }
   },
   "outputs": [],
   "source": [
    "myFirstLCA.score"
   ]
  },
  {
   "cell_type": "markdown",
   "metadata": {
    "deletable": true,
    "editable": true
   },
   "source": [
    "We also could have determined what this score was by summing the elements of our `characterized_inventory` matrix:"
   ]
  },
  {
   "cell_type": "code",
   "execution_count": null,
   "metadata": {
    "collapsed": false,
    "deletable": true,
    "editable": true,
    "jupyter": {
     "outputs_hidden": false
    }
   },
   "outputs": [],
   "source": [
    "myFirstLCA.characterized_inventory.sum()"
   ]
  },
  {
   "cell_type": "markdown",
   "metadata": {
    "deletable": true,
    "editable": true
   },
   "source": [
    "We could also have calculated it by multiplying the inventory and characterization factors ourselves:"
   ]
  },
  {
   "cell_type": "code",
   "execution_count": null,
   "metadata": {
    "collapsed": false,
    "deletable": true,
    "editable": true,
    "jupyter": {
     "outputs_hidden": false
    }
   },
   "outputs": [],
   "source": [
    "(myFirstLCA.characterization_matrix * myFirstLCA.inventory).sum()"
   ]
  },
  {
   "cell_type": "markdown",
   "metadata": {
    "deletable": true,
    "editable": true
   },
   "source": [
    "We could also calculate the score by elementary flow (summing columns for each rows), irrespective of the unit process that produced it:"
   ]
  },
  {
   "cell_type": "code",
   "execution_count": null,
   "metadata": {
    "deletable": true,
    "editable": true,
    "tags": []
   },
   "outputs": [],
   "source": [
    "elementary_flow_contribution = myFirstLCA.characterized_inventory.sum(axis=1) #Axis is the dimension I want to sum over:"
   ]
  },
  {
   "cell_type": "code",
   "execution_count": null,
   "metadata": {
    "collapsed": false,
    "deletable": true,
    "editable": true,
    "jupyter": {
     "outputs_hidden": false
    }
   },
   "outputs": [],
   "source": [
    "elementary_flow_contribution.shape"
   ]
  },
  {
   "cell_type": "markdown",
   "metadata": {
    "deletable": true,
    "editable": true
   },
   "source": [
    "Notice that is has **two** dimensions. The result is in fact a one-dimensional matrix:"
   ]
  },
  {
   "cell_type": "code",
   "execution_count": null,
   "metadata": {
    "collapsed": false,
    "deletable": true,
    "editable": true,
    "jupyter": {
     "outputs_hidden": false
    }
   },
   "outputs": [],
   "source": [
    "type(elementary_flow_contribution)"
   ]
  },
  {
   "cell_type": "markdown",
   "metadata": {
    "deletable": true,
    "editable": true
   },
   "source": [
    "To convert it to an array (probably more useful for many purposes), you can use any of the following approaches:"
   ]
  },
  {
   "cell_type": "code",
   "execution_count": null,
   "metadata": {
    "collapsed": false,
    "deletable": true,
    "editable": true,
    "jupyter": {
     "outputs_hidden": false
    }
   },
   "outputs": [],
   "source": [
    "elementary_flow_contribution.A1 \n",
    "#np.squeeze(np.asarray(elementary_flow_contribution))\n",
    "#np.asarray(elementary_flow_contribution).reshape(-1)\n",
    "#np.array(elementary_flow_contribution).flatten()\n",
    "#np.array(elementary_flow_contribution).ravel()"
   ]
  },
  {
   "cell_type": "markdown",
   "metadata": {
    "deletable": true,
    "editable": true,
    "solution2": "shown",
    "solution2_first": true
   },
   "source": [
    "**Exercise:** Create a Pandas series that has the scores per unit process, sorted by value (contribution analysis)"
   ]
  },
  {
   "cell_type": "code",
   "execution_count": null,
   "metadata": {
    "tags": []
   },
   "outputs": [],
   "source": [
    "# Create array with the results per column (i.e. per activity)\n",
    "results_by_activity = (myFirstLCA.characterized_inventory.sum(axis=0)).A1"
   ]
  },
  {
   "cell_type": "code",
   "execution_count": null,
   "metadata": {
    "collapsed": false,
    "jupyter": {
     "outputs_hidden": false
    }
   },
   "outputs": [],
   "source": [
    "# Create a list of names in columns\n",
    "list_of_names_in_columns = [bw.get_activity(myFirstLCA_rev_act_dict[col])['name'] \n",
    "                            for col in range(myFirstLCA.characterized_inventory.shape[1])]"
   ]
  },
  {
   "cell_type": "code",
   "execution_count": null,
   "metadata": {
    "collapsed": false,
    "jupyter": {
     "outputs_hidden": false
    }
   },
   "outputs": [],
   "source": [
    "pd.Series(index=list_of_names_in_columns, data=results_by_activity).sort_values(ascending=False).head(10)"
   ]
  },
  {
   "cell_type": "markdown",
   "metadata": {
    "deletable": true,
    "editable": true,
    "jp-MarkdownHeadingCollapsed": true,
    "tags": []
   },
   "source": [
    "## 3) My second LCA: Comparative LCA"
   ]
  },
  {
   "cell_type": "markdown",
   "metadata": {
    "deletable": true,
    "editable": true
   },
   "source": [
    "Let's choose two activities to compare, say Swiss electricity produced from respectively a run-of-river hydropower plant and a wind turbine."
   ]
  },
  {
   "cell_type": "markdown",
   "metadata": {
    "deletable": true,
    "editable": true,
    "solution2": "shown",
    "solution2_first": true
   },
   "source": [
    "**Exercise**: assign the two activities to variables `hydro` and `wind` respectively."
   ]
  },
  {
   "cell_type": "code",
   "execution_count": null,
   "metadata": {
    "collapsed": false,
    "deletable": true,
    "editable": true,
    "jupyter": {
     "outputs_hidden": false
    },
    "solution2": "shown"
   },
   "outputs": [],
   "source": [
    "[act for act in eidb if \"wind\" in act['name'] and \"electricity\" in act['name'] and \"CH\" in act['location']]"
   ]
  },
  {
   "cell_type": "code",
   "execution_count": null,
   "metadata": {
    "collapsed": false,
    "deletable": true,
    "editable": true,
    "jupyter": {
     "outputs_hidden": false
    },
    "solution2": "shown"
   },
   "outputs": [],
   "source": [
    "wind = [act for act in eidb if \"wind\" in act['name']\n",
    "        and \"<1MW\" in act['name'] \n",
    "        and \"kilowatt hour\" in act['unit']][0]\n",
    "wind"
   ]
  },
  {
   "cell_type": "code",
   "execution_count": null,
   "metadata": {
    "collapsed": false,
    "deletable": true,
    "editable": true,
    "jupyter": {
     "outputs_hidden": false
    },
    "solution2": "shown"
   },
   "outputs": [],
   "source": [
    "[act for act in eidb if \"hydro\" in act['name'] and \"river\" in act['name'] and \"CH\" in act['location']]"
   ]
  },
  {
   "cell_type": "code",
   "execution_count": null,
   "metadata": {
    "collapsed": false,
    "deletable": true,
    "editable": true,
    "jupyter": {
     "outputs_hidden": false
    },
    "solution2": "shown"
   },
   "outputs": [],
   "source": [
    "hydro = [act for act in eidb if \"hydro\" in act['name'] \n",
    "                     and \"river\" in act['name'] \n",
    "                     and \"CH\" in act['location']\n",
    "                     and \"kilowatt hour\" in act['unit']\n",
    "                     ][0]\n",
    "hydro"
   ]
  },
  {
   "cell_type": "markdown",
   "metadata": {
    "deletable": true,
    "editable": true
   },
   "source": [
    "Let's also compare these according to their carbon footprint as measured with the IPCC method we already selected above:"
   ]
  },
  {
   "cell_type": "code",
   "execution_count": null,
   "metadata": {
    "collapsed": false,
    "deletable": true,
    "editable": true,
    "jupyter": {
     "outputs_hidden": false
    }
   },
   "outputs": [],
   "source": [
    "ipcc_2013_method"
   ]
  },
  {
   "cell_type": "markdown",
   "metadata": {
    "deletable": true,
    "editable": true
   },
   "source": [
    "#### One at a time approach:"
   ]
  },
  {
   "cell_type": "code",
   "execution_count": null,
   "metadata": {
    "collapsed": false,
    "deletable": true,
    "editable": true,
    "jupyter": {
     "outputs_hidden": false
    }
   },
   "outputs": [],
   "source": [
    "hydroLCA = bw.LCA({hydro:1}, ipcc_2013_method.name)\n",
    "hydroLCA.lci()\n",
    "hydroLCA.lcia()\n",
    "hydroLCA.score"
   ]
  },
  {
   "cell_type": "markdown",
   "metadata": {
    "deletable": true,
    "editable": true,
    "solution2": "shown",
    "solution2_first": true
   },
   "source": [
    "**Exercise:** Do the LCA for `wind`:"
   ]
  },
  {
   "cell_type": "code",
   "execution_count": null,
   "metadata": {
    "collapsed": false,
    "deletable": true,
    "editable": true,
    "jupyter": {
     "outputs_hidden": false
    },
    "solution2": "shown"
   },
   "outputs": [],
   "source": [
    "windLCA = bw.LCA({wind:1}, ipcc_2013_method.name)\n",
    "windLCA.lci()\n",
    "windLCA.lcia()\n",
    "windLCA.score"
   ]
  },
  {
   "cell_type": "code",
   "execution_count": null,
   "metadata": {
    "collapsed": false,
    "deletable": true,
    "editable": true,
    "jupyter": {
     "outputs_hidden": false
    }
   },
   "outputs": [],
   "source": [
    "#Compare results:\n",
    "if windLCA.score>hydroLCA.score:\n",
    "    print(\"Hydro is preferable\")\n",
    "elif windLCA.score<hydroLCA.score:\n",
    "    print(\"Wind is preferable\")\n",
    "else:\n",
    "    print(\"Both options have the same climate change indicator result\")"
   ]
  },
  {
   "cell_type": "markdown",
   "metadata": {
    "deletable": true,
    "editable": true
   },
   "source": [
    "Do one \"delta\" LCA:"
   ]
  },
  {
   "cell_type": "code",
   "execution_count": null,
   "metadata": {
    "collapsed": false,
    "deletable": true,
    "editable": true,
    "jupyter": {
     "outputs_hidden": false
    }
   },
   "outputs": [],
   "source": [
    "deltaLCA = bw.LCA({wind:1, hydro:-1}, ipcc_2013_method.name)\n",
    "deltaLCA.lci()\n",
    "deltaLCA.lcia()\n",
    "deltaLCA.score"
   ]
  },
  {
   "cell_type": "code",
   "execution_count": null,
   "metadata": {
    "collapsed": false,
    "deletable": true,
    "editable": true,
    "jupyter": {
     "outputs_hidden": false
    }
   },
   "outputs": [],
   "source": [
    "if deltaLCA.score>0:\n",
    "    print(\"Hydro is preferable\")\n",
    "elif deltaLCA.score<0:\n",
    "    print(\"Wind is preferable\")\n",
    "else:\n",
    "    print(\"Both options have the same climate change indicator result\")"
   ]
  },
  {
   "cell_type": "markdown",
   "metadata": {
    "deletable": true,
    "editable": true,
    "jp-MarkdownHeadingCollapsed": true,
    "tags": []
   },
   "source": [
    "## 4) My third LCA - Multiple impact categories"
   ]
  },
  {
   "cell_type": "markdown",
   "metadata": {
    "deletable": true,
    "editable": true
   },
   "source": [
    "Say we want to evaluate the indicator results for our randomAct for all EF v3 categories (with long-term emissions)."
   ]
  },
  {
   "cell_type": "code",
   "execution_count": null,
   "metadata": {
    "collapsed": false,
    "deletable": true,
    "editable": true,
    "jupyter": {
     "outputs_hidden": false
    }
   },
   "outputs": [],
   "source": [
    "# Make a list of all impact method names (tuples):\n",
    "EFV3 = [method for method in bw.methods if \"EF v3.0\" in str(method) \n",
    "        and \"no LT\" not in str(method)\n",
    "        and \"EN15804\" not in str(method)]\n",
    "EFV3"
   ]
  },
  {
   "cell_type": "markdown",
   "metadata": {
    "deletable": true,
    "editable": true
   },
   "source": [
    "Simplest way: for loop, using `switch method`"
   ]
  },
  {
   "cell_type": "code",
   "execution_count": null,
   "metadata": {
    "collapsed": false,
    "deletable": true,
    "editable": true,
    "jupyter": {
     "outputs_hidden": false
    }
   },
   "outputs": [],
   "source": [
    "myThirdLCA = bw.LCA({random_act:1}, EFV3[0]) # Do LCA with one impact category\n",
    "myThirdLCA.lci()\n",
    "myThirdLCA.lcia()\n",
    "for category in EFV3:\n",
    "    myThirdLCA.switch_method(category)\n",
    "    myThirdLCA.lcia()\n",
    "    print(\"Score is {:f} {} for category {}\".format(myThirdLCA.score, \n",
    "                                                 bw.Method(category).metadata['unit'],\n",
    "                                                 bw.Method(category).name)\n",
    "          )"
   ]
  },
  {
   "cell_type": "code",
   "execution_count": null,
   "metadata": {
    "collapsed": false,
    "deletable": true,
    "editable": true,
    "jupyter": {
     "outputs_hidden": false
    }
   },
   "outputs": [],
   "source": [
    "myFirstLCA_unitProcessContribution = myFirstLCA.characterized_inventory.sum(axis=0).A1\n",
    "myFirstLCA_unitProcessRelativeContribution = myFirstLCA_unitProcessContribution/myFirstLCA.score"
   ]
  },
  {
   "cell_type": "markdown",
   "metadata": {
    "deletable": true,
    "editable": true,
    "tags": []
   },
   "source": [
    "## Revising my second and third LCA with `MultiLCA`"
   ]
  },
  {
   "cell_type": "markdown",
   "metadata": {
    "deletable": true,
    "editable": true
   },
   "source": [
    "The `MultiLCA` allows thecalculation of LCA results for multiple functional units and impact categories.  \n",
    "One simply needs to create a `calculation setup`, i.e. a named set of functional units and LCIA methods."
   ]
  },
  {
   "cell_type": "markdown",
   "metadata": {
    "deletable": true,
    "editable": true
   },
   "source": [
    "Calculation setups: dictionary with lists of functional units and methods."
   ]
  },
  {
   "cell_type": "code",
   "execution_count": null,
   "metadata": {
    "deletable": true,
    "editable": true,
    "tags": []
   },
   "outputs": [],
   "source": [
    "list_functional_units = [{wind.key:1}, {hydro.key:1}]\n",
    "list_methods = EFV3"
   ]
  },
  {
   "cell_type": "code",
   "execution_count": null,
   "metadata": {
    "deletable": true,
    "editable": true,
    "tags": []
   },
   "outputs": [],
   "source": [
    "bw.calculation_setups['wind_vs_hydro'] = {'inv':list_functional_units, 'ia':list_methods}"
   ]
  },
  {
   "cell_type": "code",
   "execution_count": null,
   "metadata": {
    "collapsed": false,
    "deletable": true,
    "editable": true,
    "jupyter": {
     "outputs_hidden": false
    }
   },
   "outputs": [],
   "source": [
    "bw.calculation_setups['wind_vs_hydro']"
   ]
  },
  {
   "cell_type": "code",
   "execution_count": null,
   "metadata": {
    "collapsed": false,
    "deletable": true,
    "editable": true,
    "jupyter": {
     "outputs_hidden": false
    }
   },
   "outputs": [],
   "source": [
    "myMultiLCA = bw.MultiLCA('wind_vs_hydro')"
   ]
  },
  {
   "cell_type": "code",
   "execution_count": null,
   "metadata": {
    "collapsed": false,
    "deletable": true,
    "editable": true,
    "jupyter": {
     "outputs_hidden": false
    }
   },
   "outputs": [],
   "source": [
    "myMultiLCA.results.shape"
   ]
  },
  {
   "cell_type": "code",
   "execution_count": null,
   "metadata": {
    "collapsed": false,
    "deletable": true,
    "editable": true,
    "jupyter": {
     "outputs_hidden": false
    }
   },
   "outputs": [],
   "source": [
    "myMultiLCA.results"
   ]
  },
  {
   "cell_type": "code",
   "execution_count": null,
   "metadata": {
    "collapsed": false,
    "deletable": true,
    "editable": true,
    "jupyter": {
     "outputs_hidden": false
    }
   },
   "outputs": [],
   "source": [
    "pd.DataFrame(index=EFV3, columns=[wind['name'], hydro['name']], data=myMultiLCA.results.T)"
   ]
  },
  {
   "cell_type": "markdown",
   "metadata": {
    "deletable": true,
    "editable": true
   },
   "source": [
    "You can also create \"fuller\" DataFrames. Here is with code from [here](http://stackoverflow.com/questions/42984831/create-a-dataframe-from-multilca-results-in-brightway2): "
   ]
  },
  {
   "cell_type": "code",
   "execution_count": null,
   "metadata": {
    "collapsed": false,
    "deletable": true,
    "editable": true,
    "jupyter": {
     "outputs_hidden": false
    }
   },
   "outputs": [],
   "source": [
    "scores = pd.DataFrame(myMultiLCA.results, columns=myMultiLCA.methods)\n",
    "as_activities = [\n",
    "    (bw.get_activity(key), amount) \n",
    "    for dct in myMultiLCA.func_units \n",
    "    for key, amount in dct.items()\n",
    "]\n",
    "nicer_fu = pd.DataFrame(\n",
    "    [\n",
    "        (x['database'], x['code'], x['name'], x['location'], x['unit'], y) \n",
    "        for x, y in as_activities\n",
    "    ], \n",
    "    columns=('Database', 'Code', 'Name', 'Location', 'Unit', 'Amount')\n",
    ")\n",
    "pd.concat([nicer_fu, scores], axis=1).T"
   ]
  },
  {
   "cell_type": "markdown",
   "metadata": {
    "deletable": true,
    "editable": true
   },
   "source": [
    "You can even generate beautiful heatmaps like this in a relatively easy way, see example notebook [here](https://github.com/brightway-lca/brightway2/blob/master/notebooks/Using%20calculation%20setups.ipynb).\n",
    "\n",
    "<img src=\"images/multiLCA_heatmap.JPG\">"
   ]
  },
  {
   "cell_type": "markdown",
   "metadata": {
    "deletable": true,
    "editable": true
   },
   "source": [
    "Done with deterministic LCA using only existing database items!"
   ]
  }
 ],
 "metadata": {
  "kernelspec": {
   "display_name": "Python [conda env:bw25]",
   "language": "python",
   "name": "conda-env-bw25-py"
  },
  "language_info": {
   "codemirror_mode": {
    "name": "ipython",
    "version": 3
   },
   "file_extension": ".py",
   "mimetype": "text/x-python",
   "name": "python",
   "nbconvert_exporter": "python",
   "pygments_lexer": "ipython3",
   "version": "3.10.6"
  },
  "widgets": {
   "state": {},
   "version": "1.1.2"
  }
 },
 "nbformat": 4,
 "nbformat_minor": 4
}
