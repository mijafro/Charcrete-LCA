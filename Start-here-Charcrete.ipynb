{
 "cells": [
  {
   "cell_type": "markdown",
   "id": "ad868087-1b86-4fa2-8c69-7cd43b98a4a9",
   "metadata": {},
   "source": [
    "# 🎉 Charcrete LCA Group Project 👩‍💻\n",
    "\n",
    "[Click here to get the Autumn School teaching material](https://autumn.brightway.dev/hub/user-redirect/git-pull?repo=https://github.com/mijafro/Charcrete-LCA&urlpath=lab%2Ftree%2FCharcrete-LCA%2F)\n"
   ]
  },
  {
   "cell_type": "code",
   "execution_count": null,
   "id": "4fbeb194-c6d5-4698-a8c2-8f3d6d329ca8",
   "metadata": {},
   "outputs": [],
   "source": []
  }
 ],
 "metadata": {
  "kernelspec": {
   "display_name": "Python 3 (ipykernel)",
   "language": "python",
   "name": "python3"
  },
  "language_info": {
   "codemirror_mode": {
    "name": "ipython",
    "version": 3
   },
   "file_extension": ".py",
   "mimetype": "text/x-python",
   "name": "python",
   "nbconvert_exporter": "python",
   "pygments_lexer": "ipython3",
   "version": "3.9.7"
  }
 },
 "nbformat": 4,
 "nbformat_minor": 5
}
