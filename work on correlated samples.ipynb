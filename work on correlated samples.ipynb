{
 "cells": [
  {
   "cell_type": "markdown",
   "id": "b62fa483-73cc-4124-9637-cb6d32d8abfe",
   "metadata": {},
   "source": [
    "## 1. Set the project and import Charcrete database"
   ]
  },
  {
   "cell_type": "code",
   "execution_count": 109,
   "id": "9dc71919-b203-40ae-8f7a-8940f8b835c6",
   "metadata": {
    "tags": []
   },
   "outputs": [],
   "source": [
    "# === Switch to kernel bw25! ===\n",
    "\n",
    "# Brightway libraries\n",
    "import bw2data as bd\n",
    "import bw2io as bi\n",
    "import bw2calc as bc\n",
    "import bw2analyzer as ba\n",
    "import bw_processing as bwp\n",
    "\n",
    "# General libraries\n",
    "import numpy as np\n",
    "import pandas as pd\n",
    "import math\n",
    "from fs.zipfs import ZipFS\n",
    "import json                        # Library for working with json files\n",
    "from pathlib import Path           # Library for working with paths in different OS     \n",
    "import matplotlib.pyplot as plt    # Library for creating plots\n",
    "import os\n",
    "\n",
    "# Visualization\n",
    "import plotly.graph_objects as go\n",
    "\n",
    "# Uncertainties\n",
    "import stats_arrays as sa"
   ]
  },
  {
   "cell_type": "code",
   "execution_count": 2,
   "id": "2bb9441c-aba4-43bb-864e-08720381347f",
   "metadata": {
    "collapsed": true,
    "jupyter": {
     "outputs_hidden": true
    },
    "tags": []
   },
   "outputs": [],
   "source": [
    "bd.projects.set_current(\"ei38-teaching-25\")"
   ]
  },
  {
   "cell_type": "markdown",
   "id": "1e8c8a9b-35b7-40ae-a85f-932a8820508a",
   "metadata": {},
   "source": [
    "## 2. Importing Charcrete database"
   ]
  },
  {
   "cell_type": "code",
   "execution_count": 3,
   "id": "da38bd4a-2f8c-48e3-8c42-1fcd212d0d63",
   "metadata": {
    "collapsed": true,
    "jupyter": {
     "outputs_hidden": true
    }
   },
   "outputs": [],
   "source": [
    "#finding the relative path\n",
    "filepath = os.getcwd()+\"/data/Charcrete_database_38.xlsx\""
   ]
  },
  {
   "cell_type": "code",
   "execution_count": 5,
   "id": "d20d8577-07e6-4071-9596-fb1220b93e18",
   "metadata": {
    "collapsed": true,
    "jupyter": {
     "outputs_hidden": true
    },
    "tags": []
   },
   "outputs": [
    {
     "name": "stdout",
     "output_type": "stream",
     "text": [
      "Extracted 1 worksheets in 0.01 seconds\n",
      "Applying strategy: csv_restore_tuples\n",
      "Applying strategy: csv_restore_booleans\n",
      "Applying strategy: csv_numerize\n",
      "Applying strategy: csv_drop_unknown\n",
      "Applying strategy: csv_add_missing_exchanges_section\n",
      "Applying strategy: normalize_units\n",
      "Applying strategy: normalize_biosphere_categories\n",
      "Applying strategy: normalize_biosphere_names\n",
      "Applying strategy: strip_biosphere_exc_locations\n",
      "Applying strategy: set_code_by_activity_hash\n",
      "Applying strategy: link_iterable_by_fields\n",
      "Applying strategy: assign_only_product_as_production\n",
      "Applying strategy: link_technosphere_by_activity_hash\n",
      "Applying strategy: drop_falsey_uncertainty_fields_but_keep_zeros\n",
      "Applying strategy: convert_uncertainty_types_to_integers\n",
      "Applying strategy: convert_activity_parameters_to_list\n",
      "Applied 16 strategies in 6.79 seconds\n",
      "Applying strategy: link_iterable_by_fields\n",
      "Applying strategy: link_iterable_by_fields\n",
      "5 datasets\n",
      "23 exchanges\n",
      "0 unlinked exchanges\n",
      "  \n",
      "Warning: No valid output stream.\n",
      "Title: Writing activities to SQLite3 database:\n",
      "  Started: 10/27/2022 08:25:38\n",
      "  Finished: 10/27/2022 08:25:38\n",
      "  Total time elapsed: 00:00:00\n",
      "  CPU %: 0.00\n",
      "  Memory %: 0.25\n",
      "Created database: Charcrete_38\n"
     ]
    }
   ],
   "source": [
    "if \"Charcrete_38\" in bd.databases:\n",
    "    print(\"Charcrete_38 database already exists\")\n",
    "else:\n",
    "    # 1. Specify filepath to your foreground inventories.\n",
    "    charcrete_path = filepath\n",
    "    # 2. Create an instance of a class that contains basic methods for importing a database from an excel file.\n",
    "    charcrete = bi.ExcelImporter(charcrete_path)  \n",
    "    # 3. `apply_strategies` is one of such basic methods, it makes sure units, locations, etc are in correct format.\n",
    "    charcrete.apply_strategies()\n",
    "    # 4. Next step is to link your foreground exchanges to existing databases by matching relevant exchanges fields.\n",
    "    charcrete.match_database(\"biosphere3\", fields=(\"name\", \"unit\", \"categories\"))\n",
    "    charcrete.match_database(\"ei 3.8 cutoff\", fields=(\"name\", \"location\", \"unit\"))\n",
    "    #charcrete.metadata.pop(None)  # Remove metadata None entry. TODO\n",
    "    # 5. If everything is linked, write database so that it is saved in your project.\n",
    "    if charcrete.all_linked:\n",
    "        charcrete.write_database()"
   ]
  },
  {
   "cell_type": "code",
   "execution_count": 6,
   "id": "f7f87e64-f3e1-43ec-9ba2-7437e0a2d259",
   "metadata": {
    "collapsed": true,
    "jupyter": {
     "outputs_hidden": true
    }
   },
   "outputs": [
    {
     "data": {
      "text/plain": [
       "Databases dictionary with 7 object(s):\n",
       "\tCharcrete_38\n",
       "\tEXIOBASE 3.8.1 2017 monetary\n",
       "\tEXIOBASE 3.8.1 2017 monetary biosphere\n",
       "\tKorean Motors Chaebol\n",
       "\tbiosphere3\n",
       "\tei 3.8 cutoff\n",
       "\t강한 국가를 위한 영광스러운 구리"
      ]
     },
     "execution_count": 6,
     "metadata": {},
     "output_type": "execute_result"
    }
   ],
   "source": [
    "bd.databases"
   ]
  },
  {
   "cell_type": "markdown",
   "id": "facd4cff-96e2-42cb-8088-3f9ec898369a",
   "metadata": {},
   "source": [
    "## 3. Check LCA on charcrete to ensure everything is working fine"
   ]
  },
  {
   "cell_type": "code",
   "execution_count": 8,
   "id": "6a0e008e-fa5b-47b8-bb3b-0715c877944b",
   "metadata": {
    "collapsed": true,
    "jupyter": {
     "outputs_hidden": true
    }
   },
   "outputs": [],
   "source": [
    "char_db = bd.Database(\"Charcrete_38\")\n",
    "ei_db = bd.Database(\"ei 3.8 cutoff\")"
   ]
  },
  {
   "cell_type": "code",
   "execution_count": 12,
   "id": "4614ec8e-fbfb-4dbe-9846-e927350039aa",
   "metadata": {
    "collapsed": true,
    "jupyter": {
     "outputs_hidden": true
    }
   },
   "outputs": [],
   "source": [
    "char_p = [act for act in char_db if \"Charcrete\" in act['name']][0]"
   ]
  },
  {
   "cell_type": "code",
   "execution_count": 13,
   "id": "67bfcd59-d495-4de0-9838-a0e0f9be29b1",
   "metadata": {
    "collapsed": true,
    "jupyter": {
     "outputs_hidden": true
    }
   },
   "outputs": [],
   "source": [
    "ipcc = ('IPCC 2013', 'climate change', 'GWP 100a')\n",
    "method = bd.Method(ipcc)"
   ]
  },
  {
   "cell_type": "code",
   "execution_count": 14,
   "id": "bb579f34-30ef-490c-a1ea-6f14dbbd0998",
   "metadata": {
    "collapsed": true,
    "jupyter": {
     "outputs_hidden": true
    }
   },
   "outputs": [],
   "source": [
    "def calculateLCA(act, amount, method):\n",
    "    fu, data_objs, _ = bd.prepare_lca_inputs({act: amount}, method=ipcc)\n",
    "    lca = bc.LCA(fu, data_objs=data_objs)\n",
    "    lca.lci()\n",
    "    lca.lcia()\n",
    "    return lca.score"
   ]
  },
  {
   "cell_type": "code",
   "execution_count": 15,
   "id": "adbecd7b-8492-4da9-a480-81309eb95d2d",
   "metadata": {
    "collapsed": true,
    "jupyter": {
     "outputs_hidden": true
    }
   },
   "outputs": [
    {
     "data": {
      "text/plain": [
       "317.2283827379036"
      ]
     },
     "execution_count": 15,
     "metadata": {},
     "output_type": "execute_result"
    }
   ],
   "source": [
    "calculateLCA(char_p, 1, ipcc)"
   ]
  },
  {
   "cell_type": "markdown",
   "id": "d232ba61-d20f-4822-b5a8-7586ee4c9ceb",
   "metadata": {},
   "source": [
    "## 4.WiP on correlated samples"
   ]
  },
  {
   "cell_type": "code",
   "execution_count": 18,
   "id": "98f04724-0485-440f-a14f-a11bc2b5b790",
   "metadata": {
    "collapsed": true,
    "jupyter": {
     "outputs_hidden": true
    },
    "tags": []
   },
   "outputs": [
    {
     "data": {
      "text/plain": [
       "{'comment': 'Hardening is assumed to be by air-drying. It is assumed that there is wastewater and solid waste, but as no exact description on the composition of the wastewater and solid waste is available a proxy for each (\"treatment, concrete production effluent, to wastewater treatment, class 3\" and \"disposal, municipal solid waste, 22.9% water, to municipal incineration\") is used. The lifespan of the plant is assumed to be 50 years.\\nLightweight concrete block. Image source: http://keramzit.by/data/pictures/poduct/block1.png\\nImage: https://db3.ecoinvent.org/images/0b755024-3429-4acb-a241-cffdc608c3ff\\nGeography:  For some exchanges CH, RER and GLO modules have been used as proxy.\\nTechnology:  The raw material mixture (aggregates, cement and water) of lightweight concrete blocks are poured into a mould then squeezed and finaly hardened by air (assumption for this study)',\n",
       " 'classifications': [('EcoSpold01Categories',\n",
       "   'construction materials/concrete'),\n",
       "  ('ISIC rev.4 ecoinvent',\n",
       "   '2399:Manufacture of other non-metallic mineral products n.e.c.'),\n",
       "  ('CPC', '379: Other non-metallic mineral products n.e.c.')],\n",
       " 'activity type': 'ordinary transforming activity',\n",
       " 'activity': '37cc0279-2b41-4284-8c11-8534b76be7c1',\n",
       " 'database': 'ei 3.8 cutoff',\n",
       " 'filename': '37cc0279-2b41-4284-8c11-8534b76be7c1_d3ed2316-27eb-4d4f-91d1-b379b4c6ead1.spold',\n",
       " 'location': 'CH',\n",
       " 'name': 'lightweight concrete block production, expanded clay',\n",
       " 'synonyms': [],\n",
       " 'parameters': [{'description': 'fraction, process water, to air',\n",
       "   'id': 'daadf2d4-7bbb-4f69-8ab5-58df4c1685eb',\n",
       "   'unit': 'dimensionless',\n",
       "   'comment': 'Literature value. In case when no industry/process specific data are available, default evaporation fraction value is used. This value is 15% and is based on literature (Statistics Canada, 2007 & Shaffer, K.H., 2008, Consumptive water use in the Great Lakes Basin, USGS & Shiklomanov, 2003, World Water Resources at the Beginning of the 21st Century) and has been approved by an expert.',\n",
       "   'amount': 0.15,\n",
       "   'pedigree': {'reliability': 4,\n",
       "    'completeness': 4,\n",
       "    'temporal correlation': 3,\n",
       "    'geographical correlation': 2,\n",
       "    'further technological correlation': 4},\n",
       "   'uncertainty type': 2,\n",
       "   'loc': -1.897,\n",
       "   'scale': 0.30335622624235026,\n",
       "   'scale without pedigree': 0.2,\n",
       "   'name': 'fraction_PW_to_air'},\n",
       "  {'description': 'fraction, tap water, to air',\n",
       "   'id': '148c8010-cc60-48cd-9b40-fc7278e377f7',\n",
       "   'unit': 'dimensionless',\n",
       "   'comment': 'Calculated value. See comment in the other parametres present in this dataset. Tap water is considered to be always used as process water, thus process water fractions to air are applied to all tap water input flows to calculate the amount of water consumed in the processes.',\n",
       "   'amount': 0.15,\n",
       "   'pedigree': {'reliability': 4,\n",
       "    'completeness': 4,\n",
       "    'temporal correlation': 3,\n",
       "    'geographical correlation': 2,\n",
       "    'further technological correlation': 4},\n",
       "   'uncertainty type': 2,\n",
       "   'loc': -1.897,\n",
       "   'scale': 0.30335622624235026,\n",
       "   'scale without pedigree': 0.2,\n",
       "   'name': 'fraction_TW_to_air'}],\n",
       " 'authors': {'data entry': {'name': 'Daniel Kellenberger (obsolete)',\n",
       "   'email': 'empa@ecoinvent.org'},\n",
       "  'data generator': {'name': 'Daniel Kellenberger (obsolete)',\n",
       "   'email': 'empa@ecoinvent.org'}},\n",
       " 'type': 'process',\n",
       " 'reference product': 'lightweight concrete block, expanded clay',\n",
       " 'flow': 'd3ed2316-27eb-4d4f-91d1-b379b4c6ead1',\n",
       " 'unit': 'kilogram',\n",
       " 'production amount': 1.0,\n",
       " 'code': 'fa79821e16194531cab504b4f8f280b7',\n",
       " 'id': 16218}"
      ]
     },
     "execution_count": 18,
     "metadata": {},
     "output_type": "execute_result"
    }
   ],
   "source": [
    "[act for act in ei_db if 'concrete' in act['name']][0].as_dict()"
   ]
  },
  {
   "cell_type": "code",
   "execution_count": 19,
   "id": "94f0aa3e-1771-48b1-9e26-eb036b2df7fd",
   "metadata": {
    "collapsed": true,
    "jupyter": {
     "outputs_hidden": true
    }
   },
   "outputs": [
    {
     "data": {
      "text/plain": [
       "['concrete production 20MPa' (cubic meter, CA-QC, None),\n",
       " 'concrete production 20MPa' (cubic meter, ZA, None),\n",
       " 'concrete production 20MPa' (cubic meter, RoW, None),\n",
       " 'concrete production 20MPa' (cubic meter, North America without Quebec, None)]"
      ]
     },
     "execution_count": 19,
     "metadata": {},
     "output_type": "execute_result"
    }
   ],
   "source": [
    "concrete_ei_20MPa = [act for act in ei_db if \"concrete production 20MPa\" in act[\"name\"]]\n",
    "concrete_ei_20MPa"
   ]
  },
  {
   "cell_type": "code",
   "execution_count": 37,
   "id": "6e0e9b7f-2248-475f-934f-7fea914f26b8",
   "metadata": {
    "collapsed": true,
    "jupyter": {
     "outputs_hidden": true
    }
   },
   "outputs": [
    {
     "data": {
      "text/plain": [
       "{'acetic acid, without water, in 98% solution state',\n",
       " 'alkylbenzene sulfonate, linear, petrochemical',\n",
       " 'cement, Portland',\n",
       " 'cement, portland fly ash cement 21-35%',\n",
       " 'chemical, organic',\n",
       " 'ethylene oxide',\n",
       " 'gravel, round',\n",
       " 'lubricating oil',\n",
       " 'sand',\n",
       " 'steel, low-alloyed, hot rolled',\n",
       " 'synthetic rubber',\n",
       " 'tap water',\n",
       " 'waste concrete'}"
      ]
     },
     "execution_count": 37,
     "metadata": {},
     "output_type": "execute_result"
    }
   ],
   "source": [
    "exc_list = []\n",
    "for act in concrete_ei_20MPa :\n",
    "     for exc in act.technosphere():\n",
    "         if exc['unit']== 'kilogram': \n",
    "            exc_list.append(exc['name'])\n",
    "         else: \n",
    "            pass\n",
    "exc_list = set(exc_list)\n",
    "exc_list"
   ]
  },
  {
   "cell_type": "code",
   "execution_count": 54,
   "id": "a40e48c1-08f1-428b-9d0d-4e9daf3d182e",
   "metadata": {
    "collapsed": true,
    "jupyter": {
     "outputs_hidden": true
    }
   },
   "outputs": [
    {
     "data": {
      "text/plain": [
       "4"
      ]
     },
     "execution_count": 54,
     "metadata": {},
     "output_type": "execute_result"
    }
   ],
   "source": [
    "len(concrete_ei_20MPa)"
   ]
  },
  {
   "cell_type": "code",
   "execution_count": 47,
   "id": "a3d3e658-4a56-4e3c-9bc8-60edd7118e80",
   "metadata": {
    "collapsed": true,
    "jupyter": {
     "outputs_hidden": true
    }
   },
   "outputs": [
    {
     "data": {
      "text/plain": [
       "[['concrete production 20MPa', 2330.772867449367],\n",
       " ['concrete production 20MPa', 2415.9284602953603],\n",
       " ['concrete production 20MPa', 2415.9284602953594],\n",
       " ['concrete production 20MPa', 2338.1568988804133]]"
      ]
     },
     "execution_count": 47,
     "metadata": {},
     "output_type": "execute_result"
    }
   ],
   "source": [
    "density_mapping = []\n",
    "for act in concrete_ei_20MPa :\n",
    "    d=0\n",
    "    for exc in act.technosphere():\n",
    "        if exc['unit']== 'kilogram': \n",
    "            d = d + exc['amount']     \n",
    "        else: \n",
    "            pass\n",
    "    density_mapping.append([act['name'],d])\n",
    "density_mapping"
   ]
  },
  {
   "cell_type": "code",
   "execution_count": 73,
   "id": "4636c81b-3445-4458-80db-58c61c7be08b",
   "metadata": {
    "collapsed": true,
    "jupyter": {
     "outputs_hidden": true
    }
   },
   "outputs": [],
   "source": [
    "def ComputeDensity(act_list_in_cubic_meter):\n",
    "    density_mapping = []\n",
    "    for act in act_list_in_cubic_meter :\n",
    "        d=0\n",
    "        try : \n",
    "            act['unit']=='cubic meter'\n",
    "        except ValueError:\n",
    "            raise ValutError(\"activity unit has to be cubic meter\")\n",
    "        for exc in act.technosphere():\n",
    "            if exc['unit']== 'kilogram': \n",
    "                d = d + exc['amount']\n",
    "            else:\n",
    "                pass\n",
    "        density_mapping.append([act['name'], act['location'],d])\n",
    "    return pd.DataFrame(density_mapping , columns = [\"Activity Name\", \"Location\",\"density\"])"
   ]
  },
  {
   "cell_type": "code",
   "execution_count": 74,
   "id": "28845374-94a7-44c7-bbd1-166e35e84041",
   "metadata": {
    "collapsed": true,
    "jupyter": {
     "outputs_hidden": true
    }
   },
   "outputs": [
    {
     "data": {
      "text/html": [
       "<div>\n",
       "<style scoped>\n",
       "    .dataframe tbody tr th:only-of-type {\n",
       "        vertical-align: middle;\n",
       "    }\n",
       "\n",
       "    .dataframe tbody tr th {\n",
       "        vertical-align: top;\n",
       "    }\n",
       "\n",
       "    .dataframe thead th {\n",
       "        text-align: right;\n",
       "    }\n",
       "</style>\n",
       "<table border=\"1\" class=\"dataframe\">\n",
       "  <thead>\n",
       "    <tr style=\"text-align: right;\">\n",
       "      <th></th>\n",
       "      <th>Activity Name</th>\n",
       "      <th>Location</th>\n",
       "      <th>density</th>\n",
       "    </tr>\n",
       "  </thead>\n",
       "  <tbody>\n",
       "    <tr>\n",
       "      <th>0</th>\n",
       "      <td>concrete production 20MPa</td>\n",
       "      <td>CA-QC</td>\n",
       "      <td>2330.772867</td>\n",
       "    </tr>\n",
       "    <tr>\n",
       "      <th>1</th>\n",
       "      <td>concrete production 20MPa</td>\n",
       "      <td>ZA</td>\n",
       "      <td>2415.928460</td>\n",
       "    </tr>\n",
       "    <tr>\n",
       "      <th>2</th>\n",
       "      <td>concrete production 20MPa</td>\n",
       "      <td>RoW</td>\n",
       "      <td>2415.928460</td>\n",
       "    </tr>\n",
       "    <tr>\n",
       "      <th>3</th>\n",
       "      <td>concrete production 20MPa</td>\n",
       "      <td>North America without Quebec</td>\n",
       "      <td>2338.156899</td>\n",
       "    </tr>\n",
       "  </tbody>\n",
       "</table>\n",
       "</div>"
      ],
      "text/plain": [
       "               Activity Name                      Location      density\n",
       "0  concrete production 20MPa                         CA-QC  2330.772867\n",
       "1  concrete production 20MPa                            ZA  2415.928460\n",
       "2  concrete production 20MPa                           RoW  2415.928460\n",
       "3  concrete production 20MPa  North America without Quebec  2338.156899"
      ]
     },
     "execution_count": 74,
     "metadata": {},
     "output_type": "execute_result"
    }
   ],
   "source": [
    "ComputeDensity(concrete_ei_20MPa)"
   ]
  },
  {
   "cell_type": "code",
   "execution_count": 105,
   "id": "1f6f562b-2d2e-4c8e-b7a9-12bf274dad7b",
   "metadata": {
    "collapsed": true,
    "jupyter": {
     "outputs_hidden": true
    }
   },
   "outputs": [],
   "source": [
    "l = [\n",
    "act for act in ei_db \n",
    "    if 'concrete' in act['name'] \n",
    "    and act['unit']=='cubic meter' \n",
    "    and 'market' not in act['name']\n",
    "    and 'treatment' not in act['name']\n",
    "    and 'slab' not in act['name']\n",
    "]"
   ]
  },
  {
   "cell_type": "code",
   "execution_count": 106,
   "id": "4deb51e1-2208-4bfd-977a-fce02b80b30e",
   "metadata": {
    "collapsed": true,
    "jupyter": {
     "outputs_hidden": true
    }
   },
   "outputs": [],
   "source": [
    "density_table = ComputeDensity(l)"
   ]
  },
  {
   "cell_type": "code",
   "execution_count": 107,
   "id": "a8b54992-66c5-420c-8225-7825e92544d4",
   "metadata": {
    "collapsed": true,
    "jupyter": {
     "outputs_hidden": true
    }
   },
   "outputs": [
    {
     "data": {
      "text/html": [
       "<div>\n",
       "<style scoped>\n",
       "    .dataframe tbody tr th:only-of-type {\n",
       "        vertical-align: middle;\n",
       "    }\n",
       "\n",
       "    .dataframe tbody tr th {\n",
       "        vertical-align: top;\n",
       "    }\n",
       "\n",
       "    .dataframe thead th {\n",
       "        text-align: right;\n",
       "    }\n",
       "</style>\n",
       "<table border=\"1\" class=\"dataframe\">\n",
       "  <thead>\n",
       "    <tr style=\"text-align: right;\">\n",
       "      <th></th>\n",
       "      <th>Activity Name</th>\n",
       "      <th>Location</th>\n",
       "      <th>density</th>\n",
       "    </tr>\n",
       "  </thead>\n",
       "  <tbody>\n",
       "    <tr>\n",
       "      <th>64</th>\n",
       "      <td>concrete production, 40MPa, ready-mix, with ce...</td>\n",
       "      <td>RoW</td>\n",
       "      <td>2182.69546</td>\n",
       "    </tr>\n",
       "    <tr>\n",
       "      <th>21</th>\n",
       "      <td>concrete production, 40MPa, ready-mix, with ce...</td>\n",
       "      <td>BR</td>\n",
       "      <td>2182.69546</td>\n",
       "    </tr>\n",
       "    <tr>\n",
       "      <th>59</th>\n",
       "      <td>lean concrete production, with cement CEM II/B</td>\n",
       "      <td>CH</td>\n",
       "      <td>2244.80000</td>\n",
       "    </tr>\n",
       "    <tr>\n",
       "      <th>9</th>\n",
       "      <td>lean concrete production, with cement CEM II/A</td>\n",
       "      <td>CH</td>\n",
       "      <td>2244.80000</td>\n",
       "    </tr>\n",
       "    <tr>\n",
       "      <th>68</th>\n",
       "      <td>lean concrete production, with cement CEM II/A</td>\n",
       "      <td>RoW</td>\n",
       "      <td>2244.80000</td>\n",
       "    </tr>\n",
       "    <tr>\n",
       "      <th>...</th>\n",
       "      <td>...</td>\n",
       "      <td>...</td>\n",
       "      <td>...</td>\n",
       "    </tr>\n",
       "    <tr>\n",
       "      <th>55</th>\n",
       "      <td>concrete production, 40MPa, ready-mix, with ce...</td>\n",
       "      <td>PE</td>\n",
       "      <td>2514.71400</td>\n",
       "    </tr>\n",
       "    <tr>\n",
       "      <th>49</th>\n",
       "      <td>concrete production, 40MPa, ready-mix, with ce...</td>\n",
       "      <td>RoW</td>\n",
       "      <td>2514.71400</td>\n",
       "    </tr>\n",
       "    <tr>\n",
       "      <th>67</th>\n",
       "      <td>concrete production, 40MPa, ready-mix, with ce...</td>\n",
       "      <td>RoW</td>\n",
       "      <td>2514.71400</td>\n",
       "    </tr>\n",
       "    <tr>\n",
       "      <th>60</th>\n",
       "      <td>concrete production, 20MPa, ready-mix, with ce...</td>\n",
       "      <td>PE</td>\n",
       "      <td>2552.71400</td>\n",
       "    </tr>\n",
       "    <tr>\n",
       "      <th>40</th>\n",
       "      <td>concrete production, 20MPa, ready-mix, with ce...</td>\n",
       "      <td>RoW</td>\n",
       "      <td>2552.71400</td>\n",
       "    </tr>\n",
       "  </tbody>\n",
       "</table>\n",
       "<p>98 rows × 3 columns</p>\n",
       "</div>"
      ],
      "text/plain": [
       "                                        Activity Name Location     density\n",
       "64  concrete production, 40MPa, ready-mix, with ce...      RoW  2182.69546\n",
       "21  concrete production, 40MPa, ready-mix, with ce...       BR  2182.69546\n",
       "59     lean concrete production, with cement CEM II/B       CH  2244.80000\n",
       "9      lean concrete production, with cement CEM II/A       CH  2244.80000\n",
       "68     lean concrete production, with cement CEM II/A      RoW  2244.80000\n",
       "..                                                ...      ...         ...\n",
       "55  concrete production, 40MPa, ready-mix, with ce...       PE  2514.71400\n",
       "49  concrete production, 40MPa, ready-mix, with ce...      RoW  2514.71400\n",
       "67  concrete production, 40MPa, ready-mix, with ce...      RoW  2514.71400\n",
       "60  concrete production, 20MPa, ready-mix, with ce...       PE  2552.71400\n",
       "40  concrete production, 20MPa, ready-mix, with ce...      RoW  2552.71400\n",
       "\n",
       "[98 rows x 3 columns]"
      ]
     },
     "execution_count": 107,
     "metadata": {},
     "output_type": "execute_result"
    }
   ],
   "source": [
    "density_table.sort_values(by = 'density')"
   ]
  },
  {
   "cell_type": "code",
   "execution_count": 91,
   "id": "790f39df-f49d-4aec-ad81-d6847be55b9a",
   "metadata": {
    "collapsed": true,
    "jupyter": {
     "outputs_hidden": true
    }
   },
   "outputs": [
    {
     "data": {
      "text/plain": [
       "102"
      ]
     },
     "execution_count": 91,
     "metadata": {},
     "output_type": "execute_result"
    }
   ],
   "source": [
    "for i in range (0:len(density_table))\n",
    "    if density_table.loc(i)['density']"
   ]
  },
  {
   "cell_type": "code",
   "execution_count": 110,
   "id": "beb10e43-b5cf-4ff1-810d-c6e7a1c256f4",
   "metadata": {},
   "outputs": [
    {
     "data": {
      "text/plain": [
       "Databases dictionary with 7 object(s):\n",
       "\tCharcrete_38\n",
       "\tEXIOBASE 3.8.1 2017 monetary\n",
       "\tEXIOBASE 3.8.1 2017 monetary biosphere\n",
       "\tKorean Motors Chaebol\n",
       "\tbiosphere3\n",
       "\tei 3.8 cutoff\n",
       "\t강한 국가를 위한 영광스러운 구리"
      ]
     },
     "execution_count": 110,
     "metadata": {},
     "output_type": "execute_result"
    }
   ],
   "source": [
    "bd.databases"
   ]
  },
  {
   "cell_type": "code",
   "execution_count": null,
   "id": "0062e4c1-827a-4e3f-a66e-33f258fd31ef",
   "metadata": {},
   "outputs": [],
   "source": []
  },
  {
   "cell_type": "code",
   "execution_count": 111,
   "id": "6d212eb6-c81f-40b0-a3ee-cfd242c56acf",
   "metadata": {},
   "outputs": [],
   "source": []
  },
  {
   "cell_type": "code",
   "execution_count": null,
   "id": "034984e3-4c9e-470b-ab28-8640962deba7",
   "metadata": {},
   "outputs": [],
   "source": []
  },
  {
   "cell_type": "code",
   "execution_count": 112,
   "id": "e51cb4ed-8b4b-47c7-ab69-cbf716639d95",
   "metadata": {
    "jupyter": {
     "source_hidden": true
    },
    "tags": []
   },
   "outputs": [],
   "source": [
    "dp_scenario"
   ]
  },
  {
   "cell_type": "code",
   "execution_count": null,
   "id": "02cf28d2-6ff3-4665-92bd-3d41d5553a8f",
   "metadata": {},
   "outputs": [],
   "source": []
  }
 ],
 "metadata": {
  "kernelspec": {
   "display_name": "Python [conda env:bw25]",
   "language": "python",
   "name": "conda-env-bw25-py"
  },
  "language_info": {
   "codemirror_mode": {
    "name": "ipython",
    "version": 3
   },
   "file_extension": ".py",
   "mimetype": "text/x-python",
   "name": "python",
   "nbconvert_exporter": "python",
   "pygments_lexer": "ipython3",
   "version": "3.10.6"
  }
 },
 "nbformat": 4,
 "nbformat_minor": 5
}
