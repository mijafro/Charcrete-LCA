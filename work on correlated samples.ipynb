{
 "cells": [
  {
   "cell_type": "markdown",
   "id": "b62fa483-73cc-4124-9637-cb6d32d8abfe",
   "metadata": {},
   "source": [
    "## 1. Set the project and import Charcrete database"
   ]
  },
  {
   "cell_type": "code",
   "execution_count": 204,
   "id": "9dc71919-b203-40ae-8f7a-8940f8b835c6",
   "metadata": {
    "collapsed": true,
    "jupyter": {
     "outputs_hidden": true
    },
    "tags": []
   },
   "outputs": [],
   "source": [
    "# === Switch to kernel bw25! ===\n",
    "\n",
    "# Brightway libraries\n",
    "import bw2data as bd\n",
    "import bw2io as bi\n",
    "import bw2calc as bc\n",
    "import bw2analyzer as ba\n",
    "import bw_processing as bwp\n",
    "\n",
    "# General libraries\n",
    "import numpy as np\n",
    "import pandas as pd\n",
    "import math\n",
    "from fs.zipfs import ZipFS\n",
    "import json                        # Library for working with json files\n",
    "from pathlib import Path           # Library for working with paths in different OS     \n",
    "import matplotlib.pyplot as plt    # Library for creating plots\n",
    "import os\n",
    "\n",
    "# Visualization\n",
    "import plotly.graph_objects as go\n",
    "\n",
    "# Uncertainties\n",
    "import stats_arrays as sa"
   ]
  },
  {
   "cell_type": "code",
   "execution_count": 205,
   "id": "2bb9441c-aba4-43bb-864e-08720381347f",
   "metadata": {
    "collapsed": true,
    "jupyter": {
     "outputs_hidden": true
    },
    "tags": []
   },
   "outputs": [],
   "source": [
    "bd.projects.set_current(\"ei38-teaching-25\")"
   ]
  },
  {
   "cell_type": "markdown",
   "id": "1e8c8a9b-35b7-40ae-a85f-932a8820508a",
   "metadata": {},
   "source": [
    "## 2. Importing Charcrete database"
   ]
  },
  {
   "cell_type": "code",
   "execution_count": 206,
   "id": "da38bd4a-2f8c-48e3-8c42-1fcd212d0d63",
   "metadata": {
    "collapsed": true,
    "jupyter": {
     "outputs_hidden": true
    },
    "tags": []
   },
   "outputs": [],
   "source": [
    "#finding the relative path\n",
    "filepath = os.getcwd()+\"/data/Charcrete_database_38.xlsx\""
   ]
  },
  {
   "cell_type": "code",
   "execution_count": 207,
   "id": "d20d8577-07e6-4071-9596-fb1220b93e18",
   "metadata": {
    "collapsed": true,
    "jupyter": {
     "outputs_hidden": true
    },
    "tags": []
   },
   "outputs": [
    {
     "name": "stdout",
     "output_type": "stream",
     "text": [
      "Extracted 2 worksheets in 0.01 seconds\n",
      "Applying strategy: csv_restore_tuples\n",
      "Applying strategy: csv_restore_booleans\n",
      "Applying strategy: csv_numerize\n",
      "Applying strategy: csv_drop_unknown\n",
      "Applying strategy: csv_add_missing_exchanges_section\n",
      "Applying strategy: normalize_units\n",
      "Applying strategy: normalize_biosphere_categories\n",
      "Applying strategy: normalize_biosphere_names\n",
      "Applying strategy: strip_biosphere_exc_locations\n",
      "Applying strategy: set_code_by_activity_hash\n",
      "Applying strategy: link_iterable_by_fields\n",
      "Applying strategy: assign_only_product_as_production\n",
      "Applying strategy: link_technosphere_by_activity_hash\n",
      "Applying strategy: drop_falsey_uncertainty_fields_but_keep_zeros\n",
      "Applying strategy: convert_uncertainty_types_to_integers\n",
      "Applying strategy: convert_activity_parameters_to_list\n",
      "Applied 16 strategies in 6.96 seconds\n",
      "Applying strategy: link_iterable_by_fields\n",
      "Applying strategy: link_iterable_by_fields\n",
      "7 datasets\n",
      "43 exchanges\n",
      "0 unlinked exchanges\n",
      "  \n",
      "Warning: No valid output stream.\n",
      "Title: Writing activities to SQLite3 database:\n",
      "  Started: 10/27/2022 14:05:37\n",
      "  Finished: 10/27/2022 14:05:37\n",
      "  Total time elapsed: 00:00:00\n",
      "  CPU %: 0.00\n",
      "  Memory %: 0.56\n",
      "Created database: Charcrete_38\n"
     ]
    }
   ],
   "source": [
    "if \"Charcrete_38\" in bd.databases:\n",
    "    del bd.databases[\"Charcrete_38\"]\n",
    "    \n",
    "# 1. Specify filepath to your foreground inventories.\n",
    "charcrete_path = filepath\n",
    "# 2. Create an instance of a class that contains basic methods for importing a database from an excel file.\n",
    "charcrete = bi.ExcelImporter(charcrete_path)  \n",
    "# 3. `apply_strategies` is one of such basic methods, it makes sure units, locations, etc are in correct format.\n",
    "charcrete.apply_strategies()\n",
    "# 4. Next step is to link your foreground exchanges to existing databases by matching relevant exchanges fields.\n",
    "charcrete.match_database(\"biosphere3\", fields=(\"name\", \"unit\", \"categories\"))\n",
    "charcrete.match_database(\"ei 3.8 cutoff\", fields=(\"name\", \"location\", \"unit\"))\n",
    "#charcrete.metadata.pop(None)  # Remove metadata None entry. TODO\n",
    "# 5. If everything is linked, write database so that it is saved in your project.\n",
    "if charcrete.all_linked:\n",
    "    charcrete.write_database()"
   ]
  },
  {
   "cell_type": "code",
   "execution_count": 208,
   "id": "f7f87e64-f3e1-43ec-9ba2-7437e0a2d259",
   "metadata": {
    "collapsed": true,
    "jupyter": {
     "outputs_hidden": true
    },
    "tags": []
   },
   "outputs": [
    {
     "data": {
      "text/plain": [
       "Databases dictionary with 7 object(s):\n",
       "\tCharcrete_38\n",
       "\tEXIOBASE 3.8.1 2017 monetary\n",
       "\tEXIOBASE 3.8.1 2017 monetary biosphere\n",
       "\tKorean Motors Chaebol\n",
       "\tbiosphere3\n",
       "\tei 3.8 cutoff\n",
       "\t강한 국가를 위한 영광스러운 구리"
      ]
     },
     "execution_count": 208,
     "metadata": {},
     "output_type": "execute_result"
    }
   ],
   "source": [
    "bd.databases"
   ]
  },
  {
   "cell_type": "markdown",
   "id": "facd4cff-96e2-42cb-8088-3f9ec898369a",
   "metadata": {},
   "source": [
    "## 3. Check LCA on charcrete to ensure everything is working fine"
   ]
  },
  {
   "cell_type": "code",
   "execution_count": 275,
   "id": "6a0e008e-fa5b-47b8-bb3b-0715c877944b",
   "metadata": {
    "tags": []
   },
   "outputs": [],
   "source": [
    "char_db = bd.Database(\"Charcrete_38\")\n",
    "ei_db = bd.Database(\"ei 3.8 cutoff\")"
   ]
  },
  {
   "cell_type": "code",
   "execution_count": 210,
   "id": "4614ec8e-fbfb-4dbe-9846-e927350039aa",
   "metadata": {
    "collapsed": true,
    "jupyter": {
     "outputs_hidden": true
    },
    "tags": []
   },
   "outputs": [],
   "source": [
    "char_p = [act for act in char_db if \"Charcrete\" in act['name']][0]"
   ]
  },
  {
   "cell_type": "code",
   "execution_count": 211,
   "id": "67bfcd59-d495-4de0-9838-a0e0f9be29b1",
   "metadata": {
    "collapsed": true,
    "jupyter": {
     "outputs_hidden": true
    },
    "tags": []
   },
   "outputs": [],
   "source": [
    "ipcc = ('IPCC 2013', 'climate change', 'GWP 100a')\n",
    "method = bd.Method(ipcc)"
   ]
  },
  {
   "cell_type": "code",
   "execution_count": 212,
   "id": "bb579f34-30ef-490c-a1ea-6f14dbbd0998",
   "metadata": {
    "collapsed": true,
    "jupyter": {
     "outputs_hidden": true
    },
    "tags": []
   },
   "outputs": [],
   "source": [
    "def calculateLCA(act, amount, method):\n",
    "    fu, data_objs, _ = bd.prepare_lca_inputs({act: amount}, method=ipcc)\n",
    "    lca = bc.LCA(fu, data_objs=data_objs)\n",
    "    lca.lci()\n",
    "    lca.lcia()\n",
    "    return lca.score"
   ]
  },
  {
   "cell_type": "code",
   "execution_count": 213,
   "id": "adbecd7b-8492-4da9-a480-81309eb95d2d",
   "metadata": {
    "collapsed": true,
    "jupyter": {
     "outputs_hidden": true
    },
    "tags": []
   },
   "outputs": [
    {
     "data": {
      "text/plain": [
       "177.6456230224958"
      ]
     },
     "execution_count": 213,
     "metadata": {},
     "output_type": "execute_result"
    }
   ],
   "source": [
    "calculateLCA(char_p, 1, ipcc)"
   ]
  },
  {
   "cell_type": "markdown",
   "id": "49c6e46f-e9f5-49d1-9743-e3aee08942b0",
   "metadata": {
    "jupyter": {
     "outputs_hidden": true
    }
   },
   "source": [
    "## 4. Scenarios with datapackage"
   ]
  },
  {
   "cell_type": "markdown",
   "id": "8836dc76-bdb6-4de2-b4f9-92debc1cc9c7",
   "metadata": {},
   "source": [
    "char_db = charcrete database\n",
    "\n",
    "ei_db = ecoinvent database"
   ]
  },
  {
   "cell_type": "code",
   "execution_count": 214,
   "id": "77b44b7c-0c20-4717-805e-8b868ceb8bda",
   "metadata": {
    "collapsed": true,
    "jupyter": {
     "outputs_hidden": true
    },
    "tags": []
   },
   "outputs": [],
   "source": []
  },
  {
   "cell_type": "code",
   "execution_count": 215,
   "id": "95b9f189-f17b-4731-83a4-7bb3254429bb",
   "metadata": {
    "collapsed": true,
    "jupyter": {
     "outputs_hidden": true
    },
    "tags": []
   },
   "outputs": [],
   "source": [
    "char_init = [\n",
    "    act for act in char_db \n",
    "    if 'Charcrete' in act['name'] \n",
    "    and '5' in act['name'] \n",
    "    and '7' not in act['name']\n",
    "][0]"
   ]
  },
  {
   "cell_type": "code",
   "execution_count": 216,
   "id": "a8b5b213-f85e-4c7a-b5f1-01b2c80ed686",
   "metadata": {
    "collapsed": true,
    "jupyter": {
     "outputs_hidden": true
    },
    "tags": []
   },
   "outputs": [],
   "source": [
    "char_df = pd.read_excel(filepath, sheet_name = 'scenario')"
   ]
  },
  {
   "cell_type": "code",
   "execution_count": 217,
   "id": "58869cb7-9757-4bca-8713-f7b43336550b",
   "metadata": {
    "collapsed": true,
    "jupyter": {
     "outputs_hidden": true
    },
    "tags": []
   },
   "outputs": [
    {
     "data": {
      "text/plain": [
       "['Biochar production',\n",
       " 'market for gravel, crushed',\n",
       " 'market for electricity, medium voltage',\n",
       " 'market for tap water',\n",
       " 'market for sand',\n",
       " 'market for plasticiser, for concrete, based on sulfonated melamine formaldehyde',\n",
       " 'market for diesel, burned in building machine',\n",
       " 'market for cement, Portland']"
      ]
     },
     "execution_count": 217,
     "metadata": {},
     "output_type": "execute_result"
    }
   ],
   "source": [
    "[exc['name'] for exc in char_init.technosphere()]"
   ]
  },
  {
   "cell_type": "code",
   "execution_count": 178,
   "id": "b5ff2192-0fd1-4336-aa99-fa65d967895b",
   "metadata": {
    "collapsed": true,
    "jupyter": {
     "outputs_hidden": true
    }
   },
   "outputs": [
    {
     "data": {
      "text/plain": [
       "8"
      ]
     },
     "execution_count": 178,
     "metadata": {},
     "output_type": "execute_result"
    }
   ],
   "source": [
    "len(char_init.technosphere())"
   ]
  },
  {
   "cell_type": "code",
   "execution_count": 223,
   "id": "70ccd20c-d680-48d7-9878-f8bbca1d85da",
   "metadata": {
    "collapsed": true,
    "jupyter": {
     "outputs_hidden": true
    },
    "tags": []
   },
   "outputs": [
    {
     "data": {
      "text/plain": [
       "{'Biochar production': 33100,\n",
       " 'market for gravel, crushed': 15962,\n",
       " 'market for electricity, medium voltage': 10117,\n",
       " 'market for tap water': 15716,\n",
       " 'market for sand': 5008,\n",
       " 'market for plasticiser, for concrete, based on sulfonated melamine formaldehyde': 6509,\n",
       " 'market for diesel, burned in building machine': 10200,\n",
       " 'market for cement, Portland': 13050,\n",
       " 'Carbon dioxide, to soil or biomass stock': 3891,\n",
       " 'Charcrete production 5%': 33101}"
      ]
     },
     "execution_count": 223,
     "metadata": {},
     "output_type": "execute_result"
    }
   ],
   "source": [
    "id_act_dict = {}\n",
    "for exc in char_init.technosphere(): #adding the exchange technosphere\n",
    "    ind = exc.input.id\n",
    "    na = exc['name']\n",
    "    id_act_dict[na]=ind\n",
    "for exc in char_init.biosphere(): #adding the exchange biosphere\n",
    "    ind = exc.input.id\n",
    "    na = exc['name']\n",
    "    id_act_dict[na]=ind\n",
    "id_act_dict[char_init['name']]=char_init.id #adding the production\n",
    "id_act_dict"
   ]
  },
  {
   "cell_type": "code",
   "execution_count": 224,
   "id": "a8ad5f85-6881-4fb6-a6c7-f258ddee8641",
   "metadata": {
    "collapsed": true,
    "jupyter": {
     "outputs_hidden": true
    },
    "tags": []
   },
   "outputs": [
    {
     "data": {
      "text/plain": [
       "33100"
      ]
     },
     "execution_count": 224,
     "metadata": {},
     "output_type": "execute_result"
    }
   ],
   "source": [
    "id_act_dict['Biochar production']"
   ]
  },
  {
   "cell_type": "code",
   "execution_count": 225,
   "id": "84ca79b6-8194-477e-862d-4ca1a9bac5da",
   "metadata": {
    "collapsed": true,
    "jupyter": {
     "outputs_hidden": true
    },
    "tags": []
   },
   "outputs": [],
   "source": [
    "lg = len (char_df.columns) #number of culum in the dataframe"
   ]
  },
  {
   "cell_type": "code",
   "execution_count": 226,
   "id": "2469aa45-4934-4551-86bf-f904156c0019",
   "metadata": {
    "collapsed": true,
    "jupyter": {
     "outputs_hidden": true
    },
    "tags": []
   },
   "outputs": [
    {
     "data": {
      "text/plain": [
       "'Charcrete production 5%'"
      ]
     },
     "execution_count": 226,
     "metadata": {},
     "output_type": "execute_result"
    }
   ],
   "source": [
    "char_df['Activity name'][0]"
   ]
  },
  {
   "cell_type": "code",
   "execution_count": 227,
   "id": "1e9dc717-9bda-4abe-87b4-3fa51152326f",
   "metadata": {
    "collapsed": true,
    "jupyter": {
     "outputs_hidden": true
    }
   },
   "outputs": [
    {
     "data": {
      "text/plain": [
       "[33101, 33100, 15962, 10117, 15716, 5008, 6509, 10200, 13050, 3891]"
      ]
     },
     "execution_count": 227,
     "metadata": {},
     "output_type": "execute_result"
    }
   ],
   "source": [
    "list_id=[]\n",
    "for e in char_df['Activity name']:\n",
    "    list_id.append(id_act_dict[e])           \n",
    "list_id"
   ]
  },
  {
   "cell_type": "code",
   "execution_count": 228,
   "id": "b83f2d9f-8a1a-4103-afb6-20115d92673e",
   "metadata": {
    "collapsed": true,
    "jupyter": {
     "outputs_hidden": true
    },
    "tags": []
   },
   "outputs": [],
   "source": [
    "#adding a colum for id\n",
    "char_df.insert(loc = lg-1, value = list_id,column = 'id')"
   ]
  },
  {
   "cell_type": "code",
   "execution_count": 229,
   "id": "2de47f6b-c91e-468b-8a39-c767dea00576",
   "metadata": {
    "collapsed": true,
    "jupyter": {
     "outputs_hidden": true
    },
    "tags": []
   },
   "outputs": [
    {
     "data": {
      "text/html": [
       "<div>\n",
       "<style scoped>\n",
       "    .dataframe tbody tr th:only-of-type {\n",
       "        vertical-align: middle;\n",
       "    }\n",
       "\n",
       "    .dataframe tbody tr th {\n",
       "        vertical-align: top;\n",
       "    }\n",
       "\n",
       "    .dataframe thead th {\n",
       "        text-align: right;\n",
       "    }\n",
       "</style>\n",
       "<table border=\"1\" class=\"dataframe\">\n",
       "  <thead>\n",
       "    <tr style=\"text-align: right;\">\n",
       "      <th></th>\n",
       "      <th>Activity name</th>\n",
       "      <th>reference product</th>\n",
       "      <th>location</th>\n",
       "      <th>Charcrete production 5%</th>\n",
       "      <th>Charcrete production 7.5%</th>\n",
       "      <th>Charcrete production 10%</th>\n",
       "      <th>unit</th>\n",
       "      <th>database</th>\n",
       "      <th>id</th>\n",
       "      <th>type</th>\n",
       "    </tr>\n",
       "  </thead>\n",
       "  <tbody>\n",
       "    <tr>\n",
       "      <th>0</th>\n",
       "      <td>Charcrete production 5%</td>\n",
       "      <td>Charcrete production 5%</td>\n",
       "      <td>SE</td>\n",
       "      <td>1.000</td>\n",
       "      <td>1.000</td>\n",
       "      <td>1.000</td>\n",
       "      <td>cubic meter</td>\n",
       "      <td>Charcrete_38</td>\n",
       "      <td>33101</td>\n",
       "      <td>production</td>\n",
       "    </tr>\n",
       "    <tr>\n",
       "      <th>1</th>\n",
       "      <td>Biochar production</td>\n",
       "      <td>Biochar production</td>\n",
       "      <td>SE</td>\n",
       "      <td>0.010</td>\n",
       "      <td>0.015</td>\n",
       "      <td>0.020</td>\n",
       "      <td>ton</td>\n",
       "      <td>Charcrete_38</td>\n",
       "      <td>33100</td>\n",
       "      <td>technosphere</td>\n",
       "    </tr>\n",
       "    <tr>\n",
       "      <th>2</th>\n",
       "      <td>market for gravel, crushed</td>\n",
       "      <td>gravel, crushed</td>\n",
       "      <td>CH</td>\n",
       "      <td>1000.000</td>\n",
       "      <td>1000.000</td>\n",
       "      <td>1000.000</td>\n",
       "      <td>kilogram</td>\n",
       "      <td>ei 3.8 cutoff</td>\n",
       "      <td>15962</td>\n",
       "      <td>technosphere</td>\n",
       "    </tr>\n",
       "    <tr>\n",
       "      <th>3</th>\n",
       "      <td>market for electricity, medium voltage</td>\n",
       "      <td>electricity, medium voltage</td>\n",
       "      <td>SE</td>\n",
       "      <td>5.500</td>\n",
       "      <td>5.500</td>\n",
       "      <td>5.500</td>\n",
       "      <td>kilowatt hour</td>\n",
       "      <td>ei 3.8 cutoff</td>\n",
       "      <td>10117</td>\n",
       "      <td>technosphere</td>\n",
       "    </tr>\n",
       "    <tr>\n",
       "      <th>4</th>\n",
       "      <td>market for tap water</td>\n",
       "      <td>tap water</td>\n",
       "      <td>Europe without Switzerland</td>\n",
       "      <td>156.000</td>\n",
       "      <td>156.000</td>\n",
       "      <td>156.000</td>\n",
       "      <td>kilogram</td>\n",
       "      <td>ei 3.8 cutoff</td>\n",
       "      <td>15716</td>\n",
       "      <td>technosphere</td>\n",
       "    </tr>\n",
       "    <tr>\n",
       "      <th>5</th>\n",
       "      <td>market for sand</td>\n",
       "      <td>sand</td>\n",
       "      <td>CH</td>\n",
       "      <td>938.000</td>\n",
       "      <td>938.000</td>\n",
       "      <td>938.000</td>\n",
       "      <td>kilogram</td>\n",
       "      <td>ei 3.8 cutoff</td>\n",
       "      <td>5008</td>\n",
       "      <td>technosphere</td>\n",
       "    </tr>\n",
       "    <tr>\n",
       "      <th>6</th>\n",
       "      <td>market for plasticiser, for concrete, based on...</td>\n",
       "      <td>plasticiser, for concrete, based on sulfonated...</td>\n",
       "      <td>GLO</td>\n",
       "      <td>3.200</td>\n",
       "      <td>5.000</td>\n",
       "      <td>6.600</td>\n",
       "      <td>kilogram</td>\n",
       "      <td>ei 3.8 cutoff</td>\n",
       "      <td>6509</td>\n",
       "      <td>technosphere</td>\n",
       "    </tr>\n",
       "    <tr>\n",
       "      <th>7</th>\n",
       "      <td>market for diesel, burned in building machine</td>\n",
       "      <td>diesel, burned in building machine</td>\n",
       "      <td>GLO</td>\n",
       "      <td>0.200</td>\n",
       "      <td>0.200</td>\n",
       "      <td>0.200</td>\n",
       "      <td>MJ</td>\n",
       "      <td>ei 3.8 cutoff</td>\n",
       "      <td>10200</td>\n",
       "      <td>technosphere</td>\n",
       "    </tr>\n",
       "    <tr>\n",
       "      <th>8</th>\n",
       "      <td>market for cement, Portland</td>\n",
       "      <td>cement, Portland</td>\n",
       "      <td>Europe without Switzerland</td>\n",
       "      <td>186.800</td>\n",
       "      <td>180.000</td>\n",
       "      <td>173.400</td>\n",
       "      <td>kilogram</td>\n",
       "      <td>ei 3.8 cutoff</td>\n",
       "      <td>13050</td>\n",
       "      <td>technosphere</td>\n",
       "    </tr>\n",
       "    <tr>\n",
       "      <th>9</th>\n",
       "      <td>Carbon dioxide, to soil or biomass stock</td>\n",
       "      <td>NaN</td>\n",
       "      <td>NaN</td>\n",
       "      <td>3.256</td>\n",
       "      <td>4.884</td>\n",
       "      <td>6.512</td>\n",
       "      <td>kilogram</td>\n",
       "      <td>biosphere3</td>\n",
       "      <td>3891</td>\n",
       "      <td>biosphere</td>\n",
       "    </tr>\n",
       "  </tbody>\n",
       "</table>\n",
       "</div>"
      ],
      "text/plain": [
       "                                       Activity name  \\\n",
       "0                            Charcrete production 5%   \n",
       "1                                 Biochar production   \n",
       "2                         market for gravel, crushed   \n",
       "3             market for electricity, medium voltage   \n",
       "4                               market for tap water   \n",
       "5                                    market for sand   \n",
       "6  market for plasticiser, for concrete, based on...   \n",
       "7      market for diesel, burned in building machine   \n",
       "8                        market for cement, Portland   \n",
       "9           Carbon dioxide, to soil or biomass stock   \n",
       "\n",
       "                                   reference product  \\\n",
       "0                            Charcrete production 5%   \n",
       "1                                 Biochar production   \n",
       "2                                    gravel, crushed   \n",
       "3                        electricity, medium voltage   \n",
       "4                                          tap water   \n",
       "5                                               sand   \n",
       "6  plasticiser, for concrete, based on sulfonated...   \n",
       "7                 diesel, burned in building machine   \n",
       "8                                   cement, Portland   \n",
       "9                                                NaN   \n",
       "\n",
       "                     location  Charcrete production 5%  \\\n",
       "0                          SE                    1.000   \n",
       "1                          SE                    0.010   \n",
       "2                          CH                 1000.000   \n",
       "3                          SE                    5.500   \n",
       "4  Europe without Switzerland                  156.000   \n",
       "5                          CH                  938.000   \n",
       "6                         GLO                    3.200   \n",
       "7                         GLO                    0.200   \n",
       "8  Europe without Switzerland                  186.800   \n",
       "9                         NaN                    3.256   \n",
       "\n",
       "   Charcrete production 7.5%  Charcrete production 10%           unit  \\\n",
       "0                      1.000                     1.000    cubic meter   \n",
       "1                      0.015                     0.020            ton   \n",
       "2                   1000.000                  1000.000       kilogram   \n",
       "3                      5.500                     5.500  kilowatt hour   \n",
       "4                    156.000                   156.000       kilogram   \n",
       "5                    938.000                   938.000       kilogram   \n",
       "6                      5.000                     6.600       kilogram   \n",
       "7                      0.200                     0.200             MJ   \n",
       "8                    180.000                   173.400       kilogram   \n",
       "9                      4.884                     6.512       kilogram   \n",
       "\n",
       "        database     id          type  \n",
       "0   Charcrete_38  33101    production  \n",
       "1   Charcrete_38  33100  technosphere  \n",
       "2  ei 3.8 cutoff  15962  technosphere  \n",
       "3  ei 3.8 cutoff  10117  technosphere  \n",
       "4  ei 3.8 cutoff  15716  technosphere  \n",
       "5  ei 3.8 cutoff   5008  technosphere  \n",
       "6  ei 3.8 cutoff   6509  technosphere  \n",
       "7  ei 3.8 cutoff  10200  technosphere  \n",
       "8  ei 3.8 cutoff  13050  technosphere  \n",
       "9     biosphere3   3891     biosphere  "
      ]
     },
     "execution_count": 229,
     "metadata": {},
     "output_type": "execute_result"
    }
   ],
   "source": [
    "char_df"
   ]
  },
  {
   "cell_type": "code",
   "execution_count": 231,
   "id": "2175c0bb-6be4-4850-8ee2-345703a76443",
   "metadata": {
    "collapsed": true,
    "jupyter": {
     "outputs_hidden": true
    }
   },
   "outputs": [
    {
     "data": {
      "text/plain": [
       "33101"
      ]
     },
     "execution_count": 231,
     "metadata": {},
     "output_type": "execute_result"
    }
   ],
   "source": [
    "char_df['id'][0]"
   ]
  },
  {
   "cell_type": "code",
   "execution_count": 248,
   "id": "49303d8c-a740-422e-898d-d8cf2aaf9006",
   "metadata": {
    "collapsed": true,
    "jupyter": {
     "outputs_hidden": true
    }
   },
   "outputs": [],
   "source": [
    "#generation of the tuple list for indices\n",
    "list_ind_t = []\n",
    "list_data_t = []\n",
    "list_flip_t = []\n",
    "list_ind_b = []\n",
    "list_data_b = []\n",
    "\n",
    "for i in range (len(char_df)):\n",
    "    ind_t = (char_df['id'][i],char_df['id'][0])\n",
    "    data = (char_df['Charcrete production 5%'][i],char_df['Charcrete production 7.5%'][i],char_df['Charcrete production 10%'][i])\n",
    "    if char_df['type'][i]=='technosphere' or char_df['type'][i]=='production': #first let's do the technosphere flows\n",
    "        if char_df['id'][i]==char_df['id'][0]:\n",
    "            flip = False\n",
    "        else:\n",
    "            flip = True\n",
    "        list_ind_t.append(ind_t)\n",
    "        list_data_t.append(data)\n",
    "        list_flip_t.append(flip)\n",
    "    else:\n",
    "        assert char_df['type'][i]=='biosphere'\n",
    "        list_ind_b.append(ind_t)\n",
    "        list_data_b.append(data)\n"
   ]
  },
  {
   "cell_type": "code",
   "execution_count": 252,
   "id": "17c8d1bb-b986-44b2-bdaa-ad87f22e204f",
   "metadata": {
    "tags": []
   },
   "outputs": [
    {
     "data": {
      "text/plain": [
       "[(33101, 33101),\n",
       " (33100, 33101),\n",
       " (15962, 33101),\n",
       " (10117, 33101),\n",
       " (15716, 33101),\n",
       " (5008, 33101),\n",
       " (6509, 33101),\n",
       " (10200, 33101),\n",
       " (13050, 33101)]"
      ]
     },
     "execution_count": 252,
     "metadata": {},
     "output_type": "execute_result"
    }
   ],
   "source": [
    "list_ind_t"
   ]
  },
  {
   "cell_type": "code",
   "execution_count": 253,
   "id": "e4488c48-87c1-4cde-9e42-e935b0e76102",
   "metadata": {
    "tags": []
   },
   "outputs": [
    {
     "data": {
      "text/plain": [
       "[(3891, 33101)]"
      ]
     },
     "execution_count": 253,
     "metadata": {},
     "output_type": "execute_result"
    }
   ],
   "source": [
    "list_ind_b"
   ]
  },
  {
   "cell_type": "code",
   "execution_count": 260,
   "id": "2443d21d-38c2-4dfb-a7a9-f1fbdefb6ab3",
   "metadata": {
    "tags": []
   },
   "outputs": [
    {
     "data": {
      "text/plain": [
       "[(3.2560000000000002, 4.884, 6.5120000000000005)]"
      ]
     },
     "execution_count": 260,
     "metadata": {},
     "output_type": "execute_result"
    }
   ],
   "source": [
    "list_data_b"
   ]
  },
  {
   "cell_type": "code",
   "execution_count": 256,
   "id": "151a26ad-c8a5-4f55-bb49-46c5e84b2759",
   "metadata": {
    "tags": []
   },
   "outputs": [
    {
     "data": {
      "text/plain": [
       "array([False,  True,  True,  True,  True,  True,  True,  True,  True])"
      ]
     },
     "execution_count": 256,
     "metadata": {},
     "output_type": "execute_result"
    }
   ],
   "source": [
    "np.array(list_flip_t)"
   ]
  },
  {
   "cell_type": "code",
   "execution_count": 261,
   "id": "641b5138-9306-496e-8054-e6954f41e4df",
   "metadata": {
    "tags": []
   },
   "outputs": [],
   "source": [
    "dp_scenarios = bwp.create_datapackage(sequential = True)\n",
    "dp_scenarios.add_persistent_array(\n",
    "    matrix='technosphere_matrix',\n",
    "    indices_array=np.array(list_ind_t, dtype=bwp.INDICES_DTYPE),\n",
    "    data_array=np.array(list_data_t),\n",
    "    flip_array=np.array(list_flip_t),\n",
    "#seed_overwrite=42 should not be used or it would mix the column order of the array\n",
    ")\n",
    "dp_scenarios.add_persistent_array(\n",
    "    matrix='biosphere_matrix',\n",
    "    indices_array=np.array(list_ind_b, dtype=bwp.INDICES_DTYPE),\n",
    "    data_array=np.array(list_data_b),\n",
    ")"
   ]
  },
  {
   "cell_type": "code",
   "execution_count": 267,
   "id": "31b3001e-ea7e-4b77-b985-685597cd51b8",
   "metadata": {},
   "outputs": [],
   "source": [
    "fu, data_objs, _ = bd.prepare_lca_inputs({char_init: 1}, method=ipcc)"
   ]
  },
  {
   "cell_type": "code",
   "execution_count": 269,
   "id": "241b8ab3-837e-48f6-b068-3584550f9faf",
   "metadata": {},
   "outputs": [
    {
     "data": {
      "text/plain": [
       "[<bw_processing.datapackage.Datapackage at 0x7f0827539c90>,\n",
       " <bw_processing.datapackage.Datapackage at 0x7f087ac86140>,\n",
       " <bw_processing.datapackage.Datapackage at 0x7f0836065f60>,\n",
       " <bw_processing.datapackage.Datapackage at 0x7f0835b75810>,\n",
       " <bw_processing.datapackage.Datapackage at 0x7f082f58b8e0>]"
      ]
     },
     "execution_count": 269,
     "metadata": {},
     "output_type": "execute_result"
    }
   ],
   "source": [
    "data_objs"
   ]
  },
  {
   "cell_type": "code",
   "execution_count": 276,
   "id": "797e8714-4339-4c01-9115-698ece30e814",
   "metadata": {},
   "outputs": [
    {
     "data": {
      "text/plain": [
       "'Charcrete production 5%' (cubic meter, SE, None)"
      ]
     },
     "execution_count": 276,
     "metadata": {},
     "output_type": "execute_result"
    }
   ],
   "source": [
    "char_init"
   ]
  },
  {
   "cell_type": "code",
   "execution_count": 271,
   "id": "e6aaa90e-9b21-427a-b3d8-c7271b89c505",
   "metadata": {
    "tags": []
   },
   "outputs": [
    {
     "data": {
      "text/plain": [
       "177.6456203790934"
      ]
     },
     "execution_count": 271,
     "metadata": {},
     "output_type": "execute_result"
    }
   ],
   "source": [
    "fu, data_objs, _ = bd.prepare_lca_inputs({char_init: 1}, method=ipcc)\n",
    "\n",
    "lca_b = bc.LCA(\n",
    "    fu,\n",
    "    data_objs=[*data_objs,dp_scenarios], # the \"*\" unpack whatever is inside\n",
    "    use_distributions=False,\n",
    "    use_arrays=True,\n",
    "#     seed_override=42,  # Seed should not be used\n",
    ")\n",
    "lca_b.lci()\n",
    "lca_b.lcia()\n",
    "lca_b.score"
   ]
  },
  {
   "cell_type": "code",
   "execution_count": 273,
   "id": "258027f0-bcf5-4257-9edb-ab0b338ee7b7",
   "metadata": {},
   "outputs": [
    {
     "data": {
      "text/plain": [
       "[177.6456203790934, 173.55581965877943, 169.37472971580868]"
      ]
     },
     "execution_count": 273,
     "metadata": {},
     "output_type": "execute_result"
    }
   ],
   "source": [
    "lca_b.keep_first_iteration() #if you don't put that, the first iteration will be overwritten\n",
    "iterations = 3\n",
    "scores_b = [lca_b.score for _ in zip(range(iterations), lca_b)]\n",
    "scores_b"
   ]
  },
  {
   "cell_type": "markdown",
   "id": "763a64fa-0ebf-4d32-a9fd-f47eea73d015",
   "metadata": {},
   "source": [
    "# validation step"
   ]
  },
  {
   "cell_type": "markdown",
   "id": "b05cec2f-e80f-42ac-90b3-8a097165cbc1",
   "metadata": {},
   "source": [
    "char_db = charcrete database\n",
    "\n",
    "ei_db = ecoinvent database"
   ]
  },
  {
   "cell_type": "code",
   "execution_count": 278,
   "id": "c09bc384-1a43-416b-9d16-40003b857144",
   "metadata": {},
   "outputs": [
    {
     "data": {
      "text/plain": [
       "Databases dictionary with 7 object(s):\n",
       "\tCharcrete_38\n",
       "\tEXIOBASE 3.8.1 2017 monetary\n",
       "\tEXIOBASE 3.8.1 2017 monetary biosphere\n",
       "\tKorean Motors Chaebol\n",
       "\tbiosphere3\n",
       "\tei 3.8 cutoff\n",
       "\t강한 국가를 위한 영광스러운 구리"
      ]
     },
     "execution_count": 278,
     "metadata": {},
     "output_type": "execute_result"
    }
   ],
   "source": [
    "bd.databases"
   ]
  },
  {
   "cell_type": "code",
   "execution_count": null,
   "id": "2a74d57a-be93-45c2-9657-e83dadeef560",
   "metadata": {},
   "outputs": [],
   "source": []
  },
  {
   "cell_type": "code",
   "execution_count": 279,
   "id": "cf7e19da-b1b9-4a3f-9c1c-0e07b19d362c",
   "metadata": {},
   "outputs": [
    {
     "data": {
      "text/plain": [
       "['Charcrete production 5%' (cubic meter, SE, None),\n",
       " 'Charcrete production 10%' (cubic meter, SE, None),\n",
       " 'Charcrete production 7.5%' (cubic meter, SE, None)]"
      ]
     },
     "execution_count": 279,
     "metadata": {},
     "output_type": "execute_result"
    }
   ],
   "source": [
    "[act for act in  char_db if 'Charcrete production' in act['name']]"
   ]
  },
  {
   "cell_type": "markdown",
   "id": "d232ba61-d20f-4822-b5a8-7586ee4c9ceb",
   "metadata": {},
   "source": [
    "## 5.WiP on correlated samples"
   ]
  },
  {
   "cell_type": "code",
   "execution_count": 18,
   "id": "98f04724-0485-440f-a14f-a11bc2b5b790",
   "metadata": {
    "collapsed": true,
    "jupyter": {
     "outputs_hidden": true
    },
    "tags": []
   },
   "outputs": [
    {
     "data": {
      "text/plain": [
       "{'comment': 'Hardening is assumed to be by air-drying. It is assumed that there is wastewater and solid waste, but as no exact description on the composition of the wastewater and solid waste is available a proxy for each (\"treatment, concrete production effluent, to wastewater treatment, class 3\" and \"disposal, municipal solid waste, 22.9% water, to municipal incineration\") is used. The lifespan of the plant is assumed to be 50 years.\\nLightweight concrete block. Image source: http://keramzit.by/data/pictures/poduct/block1.png\\nImage: https://db3.ecoinvent.org/images/0b755024-3429-4acb-a241-cffdc608c3ff\\nGeography:  For some exchanges CH, RER and GLO modules have been used as proxy.\\nTechnology:  The raw material mixture (aggregates, cement and water) of lightweight concrete blocks are poured into a mould then squeezed and finaly hardened by air (assumption for this study)',\n",
       " 'classifications': [('EcoSpold01Categories',\n",
       "   'construction materials/concrete'),\n",
       "  ('ISIC rev.4 ecoinvent',\n",
       "   '2399:Manufacture of other non-metallic mineral products n.e.c.'),\n",
       "  ('CPC', '379: Other non-metallic mineral products n.e.c.')],\n",
       " 'activity type': 'ordinary transforming activity',\n",
       " 'activity': '37cc0279-2b41-4284-8c11-8534b76be7c1',\n",
       " 'database': 'ei 3.8 cutoff',\n",
       " 'filename': '37cc0279-2b41-4284-8c11-8534b76be7c1_d3ed2316-27eb-4d4f-91d1-b379b4c6ead1.spold',\n",
       " 'location': 'CH',\n",
       " 'name': 'lightweight concrete block production, expanded clay',\n",
       " 'synonyms': [],\n",
       " 'parameters': [{'description': 'fraction, process water, to air',\n",
       "   'id': 'daadf2d4-7bbb-4f69-8ab5-58df4c1685eb',\n",
       "   'unit': 'dimensionless',\n",
       "   'comment': 'Literature value. In case when no industry/process specific data are available, default evaporation fraction value is used. This value is 15% and is based on literature (Statistics Canada, 2007 & Shaffer, K.H., 2008, Consumptive water use in the Great Lakes Basin, USGS & Shiklomanov, 2003, World Water Resources at the Beginning of the 21st Century) and has been approved by an expert.',\n",
       "   'amount': 0.15,\n",
       "   'pedigree': {'reliability': 4,\n",
       "    'completeness': 4,\n",
       "    'temporal correlation': 3,\n",
       "    'geographical correlation': 2,\n",
       "    'further technological correlation': 4},\n",
       "   'uncertainty type': 2,\n",
       "   'loc': -1.897,\n",
       "   'scale': 0.30335622624235026,\n",
       "   'scale without pedigree': 0.2,\n",
       "   'name': 'fraction_PW_to_air'},\n",
       "  {'description': 'fraction, tap water, to air',\n",
       "   'id': '148c8010-cc60-48cd-9b40-fc7278e377f7',\n",
       "   'unit': 'dimensionless',\n",
       "   'comment': 'Calculated value. See comment in the other parametres present in this dataset. Tap water is considered to be always used as process water, thus process water fractions to air are applied to all tap water input flows to calculate the amount of water consumed in the processes.',\n",
       "   'amount': 0.15,\n",
       "   'pedigree': {'reliability': 4,\n",
       "    'completeness': 4,\n",
       "    'temporal correlation': 3,\n",
       "    'geographical correlation': 2,\n",
       "    'further technological correlation': 4},\n",
       "   'uncertainty type': 2,\n",
       "   'loc': -1.897,\n",
       "   'scale': 0.30335622624235026,\n",
       "   'scale without pedigree': 0.2,\n",
       "   'name': 'fraction_TW_to_air'}],\n",
       " 'authors': {'data entry': {'name': 'Daniel Kellenberger (obsolete)',\n",
       "   'email': 'empa@ecoinvent.org'},\n",
       "  'data generator': {'name': 'Daniel Kellenberger (obsolete)',\n",
       "   'email': 'empa@ecoinvent.org'}},\n",
       " 'type': 'process',\n",
       " 'reference product': 'lightweight concrete block, expanded clay',\n",
       " 'flow': 'd3ed2316-27eb-4d4f-91d1-b379b4c6ead1',\n",
       " 'unit': 'kilogram',\n",
       " 'production amount': 1.0,\n",
       " 'code': 'fa79821e16194531cab504b4f8f280b7',\n",
       " 'id': 16218}"
      ]
     },
     "execution_count": 18,
     "metadata": {},
     "output_type": "execute_result"
    }
   ],
   "source": [
    "[act for act in ei_db if 'concrete' in act['name']][0].as_dict()"
   ]
  },
  {
   "cell_type": "code",
   "execution_count": 19,
   "id": "94f0aa3e-1771-48b1-9e26-eb036b2df7fd",
   "metadata": {
    "collapsed": true,
    "jupyter": {
     "outputs_hidden": true
    }
   },
   "outputs": [
    {
     "data": {
      "text/plain": [
       "['concrete production 20MPa' (cubic meter, CA-QC, None),\n",
       " 'concrete production 20MPa' (cubic meter, ZA, None),\n",
       " 'concrete production 20MPa' (cubic meter, RoW, None),\n",
       " 'concrete production 20MPa' (cubic meter, North America without Quebec, None)]"
      ]
     },
     "execution_count": 19,
     "metadata": {},
     "output_type": "execute_result"
    }
   ],
   "source": [
    "concrete_ei_20MPa = [act for act in ei_db if \"concrete production 20MPa\" in act[\"name\"]]\n",
    "concrete_ei_20MPa"
   ]
  },
  {
   "cell_type": "code",
   "execution_count": 37,
   "id": "6e0e9b7f-2248-475f-934f-7fea914f26b8",
   "metadata": {
    "collapsed": true,
    "jupyter": {
     "outputs_hidden": true
    }
   },
   "outputs": [
    {
     "data": {
      "text/plain": [
       "{'acetic acid, without water, in 98% solution state',\n",
       " 'alkylbenzene sulfonate, linear, petrochemical',\n",
       " 'cement, Portland',\n",
       " 'cement, portland fly ash cement 21-35%',\n",
       " 'chemical, organic',\n",
       " 'ethylene oxide',\n",
       " 'gravel, round',\n",
       " 'lubricating oil',\n",
       " 'sand',\n",
       " 'steel, low-alloyed, hot rolled',\n",
       " 'synthetic rubber',\n",
       " 'tap water',\n",
       " 'waste concrete'}"
      ]
     },
     "execution_count": 37,
     "metadata": {},
     "output_type": "execute_result"
    }
   ],
   "source": [
    "exc_list = []\n",
    "for act in concrete_ei_20MPa :\n",
    "     for exc in act.technosphere():\n",
    "         if exc['unit']== 'kilogram': \n",
    "            exc_list.append(exc['name'])\n",
    "         else: \n",
    "            pass\n",
    "exc_list = set(exc_list)\n",
    "exc_list"
   ]
  },
  {
   "cell_type": "code",
   "execution_count": 54,
   "id": "a40e48c1-08f1-428b-9d0d-4e9daf3d182e",
   "metadata": {
    "collapsed": true,
    "jupyter": {
     "outputs_hidden": true
    }
   },
   "outputs": [
    {
     "data": {
      "text/plain": [
       "4"
      ]
     },
     "execution_count": 54,
     "metadata": {},
     "output_type": "execute_result"
    }
   ],
   "source": [
    "len(concrete_ei_20MPa)"
   ]
  },
  {
   "cell_type": "code",
   "execution_count": 47,
   "id": "a3d3e658-4a56-4e3c-9bc8-60edd7118e80",
   "metadata": {
    "collapsed": true,
    "jupyter": {
     "outputs_hidden": true
    }
   },
   "outputs": [
    {
     "data": {
      "text/plain": [
       "[['concrete production 20MPa', 2330.772867449367],\n",
       " ['concrete production 20MPa', 2415.9284602953603],\n",
       " ['concrete production 20MPa', 2415.9284602953594],\n",
       " ['concrete production 20MPa', 2338.1568988804133]]"
      ]
     },
     "execution_count": 47,
     "metadata": {},
     "output_type": "execute_result"
    }
   ],
   "source": [
    "density_mapping = []\n",
    "for act in concrete_ei_20MPa :\n",
    "    d=0\n",
    "    for exc in act.technosphere():\n",
    "        if exc['unit']== 'kilogram': \n",
    "            d = d + exc['amount']     \n",
    "        else: \n",
    "            pass\n",
    "    density_mapping.append([act['name'],d])\n",
    "density_mapping"
   ]
  },
  {
   "cell_type": "code",
   "execution_count": 73,
   "id": "4636c81b-3445-4458-80db-58c61c7be08b",
   "metadata": {
    "collapsed": true,
    "jupyter": {
     "outputs_hidden": true
    }
   },
   "outputs": [],
   "source": [
    "def ComputeDensity(act_list_in_cubic_meter):\n",
    "    density_mapping = []\n",
    "    for act in act_list_in_cubic_meter :\n",
    "        d=0\n",
    "        try : \n",
    "            act['unit']=='cubic meter'\n",
    "        except ValueError:\n",
    "            raise ValutError(\"activity unit has to be cubic meter\")\n",
    "        for exc in act.technosphere():\n",
    "            if exc['unit']== 'kilogram': \n",
    "                d = d + exc['amount']\n",
    "            else:\n",
    "                pass\n",
    "        density_mapping.append([act['name'], act['location'],d])\n",
    "    return pd.DataFrame(density_mapping , columns = [\"Activity Name\", \"Location\",\"density\"])"
   ]
  },
  {
   "cell_type": "code",
   "execution_count": 74,
   "id": "28845374-94a7-44c7-bbd1-166e35e84041",
   "metadata": {
    "collapsed": true,
    "jupyter": {
     "outputs_hidden": true
    }
   },
   "outputs": [
    {
     "data": {
      "text/html": [
       "<div>\n",
       "<style scoped>\n",
       "    .dataframe tbody tr th:only-of-type {\n",
       "        vertical-align: middle;\n",
       "    }\n",
       "\n",
       "    .dataframe tbody tr th {\n",
       "        vertical-align: top;\n",
       "    }\n",
       "\n",
       "    .dataframe thead th {\n",
       "        text-align: right;\n",
       "    }\n",
       "</style>\n",
       "<table border=\"1\" class=\"dataframe\">\n",
       "  <thead>\n",
       "    <tr style=\"text-align: right;\">\n",
       "      <th></th>\n",
       "      <th>Activity Name</th>\n",
       "      <th>Location</th>\n",
       "      <th>density</th>\n",
       "    </tr>\n",
       "  </thead>\n",
       "  <tbody>\n",
       "    <tr>\n",
       "      <th>0</th>\n",
       "      <td>concrete production 20MPa</td>\n",
       "      <td>CA-QC</td>\n",
       "      <td>2330.772867</td>\n",
       "    </tr>\n",
       "    <tr>\n",
       "      <th>1</th>\n",
       "      <td>concrete production 20MPa</td>\n",
       "      <td>ZA</td>\n",
       "      <td>2415.928460</td>\n",
       "    </tr>\n",
       "    <tr>\n",
       "      <th>2</th>\n",
       "      <td>concrete production 20MPa</td>\n",
       "      <td>RoW</td>\n",
       "      <td>2415.928460</td>\n",
       "    </tr>\n",
       "    <tr>\n",
       "      <th>3</th>\n",
       "      <td>concrete production 20MPa</td>\n",
       "      <td>North America without Quebec</td>\n",
       "      <td>2338.156899</td>\n",
       "    </tr>\n",
       "  </tbody>\n",
       "</table>\n",
       "</div>"
      ],
      "text/plain": [
       "               Activity Name                      Location      density\n",
       "0  concrete production 20MPa                         CA-QC  2330.772867\n",
       "1  concrete production 20MPa                            ZA  2415.928460\n",
       "2  concrete production 20MPa                           RoW  2415.928460\n",
       "3  concrete production 20MPa  North America without Quebec  2338.156899"
      ]
     },
     "execution_count": 74,
     "metadata": {},
     "output_type": "execute_result"
    }
   ],
   "source": [
    "ComputeDensity(concrete_ei_20MPa)"
   ]
  },
  {
   "cell_type": "code",
   "execution_count": 105,
   "id": "1f6f562b-2d2e-4c8e-b7a9-12bf274dad7b",
   "metadata": {
    "collapsed": true,
    "jupyter": {
     "outputs_hidden": true
    }
   },
   "outputs": [],
   "source": [
    "l = [\n",
    "act for act in ei_db \n",
    "    if 'concrete' in act['name'] \n",
    "    and act['unit']=='cubic meter' \n",
    "    and 'market' not in act['name']\n",
    "    and 'treatment' not in act['name']\n",
    "    and 'slab' not in act['name']\n",
    "]"
   ]
  },
  {
   "cell_type": "code",
   "execution_count": 106,
   "id": "4deb51e1-2208-4bfd-977a-fce02b80b30e",
   "metadata": {
    "collapsed": true,
    "jupyter": {
     "outputs_hidden": true
    }
   },
   "outputs": [],
   "source": [
    "density_table = ComputeDensity(l)"
   ]
  },
  {
   "cell_type": "code",
   "execution_count": 107,
   "id": "a8b54992-66c5-420c-8225-7825e92544d4",
   "metadata": {
    "collapsed": true,
    "jupyter": {
     "outputs_hidden": true
    }
   },
   "outputs": [
    {
     "data": {
      "text/html": [
       "<div>\n",
       "<style scoped>\n",
       "    .dataframe tbody tr th:only-of-type {\n",
       "        vertical-align: middle;\n",
       "    }\n",
       "\n",
       "    .dataframe tbody tr th {\n",
       "        vertical-align: top;\n",
       "    }\n",
       "\n",
       "    .dataframe thead th {\n",
       "        text-align: right;\n",
       "    }\n",
       "</style>\n",
       "<table border=\"1\" class=\"dataframe\">\n",
       "  <thead>\n",
       "    <tr style=\"text-align: right;\">\n",
       "      <th></th>\n",
       "      <th>Activity Name</th>\n",
       "      <th>Location</th>\n",
       "      <th>density</th>\n",
       "    </tr>\n",
       "  </thead>\n",
       "  <tbody>\n",
       "    <tr>\n",
       "      <th>64</th>\n",
       "      <td>concrete production, 40MPa, ready-mix, with ce...</td>\n",
       "      <td>RoW</td>\n",
       "      <td>2182.69546</td>\n",
       "    </tr>\n",
       "    <tr>\n",
       "      <th>21</th>\n",
       "      <td>concrete production, 40MPa, ready-mix, with ce...</td>\n",
       "      <td>BR</td>\n",
       "      <td>2182.69546</td>\n",
       "    </tr>\n",
       "    <tr>\n",
       "      <th>59</th>\n",
       "      <td>lean concrete production, with cement CEM II/B</td>\n",
       "      <td>CH</td>\n",
       "      <td>2244.80000</td>\n",
       "    </tr>\n",
       "    <tr>\n",
       "      <th>9</th>\n",
       "      <td>lean concrete production, with cement CEM II/A</td>\n",
       "      <td>CH</td>\n",
       "      <td>2244.80000</td>\n",
       "    </tr>\n",
       "    <tr>\n",
       "      <th>68</th>\n",
       "      <td>lean concrete production, with cement CEM II/A</td>\n",
       "      <td>RoW</td>\n",
       "      <td>2244.80000</td>\n",
       "    </tr>\n",
       "    <tr>\n",
       "      <th>...</th>\n",
       "      <td>...</td>\n",
       "      <td>...</td>\n",
       "      <td>...</td>\n",
       "    </tr>\n",
       "    <tr>\n",
       "      <th>55</th>\n",
       "      <td>concrete production, 40MPa, ready-mix, with ce...</td>\n",
       "      <td>PE</td>\n",
       "      <td>2514.71400</td>\n",
       "    </tr>\n",
       "    <tr>\n",
       "      <th>49</th>\n",
       "      <td>concrete production, 40MPa, ready-mix, with ce...</td>\n",
       "      <td>RoW</td>\n",
       "      <td>2514.71400</td>\n",
       "    </tr>\n",
       "    <tr>\n",
       "      <th>67</th>\n",
       "      <td>concrete production, 40MPa, ready-mix, with ce...</td>\n",
       "      <td>RoW</td>\n",
       "      <td>2514.71400</td>\n",
       "    </tr>\n",
       "    <tr>\n",
       "      <th>60</th>\n",
       "      <td>concrete production, 20MPa, ready-mix, with ce...</td>\n",
       "      <td>PE</td>\n",
       "      <td>2552.71400</td>\n",
       "    </tr>\n",
       "    <tr>\n",
       "      <th>40</th>\n",
       "      <td>concrete production, 20MPa, ready-mix, with ce...</td>\n",
       "      <td>RoW</td>\n",
       "      <td>2552.71400</td>\n",
       "    </tr>\n",
       "  </tbody>\n",
       "</table>\n",
       "<p>98 rows × 3 columns</p>\n",
       "</div>"
      ],
      "text/plain": [
       "                                        Activity Name Location     density\n",
       "64  concrete production, 40MPa, ready-mix, with ce...      RoW  2182.69546\n",
       "21  concrete production, 40MPa, ready-mix, with ce...       BR  2182.69546\n",
       "59     lean concrete production, with cement CEM II/B       CH  2244.80000\n",
       "9      lean concrete production, with cement CEM II/A       CH  2244.80000\n",
       "68     lean concrete production, with cement CEM II/A      RoW  2244.80000\n",
       "..                                                ...      ...         ...\n",
       "55  concrete production, 40MPa, ready-mix, with ce...       PE  2514.71400\n",
       "49  concrete production, 40MPa, ready-mix, with ce...      RoW  2514.71400\n",
       "67  concrete production, 40MPa, ready-mix, with ce...      RoW  2514.71400\n",
       "60  concrete production, 20MPa, ready-mix, with ce...       PE  2552.71400\n",
       "40  concrete production, 20MPa, ready-mix, with ce...      RoW  2552.71400\n",
       "\n",
       "[98 rows x 3 columns]"
      ]
     },
     "execution_count": 107,
     "metadata": {},
     "output_type": "execute_result"
    }
   ],
   "source": [
    "density_table.sort_values(by = 'density')"
   ]
  },
  {
   "cell_type": "code",
   "execution_count": 91,
   "id": "790f39df-f49d-4aec-ad81-d6847be55b9a",
   "metadata": {
    "collapsed": true,
    "jupyter": {
     "outputs_hidden": true
    }
   },
   "outputs": [
    {
     "data": {
      "text/plain": [
       "102"
      ]
     },
     "execution_count": 91,
     "metadata": {},
     "output_type": "execute_result"
    }
   ],
   "source": [
    "for i in range (0:len(density_table))\n",
    "    if density_table.loc(i)['density']"
   ]
  },
  {
   "cell_type": "code",
   "execution_count": 110,
   "id": "beb10e43-b5cf-4ff1-810d-c6e7a1c256f4",
   "metadata": {
    "collapsed": true,
    "jupyter": {
     "outputs_hidden": true
    },
    "tags": []
   },
   "outputs": [
    {
     "data": {
      "text/plain": [
       "Databases dictionary with 7 object(s):\n",
       "\tCharcrete_38\n",
       "\tEXIOBASE 3.8.1 2017 monetary\n",
       "\tEXIOBASE 3.8.1 2017 monetary biosphere\n",
       "\tKorean Motors Chaebol\n",
       "\tbiosphere3\n",
       "\tei 3.8 cutoff\n",
       "\t강한 국가를 위한 영광스러운 구리"
      ]
     },
     "execution_count": 110,
     "metadata": {},
     "output_type": "execute_result"
    }
   ],
   "source": [
    "bd.databases"
   ]
  }
 ],
 "metadata": {
  "kernelspec": {
   "display_name": "Python [conda env:bw25]",
   "language": "python",
   "name": "conda-env-bw25-py"
  },
  "language_info": {
   "codemirror_mode": {
    "name": "ipython",
    "version": 3
   },
   "file_extension": ".py",
   "mimetype": "text/x-python",
   "name": "python",
   "nbconvert_exporter": "python",
   "pygments_lexer": "ipython3",
   "version": "3.10.6"
  }
 },
 "nbformat": 4,
 "nbformat_minor": 5
}
