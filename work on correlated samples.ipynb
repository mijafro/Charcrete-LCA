{
 "cells": [
  {
   "cell_type": "markdown",
   "id": "b62fa483-73cc-4124-9637-cb6d32d8abfe",
   "metadata": {},
   "source": [
    "## 1. Set the project and import Charcrete database"
   ]
  },
  {
   "cell_type": "code",
   "execution_count": 1,
   "id": "9dc71919-b203-40ae-8f7a-8940f8b835c6",
   "metadata": {
    "tags": []
   },
   "outputs": [],
   "source": [
    "# === Switch to kernel bw25! ===\n",
    "\n",
    "# Brightway libraries\n",
    "import bw2data as bd\n",
    "import bw2io as bi\n",
    "import bw2calc as bc\n",
    "import bw2analyzer as ba\n",
    "import bw_processing as bwp\n",
    "\n",
    "# General libraries\n",
    "import numpy as np\n",
    "import pandas as pd\n",
    "import math\n",
    "from fs.zipfs import ZipFS\n",
    "import json                        # Library for working with json files\n",
    "from pathlib import Path           # Library for working with paths in different OS     \n",
    "import matplotlib.pyplot as plt    # Library for creating plots\n",
    "import os\n",
    "\n",
    "# Visualization\n",
    "import plotly.graph_objects as go\n",
    "import seaborn as sbn\n",
    "\n",
    "# Uncertainties\n",
    "import stats_arrays as sa\n",
    "import scipy.stats as stats"
   ]
  },
  {
   "cell_type": "code",
   "execution_count": 2,
   "id": "2bb9441c-aba4-43bb-864e-08720381347f",
   "metadata": {
    "tags": []
   },
   "outputs": [],
   "source": [
    "bd.projects.set_current(\"ei38-teaching-25\")"
   ]
  },
  {
   "cell_type": "markdown",
   "id": "1e8c8a9b-35b7-40ae-a85f-932a8820508a",
   "metadata": {},
   "source": [
    "## 2. Importing Charcrete database"
   ]
  },
  {
   "cell_type": "code",
   "execution_count": 3,
   "id": "da38bd4a-2f8c-48e3-8c42-1fcd212d0d63",
   "metadata": {
    "tags": []
   },
   "outputs": [],
   "source": [
    "#finding the relative path\n",
    "filepath = os.getcwd()+\"/data/Charcrete_database_38.xlsx\""
   ]
  },
  {
   "cell_type": "code",
   "execution_count": 4,
   "id": "d20d8577-07e6-4071-9596-fb1220b93e18",
   "metadata": {
    "tags": []
   },
   "outputs": [
    {
     "name": "stdout",
     "output_type": "stream",
     "text": [
      "Extracted 2 worksheets in 0.01 seconds\n",
      "Applying strategy: csv_restore_tuples\n",
      "Applying strategy: csv_restore_booleans\n",
      "Applying strategy: csv_numerize\n",
      "Applying strategy: csv_drop_unknown\n",
      "Applying strategy: csv_add_missing_exchanges_section\n",
      "Applying strategy: normalize_units\n",
      "Applying strategy: normalize_biosphere_categories\n",
      "Applying strategy: normalize_biosphere_names\n",
      "Applying strategy: strip_biosphere_exc_locations\n",
      "Applying strategy: set_code_by_activity_hash\n",
      "Applying strategy: link_iterable_by_fields\n",
      "Applying strategy: assign_only_product_as_production\n",
      "Applying strategy: link_technosphere_by_activity_hash\n",
      "Applying strategy: drop_falsey_uncertainty_fields_but_keep_zeros\n",
      "Applying strategy: convert_uncertainty_types_to_integers\n",
      "Applying strategy: convert_activity_parameters_to_list\n",
      "Applied 16 strategies in 7.03 seconds\n",
      "Applying strategy: link_iterable_by_fields\n",
      "Applying strategy: link_iterable_by_fields\n",
      "7 datasets\n",
      "43 exchanges\n",
      "0 unlinked exchanges\n",
      "  \n",
      "Warning: No valid output stream.\n",
      "Title: Writing activities to SQLite3 database:\n",
      "  Started: 10/27/2022 18:02:07\n",
      "  Finished: 10/27/2022 18:02:07\n",
      "  Total time elapsed: 00:00:00\n",
      "  CPU %: 0.00\n",
      "  Memory %: 0.25\n",
      "Created database: Charcrete_38\n"
     ]
    }
   ],
   "source": [
    "if \"Charcrete_38\" in bd.databases:\n",
    "    del bd.databases[\"Charcrete_38\"]\n",
    "    \n",
    "# 1. Specify filepath to your foreground inventories.\n",
    "charcrete_path = filepath\n",
    "# 2. Create an instance of a class that contains basic methods for importing a database from an excel file.\n",
    "charcrete = bi.ExcelImporter(charcrete_path)  \n",
    "# 3. `apply_strategies` is one of such basic methods, it makes sure units, locations, etc are in correct format.\n",
    "charcrete.apply_strategies()\n",
    "# 4. Next step is to link your foreground exchanges to existing databases by matching relevant exchanges fields.\n",
    "charcrete.match_database(\"biosphere3\", fields=(\"name\", \"unit\", \"categories\"))\n",
    "charcrete.match_database(\"ei 3.8 cutoff\", fields=(\"name\", \"location\", \"unit\"))\n",
    "#charcrete.metadata.pop(None)  # Remove metadata None entry. TODO\n",
    "# 5. If everything is linked, write database so that it is saved in your project.\n",
    "if charcrete.all_linked:\n",
    "    charcrete.write_database()"
   ]
  },
  {
   "cell_type": "code",
   "execution_count": 5,
   "id": "f7f87e64-f3e1-43ec-9ba2-7437e0a2d259",
   "metadata": {
    "tags": []
   },
   "outputs": [
    {
     "data": {
      "text/plain": [
       "Databases dictionary with 7 object(s):\n",
       "\tCharcrete_38\n",
       "\tEXIOBASE 3.8.1 2017 monetary\n",
       "\tEXIOBASE 3.8.1 2017 monetary biosphere\n",
       "\tKorean Motors Chaebol\n",
       "\tbiosphere3\n",
       "\tei 3.8 cutoff\n",
       "\t강한 국가를 위한 영광스러운 구리"
      ]
     },
     "execution_count": 5,
     "metadata": {},
     "output_type": "execute_result"
    }
   ],
   "source": [
    "bd.databases"
   ]
  },
  {
   "cell_type": "markdown",
   "id": "facd4cff-96e2-42cb-8088-3f9ec898369a",
   "metadata": {},
   "source": [
    "## 3. Check LCA on charcrete to ensure everything is working fine"
   ]
  },
  {
   "cell_type": "code",
   "execution_count": 6,
   "id": "6a0e008e-fa5b-47b8-bb3b-0715c877944b",
   "metadata": {
    "tags": []
   },
   "outputs": [],
   "source": [
    "char_db = bd.Database(\"Charcrete_38\")\n",
    "ei_db = bd.Database(\"ei 3.8 cutoff\")"
   ]
  },
  {
   "cell_type": "code",
   "execution_count": 7,
   "id": "4614ec8e-fbfb-4dbe-9846-e927350039aa",
   "metadata": {
    "tags": []
   },
   "outputs": [],
   "source": [
    "char_p = [act for act in char_db if \"Charcrete\" in act['name']][0]"
   ]
  },
  {
   "cell_type": "code",
   "execution_count": 8,
   "id": "67bfcd59-d495-4de0-9838-a0e0f9be29b1",
   "metadata": {
    "tags": []
   },
   "outputs": [],
   "source": [
    "ipcc = ('IPCC 2013', 'climate change', 'GWP 100a')\n",
    "method = bd.Method(ipcc)"
   ]
  },
  {
   "cell_type": "code",
   "execution_count": 9,
   "id": "bb579f34-30ef-490c-a1ea-6f14dbbd0998",
   "metadata": {
    "tags": []
   },
   "outputs": [],
   "source": [
    "def calculateLCA(act, amount, method):\n",
    "    fu, data_objs, _ = bd.prepare_lca_inputs({act: amount}, method=ipcc)\n",
    "    lca = bc.LCA(fu, data_objs=data_objs)\n",
    "    lca.lci()\n",
    "    lca.lcia()\n",
    "    return lca.score"
   ]
  },
  {
   "cell_type": "code",
   "execution_count": 10,
   "id": "adbecd7b-8492-4da9-a480-81309eb95d2d",
   "metadata": {
    "tags": []
   },
   "outputs": [
    {
     "data": {
      "text/plain": [
       "169.37472406675374"
      ]
     },
     "execution_count": 10,
     "metadata": {},
     "output_type": "execute_result"
    }
   ],
   "source": [
    "calculateLCA(char_p, 1, ipcc)"
   ]
  },
  {
   "cell_type": "markdown",
   "id": "49c6e46f-e9f5-49d1-9743-e3aee08942b0",
   "metadata": {
    "jupyter": {
     "outputs_hidden": true
    }
   },
   "source": [
    "## 4. Scenarios with datapackage"
   ]
  },
  {
   "cell_type": "markdown",
   "id": "8836dc76-bdb6-4de2-b4f9-92debc1cc9c7",
   "metadata": {},
   "source": [
    "char_db = charcrete database\n",
    "\n",
    "ei_db = ecoinvent database"
   ]
  },
  {
   "cell_type": "code",
   "execution_count": null,
   "id": "77b44b7c-0c20-4717-805e-8b868ceb8bda",
   "metadata": {
    "collapsed": true,
    "jupyter": {
     "outputs_hidden": true
    },
    "tags": []
   },
   "outputs": [],
   "source": []
  },
  {
   "cell_type": "code",
   "execution_count": 11,
   "id": "95b9f189-f17b-4731-83a4-7bb3254429bb",
   "metadata": {
    "tags": []
   },
   "outputs": [],
   "source": [
    "char_init = [\n",
    "    act for act in char_db \n",
    "    if 'Charcrete' in act['name'] \n",
    "    and '5' in act['name'] \n",
    "    and '7' not in act['name']\n",
    "][0]"
   ]
  },
  {
   "cell_type": "code",
   "execution_count": 12,
   "id": "a8b5b213-f85e-4c7a-b5f1-01b2c80ed686",
   "metadata": {
    "tags": []
   },
   "outputs": [],
   "source": [
    "char_df = pd.read_excel(filepath, sheet_name = 'scenario')"
   ]
  },
  {
   "cell_type": "code",
   "execution_count": 13,
   "id": "58869cb7-9757-4bca-8713-f7b43336550b",
   "metadata": {
    "tags": []
   },
   "outputs": [
    {
     "data": {
      "text/plain": [
       "['Biochar production',\n",
       " 'market for gravel, crushed',\n",
       " 'market for electricity, medium voltage',\n",
       " 'market for tap water',\n",
       " 'market for sand',\n",
       " 'market for plasticiser, for concrete, based on sulfonated melamine formaldehyde',\n",
       " 'market for diesel, burned in building machine',\n",
       " 'market for cement, Portland']"
      ]
     },
     "execution_count": 13,
     "metadata": {},
     "output_type": "execute_result"
    }
   ],
   "source": [
    "[exc['name'] for exc in char_init.technosphere()]"
   ]
  },
  {
   "cell_type": "code",
   "execution_count": 14,
   "id": "b5ff2192-0fd1-4336-aa99-fa65d967895b",
   "metadata": {
    "tags": []
   },
   "outputs": [
    {
     "data": {
      "text/plain": [
       "8"
      ]
     },
     "execution_count": 14,
     "metadata": {},
     "output_type": "execute_result"
    }
   ],
   "source": [
    "len(char_init.technosphere())"
   ]
  },
  {
   "cell_type": "code",
   "execution_count": 15,
   "id": "70ccd20c-d680-48d7-9878-f8bbca1d85da",
   "metadata": {
    "tags": []
   },
   "outputs": [
    {
     "data": {
      "text/plain": [
       "{'Biochar production': 33100,\n",
       " 'market for gravel, crushed': 15962,\n",
       " 'market for electricity, medium voltage': 10117,\n",
       " 'market for tap water': 15716,\n",
       " 'market for sand': 5008,\n",
       " 'market for plasticiser, for concrete, based on sulfonated melamine formaldehyde': 6509,\n",
       " 'market for diesel, burned in building machine': 10200,\n",
       " 'market for cement, Portland': 13050,\n",
       " 'Carbon dioxide, to soil or biomass stock': 3891,\n",
       " 'Charcrete production 5%': 33101}"
      ]
     },
     "execution_count": 15,
     "metadata": {},
     "output_type": "execute_result"
    }
   ],
   "source": [
    "id_act_dict = {}\n",
    "for exc in char_init.technosphere(): #adding the exchange technosphere\n",
    "    ind = exc.input.id\n",
    "    na = exc['name']\n",
    "    id_act_dict[na]=ind\n",
    "for exc in char_init.biosphere(): #adding the exchange biosphere\n",
    "    ind = exc.input.id\n",
    "    na = exc['name']\n",
    "    id_act_dict[na]=ind\n",
    "id_act_dict[char_init['name']]=char_init.id #adding the production\n",
    "id_act_dict"
   ]
  },
  {
   "cell_type": "code",
   "execution_count": 16,
   "id": "a8ad5f85-6881-4fb6-a6c7-f258ddee8641",
   "metadata": {
    "tags": []
   },
   "outputs": [
    {
     "data": {
      "text/plain": [
       "33100"
      ]
     },
     "execution_count": 16,
     "metadata": {},
     "output_type": "execute_result"
    }
   ],
   "source": [
    "id_act_dict['Biochar production']"
   ]
  },
  {
   "cell_type": "code",
   "execution_count": 17,
   "id": "84ca79b6-8194-477e-862d-4ca1a9bac5da",
   "metadata": {
    "tags": []
   },
   "outputs": [],
   "source": [
    "lg = len (char_df.columns) #number of culum in the dataframe"
   ]
  },
  {
   "cell_type": "code",
   "execution_count": 18,
   "id": "2469aa45-4934-4551-86bf-f904156c0019",
   "metadata": {
    "tags": []
   },
   "outputs": [
    {
     "data": {
      "text/plain": [
       "'Charcrete production 5%'"
      ]
     },
     "execution_count": 18,
     "metadata": {},
     "output_type": "execute_result"
    }
   ],
   "source": [
    "char_df['Activity name'][0]"
   ]
  },
  {
   "cell_type": "code",
   "execution_count": 19,
   "id": "1e9dc717-9bda-4abe-87b4-3fa51152326f",
   "metadata": {
    "tags": []
   },
   "outputs": [
    {
     "data": {
      "text/plain": [
       "[33101, 33100, 15962, 10117, 15716, 5008, 6509, 10200, 13050, 3891]"
      ]
     },
     "execution_count": 19,
     "metadata": {},
     "output_type": "execute_result"
    }
   ],
   "source": [
    "list_id=[]\n",
    "for e in char_df['Activity name']:\n",
    "    list_id.append(id_act_dict[e])           \n",
    "list_id"
   ]
  },
  {
   "cell_type": "code",
   "execution_count": 20,
   "id": "b83f2d9f-8a1a-4103-afb6-20115d92673e",
   "metadata": {
    "tags": []
   },
   "outputs": [],
   "source": [
    "#adding a colum for id\n",
    "char_df.insert(loc = lg-1, value = list_id,column = 'id')"
   ]
  },
  {
   "cell_type": "code",
   "execution_count": 21,
   "id": "2de47f6b-c91e-468b-8a39-c767dea00576",
   "metadata": {
    "tags": []
   },
   "outputs": [
    {
     "data": {
      "text/html": [
       "<div>\n",
       "<style scoped>\n",
       "    .dataframe tbody tr th:only-of-type {\n",
       "        vertical-align: middle;\n",
       "    }\n",
       "\n",
       "    .dataframe tbody tr th {\n",
       "        vertical-align: top;\n",
       "    }\n",
       "\n",
       "    .dataframe thead th {\n",
       "        text-align: right;\n",
       "    }\n",
       "</style>\n",
       "<table border=\"1\" class=\"dataframe\">\n",
       "  <thead>\n",
       "    <tr style=\"text-align: right;\">\n",
       "      <th></th>\n",
       "      <th>Activity name</th>\n",
       "      <th>reference product</th>\n",
       "      <th>location</th>\n",
       "      <th>Charcrete production 5%</th>\n",
       "      <th>Charcrete production 7.5%</th>\n",
       "      <th>Charcrete production 10%</th>\n",
       "      <th>unit</th>\n",
       "      <th>database</th>\n",
       "      <th>id</th>\n",
       "      <th>type</th>\n",
       "    </tr>\n",
       "  </thead>\n",
       "  <tbody>\n",
       "    <tr>\n",
       "      <th>0</th>\n",
       "      <td>Charcrete production 5%</td>\n",
       "      <td>Charcrete production 5%</td>\n",
       "      <td>SE</td>\n",
       "      <td>1.000</td>\n",
       "      <td>1.000</td>\n",
       "      <td>1.000</td>\n",
       "      <td>cubic meter</td>\n",
       "      <td>Charcrete_38</td>\n",
       "      <td>33101</td>\n",
       "      <td>production</td>\n",
       "    </tr>\n",
       "    <tr>\n",
       "      <th>1</th>\n",
       "      <td>Biochar production</td>\n",
       "      <td>Biochar production</td>\n",
       "      <td>SE</td>\n",
       "      <td>0.010</td>\n",
       "      <td>0.015</td>\n",
       "      <td>0.020</td>\n",
       "      <td>ton</td>\n",
       "      <td>Charcrete_38</td>\n",
       "      <td>33100</td>\n",
       "      <td>technosphere</td>\n",
       "    </tr>\n",
       "    <tr>\n",
       "      <th>2</th>\n",
       "      <td>market for gravel, crushed</td>\n",
       "      <td>gravel, crushed</td>\n",
       "      <td>CH</td>\n",
       "      <td>1000.000</td>\n",
       "      <td>1000.000</td>\n",
       "      <td>1000.000</td>\n",
       "      <td>kilogram</td>\n",
       "      <td>ei 3.8 cutoff</td>\n",
       "      <td>15962</td>\n",
       "      <td>technosphere</td>\n",
       "    </tr>\n",
       "    <tr>\n",
       "      <th>3</th>\n",
       "      <td>market for electricity, medium voltage</td>\n",
       "      <td>electricity, medium voltage</td>\n",
       "      <td>SE</td>\n",
       "      <td>5.500</td>\n",
       "      <td>5.500</td>\n",
       "      <td>5.500</td>\n",
       "      <td>kilowatt hour</td>\n",
       "      <td>ei 3.8 cutoff</td>\n",
       "      <td>10117</td>\n",
       "      <td>technosphere</td>\n",
       "    </tr>\n",
       "    <tr>\n",
       "      <th>4</th>\n",
       "      <td>market for tap water</td>\n",
       "      <td>tap water</td>\n",
       "      <td>Europe without Switzerland</td>\n",
       "      <td>156.000</td>\n",
       "      <td>156.000</td>\n",
       "      <td>156.000</td>\n",
       "      <td>kilogram</td>\n",
       "      <td>ei 3.8 cutoff</td>\n",
       "      <td>15716</td>\n",
       "      <td>technosphere</td>\n",
       "    </tr>\n",
       "    <tr>\n",
       "      <th>5</th>\n",
       "      <td>market for sand</td>\n",
       "      <td>sand</td>\n",
       "      <td>CH</td>\n",
       "      <td>938.000</td>\n",
       "      <td>938.000</td>\n",
       "      <td>938.000</td>\n",
       "      <td>kilogram</td>\n",
       "      <td>ei 3.8 cutoff</td>\n",
       "      <td>5008</td>\n",
       "      <td>technosphere</td>\n",
       "    </tr>\n",
       "    <tr>\n",
       "      <th>6</th>\n",
       "      <td>market for plasticiser, for concrete, based on...</td>\n",
       "      <td>plasticiser, for concrete, based on sulfonated...</td>\n",
       "      <td>GLO</td>\n",
       "      <td>3.200</td>\n",
       "      <td>5.000</td>\n",
       "      <td>6.600</td>\n",
       "      <td>kilogram</td>\n",
       "      <td>ei 3.8 cutoff</td>\n",
       "      <td>6509</td>\n",
       "      <td>technosphere</td>\n",
       "    </tr>\n",
       "    <tr>\n",
       "      <th>7</th>\n",
       "      <td>market for diesel, burned in building machine</td>\n",
       "      <td>diesel, burned in building machine</td>\n",
       "      <td>GLO</td>\n",
       "      <td>0.200</td>\n",
       "      <td>0.200</td>\n",
       "      <td>0.200</td>\n",
       "      <td>MJ</td>\n",
       "      <td>ei 3.8 cutoff</td>\n",
       "      <td>10200</td>\n",
       "      <td>technosphere</td>\n",
       "    </tr>\n",
       "    <tr>\n",
       "      <th>8</th>\n",
       "      <td>market for cement, Portland</td>\n",
       "      <td>cement, Portland</td>\n",
       "      <td>Europe without Switzerland</td>\n",
       "      <td>186.800</td>\n",
       "      <td>180.000</td>\n",
       "      <td>173.400</td>\n",
       "      <td>kilogram</td>\n",
       "      <td>ei 3.8 cutoff</td>\n",
       "      <td>13050</td>\n",
       "      <td>technosphere</td>\n",
       "    </tr>\n",
       "    <tr>\n",
       "      <th>9</th>\n",
       "      <td>Carbon dioxide, to soil or biomass stock</td>\n",
       "      <td>NaN</td>\n",
       "      <td>NaN</td>\n",
       "      <td>3.256</td>\n",
       "      <td>4.884</td>\n",
       "      <td>6.512</td>\n",
       "      <td>kilogram</td>\n",
       "      <td>biosphere3</td>\n",
       "      <td>3891</td>\n",
       "      <td>biosphere</td>\n",
       "    </tr>\n",
       "  </tbody>\n",
       "</table>\n",
       "</div>"
      ],
      "text/plain": [
       "                                       Activity name  \\\n",
       "0                            Charcrete production 5%   \n",
       "1                                 Biochar production   \n",
       "2                         market for gravel, crushed   \n",
       "3             market for electricity, medium voltage   \n",
       "4                               market for tap water   \n",
       "5                                    market for sand   \n",
       "6  market for plasticiser, for concrete, based on...   \n",
       "7      market for diesel, burned in building machine   \n",
       "8                        market for cement, Portland   \n",
       "9           Carbon dioxide, to soil or biomass stock   \n",
       "\n",
       "                                   reference product  \\\n",
       "0                            Charcrete production 5%   \n",
       "1                                 Biochar production   \n",
       "2                                    gravel, crushed   \n",
       "3                        electricity, medium voltage   \n",
       "4                                          tap water   \n",
       "5                                               sand   \n",
       "6  plasticiser, for concrete, based on sulfonated...   \n",
       "7                 diesel, burned in building machine   \n",
       "8                                   cement, Portland   \n",
       "9                                                NaN   \n",
       "\n",
       "                     location  Charcrete production 5%  \\\n",
       "0                          SE                    1.000   \n",
       "1                          SE                    0.010   \n",
       "2                          CH                 1000.000   \n",
       "3                          SE                    5.500   \n",
       "4  Europe without Switzerland                  156.000   \n",
       "5                          CH                  938.000   \n",
       "6                         GLO                    3.200   \n",
       "7                         GLO                    0.200   \n",
       "8  Europe without Switzerland                  186.800   \n",
       "9                         NaN                    3.256   \n",
       "\n",
       "   Charcrete production 7.5%  Charcrete production 10%           unit  \\\n",
       "0                      1.000                     1.000    cubic meter   \n",
       "1                      0.015                     0.020            ton   \n",
       "2                   1000.000                  1000.000       kilogram   \n",
       "3                      5.500                     5.500  kilowatt hour   \n",
       "4                    156.000                   156.000       kilogram   \n",
       "5                    938.000                   938.000       kilogram   \n",
       "6                      5.000                     6.600       kilogram   \n",
       "7                      0.200                     0.200             MJ   \n",
       "8                    180.000                   173.400       kilogram   \n",
       "9                      4.884                     6.512       kilogram   \n",
       "\n",
       "        database     id          type  \n",
       "0   Charcrete_38  33101    production  \n",
       "1   Charcrete_38  33100  technosphere  \n",
       "2  ei 3.8 cutoff  15962  technosphere  \n",
       "3  ei 3.8 cutoff  10117  technosphere  \n",
       "4  ei 3.8 cutoff  15716  technosphere  \n",
       "5  ei 3.8 cutoff   5008  technosphere  \n",
       "6  ei 3.8 cutoff   6509  technosphere  \n",
       "7  ei 3.8 cutoff  10200  technosphere  \n",
       "8  ei 3.8 cutoff  13050  technosphere  \n",
       "9     biosphere3   3891     biosphere  "
      ]
     },
     "execution_count": 21,
     "metadata": {},
     "output_type": "execute_result"
    }
   ],
   "source": [
    "char_df"
   ]
  },
  {
   "cell_type": "code",
   "execution_count": 22,
   "id": "2175c0bb-6be4-4850-8ee2-345703a76443",
   "metadata": {
    "tags": []
   },
   "outputs": [
    {
     "data": {
      "text/plain": [
       "33101"
      ]
     },
     "execution_count": 22,
     "metadata": {},
     "output_type": "execute_result"
    }
   ],
   "source": [
    "char_df['id'][0]"
   ]
  },
  {
   "cell_type": "code",
   "execution_count": 23,
   "id": "49303d8c-a740-422e-898d-d8cf2aaf9006",
   "metadata": {
    "tags": []
   },
   "outputs": [],
   "source": [
    "#generation of the tuple list for indices\n",
    "list_ind_t = []\n",
    "list_data_t = []\n",
    "list_flip_t = []\n",
    "list_ind_b = []\n",
    "list_data_b = []\n",
    "\n",
    "for i in range (len(char_df)):\n",
    "    ind_t = (char_df['id'][i],char_df['id'][0])\n",
    "    data = (char_df['Charcrete production 5%'][i],char_df['Charcrete production 7.5%'][i],char_df['Charcrete production 10%'][i])\n",
    "    if char_df['type'][i]=='technosphere' or char_df['type'][i]=='production': #first let's do the technosphere flows\n",
    "        if char_df['id'][i]==char_df['id'][0]:\n",
    "            flip = False\n",
    "        else:\n",
    "            flip = True\n",
    "        list_ind_t.append(ind_t)\n",
    "        list_data_t.append(data)\n",
    "        list_flip_t.append(flip)\n",
    "    else:\n",
    "        assert char_df['type'][i]=='biosphere'\n",
    "        list_ind_b.append(ind_t)\n",
    "        list_data_b.append(data)\n"
   ]
  },
  {
   "cell_type": "code",
   "execution_count": 24,
   "id": "17c8d1bb-b986-44b2-bdaa-ad87f22e204f",
   "metadata": {
    "tags": []
   },
   "outputs": [
    {
     "data": {
      "text/plain": [
       "[(33101, 33101),\n",
       " (33100, 33101),\n",
       " (15962, 33101),\n",
       " (10117, 33101),\n",
       " (15716, 33101),\n",
       " (5008, 33101),\n",
       " (6509, 33101),\n",
       " (10200, 33101),\n",
       " (13050, 33101)]"
      ]
     },
     "execution_count": 24,
     "metadata": {},
     "output_type": "execute_result"
    }
   ],
   "source": [
    "list_ind_t"
   ]
  },
  {
   "cell_type": "code",
   "execution_count": 25,
   "id": "e4488c48-87c1-4cde-9e42-e935b0e76102",
   "metadata": {
    "tags": []
   },
   "outputs": [
    {
     "data": {
      "text/plain": [
       "[(3891, 33101)]"
      ]
     },
     "execution_count": 25,
     "metadata": {},
     "output_type": "execute_result"
    }
   ],
   "source": [
    "list_ind_b"
   ]
  },
  {
   "cell_type": "code",
   "execution_count": 26,
   "id": "2443d21d-38c2-4dfb-a7a9-f1fbdefb6ab3",
   "metadata": {
    "tags": []
   },
   "outputs": [
    {
     "data": {
      "text/plain": [
       "[(3.2560000000000002, 4.884, 6.5120000000000005)]"
      ]
     },
     "execution_count": 26,
     "metadata": {},
     "output_type": "execute_result"
    }
   ],
   "source": [
    "list_data_b"
   ]
  },
  {
   "cell_type": "code",
   "execution_count": 27,
   "id": "151a26ad-c8a5-4f55-bb49-46c5e84b2759",
   "metadata": {
    "tags": []
   },
   "outputs": [
    {
     "data": {
      "text/plain": [
       "array([False,  True,  True,  True,  True,  True,  True,  True,  True])"
      ]
     },
     "execution_count": 27,
     "metadata": {},
     "output_type": "execute_result"
    }
   ],
   "source": [
    "np.array(list_flip_t)"
   ]
  },
  {
   "cell_type": "code",
   "execution_count": 28,
   "id": "641b5138-9306-496e-8054-e6954f41e4df",
   "metadata": {
    "tags": []
   },
   "outputs": [],
   "source": [
    "dp_scenarios = bwp.create_datapackage(sequential = True)\n",
    "dp_scenarios.add_persistent_array(\n",
    "    matrix='technosphere_matrix',\n",
    "    indices_array=np.array(list_ind_t, dtype=bwp.INDICES_DTYPE),\n",
    "    data_array=np.array(list_data_t),\n",
    "    flip_array=np.array(list_flip_t),\n",
    "#seed_overwrite=42 should not be used or it would mix the column order of the array\n",
    ")\n",
    "dp_scenarios.add_persistent_array(\n",
    "    matrix='biosphere_matrix',\n",
    "    indices_array=np.array(list_ind_b, dtype=bwp.INDICES_DTYPE),\n",
    "    data_array=np.array(list_data_b),\n",
    ")"
   ]
  },
  {
   "cell_type": "code",
   "execution_count": 29,
   "id": "31b3001e-ea7e-4b77-b985-685597cd51b8",
   "metadata": {},
   "outputs": [],
   "source": [
    "fu, data_objs, _ = bd.prepare_lca_inputs({char_init: 1}, method=ipcc)"
   ]
  },
  {
   "cell_type": "code",
   "execution_count": 30,
   "id": "241b8ab3-837e-48f6-b068-3584550f9faf",
   "metadata": {},
   "outputs": [
    {
     "data": {
      "text/plain": [
       "[<bw_processing.datapackage.Datapackage at 0x7fd2ab1e7e20>,\n",
       " <bw_processing.datapackage.Datapackage at 0x7fd29cb02260>,\n",
       " <bw_processing.datapackage.Datapackage at 0x7fd2a6667310>,\n",
       " <bw_processing.datapackage.Datapackage at 0x7fd2a6665f00>,\n",
       " <bw_processing.datapackage.Datapackage at 0x7fd29cb01300>]"
      ]
     },
     "execution_count": 30,
     "metadata": {},
     "output_type": "execute_result"
    }
   ],
   "source": [
    "data_objs"
   ]
  },
  {
   "cell_type": "code",
   "execution_count": 31,
   "id": "797e8714-4339-4c01-9115-698ece30e814",
   "metadata": {},
   "outputs": [
    {
     "data": {
      "text/plain": [
       "'Charcrete production 5%' (cubic meter, SE, None)"
      ]
     },
     "execution_count": 31,
     "metadata": {},
     "output_type": "execute_result"
    }
   ],
   "source": [
    "char_init"
   ]
  },
  {
   "cell_type": "code",
   "execution_count": 32,
   "id": "e6aaa90e-9b21-427a-b3d8-c7271b89c505",
   "metadata": {
    "tags": []
   },
   "outputs": [
    {
     "data": {
      "text/plain": [
       "177.6456203790934"
      ]
     },
     "execution_count": 32,
     "metadata": {},
     "output_type": "execute_result"
    }
   ],
   "source": [
    "fu, data_objs, _ = bd.prepare_lca_inputs({char_init: 1}, method=ipcc)\n",
    "\n",
    "lca_b = bc.LCA(\n",
    "    fu,\n",
    "    data_objs=[*data_objs,dp_scenarios], # the \"*\" unpack whatever is inside\n",
    "    use_distributions=False,\n",
    "    use_arrays=True,\n",
    "#     seed_override=42,  # Seed should not be used\n",
    ")\n",
    "lca_b.lci()\n",
    "lca_b.lcia()\n",
    "lca_b.score"
   ]
  },
  {
   "cell_type": "code",
   "execution_count": 33,
   "id": "258027f0-bcf5-4257-9edb-ab0b338ee7b7",
   "metadata": {},
   "outputs": [
    {
     "data": {
      "text/plain": [
       "[177.6456203790934, 173.55581965877943, 169.37472971580868]"
      ]
     },
     "execution_count": 33,
     "metadata": {},
     "output_type": "execute_result"
    }
   ],
   "source": [
    "lca_b.keep_first_iteration() #if you don't put that, the first iteration will be overwritten\n",
    "iterations = 3\n",
    "scores_b = [lca_b.score for _ in zip(range(iterations), lca_b)]\n",
    "scores_b"
   ]
  },
  {
   "cell_type": "markdown",
   "id": "763a64fa-0ebf-4d32-a9fd-f47eea73d015",
   "metadata": {},
   "source": [
    "# validation step"
   ]
  },
  {
   "cell_type": "markdown",
   "id": "b05cec2f-e80f-42ac-90b3-8a097165cbc1",
   "metadata": {},
   "source": [
    "char_db = charcrete database\n",
    "\n",
    "ei_db = ecoinvent database"
   ]
  },
  {
   "cell_type": "code",
   "execution_count": 34,
   "id": "c09bc384-1a43-416b-9d16-40003b857144",
   "metadata": {},
   "outputs": [
    {
     "data": {
      "text/plain": [
       "Databases dictionary with 7 object(s):\n",
       "\tCharcrete_38\n",
       "\tEXIOBASE 3.8.1 2017 monetary\n",
       "\tEXIOBASE 3.8.1 2017 monetary biosphere\n",
       "\tKorean Motors Chaebol\n",
       "\tbiosphere3\n",
       "\tei 3.8 cutoff\n",
       "\t강한 국가를 위한 영광스러운 구리"
      ]
     },
     "execution_count": 34,
     "metadata": {},
     "output_type": "execute_result"
    }
   ],
   "source": [
    "bd.databases"
   ]
  },
  {
   "cell_type": "code",
   "execution_count": 35,
   "id": "2a74d57a-be93-45c2-9657-e83dadeef560",
   "metadata": {},
   "outputs": [
    {
     "data": {
      "text/plain": [
       "[177.6456203790934, 173.55581965877943, 169.37472971580868]"
      ]
     },
     "execution_count": 35,
     "metadata": {},
     "output_type": "execute_result"
    }
   ],
   "source": [
    "scores_b"
   ]
  },
  {
   "cell_type": "code",
   "execution_count": 36,
   "id": "cf7e19da-b1b9-4a3f-9c1c-0e07b19d362c",
   "metadata": {},
   "outputs": [],
   "source": [
    "char_act_list = [act for act in  char_db if 'Charcrete production' in act['name']]"
   ]
  },
  {
   "cell_type": "code",
   "execution_count": 37,
   "id": "de0666c5-d2db-4c19-b9f4-bde4e12eb875",
   "metadata": {},
   "outputs": [
    {
     "data": {
      "text/plain": [
       "[(173.5558197613203, 'Charcrete production 7.5%'),\n",
       " (169.37472406675374, 'Charcrete production 10%'),\n",
       " (177.6456230224958, 'Charcrete production 5%')]"
      ]
     },
     "execution_count": 37,
     "metadata": {},
     "output_type": "execute_result"
    }
   ],
   "source": [
    "lca_score_list_validation=[]\n",
    "for act in char_act_list :\n",
    "    fu, data_objs, _ = bd.prepare_lca_inputs({act: 1}, method=ipcc)\n",
    "    lca_b = bc.LCA(\n",
    "        fu,\n",
    "        data_objs=[*data_objs,dp_scenarios], # the \"*\" unpack whatever is inside\n",
    "        use_distributions=False,\n",
    "        use_arrays=False,\n",
    "    #     seed_override=42,  # Seed should not be used\n",
    "    )\n",
    "    lca_b.lci()\n",
    "    lca_b.lcia()\n",
    "    lca_score_list_validation.append((lca_b.score,act['name']))\n",
    "lca_score_list_validation"
   ]
  },
  {
   "cell_type": "markdown",
   "id": "30ca64f7-541a-4ddd-9608-f06e0af357e4",
   "metadata": {},
   "source": [
    "## 5.Adding uncertainty distribution"
   ]
  },
  {
   "cell_type": "code",
   "execution_count": 95,
   "id": "0cb5cc3e-14ce-4664-ae79-0dfae0897113",
   "metadata": {
    "collapsed": true,
    "jupyter": {
     "outputs_hidden": true
    },
    "tags": []
   },
   "outputs": [
    {
     "data": {
      "image/png": "[encoded data removed]",
      "text/plain": [
       "<Figure size 640x480 with 1 Axes>"
      ]
     },
     "metadata": {},
     "output_type": "display_data"
    }
   ],
   "source": [
    "import matplotlib.pyplot as plt\n",
    "import numpy as np\n",
    "import scipy.stats as stats\n",
    "import math\n",
    "\n",
    "mu = -3\n",
    "variance = 10\n",
    "sigma = math.sqrt(variance)\n",
    "x = np.linspace(mu - 4*sigma, mu + 4*sigma, 100)\n",
    "plt.plot(x, stats.norm.pdf(x, mu, sigma))\n",
    "plt.show()"
   ]
  },
  {
   "cell_type": "code",
   "execution_count": 99,
   "id": "eab5aed0-f135-4fe3-b087-a4a1ded0a8d9",
   "metadata": {},
   "outputs": [
    {
     "data": {
      "image/png": "[encoded data removed]",
      "text/plain": [
       "<Figure size 640x480 with 1 Axes>"
      ]
     },
     "metadata": {},
     "output_type": "display_data"
    }
   ],
   "source": [
    "mu2 = 3\n",
    "variance2 = 1\n",
    "sigma2 = math.sqrt(variance2)\n",
    "x2 = np.linspace(mu2 - 4*sigma2, mu2 + 4*sigma2, 100)\n",
    "plt.plot(x2, stats.lognorm.pdf(x2, mu2, sigma2))\n",
    "plt.show()"
   ]
  },
  {
   "cell_type": "code",
   "execution_count": 40,
   "id": "660c43d7-0f7d-4f53-83b6-8988fbc185b0",
   "metadata": {},
   "outputs": [],
   "source": [
    "#Charcrete production 5%\n",
    "#Biochar production\n",
    "#market for gravel, crushed\n",
    "#market for electricity, medium voltage\n",
    "#market for tap water\n",
    "#market for sand\n",
    "#market for plasticiser, for concrete, based on sulfonated melamine formaldehyde\n",
    "#market for diesel, burned in building machine\n",
    "#market for cement, Portland\n",
    "#Carbon dioxide, to soil or biomass stock"
   ]
  },
  {
   "cell_type": "code",
   "execution_count": 85,
   "id": "602e7b38-9344-45af-bbaf-fdee57a5365d",
   "metadata": {},
   "outputs": [
    {
     "data": {
      "text/plain": [
       "['concrete production, 20MPa, self-construction, with Portland cement' (cubic meter, RoW, None)]"
      ]
     },
     "execution_count": 85,
     "metadata": {},
     "output_type": "execute_result"
    }
   ],
   "source": [
    "[\n",
    "    act for act in ei_db \n",
    "    if \"concrete production, 20MPa\" in act['name'] \n",
    "    and 'Portland' in act['name']\n",
    "    and 'self-construction' in act['name']\n",
    "    and act['location']=='RoW'\n",
    "]"
   ]
  },
  {
   "cell_type": "code",
   "execution_count": 86,
   "id": "03ae2ab1-af10-44fa-85de-d7a213d89f87",
   "metadata": {},
   "outputs": [],
   "source": [
    "concrete_Utest = [\n",
    "    act for act in ei_db \n",
    "    if \"concrete production, 20MPa\" in act['name'] \n",
    "    and 'Portland' in act['name']\n",
    "    and 'self-construction' in act['name']\n",
    "    and act['location']=='RoW'\n",
    "][0]"
   ]
  },
  {
   "cell_type": "code",
   "execution_count": 87,
   "id": "21afcaae-df5c-4653-9f83-d393e8b1ca0e",
   "metadata": {
    "collapsed": true,
    "jupyter": {
     "outputs_hidden": true
    },
    "tags": []
   },
   "outputs": [
    {
     "data": {
      "text/plain": [
       "[('lubricating oil', 'lubricating oil'),\n",
       " ('wastewater from concrete production',\n",
       "  'wastewater from concrete production'),\n",
       " ('synthetic rubber', 'synthetic rubber'),\n",
       " ('steel, low-alloyed, hot rolled', 'steel, low-alloyed, hot rolled'),\n",
       " ('waste rubber, unspecified', 'waste rubber, unspecified'),\n",
       " ('waste rubber, unspecified', 'waste rubber, unspecified'),\n",
       " ('waste mineral oil', 'waste mineral oil'),\n",
       " ('waste mineral oil', 'waste mineral oil'),\n",
       " ('sand', 'sand'),\n",
       " ('sand', 'sand'),\n",
       " ('sand', 'sand'),\n",
       " ('electricity, medium voltage', 'electricity, medium voltage'),\n",
       " ('electricity, medium voltage', 'electricity, medium voltage'),\n",
       " ('electricity, medium voltage', 'electricity, medium voltage'),\n",
       " ('electricity, medium voltage', 'electricity, medium voltage'),\n",
       " ('electricity, medium voltage', 'electricity, medium voltage'),\n",
       " ('electricity, medium voltage', 'electricity, medium voltage'),\n",
       " ('electricity, medium voltage', 'electricity, medium voltage'),\n",
       " ('electricity, medium voltage', 'electricity, medium voltage'),\n",
       " ('electricity, medium voltage', 'electricity, medium voltage'),\n",
       " ('electricity, medium voltage', 'electricity, medium voltage'),\n",
       " ('electricity, medium voltage', 'electricity, medium voltage'),\n",
       " ('electricity, medium voltage', 'electricity, medium voltage'),\n",
       " ('electricity, medium voltage', 'electricity, medium voltage'),\n",
       " ('electricity, medium voltage', 'electricity, medium voltage'),\n",
       " ('electricity, medium voltage', 'electricity, medium voltage'),\n",
       " ('electricity, medium voltage', 'electricity, medium voltage'),\n",
       " ('electricity, medium voltage', 'electricity, medium voltage'),\n",
       " ('electricity, medium voltage', 'electricity, medium voltage'),\n",
       " ('electricity, medium voltage', 'electricity, medium voltage'),\n",
       " ('electricity, medium voltage', 'electricity, medium voltage'),\n",
       " ('electricity, medium voltage', 'electricity, medium voltage'),\n",
       " ('electricity, medium voltage', 'electricity, medium voltage'),\n",
       " ('electricity, medium voltage', 'electricity, medium voltage'),\n",
       " ('electricity, medium voltage', 'electricity, medium voltage'),\n",
       " ('electricity, medium voltage', 'electricity, medium voltage'),\n",
       " ('electricity, medium voltage', 'electricity, medium voltage'),\n",
       " ('electricity, medium voltage', 'electricity, medium voltage'),\n",
       " ('electricity, medium voltage', 'electricity, medium voltage'),\n",
       " ('electricity, medium voltage', 'electricity, medium voltage'),\n",
       " ('electricity, medium voltage', 'electricity, medium voltage'),\n",
       " ('waste concrete', 'waste concrete'),\n",
       " ('waste concrete', 'waste concrete'),\n",
       " ('scrap steel', 'scrap steel'),\n",
       " ('scrap steel', 'scrap steel'),\n",
       " ('cement, Portland', 'cement, Portland'),\n",
       " ('cement, Portland', 'cement, Portland'),\n",
       " ('cement, Portland', 'cement, Portland'),\n",
       " ('cement, Portland', 'cement, Portland'),\n",
       " ('cement, Portland', 'cement, Portland'),\n",
       " ('cement, Portland', 'cement, Portland'),\n",
       " ('cement, Portland', 'cement, Portland'),\n",
       " ('cement, Portland', 'cement, Portland'),\n",
       " ('gravel, crushed', 'gravel, crushed'),\n",
       " ('gravel, crushed', 'gravel, crushed'),\n",
       " ('gravel, crushed', 'gravel, crushed'),\n",
       " ('gravel, crushed', 'gravel, crushed'),\n",
       " ('tap water', 'tap water'),\n",
       " ('tap water', 'tap water'),\n",
       " ('tap water', 'tap water'),\n",
       " ('tap water', 'tap water'),\n",
       " ('tap water', 'tap water'),\n",
       " ('tap water', 'tap water'),\n",
       " ('tap water', 'tap water')]"
      ]
     },
     "execution_count": 87,
     "metadata": {},
     "output_type": "execute_result"
    }
   ],
   "source": [
    "[(exc['name'], exc.input['reference product'],) for exc in concrete_Utest.technosphere()]"
   ]
  },
  {
   "cell_type": "code",
   "execution_count": 102,
   "id": "17672716-360b-4c31-920a-dfb92cc0e59f",
   "metadata": {},
   "outputs": [
    {
     "data": {
      "text/html": [
       "<div>\n",
       "<style scoped>\n",
       "    .dataframe tbody tr th:only-of-type {\n",
       "        vertical-align: middle;\n",
       "    }\n",
       "\n",
       "    .dataframe tbody tr th {\n",
       "        vertical-align: top;\n",
       "    }\n",
       "\n",
       "    .dataframe thead th {\n",
       "        text-align: right;\n",
       "    }\n",
       "</style>\n",
       "<table border=\"1\" class=\"dataframe\">\n",
       "  <thead>\n",
       "    <tr style=\"text-align: right;\">\n",
       "      <th></th>\n",
       "      <th>name</th>\n",
       "      <th>amount</th>\n",
       "      <th>median</th>\n",
       "      <th>uncertainty type</th>\n",
       "      <th>loc</th>\n",
       "      <th>scale</th>\n",
       "      <th>scale without pedigree</th>\n",
       "    </tr>\n",
       "  </thead>\n",
       "  <tbody>\n",
       "    <tr>\n",
       "      <th>0</th>\n",
       "      <td>lubricating oil</td>\n",
       "      <td>0.049900</td>\n",
       "      <td>0.049900</td>\n",
       "      <td>2</td>\n",
       "      <td>-2.997734</td>\n",
       "      <td>0.555518</td>\n",
       "      <td>0.544059</td>\n",
       "    </tr>\n",
       "    <tr>\n",
       "      <th>31</th>\n",
       "      <td>tap water</td>\n",
       "      <td>1.130376</td>\n",
       "      <td>1.130376</td>\n",
       "      <td>2</td>\n",
       "      <td>0.122550</td>\n",
       "      <td>0.169115</td>\n",
       "      <td>0.024495</td>\n",
       "    </tr>\n",
       "    <tr>\n",
       "      <th>30</th>\n",
       "      <td>tap water</td>\n",
       "      <td>15.275652</td>\n",
       "      <td>15.275652</td>\n",
       "      <td>2</td>\n",
       "      <td>2.726260</td>\n",
       "      <td>0.169115</td>\n",
       "      <td>0.024495</td>\n",
       "    </tr>\n",
       "    <tr>\n",
       "      <th>29</th>\n",
       "      <td>tap water</td>\n",
       "      <td>0.605791</td>\n",
       "      <td>0.605791</td>\n",
       "      <td>2</td>\n",
       "      <td>-0.501220</td>\n",
       "      <td>0.169115</td>\n",
       "      <td>0.024495</td>\n",
       "    </tr>\n",
       "    <tr>\n",
       "      <th>28</th>\n",
       "      <td>tap water</td>\n",
       "      <td>0.366554</td>\n",
       "      <td>0.366554</td>\n",
       "      <td>2</td>\n",
       "      <td>-1.003609</td>\n",
       "      <td>0.169115</td>\n",
       "      <td>0.024495</td>\n",
       "    </tr>\n",
       "    <tr>\n",
       "      <th>27</th>\n",
       "      <td>tap water</td>\n",
       "      <td>3.045149</td>\n",
       "      <td>3.045149</td>\n",
       "      <td>2</td>\n",
       "      <td>1.113550</td>\n",
       "      <td>0.169115</td>\n",
       "      <td>0.024495</td>\n",
       "    </tr>\n",
       "    <tr>\n",
       "      <th>26</th>\n",
       "      <td>gravel, crushed</td>\n",
       "      <td>857.893192</td>\n",
       "      <td>857.893192</td>\n",
       "      <td>2</td>\n",
       "      <td>6.754480</td>\n",
       "      <td>0.143527</td>\n",
       "      <td>0.024495</td>\n",
       "    </tr>\n",
       "    <tr>\n",
       "      <th>25</th>\n",
       "      <td>gravel, crushed</td>\n",
       "      <td>1.132687</td>\n",
       "      <td>1.132687</td>\n",
       "      <td>2</td>\n",
       "      <td>0.124593</td>\n",
       "      <td>0.143527</td>\n",
       "      <td>0.024495</td>\n",
       "    </tr>\n",
       "    <tr>\n",
       "      <th>24</th>\n",
       "      <td>gravel, crushed</td>\n",
       "      <td>17.156077</td>\n",
       "      <td>17.156077</td>\n",
       "      <td>2</td>\n",
       "      <td>2.842352</td>\n",
       "      <td>0.143527</td>\n",
       "      <td>0.024495</td>\n",
       "    </tr>\n",
       "    <tr>\n",
       "      <th>23</th>\n",
       "      <td>gravel, crushed</td>\n",
       "      <td>187.396044</td>\n",
       "      <td>187.396044</td>\n",
       "      <td>2</td>\n",
       "      <td>5.233224</td>\n",
       "      <td>0.143527</td>\n",
       "      <td>0.024495</td>\n",
       "    </tr>\n",
       "    <tr>\n",
       "      <th>22</th>\n",
       "      <td>cement, Portland</td>\n",
       "      <td>264.479962</td>\n",
       "      <td>264.479962</td>\n",
       "      <td>2</td>\n",
       "      <td>5.577765</td>\n",
       "      <td>0.112250</td>\n",
       "      <td>0.000000</td>\n",
       "    </tr>\n",
       "    <tr>\n",
       "      <th>21</th>\n",
       "      <td>cement, Portland</td>\n",
       "      <td>1.842559</td>\n",
       "      <td>1.842559</td>\n",
       "      <td>2</td>\n",
       "      <td>0.611155</td>\n",
       "      <td>0.112250</td>\n",
       "      <td>0.000000</td>\n",
       "    </tr>\n",
       "    <tr>\n",
       "      <th>20</th>\n",
       "      <td>cement, Portland</td>\n",
       "      <td>44.969675</td>\n",
       "      <td>44.969675</td>\n",
       "      <td>2</td>\n",
       "      <td>3.805988</td>\n",
       "      <td>0.112250</td>\n",
       "      <td>0.000000</td>\n",
       "    </tr>\n",
       "    <tr>\n",
       "      <th>19</th>\n",
       "      <td>cement, Portland</td>\n",
       "      <td>40.193432</td>\n",
       "      <td>40.193432</td>\n",
       "      <td>2</td>\n",
       "      <td>3.693704</td>\n",
       "      <td>0.112250</td>\n",
       "      <td>0.000000</td>\n",
       "    </tr>\n",
       "    <tr>\n",
       "      <th>18</th>\n",
       "      <td>cement, Portland</td>\n",
       "      <td>38.834196</td>\n",
       "      <td>38.834196</td>\n",
       "      <td>2</td>\n",
       "      <td>3.659301</td>\n",
       "      <td>0.112250</td>\n",
       "      <td>0.000000</td>\n",
       "    </tr>\n",
       "    <tr>\n",
       "      <th>17</th>\n",
       "      <td>cement, Portland</td>\n",
       "      <td>0.466254</td>\n",
       "      <td>0.466254</td>\n",
       "      <td>2</td>\n",
       "      <td>-0.763025</td>\n",
       "      <td>0.112250</td>\n",
       "      <td>0.000000</td>\n",
       "    </tr>\n",
       "    <tr>\n",
       "      <th>16</th>\n",
       "      <td>cement, Portland</td>\n",
       "      <td>1.892859</td>\n",
       "      <td>1.892859</td>\n",
       "      <td>2</td>\n",
       "      <td>0.638088</td>\n",
       "      <td>0.112250</td>\n",
       "      <td>0.000000</td>\n",
       "    </tr>\n",
       "    <tr>\n",
       "      <th>15</th>\n",
       "      <td>cement, Portland</td>\n",
       "      <td>1.296064</td>\n",
       "      <td>1.296064</td>\n",
       "      <td>2</td>\n",
       "      <td>0.259332</td>\n",
       "      <td>0.112250</td>\n",
       "      <td>0.000000</td>\n",
       "    </tr>\n",
       "    <tr>\n",
       "      <th>1</th>\n",
       "      <td>wastewater from concrete production</td>\n",
       "      <td>-0.024720</td>\n",
       "      <td>0.024720</td>\n",
       "      <td>2</td>\n",
       "      <td>-3.700143</td>\n",
       "      <td>0.115326</td>\n",
       "      <td>0.100000</td>\n",
       "    </tr>\n",
       "    <tr>\n",
       "      <th>2</th>\n",
       "      <td>synthetic rubber</td>\n",
       "      <td>0.034500</td>\n",
       "      <td>0.034500</td>\n",
       "      <td>2</td>\n",
       "      <td>-3.366796</td>\n",
       "      <td>0.855921</td>\n",
       "      <td>0.848528</td>\n",
       "    </tr>\n",
       "    <tr>\n",
       "      <th>3</th>\n",
       "      <td>steel, low-alloyed, hot rolled</td>\n",
       "      <td>0.023800</td>\n",
       "      <td>0.023800</td>\n",
       "      <td>2</td>\n",
       "      <td>-3.738070</td>\n",
       "      <td>0.150333</td>\n",
       "      <td>0.100000</td>\n",
       "    </tr>\n",
       "    <tr>\n",
       "      <th>4</th>\n",
       "      <td>waste rubber, unspecified</td>\n",
       "      <td>-0.001390</td>\n",
       "      <td>0.001390</td>\n",
       "      <td>2</td>\n",
       "      <td>-6.578485</td>\n",
       "      <td>0.555518</td>\n",
       "      <td>0.544059</td>\n",
       "    </tr>\n",
       "    <tr>\n",
       "      <th>5</th>\n",
       "      <td>waste rubber, unspecified</td>\n",
       "      <td>-0.033110</td>\n",
       "      <td>0.033110</td>\n",
       "      <td>2</td>\n",
       "      <td>-3.407919</td>\n",
       "      <td>0.555518</td>\n",
       "      <td>0.544059</td>\n",
       "    </tr>\n",
       "    <tr>\n",
       "      <th>6</th>\n",
       "      <td>waste mineral oil</td>\n",
       "      <td>-0.001205</td>\n",
       "      <td>0.001205</td>\n",
       "      <td>2</td>\n",
       "      <td>-6.720875</td>\n",
       "      <td>0.150333</td>\n",
       "      <td>0.100000</td>\n",
       "    </tr>\n",
       "    <tr>\n",
       "      <th>32</th>\n",
       "      <td>tap water</td>\n",
       "      <td>130.532685</td>\n",
       "      <td>130.532685</td>\n",
       "      <td>2</td>\n",
       "      <td>4.871624</td>\n",
       "      <td>0.169115</td>\n",
       "      <td>0.024495</td>\n",
       "    </tr>\n",
       "    <tr>\n",
       "      <th>7</th>\n",
       "      <td>waste mineral oil</td>\n",
       "      <td>-0.048695</td>\n",
       "      <td>0.048695</td>\n",
       "      <td>2</td>\n",
       "      <td>-3.022189</td>\n",
       "      <td>0.150333</td>\n",
       "      <td>0.100000</td>\n",
       "    </tr>\n",
       "    <tr>\n",
       "      <th>9</th>\n",
       "      <td>sand</td>\n",
       "      <td>8.346382</td>\n",
       "      <td>8.346382</td>\n",
       "      <td>2</td>\n",
       "      <td>2.121828</td>\n",
       "      <td>0.143527</td>\n",
       "      <td>0.024495</td>\n",
       "    </tr>\n",
       "    <tr>\n",
       "      <th>10</th>\n",
       "      <td>sand</td>\n",
       "      <td>3.618949</td>\n",
       "      <td>3.618949</td>\n",
       "      <td>2</td>\n",
       "      <td>1.286184</td>\n",
       "      <td>0.143527</td>\n",
       "      <td>0.024495</td>\n",
       "    </tr>\n",
       "    <tr>\n",
       "      <th>11</th>\n",
       "      <td>waste concrete</td>\n",
       "      <td>-0.249416</td>\n",
       "      <td>0.249416</td>\n",
       "      <td>2</td>\n",
       "      <td>-1.388635</td>\n",
       "      <td>0.150333</td>\n",
       "      <td>0.100000</td>\n",
       "    </tr>\n",
       "    <tr>\n",
       "      <th>12</th>\n",
       "      <td>waste concrete</td>\n",
       "      <td>-70.543834</td>\n",
       "      <td>70.543834</td>\n",
       "      <td>2</td>\n",
       "      <td>4.256234</td>\n",
       "      <td>0.150333</td>\n",
       "      <td>0.100000</td>\n",
       "    </tr>\n",
       "    <tr>\n",
       "      <th>13</th>\n",
       "      <td>scrap steel</td>\n",
       "      <td>-0.000030</td>\n",
       "      <td>0.000030</td>\n",
       "      <td>2</td>\n",
       "      <td>-10.410467</td>\n",
       "      <td>0.150333</td>\n",
       "      <td>0.100000</td>\n",
       "    </tr>\n",
       "    <tr>\n",
       "      <th>14</th>\n",
       "      <td>scrap steel</td>\n",
       "      <td>-0.023770</td>\n",
       "      <td>0.023770</td>\n",
       "      <td>2</td>\n",
       "      <td>-3.739336</td>\n",
       "      <td>0.150333</td>\n",
       "      <td>0.100000</td>\n",
       "    </tr>\n",
       "    <tr>\n",
       "      <th>8</th>\n",
       "      <td>sand</td>\n",
       "      <td>697.086669</td>\n",
       "      <td>697.086669</td>\n",
       "      <td>2</td>\n",
       "      <td>6.546910</td>\n",
       "      <td>0.143527</td>\n",
       "      <td>0.024495</td>\n",
       "    </tr>\n",
       "    <tr>\n",
       "      <th>33</th>\n",
       "      <td>tap water</td>\n",
       "      <td>174.807043</td>\n",
       "      <td>174.807043</td>\n",
       "      <td>2</td>\n",
       "      <td>5.163683</td>\n",
       "      <td>0.169115</td>\n",
       "      <td>0.024495</td>\n",
       "    </tr>\n",
       "  </tbody>\n",
       "</table>\n",
       "</div>"
      ],
      "text/plain": [
       "                                   name      amount      median  \\\n",
       "0                       lubricating oil    0.049900    0.049900   \n",
       "31                            tap water    1.130376    1.130376   \n",
       "30                            tap water   15.275652   15.275652   \n",
       "29                            tap water    0.605791    0.605791   \n",
       "28                            tap water    0.366554    0.366554   \n",
       "27                            tap water    3.045149    3.045149   \n",
       "26                      gravel, crushed  857.893192  857.893192   \n",
       "25                      gravel, crushed    1.132687    1.132687   \n",
       "24                      gravel, crushed   17.156077   17.156077   \n",
       "23                      gravel, crushed  187.396044  187.396044   \n",
       "22                     cement, Portland  264.479962  264.479962   \n",
       "21                     cement, Portland    1.842559    1.842559   \n",
       "20                     cement, Portland   44.969675   44.969675   \n",
       "19                     cement, Portland   40.193432   40.193432   \n",
       "18                     cement, Portland   38.834196   38.834196   \n",
       "17                     cement, Portland    0.466254    0.466254   \n",
       "16                     cement, Portland    1.892859    1.892859   \n",
       "15                     cement, Portland    1.296064    1.296064   \n",
       "1   wastewater from concrete production   -0.024720    0.024720   \n",
       "2                      synthetic rubber    0.034500    0.034500   \n",
       "3        steel, low-alloyed, hot rolled    0.023800    0.023800   \n",
       "4             waste rubber, unspecified   -0.001390    0.001390   \n",
       "5             waste rubber, unspecified   -0.033110    0.033110   \n",
       "6                     waste mineral oil   -0.001205    0.001205   \n",
       "32                            tap water  130.532685  130.532685   \n",
       "7                     waste mineral oil   -0.048695    0.048695   \n",
       "9                                  sand    8.346382    8.346382   \n",
       "10                                 sand    3.618949    3.618949   \n",
       "11                       waste concrete   -0.249416    0.249416   \n",
       "12                       waste concrete  -70.543834   70.543834   \n",
       "13                          scrap steel   -0.000030    0.000030   \n",
       "14                          scrap steel   -0.023770    0.023770   \n",
       "8                                  sand  697.086669  697.086669   \n",
       "33                            tap water  174.807043  174.807043   \n",
       "\n",
       "    uncertainty type        loc     scale  scale without pedigree  \n",
       "0                  2  -2.997734  0.555518                0.544059  \n",
       "31                 2   0.122550  0.169115                0.024495  \n",
       "30                 2   2.726260  0.169115                0.024495  \n",
       "29                 2  -0.501220  0.169115                0.024495  \n",
       "28                 2  -1.003609  0.169115                0.024495  \n",
       "27                 2   1.113550  0.169115                0.024495  \n",
       "26                 2   6.754480  0.143527                0.024495  \n",
       "25                 2   0.124593  0.143527                0.024495  \n",
       "24                 2   2.842352  0.143527                0.024495  \n",
       "23                 2   5.233224  0.143527                0.024495  \n",
       "22                 2   5.577765  0.112250                0.000000  \n",
       "21                 2   0.611155  0.112250                0.000000  \n",
       "20                 2   3.805988  0.112250                0.000000  \n",
       "19                 2   3.693704  0.112250                0.000000  \n",
       "18                 2   3.659301  0.112250                0.000000  \n",
       "17                 2  -0.763025  0.112250                0.000000  \n",
       "16                 2   0.638088  0.112250                0.000000  \n",
       "15                 2   0.259332  0.112250                0.000000  \n",
       "1                  2  -3.700143  0.115326                0.100000  \n",
       "2                  2  -3.366796  0.855921                0.848528  \n",
       "3                  2  -3.738070  0.150333                0.100000  \n",
       "4                  2  -6.578485  0.555518                0.544059  \n",
       "5                  2  -3.407919  0.555518                0.544059  \n",
       "6                  2  -6.720875  0.150333                0.100000  \n",
       "32                 2   4.871624  0.169115                0.024495  \n",
       "7                  2  -3.022189  0.150333                0.100000  \n",
       "9                  2   2.121828  0.143527                0.024495  \n",
       "10                 2   1.286184  0.143527                0.024495  \n",
       "11                 2  -1.388635  0.150333                0.100000  \n",
       "12                 2   4.256234  0.150333                0.100000  \n",
       "13                 2 -10.410467  0.150333                0.100000  \n",
       "14                 2  -3.739336  0.150333                0.100000  \n",
       "8                  2   6.546910  0.143527                0.024495  \n",
       "33                 2   5.163683  0.169115                0.024495  "
      ]
     },
     "execution_count": 102,
     "metadata": {},
     "output_type": "execute_result"
    }
   ],
   "source": [
    "listU_test = []\n",
    "for exc in concrete_Utest.technosphere():\n",
    "    if exc['uncertainty type']==0:\n",
    "        pass\n",
    "    if 'electricity' in exc['name']:\n",
    "        pass\n",
    "    else:\n",
    "        listU_test.append([exc['name'], exc['amount'],np.exp(exc['loc']),exc['uncertainty type'],exc['loc'],exc['scale'],exc['scale without pedigree']])\n",
    "res = pd.DataFrame(data = listU_test, columns = ['name','amount','median','uncertainty type', 'loc','scale','scale without pedigree'])\n",
    "res.sort_values(axis = 0, by ='uncertainty type')"
   ]
  },
  {
   "cell_type": "code",
   "execution_count": 101,
   "id": "20b337dc-6848-482f-97d1-5a369f3ca765",
   "metadata": {},
   "outputs": [
    {
     "data": {
      "text/plain": [
       "3.01296747430444e-05"
      ]
     },
     "execution_count": 101,
     "metadata": {},
     "output_type": "execute_result"
    }
   ],
   "source": [
    "np.exp(-10.41)"
   ]
  },
  {
   "cell_type": "code",
   "execution_count": 62,
   "id": "77973724-a53a-4c3e-9882-469d429df01a",
   "metadata": {
    "collapsed": true,
    "jupyter": {
     "outputs_hidden": true
    },
    "tags": []
   },
   "outputs": [
    {
     "data": {
      "text/plain": [
       "{'flow': '7e9077e8-7bbc-44c4-9759-62526ff34d47',\n",
       " 'type': 'technosphere',\n",
       " 'name': 'concrete, 20MPa',\n",
       " 'classifications': {'CPC': ['37510: Non-refractory mortars and concretes']},\n",
       " 'production volume': 1451925.41,\n",
       " 'properties': {'cement content': {'amount': 393.975, 'unit': 'kg'},\n",
       "  'wet mass': {'amount': 2359.775, 'comment': 'calculated', 'unit': 'kg'},\n",
       "  'water in wet mass': {'amount': 256.275,\n",
       "   'comment': 'calculated',\n",
       "   'unit': 'kg'},\n",
       "  'price': {'amount': 185.0,\n",
       "   'comment': \"Estimated to be the same price as in case of concrete, normal (Data are not easily available. Therefore, an average price of products supplied by the activities in the same ISIC 3 code has been applied.This price is obtained as '_49 Concrete, asphalt and other mineral products, EU27 virgin, EU27' in the 'EU & DK Input Output Database' (available in SimaPro).\\xa0The price is assumed to be valid for both RER2003, RER 2004, world 2003 and world 2004.\\xa0  Multiplied by density.).\",\n",
       "   'unit': 'EUR2005'},\n",
       "  'water content': {'amount': 0.121832659852627,\n",
       "   'comment': 'calculated',\n",
       "   'unit': 'dimensionless'},\n",
       "  'gravel content': {'amount': 1063.578,\n",
       "   'comment': 'calculated',\n",
       "   'unit': 'kg'},\n",
       "  'carbon content, fossil': {'amount': 0.0, 'unit': 'dimensionless'},\n",
       "  'dry mass': {'amount': 2103.5, 'comment': 'calculated', 'unit': 'kg'},\n",
       "  'sand content': {'amount': 709.052, 'comment': 'calculated', 'unit': 'kg'},\n",
       "  'carbon content': {'amount': 0.0,\n",
       "   'comment': 'carbon content on a dry matter basis (reserved; not for manual entry)',\n",
       "   'unit': 'dimensionless'},\n",
       "  'carbon allocation': {'amount': 0.0,\n",
       "   'comment': 'carbon content per unit of product (reserved; not for manual entry)',\n",
       "   'unit': 'kg'}},\n",
       " 'activity': 'd7e1aa1c-b5ea-4515-a348-568f3752837d',\n",
       " 'unit': 'cubic meter',\n",
       " 'amount': 0.00476906802576192,\n",
       " 'uncertainty type': 0,\n",
       " 'loc': 0.00476906802576192,\n",
       " 'input': ('ei 3.8 cutoff', '54b28d364418ad0c652df3084c8a0436'),\n",
       " 'output': ('ei 3.8 cutoff', '4075d2b8626c55a4f5f6fc6c1804ef0f')}"
      ]
     },
     "execution_count": 62,
     "metadata": {},
     "output_type": "execute_result"
    }
   ],
   "source": [
    "testUexc = [exc for exc in concrete_Utest.technosphere()][]\n",
    "testUexc.as_dict()"
   ]
  },
  {
   "cell_type": "code",
   "execution_count": 56,
   "id": "1a0cb366-fc3e-4c4f-8d05-05f19a36b98f",
   "metadata": {},
   "outputs": [
    {
     "data": {
      "text/plain": [
       "[2, 4.891647620237037, 0.44944410108488464, 0.34641016151377546]"
      ]
     },
     "execution_count": 56,
     "metadata": {},
     "output_type": "execute_result"
    }
   ],
   "source": [
    "[\n",
    "    testUexc['uncertainty type'],\n",
    "    testUexc['loc'],\n",
    "    testUexc['scale'],\n",
    "    testUexc['scale without pedigree'],\n",
    "]"
   ]
  },
  {
   "cell_type": "code",
   "execution_count": null,
   "id": "c3a55a83-f070-4208-b13c-91cb3e3014a6",
   "metadata": {},
   "outputs": [],
   "source": [
    "sa."
   ]
  },
  {
   "cell_type": "code",
   "execution_count": null,
   "id": "6989f813-929f-4b8e-ac70-1a5bb8e2f4dd",
   "metadata": {},
   "outputs": [],
   "source": [
    "t_distributions = np.array([\n",
    "    (sa.UndefinedUncertainty.id, 1, np.nan, np.nan, np.nan, np.nan, np.nan), #charcrete production\n",
    "    (sa.TriangularUncertainty.id, 0.01, np.nan, np.nan, 0.95, 1.2, np.nan), #biochar production\n",
    "    (sa.UniformUncertainty.id, 1000, np.nan, np.nan, 0.9, 1.1, np.nan), #gravel\n",
    "    (sa.NormalUncertainty.id, 5.5, 30, np.nan, np.nan, np.nan, np.nan), #electricity\n",
    "    (sa.NormalUncertainty.id, 156, 0.7, np.nan, np.nan, np.nan, np.nan), #tap water\n",
    "    (sa.NormalUncertainty.id, 938, 0.7, np.nan, np.nan, np.nan, np.nan), #sand\n",
    "    (sa.NormalUncertainty.id, 3.2, 0.7, np.nan, np.nan, np.nan, np.nan), #plasticiser\n",
    "    (sa.NormalUncertainty.id, 0.2, 0.7, np.nan, np.nan, np.nan, np.nan), #diesel\n",
    "    (sa.NormalUncertainty.id, 186.8, 0.7, np.nan, np.nan, np.nan, np.nan), #cement\n",
    "    ],\n",
    "    dtype=bwp.UNCERTAINTY_DTYPE\n",
    ")\n",
    "C02seq_dist = "
   ]
  },
  {
   "cell_type": "markdown",
   "id": "d232ba61-d20f-4822-b5a8-7586ee4c9ceb",
   "metadata": {},
   "source": [
    "## 6.WiP on correlated samples"
   ]
  },
  {
   "cell_type": "code",
   "execution_count": 18,
   "id": "98f04724-0485-440f-a14f-a11bc2b5b790",
   "metadata": {
    "collapsed": true,
    "jupyter": {
     "outputs_hidden": true
    },
    "tags": []
   },
   "outputs": [
    {
     "data": {
      "text/plain": [
       "{'comment': 'Hardening is assumed to be by air-drying. It is assumed that there is wastewater and solid waste, but as no exact description on the composition of the wastewater and solid waste is available a proxy for each (\"treatment, concrete production effluent, to wastewater treatment, class 3\" and \"disposal, municipal solid waste, 22.9% water, to municipal incineration\") is used. The lifespan of the plant is assumed to be 50 years.\\nLightweight concrete block. Image source: http://keramzit.by/data/pictures/poduct/block1.png\\nImage: https://db3.ecoinvent.org/images/0b755024-3429-4acb-a241-cffdc608c3ff\\nGeography:  For some exchanges CH, RER and GLO modules have been used as proxy.\\nTechnology:  The raw material mixture (aggregates, cement and water) of lightweight concrete blocks are poured into a mould then squeezed and finaly hardened by air (assumption for this study)',\n",
       " 'classifications': [('EcoSpold01Categories',\n",
       "   'construction materials/concrete'),\n",
       "  ('ISIC rev.4 ecoinvent',\n",
       "   '2399:Manufacture of other non-metallic mineral products n.e.c.'),\n",
       "  ('CPC', '379: Other non-metallic mineral products n.e.c.')],\n",
       " 'activity type': 'ordinary transforming activity',\n",
       " 'activity': '37cc0279-2b41-4284-8c11-8534b76be7c1',\n",
       " 'database': 'ei 3.8 cutoff',\n",
       " 'filename': '37cc0279-2b41-4284-8c11-8534b76be7c1_d3ed2316-27eb-4d4f-91d1-b379b4c6ead1.spold',\n",
       " 'location': 'CH',\n",
       " 'name': 'lightweight concrete block production, expanded clay',\n",
       " 'synonyms': [],\n",
       " 'parameters': [{'description': 'fraction, process water, to air',\n",
       "   'id': 'daadf2d4-7bbb-4f69-8ab5-58df4c1685eb',\n",
       "   'unit': 'dimensionless',\n",
       "   'comment': 'Literature value. In case when no industry/process specific data are available, default evaporation fraction value is used. This value is 15% and is based on literature (Statistics Canada, 2007 & Shaffer, K.H., 2008, Consumptive water use in the Great Lakes Basin, USGS & Shiklomanov, 2003, World Water Resources at the Beginning of the 21st Century) and has been approved by an expert.',\n",
       "   'amount': 0.15,\n",
       "   'pedigree': {'reliability': 4,\n",
       "    'completeness': 4,\n",
       "    'temporal correlation': 3,\n",
       "    'geographical correlation': 2,\n",
       "    'further technological correlation': 4},\n",
       "   'uncertainty type': 2,\n",
       "   'loc': -1.897,\n",
       "   'scale': 0.30335622624235026,\n",
       "   'scale without pedigree': 0.2,\n",
       "   'name': 'fraction_PW_to_air'},\n",
       "  {'description': 'fraction, tap water, to air',\n",
       "   'id': '148c8010-cc60-48cd-9b40-fc7278e377f7',\n",
       "   'unit': 'dimensionless',\n",
       "   'comment': 'Calculated value. See comment in the other parametres present in this dataset. Tap water is considered to be always used as process water, thus process water fractions to air are applied to all tap water input flows to calculate the amount of water consumed in the processes.',\n",
       "   'amount': 0.15,\n",
       "   'pedigree': {'reliability': 4,\n",
       "    'completeness': 4,\n",
       "    'temporal correlation': 3,\n",
       "    'geographical correlation': 2,\n",
       "    'further technological correlation': 4},\n",
       "   'uncertainty type': 2,\n",
       "   'loc': -1.897,\n",
       "   'scale': 0.30335622624235026,\n",
       "   'scale without pedigree': 0.2,\n",
       "   'name': 'fraction_TW_to_air'}],\n",
       " 'authors': {'data entry': {'name': 'Daniel Kellenberger (obsolete)',\n",
       "   'email': 'empa@ecoinvent.org'},\n",
       "  'data generator': {'name': 'Daniel Kellenberger (obsolete)',\n",
       "   'email': 'empa@ecoinvent.org'}},\n",
       " 'type': 'process',\n",
       " 'reference product': 'lightweight concrete block, expanded clay',\n",
       " 'flow': 'd3ed2316-27eb-4d4f-91d1-b379b4c6ead1',\n",
       " 'unit': 'kilogram',\n",
       " 'production amount': 1.0,\n",
       " 'code': 'fa79821e16194531cab504b4f8f280b7',\n",
       " 'id': 16218}"
      ]
     },
     "execution_count": 18,
     "metadata": {},
     "output_type": "execute_result"
    }
   ],
   "source": [
    "[act for act in ei_db if 'concrete' in act['name']][0].as_dict()"
   ]
  },
  {
   "cell_type": "code",
   "execution_count": 19,
   "id": "94f0aa3e-1771-48b1-9e26-eb036b2df7fd",
   "metadata": {
    "collapsed": true,
    "jupyter": {
     "outputs_hidden": true
    }
   },
   "outputs": [
    {
     "data": {
      "text/plain": [
       "['concrete production 20MPa' (cubic meter, CA-QC, None),\n",
       " 'concrete production 20MPa' (cubic meter, ZA, None),\n",
       " 'concrete production 20MPa' (cubic meter, RoW, None),\n",
       " 'concrete production 20MPa' (cubic meter, North America without Quebec, None)]"
      ]
     },
     "execution_count": 19,
     "metadata": {},
     "output_type": "execute_result"
    }
   ],
   "source": [
    "concrete_ei_20MPa = [act for act in ei_db if \"concrete production 20MPa\" in act[\"name\"]]\n",
    "concrete_ei_20MPa"
   ]
  },
  {
   "cell_type": "code",
   "execution_count": 37,
   "id": "6e0e9b7f-2248-475f-934f-7fea914f26b8",
   "metadata": {
    "collapsed": true,
    "jupyter": {
     "outputs_hidden": true
    }
   },
   "outputs": [
    {
     "data": {
      "text/plain": [
       "{'acetic acid, without water, in 98% solution state',\n",
       " 'alkylbenzene sulfonate, linear, petrochemical',\n",
       " 'cement, Portland',\n",
       " 'cement, portland fly ash cement 21-35%',\n",
       " 'chemical, organic',\n",
       " 'ethylene oxide',\n",
       " 'gravel, round',\n",
       " 'lubricating oil',\n",
       " 'sand',\n",
       " 'steel, low-alloyed, hot rolled',\n",
       " 'synthetic rubber',\n",
       " 'tap water',\n",
       " 'waste concrete'}"
      ]
     },
     "execution_count": 37,
     "metadata": {},
     "output_type": "execute_result"
    }
   ],
   "source": [
    "exc_list = []\n",
    "for act in concrete_ei_20MPa :\n",
    "     for exc in act.technosphere():\n",
    "         if exc['unit']== 'kilogram': \n",
    "            exc_list.append(exc['name'])\n",
    "         else: \n",
    "            pass\n",
    "exc_list = set(exc_list)\n",
    "exc_list"
   ]
  },
  {
   "cell_type": "code",
   "execution_count": 54,
   "id": "a40e48c1-08f1-428b-9d0d-4e9daf3d182e",
   "metadata": {
    "collapsed": true,
    "jupyter": {
     "outputs_hidden": true
    }
   },
   "outputs": [
    {
     "data": {
      "text/plain": [
       "4"
      ]
     },
     "execution_count": 54,
     "metadata": {},
     "output_type": "execute_result"
    }
   ],
   "source": [
    "len(concrete_ei_20MPa)"
   ]
  },
  {
   "cell_type": "code",
   "execution_count": 47,
   "id": "a3d3e658-4a56-4e3c-9bc8-60edd7118e80",
   "metadata": {
    "collapsed": true,
    "jupyter": {
     "outputs_hidden": true
    }
   },
   "outputs": [
    {
     "data": {
      "text/plain": [
       "[['concrete production 20MPa', 2330.772867449367],\n",
       " ['concrete production 20MPa', 2415.9284602953603],\n",
       " ['concrete production 20MPa', 2415.9284602953594],\n",
       " ['concrete production 20MPa', 2338.1568988804133]]"
      ]
     },
     "execution_count": 47,
     "metadata": {},
     "output_type": "execute_result"
    }
   ],
   "source": [
    "density_mapping = []\n",
    "for act in concrete_ei_20MPa :\n",
    "    d=0\n",
    "    for exc in act.technosphere():\n",
    "        if exc['unit']== 'kilogram': \n",
    "            d = d + exc['amount']     \n",
    "        else: \n",
    "            pass\n",
    "    density_mapping.append([act['name'],d])\n",
    "density_mapping"
   ]
  },
  {
   "cell_type": "code",
   "execution_count": 73,
   "id": "4636c81b-3445-4458-80db-58c61c7be08b",
   "metadata": {
    "collapsed": true,
    "jupyter": {
     "outputs_hidden": true
    }
   },
   "outputs": [],
   "source": [
    "def ComputeDensity(act_list_in_cubic_meter):\n",
    "    density_mapping = []\n",
    "    for act in act_list_in_cubic_meter :\n",
    "        d=0\n",
    "        try : \n",
    "            act['unit']=='cubic meter'\n",
    "        except ValueError:\n",
    "            raise ValutError(\"activity unit has to be cubic meter\")\n",
    "        for exc in act.technosphere():\n",
    "            if exc['unit']== 'kilogram': \n",
    "                d = d + exc['amount']\n",
    "            else:\n",
    "                pass\n",
    "        density_mapping.append([act['name'], act['location'],d])\n",
    "    return pd.DataFrame(density_mapping , columns = [\"Activity Name\", \"Location\",\"density\"])"
   ]
  },
  {
   "cell_type": "code",
   "execution_count": 74,
   "id": "28845374-94a7-44c7-bbd1-166e35e84041",
   "metadata": {
    "collapsed": true,
    "jupyter": {
     "outputs_hidden": true
    }
   },
   "outputs": [
    {
     "data": {
      "text/html": [
       "<div>\n",
       "<style scoped>\n",
       "    .dataframe tbody tr th:only-of-type {\n",
       "        vertical-align: middle;\n",
       "    }\n",
       "\n",
       "    .dataframe tbody tr th {\n",
       "        vertical-align: top;\n",
       "    }\n",
       "\n",
       "    .dataframe thead th {\n",
       "        text-align: right;\n",
       "    }\n",
       "</style>\n",
       "<table border=\"1\" class=\"dataframe\">\n",
       "  <thead>\n",
       "    <tr style=\"text-align: right;\">\n",
       "      <th></th>\n",
       "      <th>Activity Name</th>\n",
       "      <th>Location</th>\n",
       "      <th>density</th>\n",
       "    </tr>\n",
       "  </thead>\n",
       "  <tbody>\n",
       "    <tr>\n",
       "      <th>0</th>\n",
       "      <td>concrete production 20MPa</td>\n",
       "      <td>CA-QC</td>\n",
       "      <td>2330.772867</td>\n",
       "    </tr>\n",
       "    <tr>\n",
       "      <th>1</th>\n",
       "      <td>concrete production 20MPa</td>\n",
       "      <td>ZA</td>\n",
       "      <td>2415.928460</td>\n",
       "    </tr>\n",
       "    <tr>\n",
       "      <th>2</th>\n",
       "      <td>concrete production 20MPa</td>\n",
       "      <td>RoW</td>\n",
       "      <td>2415.928460</td>\n",
       "    </tr>\n",
       "    <tr>\n",
       "      <th>3</th>\n",
       "      <td>concrete production 20MPa</td>\n",
       "      <td>North America without Quebec</td>\n",
       "      <td>2338.156899</td>\n",
       "    </tr>\n",
       "  </tbody>\n",
       "</table>\n",
       "</div>"
      ],
      "text/plain": [
       "               Activity Name                      Location      density\n",
       "0  concrete production 20MPa                         CA-QC  2330.772867\n",
       "1  concrete production 20MPa                            ZA  2415.928460\n",
       "2  concrete production 20MPa                           RoW  2415.928460\n",
       "3  concrete production 20MPa  North America without Quebec  2338.156899"
      ]
     },
     "execution_count": 74,
     "metadata": {},
     "output_type": "execute_result"
    }
   ],
   "source": [
    "ComputeDensity(concrete_ei_20MPa)"
   ]
  },
  {
   "cell_type": "code",
   "execution_count": 105,
   "id": "1f6f562b-2d2e-4c8e-b7a9-12bf274dad7b",
   "metadata": {
    "collapsed": true,
    "jupyter": {
     "outputs_hidden": true
    }
   },
   "outputs": [],
   "source": [
    "l = [\n",
    "act for act in ei_db \n",
    "    if 'concrete' in act['name'] \n",
    "    and act['unit']=='cubic meter' \n",
    "    and 'market' not in act['name']\n",
    "    and 'treatment' not in act['name']\n",
    "    and 'slab' not in act['name']\n",
    "]"
   ]
  },
  {
   "cell_type": "code",
   "execution_count": 106,
   "id": "4deb51e1-2208-4bfd-977a-fce02b80b30e",
   "metadata": {
    "collapsed": true,
    "jupyter": {
     "outputs_hidden": true
    }
   },
   "outputs": [],
   "source": [
    "density_table = ComputeDensity(l)"
   ]
  },
  {
   "cell_type": "code",
   "execution_count": 107,
   "id": "a8b54992-66c5-420c-8225-7825e92544d4",
   "metadata": {
    "collapsed": true,
    "jupyter": {
     "outputs_hidden": true
    }
   },
   "outputs": [
    {
     "data": {
      "text/html": [
       "<div>\n",
       "<style scoped>\n",
       "    .dataframe tbody tr th:only-of-type {\n",
       "        vertical-align: middle;\n",
       "    }\n",
       "\n",
       "    .dataframe tbody tr th {\n",
       "        vertical-align: top;\n",
       "    }\n",
       "\n",
       "    .dataframe thead th {\n",
       "        text-align: right;\n",
       "    }\n",
       "</style>\n",
       "<table border=\"1\" class=\"dataframe\">\n",
       "  <thead>\n",
       "    <tr style=\"text-align: right;\">\n",
       "      <th></th>\n",
       "      <th>Activity Name</th>\n",
       "      <th>Location</th>\n",
       "      <th>density</th>\n",
       "    </tr>\n",
       "  </thead>\n",
       "  <tbody>\n",
       "    <tr>\n",
       "      <th>64</th>\n",
       "      <td>concrete production, 40MPa, ready-mix, with ce...</td>\n",
       "      <td>RoW</td>\n",
       "      <td>2182.69546</td>\n",
       "    </tr>\n",
       "    <tr>\n",
       "      <th>21</th>\n",
       "      <td>concrete production, 40MPa, ready-mix, with ce...</td>\n",
       "      <td>BR</td>\n",
       "      <td>2182.69546</td>\n",
       "    </tr>\n",
       "    <tr>\n",
       "      <th>59</th>\n",
       "      <td>lean concrete production, with cement CEM II/B</td>\n",
       "      <td>CH</td>\n",
       "      <td>2244.80000</td>\n",
       "    </tr>\n",
       "    <tr>\n",
       "      <th>9</th>\n",
       "      <td>lean concrete production, with cement CEM II/A</td>\n",
       "      <td>CH</td>\n",
       "      <td>2244.80000</td>\n",
       "    </tr>\n",
       "    <tr>\n",
       "      <th>68</th>\n",
       "      <td>lean concrete production, with cement CEM II/A</td>\n",
       "      <td>RoW</td>\n",
       "      <td>2244.80000</td>\n",
       "    </tr>\n",
       "    <tr>\n",
       "      <th>...</th>\n",
       "      <td>...</td>\n",
       "      <td>...</td>\n",
       "      <td>...</td>\n",
       "    </tr>\n",
       "    <tr>\n",
       "      <th>55</th>\n",
       "      <td>concrete production, 40MPa, ready-mix, with ce...</td>\n",
       "      <td>PE</td>\n",
       "      <td>2514.71400</td>\n",
       "    </tr>\n",
       "    <tr>\n",
       "      <th>49</th>\n",
       "      <td>concrete production, 40MPa, ready-mix, with ce...</td>\n",
       "      <td>RoW</td>\n",
       "      <td>2514.71400</td>\n",
       "    </tr>\n",
       "    <tr>\n",
       "      <th>67</th>\n",
       "      <td>concrete production, 40MPa, ready-mix, with ce...</td>\n",
       "      <td>RoW</td>\n",
       "      <td>2514.71400</td>\n",
       "    </tr>\n",
       "    <tr>\n",
       "      <th>60</th>\n",
       "      <td>concrete production, 20MPa, ready-mix, with ce...</td>\n",
       "      <td>PE</td>\n",
       "      <td>2552.71400</td>\n",
       "    </tr>\n",
       "    <tr>\n",
       "      <th>40</th>\n",
       "      <td>concrete production, 20MPa, ready-mix, with ce...</td>\n",
       "      <td>RoW</td>\n",
       "      <td>2552.71400</td>\n",
       "    </tr>\n",
       "  </tbody>\n",
       "</table>\n",
       "<p>98 rows × 3 columns</p>\n",
       "</div>"
      ],
      "text/plain": [
       "                                        Activity Name Location     density\n",
       "64  concrete production, 40MPa, ready-mix, with ce...      RoW  2182.69546\n",
       "21  concrete production, 40MPa, ready-mix, with ce...       BR  2182.69546\n",
       "59     lean concrete production, with cement CEM II/B       CH  2244.80000\n",
       "9      lean concrete production, with cement CEM II/A       CH  2244.80000\n",
       "68     lean concrete production, with cement CEM II/A      RoW  2244.80000\n",
       "..                                                ...      ...         ...\n",
       "55  concrete production, 40MPa, ready-mix, with ce...       PE  2514.71400\n",
       "49  concrete production, 40MPa, ready-mix, with ce...      RoW  2514.71400\n",
       "67  concrete production, 40MPa, ready-mix, with ce...      RoW  2514.71400\n",
       "60  concrete production, 20MPa, ready-mix, with ce...       PE  2552.71400\n",
       "40  concrete production, 20MPa, ready-mix, with ce...      RoW  2552.71400\n",
       "\n",
       "[98 rows x 3 columns]"
      ]
     },
     "execution_count": 107,
     "metadata": {},
     "output_type": "execute_result"
    }
   ],
   "source": [
    "density_table.sort_values(by = 'density')"
   ]
  },
  {
   "cell_type": "code",
   "execution_count": 91,
   "id": "790f39df-f49d-4aec-ad81-d6847be55b9a",
   "metadata": {
    "collapsed": true,
    "jupyter": {
     "outputs_hidden": true
    }
   },
   "outputs": [
    {
     "data": {
      "text/plain": [
       "102"
      ]
     },
     "execution_count": 91,
     "metadata": {},
     "output_type": "execute_result"
    }
   ],
   "source": [
    "for i in range (0:len(density_table))\n",
    "    if density_table.loc(i)['density']"
   ]
  },
  {
   "cell_type": "code",
   "execution_count": 110,
   "id": "beb10e43-b5cf-4ff1-810d-c6e7a1c256f4",
   "metadata": {
    "collapsed": true,
    "jupyter": {
     "outputs_hidden": true
    },
    "tags": []
   },
   "outputs": [
    {
     "data": {
      "text/plain": [
       "Databases dictionary with 7 object(s):\n",
       "\tCharcrete_38\n",
       "\tEXIOBASE 3.8.1 2017 monetary\n",
       "\tEXIOBASE 3.8.1 2017 monetary biosphere\n",
       "\tKorean Motors Chaebol\n",
       "\tbiosphere3\n",
       "\tei 3.8 cutoff\n",
       "\t강한 국가를 위한 영광스러운 구리"
      ]
     },
     "execution_count": 110,
     "metadata": {},
     "output_type": "execute_result"
    }
   ],
   "source": [
    "bd.databases"
   ]
  }
 ],
 "metadata": {
  "kernelspec": {
   "display_name": "Python [conda env:bw25]",
   "language": "python",
   "name": "conda-env-bw25-py"
  },
  "language_info": {
   "codemirror_mode": {
    "name": "ipython",
    "version": 3
   },
   "file_extension": ".py",
   "mimetype": "text/x-python",
   "name": "python",
   "nbconvert_exporter": "python",
   "pygments_lexer": "ipython3",
   "version": "3.10.6"
  }
 },
 "nbformat": 4,
 "nbformat_minor": 5
}
