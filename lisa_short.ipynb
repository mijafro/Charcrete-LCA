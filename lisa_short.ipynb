{
 "cells": [
  {
   "cell_type": "markdown",
   "metadata": {},
   "source": [
    "To be copy-pasted into own section of main\n",
    "\n",
    "(Assuming we have imported all packages, and the charcrete-activity, etc before this)\n",
    "\n",
    "More stuff in lisa-v2:\n",
    "\n",
    "- Full set-up\n",
    "- Verify results\n",
    "- Market share manipulation (broken for now)"
   ]
  },
  {
   "cell_type": "markdown",
   "metadata": {
    "tags": []
   },
   "source": [
    "# Market manipulation - substitution"
   ]
  },
  {
   "cell_type": "code",
   "execution_count": null,
   "metadata": {},
   "outputs": [],
   "source": [
    "# setup\n",
    "concrete_market = bd.get_activity(database=\"ei 3.8 cutoff\", name=\"market group for concrete, normal\", location = \"GLO\")'\n",
    "concrete_RoW = bd.get_activity(database=\"ei 3.8 cutoff\", name='market for concrete, normal', location = 'RoW')"
   ]
  },
  {
   "cell_type": "code",
   "execution_count": null,
   "metadata": {},
   "outputs": [],
   "source": [
    "ipcc = ('IPCC 2013', 'climate change', 'GWP 100a')"
   ]
  },
  {
   "cell_type": "code",
   "execution_count": null,
   "metadata": {},
   "outputs": [],
   "source": [
    "#create missing column\n",
    "concrete_market.new_edge(input=charcrete, amount=0, type=\"technosphere\").save() # declare dependency on new database by drawing edges"
   ]
  },
  {
   "cell_type": "markdown",
   "metadata": {
    "tags": []
   },
   "source": [
    "## replace_stuff-function"
   ]
  },
  {
   "cell_type": "code",
   "execution_count": 18,
   "metadata": {},
   "outputs": [],
   "source": [
    "def replace_stuff(main_act, sub_act, repl_act, method):\n",
    "    '''\n",
    "    Inputs: \n",
    "    3 activities\n",
    "    - one main activity in ecoinvent\n",
    "    - one sub activity to the main activity\n",
    "    - one replacement activity to substitute the subactivity in the main activity\n",
    "    1 method\n",
    "    \n",
    "    Returns 2 LCA scores\n",
    "    - the LCA score of the OG main activity\n",
    "    - the LCA score of the main activity with the replacement activity instead of the subactivity\n",
    "    \n",
    "    OBS\n",
    "    If the sub_act is not in ecoinvent, create the \"missing\" column first (draw edges):\n",
    "    main_act.new_edge(input=sub_act, amount=0, type=\"technosphere\").save()\n",
    "    \n",
    "    Ideas for development:\n",
    "    Just first level for now - could we change that? Need to put a maximum \"deepness\" level?\n",
    "    What is really supposed to be returned? Can we return the modefied version of the main act? - tried it, ended up breaking ecoinvent...\n",
    "    '''\n",
    "    \n",
    "    \n",
    "    # first we need the demand of the sub_act in the main act\n",
    "    for exc in list(main_act.exchanges()):\n",
    "        if exc.input.id == sub_act.id:\n",
    "            demand = exc['amount']\n",
    "    \n",
    "    gangnam_style = 1_000_000\n",
    "\n",
    "    indices = np.array(\n",
    "    [\n",
    "        (gangnam_style, gangnam_style), # Production exchange for new main_act ( activity produces itself ) - need to have this to make matrix square\n",
    "        (main_act.id, gangnam_style),  \n",
    "        (sub_act.id, gangnam_style), # subtract sub_act\n",
    "    ] + [\n",
    "        (node.id, gangnam_style) for node in [repl_act] # replace with this - something about new dps replacing old ones - could also have the values being added together?\n",
    "        # see gh bw processing -> policies\n",
    "    ], dtype=bwp.INDICES_DTYPE\n",
    "    )\n",
    "    \n",
    "    data = np.array([\n",
    "            1,\n",
    "            1,\n",
    "            demand, # old activity\n",
    "        ] + [\n",
    "            demand # new activity - same amount\n",
    "        ]\n",
    "    ) \n",
    "    flip = np.array(\n",
    "        [False, True, False] + [True for _ in [repl_act]] # First False because ?, True - motor is consumed, False because numbers are negative ... ?,\n",
    "        # WAIT I think I get it. This is the data array, where we put False for old act, and True for new act...\n",
    "        # ...This is probably where we would want to change things to create new market shares...?\n",
    "    ) # could alsos set minussign if you prefer but i still wouldnt know where\n",
    "    \n",
    "    # return(demand)\n",
    "    \n",
    "    dp = bwp.create_datapackage()\n",
    "\n",
    "    dp.add_persistent_vector(\n",
    "        matrix=\"technosphere_matrix\",\n",
    "        data_array=data,\n",
    "        indices_array=indices,\n",
    "        flip_array=flip,\n",
    "        name=\"New technosphere\",\n",
    "    )\n",
    "    \n",
    "    _, data_objs, _ = bd.prepare_lca_inputs({main_act: 1}, ipcc) # data_objs - still using ei\n",
    "    \n",
    "    lca = bc.LCA({main_act.id: 1}, data_objs=data_objs + [dp]) # old motor + add [dp] (new motor)\n",
    "    lca.lci()\n",
    "    lca.lcia()\n",
    "    lcascore1 = lca.score # first version\n",
    "    \n",
    "    lca.lcia({gangnam_style: 1}) # new motor\n",
    "    lcascore2 = lca.score # substituted sub_act w repl_act\n",
    "    \n",
    "    return[lcascore1, lcascore2]"
   ]
  },
  {
   "cell_type": "markdown",
   "metadata": {
    "tags": []
   },
   "source": [
    "## Get and plot results"
   ]
  },
  {
   "cell_type": "code",
   "execution_count": 22,
   "metadata": {},
   "outputs": [],
   "source": [
    "RoW_results = replace_stuff(concrete_market, concrete_RoW, charcrete, ipcc)"
   ]
  },
  {
   "cell_type": "code",
   "execution_count": 23,
   "metadata": {},
   "outputs": [
    {
     "data": {
      "image/png": "[encoded data removed]",
      "text/plain": [
       "<Figure size 640x480 with 1 Axes>"
      ]
     },
     "metadata": {},
     "output_type": "display_data"
    }
   ],
   "source": [
    "labels = ['Concrete', 'Charcrete']\n",
    "width = 0.35       # the width of the bars: can also be len(x) sequence\n",
    "\n",
    "fig, ax = plt.subplots()\n",
    "\n",
    "ax.bar(labels, RoW_results, width, color='palevioletred')\n",
    "\n",
    "ax.set_ylabel('Climate Impact')\n",
    "ax.set_title('Manipulated market (RoW -> Charcrete)')\n",
    "\n",
    "plt.show()"
   ]
  },
  {
   "cell_type": "code",
   "execution_count": 24,
   "metadata": {},
   "outputs": [],
   "source": [
    "# fig.savefig(\"result2_RoW_v2\") # uncomment if you want to change figure as file in your current directory"
   ]
  }
 ],
 "metadata": {
  "kernelspec": {
   "display_name": "Python [conda env:bw25]",
   "language": "python",
   "name": "conda-env-bw25-py"
  },
  "language_info": {
   "codemirror_mode": {
    "name": "ipython",
    "version": 3
   },
   "file_extension": ".py",
   "mimetype": "text/x-python",
   "name": "python",
   "nbconvert_exporter": "python",
   "pygments_lexer": "ipython3",
   "version": "3.10.6"
  },
  "widgets": {
   "state": {},
   "version": "1.1.2"
  }
 },
 "nbformat": 4,
 "nbformat_minor": 4
}
