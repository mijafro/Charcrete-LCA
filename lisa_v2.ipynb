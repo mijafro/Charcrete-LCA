{
 "cells": [
  {
   "cell_type": "markdown",
   "metadata": {
    "deletable": true,
    "editable": true,
    "tags": []
   },
   "source": [
    "# Setup"
   ]
  },
  {
   "cell_type": "code",
   "execution_count": 1,
   "metadata": {},
   "outputs": [],
   "source": [
    "# === Switch to kernel bw25! ===\n",
    "\n",
    "# Brightway libraries\n",
    "import bw2data as bd\n",
    "import bw2io as bi\n",
    "import bw2calc as bc\n",
    "import bw_processing as bwp\n",
    "import bw2analyzer as ba\n",
    "\n",
    "# General libraries\n",
    "import numpy as np\n",
    "import pandas as pd\n",
    "from fs.zipfs import ZipFS\n",
    "import json                        # Library for working with json files\n",
    "from pathlib import Path           # Library for working with paths in different OS     \n",
    "import matplotlib.pyplot as plt    # Library for creating plots\n",
    "import matrix_utils as mu\n",
    "import seaborn as sb\n",
    "import os"
   ]
  },
  {
   "cell_type": "code",
   "execution_count": 2,
   "metadata": {},
   "outputs": [],
   "source": [
    "# bi.restore_project_directory(\"/srv/data/projects/ecoinvent38-25.tar.gz\") do this if you happen to break ecoinvent"
   ]
  },
  {
   "cell_type": "code",
   "execution_count": 3,
   "metadata": {},
   "outputs": [
    {
     "data": {
      "text/plain": [
       "Brightway2 projects manager with 10 objects:\n",
       "\tCorrelated and dependent sampling\n",
       "\tLithium GSA\n",
       "\tbrightcon22\n",
       "\tcharcrete1\n",
       "\tdatapackage demo\n",
       "\tdefault\n",
       "\tei38-teaching\n",
       "\tei38-teaching-25\n",
       "\tei_38\n",
       "\tyour project name\n",
       "Use `projects.report()` to get a report on all projects."
      ]
     },
     "execution_count": 3,
     "metadata": {},
     "output_type": "execute_result"
    }
   ],
   "source": [
    "bd.projects"
   ]
  },
  {
   "cell_type": "code",
   "execution_count": 4,
   "metadata": {},
   "outputs": [],
   "source": [
    "bd.projects.set_current('ei38-teaching-25')"
   ]
  },
  {
   "cell_type": "code",
   "execution_count": 5,
   "metadata": {},
   "outputs": [],
   "source": [
    "# easy to change names of biosphere and ei db:s\n",
    "biosphere = 'biosphere3'\n",
    "ecoinvent = 'ei 3.8 cutoff'"
   ]
  },
  {
   "cell_type": "code",
   "execution_count": 6,
   "metadata": {},
   "outputs": [],
   "source": [
    "# could be good to have idk\n",
    "eidb = bd.Database('ei 3.8 cutoff')\n",
    "my_bio = bd.Database(biosphere)"
   ]
  },
  {
   "cell_type": "code",
   "execution_count": 7,
   "metadata": {},
   "outputs": [],
   "source": [
    "ipcc = ('IPCC 2013', 'climate change', 'GWP 100a')"
   ]
  },
  {
   "cell_type": "code",
   "execution_count": 8,
   "metadata": {},
   "outputs": [],
   "source": [
    "wood_chipping_act = [act for act in bd.Database(ecoinvent) if 'wood chipping, mobile chipper, at forest road' in act['name'] # sometimes i use this act as a dummy act\n",
    "                     and act['location'] == 'RER'][0]\n",
    "concrete_market = bd.get_activity(database=ecoinvent, name=\"market group for concrete, normal\", location = \"GLO\")"
   ]
  },
  {
   "cell_type": "markdown",
   "metadata": {
    "jp-MarkdownHeadingCollapsed": true,
    "tags": []
   },
   "source": [
    "# playing around w concrete; no need to run this"
   ]
  },
  {
   "cell_type": "code",
   "execution_count": null,
   "metadata": {},
   "outputs": [],
   "source": [
    "ba.print_recursive_calculation(concrete_market, ipcc, cutoff=0.001) # CA\n",
    "# short cut: we assume that the ones contributing most is the ones we need to regionalize\n",
    "# is there a way to sort this data?"
   ]
  },
  {
   "cell_type": "code",
   "execution_count": 14,
   "metadata": {},
   "outputs": [],
   "source": [
    "# could also do specifically for 20MPa\n",
    "concrete_markets = [act for act in bd.Database(ecoinvent) if 'market for concrete, 20MPa' in act['name']]"
   ]
  },
  {
   "cell_type": "code",
   "execution_count": 15,
   "metadata": {},
   "outputs": [
    {
     "data": {
      "text/plain": [
       "['market for concrete, 20MPa' (cubic meter, RoW, None),\n",
       " 'market for concrete, 20MPa' (cubic meter, RNA, None),\n",
       " 'market for concrete, 20MPa' (cubic meter, ZA, None),\n",
       " 'market for concrete, 20MPa' (cubic meter, PE, None),\n",
       " 'market for concrete, 20MPa' (cubic meter, CO, None)]"
      ]
     },
     "execution_count": 15,
     "metadata": {},
     "output_type": "execute_result"
    }
   ],
   "source": [
    "concrete_markets # PE = Peru, ZA = South Africa, RNA = Northern America, RoW = Rest of world, CO = Colombia"
   ]
  },
  {
   "cell_type": "code",
   "execution_count": 140,
   "metadata": {},
   "outputs": [],
   "source": [
    "fu, data_objs, _ = bd.prepare_lca_inputs({concrete_market: 1}, method=ipcc)"
   ]
  },
  {
   "cell_type": "code",
   "execution_count": 141,
   "metadata": {},
   "outputs": [],
   "source": [
    "lca = bc.LCA(fu, data_objs=data_objs)"
   ]
  },
  {
   "cell_type": "code",
   "execution_count": 142,
   "metadata": {},
   "outputs": [],
   "source": [
    "lca.lci()\n",
    "lca.lcia()"
   ]
  },
  {
   "cell_type": "code",
   "execution_count": 144,
   "metadata": {},
   "outputs": [
    {
     "data": {
      "text/plain": [
       "283.44576866175254"
      ]
     },
     "execution_count": 144,
     "metadata": {},
     "output_type": "execute_result"
    }
   ],
   "source": [
    "lca.score # global market for \"normal\" concrete"
   ]
  },
  {
   "cell_type": "code",
   "execution_count": 150,
   "metadata": {},
   "outputs": [
    {
     "data": {
      "text/plain": [
       "'PE'"
      ]
     },
     "execution_count": 150,
     "metadata": {},
     "output_type": "execute_result"
    }
   ],
   "source": [
    "concrete_markets[0]['location']"
   ]
  },
  {
   "cell_type": "code",
   "execution_count": 151,
   "metadata": {},
   "outputs": [
    {
     "name": "stdout",
     "output_type": "stream",
     "text": [
      "PE 341.7487287312562\n",
      "ZA 234.01566863447212\n",
      "RNA 246.39245279678855\n",
      "RoW 237.44010359161643\n",
      "CO 250.2176994748129\n"
     ]
    }
   ],
   "source": [
    "# calculate score for different markets\n",
    "for market in concrete_markets:\n",
    "    fu, data_objs, _ = bd.prepare_lca_inputs({market: 1}, method=ipcc)\n",
    "    lca = bc.LCA(fu, data_objs=data_objs)\n",
    "    lca.lci()\n",
    "    lca.lcia()\n",
    "    print(market['location'], lca.score)"
   ]
  },
  {
   "cell_type": "code",
   "execution_count": null,
   "metadata": {},
   "outputs": [],
   "source": [
    "# but then we could also open these markets up? and see the subactivities for prod of concrete\n",
    "ba.print_recursive_calculation(concrete_markets[0], ipcc, cutoff=0.001) # CA"
   ]
  },
  {
   "cell_type": "code",
   "execution_count": null,
   "metadata": {},
   "outputs": [],
   "source": [
    "ba.print_recursive_calculation(concrete_market, ipcc, cutoff=0.001) # CA"
   ]
  },
  {
   "cell_type": "code",
   "execution_count": 18,
   "metadata": {},
   "outputs": [
    {
     "data": {
      "text/plain": [
       "1.0000000000000002"
      ]
     },
     "execution_count": 18,
     "metadata": {},
     "output_type": "execute_result"
    }
   ],
   "source": [
    "# Check that they all add up to 1?\n",
    "sum(exc['amount'] for exc in concrete_market.technosphere()) # does all inputs sum up to one?\n",
    "# idk why it's not exactly one but ok"
   ]
  },
  {
   "cell_type": "code",
   "execution_count": 157,
   "metadata": {},
   "outputs": [
    {
     "name": "stdout",
     "output_type": "stream",
     "text": [
      "180.79326949989576 'market for concrete, normal' (cubic meter, BR, None)\n",
      "145.4238269670096 'market for concrete, normal' (cubic meter, CH, None)\n",
      "250.21769947481295 'market for concrete, normal' (cubic meter, CO, None)\n",
      "387.578860852761 'market for concrete, normal' (cubic meter, IN, None)\n",
      "341.74872873125537 'market for concrete, normal' (cubic meter, PE, None)\n",
      "285.4110569349046 'market for concrete, normal' (cubic meter, RNA, None)\n",
      "292.9779465046128 'market for concrete, normal' (cubic meter, ZA, None)\n",
      "283.1982537946509 'market for concrete, normal' (cubic meter, RoW, None)\n"
     ]
    }
   ],
   "source": [
    "for exc in concrete_market.technosphere():\n",
    "    lca.redo_lcia({exc.input.id: 1})\n",
    "    print(lca.score, exc.input)\n",
    "    # print the different scores of the different markets i guess"
   ]
  },
  {
   "cell_type": "markdown",
   "metadata": {},
   "source": [
    "ok let's start with a weird example: say that we replace all concrete in RNA with charcrete (wood_chipping_act for now)"
   ]
  },
  {
   "cell_type": "code",
   "execution_count": 161,
   "metadata": {},
   "outputs": [],
   "source": [
    "# ... can we make this into a generic function? like, given an activity, a subactivity and a replacement activity?\n",
    "# also - can we visualize a before - after?\n",
    "\n",
    "market_share = 0.0457 # demand of market (market share)\n",
    "gangnam_style = 1_000_000 # need a large number because somehting about conflicts in id:s in db - dont want to overlap stuff\n",
    "\n",
    "indices = np.array(\n",
    "    [\n",
    "        (gangnam_style, gangnam_style), # Production exchange for new motor ( activity produces itself ) - need to have this to make matrix square\n",
    "        (concrete_market.id, gangnam_style),  # the whole market\n",
    "        (bd.get_activity(database=ecoinvent, name='market for concrete, normal', location = 'RNA').id, gangnam_style), # subtract RNA concrete prod\n",
    "    ] + [\n",
    "        (node.id, gangnam_style) for node in [wood_chipping_act] # replace with this - something about new dps replacing old ones - could also have the values being added together?\n",
    "        # see gh bw processing -> policies\n",
    "        # we have not changes ei - we have added a new activity\n",
    "        # in these positions - one new row, one new col\n",
    "    ], dtype=bwp.INDICES_DTYPE\n",
    ")\n",
    "data = np.array([\n",
    "        1,\n",
    "        1,\n",
    "        market_share, # old market\n",
    "    ] + [\n",
    "        market_share # new market - same amount\n",
    "    ]\n",
    ") \n",
    "flip = np.array(\n",
    "    [False, True, False] + [True for _ in [wood_chipping_act]] # First False because ?, True - motor is consumed, False because numbers are negative ... ?, \n",
    ") # could alsos set minussign if you prefer but i still wouldnt know where"
   ]
  },
  {
   "cell_type": "code",
   "execution_count": 162,
   "metadata": {},
   "outputs": [],
   "source": [
    "dp = bwp.create_datapackage()\n",
    "\n",
    "dp.add_persistent_vector(\n",
    "    matrix=\"technosphere_matrix\",\n",
    "    data_array=data,\n",
    "    indices_array=indices,\n",
    "    flip_array=flip,\n",
    "    name=\"Market without US\",\n",
    ")"
   ]
  },
  {
   "cell_type": "code",
   "execution_count": 163,
   "metadata": {},
   "outputs": [],
   "source": [
    "_, data_objs, _ = bd.prepare_lca_inputs({concrete_market: 1}, ipcc) # data_objs - still using ei"
   ]
  },
  {
   "cell_type": "code",
   "execution_count": 164,
   "metadata": {},
   "outputs": [
    {
     "data": {
      "text/plain": [
       "283.44576866175174"
      ]
     },
     "execution_count": 164,
     "metadata": {},
     "output_type": "execute_result"
    }
   ],
   "source": [
    "lca = bc.LCA({motor.id: 1}, data_objs=data_objs + [dp]) # old motor + add [dp] (new motor)\n",
    "lca.lci()\n",
    "lca.lcia()\n",
    "lca.score"
   ]
  },
  {
   "cell_type": "code",
   "execution_count": 165,
   "metadata": {},
   "outputs": [
    {
     "data": {
      "text/plain": [
       "283.0965523271845"
      ]
     },
     "execution_count": 165,
     "metadata": {},
     "output_type": "execute_result"
    }
   ],
   "source": [
    "lca.lcia({gangnam_style: 1}) # new motor\n",
    "lca.score"
   ]
  },
  {
   "cell_type": "markdown",
   "metadata": {
    "tags": []
   },
   "source": [
    "# Import new activity for charcrete from Excel"
   ]
  },
  {
   "cell_type": "code",
   "execution_count": 9,
   "metadata": {},
   "outputs": [
    {
     "name": "stdout",
     "output_type": "stream",
     "text": [
      "Extracted 2 worksheets in 0.01 seconds\n",
      "Applying strategy: csv_restore_tuples\n",
      "Applying strategy: csv_restore_booleans\n",
      "Applying strategy: csv_numerize\n",
      "Applying strategy: csv_drop_unknown\n",
      "Applying strategy: csv_add_missing_exchanges_section\n",
      "Applying strategy: normalize_units\n",
      "Applying strategy: normalize_biosphere_categories\n",
      "Applying strategy: normalize_biosphere_names\n",
      "Applying strategy: strip_biosphere_exc_locations\n",
      "Applying strategy: set_code_by_activity_hash\n",
      "Applying strategy: link_iterable_by_fields\n",
      "Applying strategy: assign_only_product_as_production\n",
      "Applying strategy: link_technosphere_by_activity_hash\n",
      "Applying strategy: drop_falsey_uncertainty_fields_but_keep_zeros\n",
      "Applying strategy: convert_uncertainty_types_to_integers\n",
      "Applying strategy: convert_activity_parameters_to_list\n",
      "Applied 16 strategies in 6.71 seconds\n",
      "Applying strategy: link_iterable_by_fields\n",
      "Applying strategy: link_iterable_by_fields\n",
      "7 datasets\n",
      "43 exchanges\n",
      "0 unlinked exchanges\n",
      "  \n",
      "Warning: No valid output stream.\n",
      "Title: Writing activities to SQLite3 database:\n",
      "  Started: 10/27/2022 16:10:15\n",
      "  Finished: 10/27/2022 16:10:15\n",
      "  Total time elapsed: 00:00:00\n",
      "  CPU %: 0.00\n",
      "  Memory %: 0.25\n",
      "Created database: Charcrete_38\n"
     ]
    }
   ],
   "source": [
    "if \"Charcrete_38\" in bd.databases:\n",
    "    del bd.databases[\"Charcrete_38\"]\n",
    "\n",
    "# 1. Specify filepath to your foreground inventories.\n",
    "charcrete_path = os.getcwd()+\"/data/Charcrete_database_38.xlsx\"\n",
    "#charcrete_path = \"/home/jupyter-mija.frossard/Charcrete-LCA/Water_database_38.xlsx\"\n",
    "# 2. Create an instance of a class that contains basic methods for importing a database from an excel file.\n",
    "charcrete = bi.ExcelImporter(charcrete_path)  \n",
    "# 3. `apply_strategies` is one of such basic methods, it makes sure units, locations, etc are in correct format.\n",
    "charcrete.apply_strategies()\n",
    "# 4. Next step is to link your foreground exchanges to existing databases by matching relevant exchanges fields.\n",
    "charcrete.match_database(\"biosphere3\", fields=(\"name\", \"unit\", \"categories\"))\n",
    "charcrete.match_database(\"ei 3.8 cutoff\", fields=(\"name\", \"location\", \"unit\"))\n",
    "#charcrete.metadata.pop(None)  # Remove metadata None entry. TODO\n",
    "# 5. If everything is linked, write database so that it is saved in your project.\n",
    "if charcrete.all_linked:\n",
    "    charcrete.write_database()"
   ]
  },
  {
   "cell_type": "code",
   "execution_count": 10,
   "metadata": {},
   "outputs": [],
   "source": [
    "for unlinked in charcrete.unlinked:\n",
    "    print(unlinked)"
   ]
  },
  {
   "cell_type": "code",
   "execution_count": 11,
   "metadata": {},
   "outputs": [
    {
     "data": {
      "text/plain": [
       "Databases dictionary with 3 object(s):\n",
       "\tCharcrete_38\n",
       "\tbiosphere3\n",
       "\tei 3.8 cutoff"
      ]
     },
     "execution_count": 11,
     "metadata": {},
     "output_type": "execute_result"
    }
   ],
   "source": [
    "bd.databases"
   ]
  },
  {
   "cell_type": "code",
   "execution_count": 12,
   "metadata": {},
   "outputs": [],
   "source": [
    "char_db = bd.Database(\"Charcrete_38\")"
   ]
  },
  {
   "cell_type": "code",
   "execution_count": 13,
   "metadata": {},
   "outputs": [
    {
     "data": {
      "text/plain": [
       "7"
      ]
     },
     "execution_count": 13,
     "metadata": {},
     "output_type": "execute_result"
    }
   ],
   "source": [
    "len(char_db)"
   ]
  },
  {
   "cell_type": "code",
   "execution_count": 14,
   "metadata": {},
   "outputs": [
    {
     "data": {
      "text/plain": [
       "'Charcrete production 5%' (cubic meter, SE, None)"
      ]
     },
     "execution_count": 14,
     "metadata": {},
     "output_type": "execute_result"
    }
   ],
   "source": [
    "[act for act in char_db]\n",
    "charcrete = [act for act in char_db if \"Charcrete\" in act[\"name\"]][0]\n",
    "charcrete"
   ]
  },
  {
   "cell_type": "code",
   "execution_count": 15,
   "metadata": {},
   "outputs": [],
   "source": [
    "def calculateLCA(act, amount, method):\n",
    "    fu, data_objs, _ = bd.prepare_lca_inputs({act: amount}, method=ipcc)\n",
    "    lca = bc.LCA(fu, data_objs=data_objs)\n",
    "    lca.lci()\n",
    "    lca.lcia()\n",
    "    return lca.score"
   ]
  },
  {
   "cell_type": "code",
   "execution_count": 16,
   "metadata": {},
   "outputs": [
    {
     "name": "stdout",
     "output_type": "stream",
     "text": [
      "177.64562302249595\n"
     ]
    }
   ],
   "source": [
    "print(calculateLCA(charcrete, 1, ipcc))"
   ]
  },
  {
   "cell_type": "markdown",
   "metadata": {
    "tags": []
   },
   "source": [
    "## Need to create the missing column"
   ]
  },
  {
   "cell_type": "code",
   "execution_count": 17,
   "metadata": {},
   "outputs": [
    {
     "data": {
      "text/plain": [
       "['Charcrete_38', 'biosphere3']"
      ]
     },
     "execution_count": 17,
     "metadata": {},
     "output_type": "execute_result"
    }
   ],
   "source": [
    "bd.Database(\"ei 3.8 cutoff\").metadata['depends'] # here we want to see \"Charcrete 38\""
   ]
  },
  {
   "cell_type": "code",
   "execution_count": 15,
   "metadata": {},
   "outputs": [],
   "source": [
    "concrete_market.new_edge(input=charcrete, amount=0, type=\"technosphere\").save() # declare dependency on new database by drawing edges"
   ]
  },
  {
   "cell_type": "code",
   "execution_count": 19,
   "metadata": {},
   "outputs": [
    {
     "data": {
      "text/plain": [
       "['Charcrete_38', 'biosphere3']"
      ]
     },
     "execution_count": 19,
     "metadata": {},
     "output_type": "execute_result"
    }
   ],
   "source": [
    "bd.Database(\"ei 3.8 cutoff\").metadata['depends'] # here we want to see \"Charcrete 38\""
   ]
  },
  {
   "cell_type": "markdown",
   "metadata": {
    "tags": []
   },
   "source": [
    "# Market manipulation - substitution"
   ]
  },
  {
   "cell_type": "code",
   "execution_count": 16,
   "metadata": {},
   "outputs": [],
   "source": [
    "concrete_RNA = bd.get_activity(database=ecoinvent, name='market for concrete, normal', location = 'RNA')"
   ]
  },
  {
   "cell_type": "code",
   "execution_count": 17,
   "metadata": {},
   "outputs": [],
   "source": [
    "concrete_RoW = bd.get_activity(database=ecoinvent, name='market for concrete, normal', location = 'RoW')"
   ]
  },
  {
   "cell_type": "code",
   "execution_count": 22,
   "metadata": {},
   "outputs": [
    {
     "name": "stdout",
     "output_type": "stream",
     "text": [
      "Exchange: 1.0 cubic meter 'market group for concrete, normal' (cubic meter, GLO, None) to 'market group for concrete, normal' (cubic meter, GLO, None)>\n",
      "concrete, normal\n",
      "18901\n",
      "22099\n",
      "Exchange: 0.0226016949011232 cubic meter 'market for concrete, normal' (cubic meter, BR, None) to 'market group for concrete, normal' (cubic meter, GLO, None)>\n",
      "concrete, normal\n",
      "5266\n",
      "22099\n",
      "Exchange: 0.000680925588410356 cubic meter 'market for concrete, normal' (cubic meter, CH, None) to 'market group for concrete, normal' (cubic meter, GLO, None)>\n",
      "concrete, normal\n",
      "18417\n",
      "22099\n",
      "Exchange: 0.00235506608812062 cubic meter 'market for concrete, normal' (cubic meter, CO, None) to 'market group for concrete, normal' (cubic meter, GLO, None)>\n",
      "concrete, normal\n",
      "11087\n",
      "22099\n",
      "Exchange: 0.01906591647549 cubic meter 'market for concrete, normal' (cubic meter, IN, None) to 'market group for concrete, normal' (cubic meter, GLO, None)>\n",
      "concrete, normal\n",
      "14553\n",
      "22099\n",
      "Exchange: 0.0107245780174631 cubic meter 'market for concrete, normal' (cubic meter, PE, None) to 'market group for concrete, normal' (cubic meter, GLO, None)>\n",
      "concrete, normal\n",
      "23135\n",
      "22099\n",
      "Exchange: 0.0454155754069573 cubic meter 'market for concrete, normal' (cubic meter, RNA, None) to 'market group for concrete, normal' (cubic meter, GLO, None)>\n",
      "concrete, normal\n",
      "22099\n",
      "22099\n",
      "True\n",
      "0.0454155754069573\n",
      "Exchange: 0.00153183994392364 cubic meter 'market for concrete, normal' (cubic meter, ZA, None) to 'market group for concrete, normal' (cubic meter, GLO, None)>\n",
      "concrete, normal\n",
      "16409\n",
      "22099\n",
      "Exchange: 0.897624403578512 cubic meter 'market for concrete, normal' (cubic meter, RoW, None) to 'market group for concrete, normal' (cubic meter, GLO, None)>\n",
      "concrete, normal\n",
      "19248\n",
      "22099\n",
      "Exchange: 0 cubic meter 'Charcrete production 5%' (cubic meter, SE, None) to 'market group for concrete, normal' (cubic meter, GLO, None)>\n"
     ]
    },
    {
     "ename": "KeyError",
     "evalue": "'name'",
     "output_type": "error",
     "traceback": [
      "\u001b[0;31m---------------------------------------------------------------------------\u001b[0m",
      "\u001b[0;31mKeyError\u001b[0m                                  Traceback (most recent call last)",
      "Cell \u001b[0;32mIn [22], line 3\u001b[0m\n\u001b[1;32m      1\u001b[0m \u001b[38;5;28;01mfor\u001b[39;00m exc \u001b[38;5;129;01min\u001b[39;00m \u001b[38;5;28mlist\u001b[39m(concrete_market\u001b[38;5;241m.\u001b[39mexchanges()):\n\u001b[1;32m      2\u001b[0m     \u001b[38;5;28mprint\u001b[39m(exc)\n\u001b[0;32m----> 3\u001b[0m     \u001b[38;5;28mprint\u001b[39m(exc[\u001b[38;5;124m'\u001b[39m\u001b[38;5;124mname\u001b[39m\u001b[38;5;124m'\u001b[39m])\n\u001b[1;32m      4\u001b[0m     \u001b[38;5;28mprint\u001b[39m(exc\u001b[38;5;241m.\u001b[39minput\u001b[38;5;241m.\u001b[39mid)\n\u001b[1;32m      5\u001b[0m     \u001b[38;5;28mprint\u001b[39m(concrete_RNA\u001b[38;5;241m.\u001b[39mid)\n",
      "File \u001b[0;32m/opt/tljh/user/envs/bw25/lib/python3.10/site-packages/bw2data/proxies.py:33\u001b[0m, in \u001b[0;36mProxyBase.__getitem__\u001b[0;34m(self, key)\u001b[0m\n\u001b[1;32m     32\u001b[0m \u001b[38;5;28;01mdef\u001b[39;00m \u001b[38;5;21m__getitem__\u001b[39m(\u001b[38;5;28mself\u001b[39m, key):\n\u001b[0;32m---> 33\u001b[0m     \u001b[38;5;28;01mreturn\u001b[39;00m \u001b[38;5;28;43mself\u001b[39;49m\u001b[38;5;241;43m.\u001b[39;49m\u001b[43m_data\u001b[49m\u001b[43m[\u001b[49m\u001b[43mkey\u001b[49m\u001b[43m]\u001b[49m\n",
      "\u001b[0;31mKeyError\u001b[0m: 'name'"
     ]
    }
   ],
   "source": [
    "for exc in list(concrete_market.exchanges()):\n",
    "    print(exc)\n",
    "    print(exc['name'])\n",
    "    print(exc.input.id)\n",
    "    print(concrete_RNA.id)\n",
    "    if exc.input.id == concrete_RNA.id:\n",
    "        print('True')\n",
    "        print(exc['amount'])"
   ]
  },
  {
   "cell_type": "code",
   "execution_count": 18,
   "metadata": {},
   "outputs": [],
   "source": [
    "def replace_stuff(main_act, sub_act, repl_act, method):\n",
    "    '''\n",
    "    Inputs: \n",
    "    3 activities\n",
    "    - one main activity in ecoinvent\n",
    "    - one sub activity to the main activity\n",
    "    - one replacement activity to substitute the subactivity in the main activity\n",
    "    1 method\n",
    "    \n",
    "    Returns 2 LCA scores\n",
    "    - the LCA score of the OG main activity\n",
    "    - the LCA score of the main activity with the replacement activity instead of the subactivity\n",
    "    \n",
    "    OBS\n",
    "    If the sub_act is not in ecoinvent, create the \"missing\" column first (draw edges):\n",
    "    main_act.new_edge(input=sub_act, amount=0, type=\"technosphere\").save()\n",
    "    \n",
    "    Ideas for development:\n",
    "    Just first level for now - could we change that? Need to put a maximum \"deepness\" level?\n",
    "    What is really supposed to be returned? Can we return the modefied version of the main act? - tried it, ended up breaking ecoinvent...\n",
    "    '''\n",
    "    \n",
    "    \n",
    "    # first we need the demand of the sub_act in the main act\n",
    "    for exc in list(main_act.exchanges()):\n",
    "        if exc.input.id == sub_act.id:\n",
    "            demand = exc['amount']\n",
    "    \n",
    "    gangnam_style = 1_000_000\n",
    "\n",
    "    indices = np.array(\n",
    "    [\n",
    "        (gangnam_style, gangnam_style), # Production exchange for new main_act ( activity produces itself ) - need to have this to make matrix square\n",
    "        (main_act.id, gangnam_style),  \n",
    "        (sub_act.id, gangnam_style), # subtract sub_act\n",
    "    ] + [\n",
    "        (node.id, gangnam_style) for node in [repl_act] # replace with this - something about new dps replacing old ones - could also have the values being added together?\n",
    "        # see gh bw processing -> policies\n",
    "    ], dtype=bwp.INDICES_DTYPE\n",
    "    )\n",
    "    \n",
    "    data = np.array([\n",
    "            1,\n",
    "            1,\n",
    "            demand, # old activity\n",
    "        ] + [\n",
    "            demand # new activity - same amount\n",
    "        ]\n",
    "    ) \n",
    "    flip = np.array(\n",
    "        [False, True, False] + [True for _ in [repl_act]] # First False because ?, True - motor is consumed, False because numbers are negative ... ?,\n",
    "        # WAIT I think I get it. This is the data array, where we put False for old act, and True for new act...\n",
    "        # ...This is probably where we would want to change things to create new market shares...?\n",
    "    ) # could alsos set minussign if you prefer but i still wouldnt know where\n",
    "    \n",
    "    # return(demand)\n",
    "    \n",
    "    dp = bwp.create_datapackage()\n",
    "\n",
    "    dp.add_persistent_vector(\n",
    "        matrix=\"technosphere_matrix\",\n",
    "        data_array=data,\n",
    "        indices_array=indices,\n",
    "        flip_array=flip,\n",
    "        name=\"New technosphere\",\n",
    "    )\n",
    "    \n",
    "    _, data_objs, _ = bd.prepare_lca_inputs({main_act: 1}, ipcc) # data_objs - still using ei\n",
    "    \n",
    "    lca = bc.LCA({main_act.id: 1}, data_objs=data_objs + [dp]) # old motor + add [dp] (new motor)\n",
    "    lca.lci()\n",
    "    lca.lcia()\n",
    "    lcascore1 = lca.score # first version\n",
    "    \n",
    "    lca.lcia({gangnam_style: 1}) # new motor\n",
    "    lcascore2 = lca.score # substituted sub_act w repl_act\n",
    "    \n",
    "    return[lcascore1, lcascore2]"
   ]
  },
  {
   "cell_type": "code",
   "execution_count": 24,
   "metadata": {},
   "outputs": [
    {
     "name": "stdout",
     "output_type": "stream",
     "text": [
      "[283.4457686617518, 283.09872575637183]\n"
     ]
    }
   ],
   "source": [
    "print(replace_stuff(concrete_market, concrete_RNA, wood_chipping_act, ipcc))"
   ]
  },
  {
   "cell_type": "code",
   "execution_count": null,
   "metadata": {},
   "outputs": [],
   "source": [
    "print(replace_stuff(concrete_market, concrete_RNA, charcrete, ipcc)) # may take a few seconds to compute"
   ]
  },
  {
   "cell_type": "markdown",
   "metadata": {
    "jp-MarkdownHeadingCollapsed": true,
    "tags": []
   },
   "source": [
    "## check results"
   ]
  },
  {
   "cell_type": "code",
   "execution_count": null,
   "metadata": {},
   "outputs": [],
   "source": [
    "lcamain, lcarepl = replace_stuff(concrete_market, concrete_RNA, wood_chipping_act, ipcc)"
   ]
  },
  {
   "cell_type": "code",
   "execution_count": 84,
   "metadata": {},
   "outputs": [],
   "source": [
    "# check results\n",
    "_, data_objs, _ = bd.prepare_lca_inputs({wood_chipping_act: 1}, ipcc) # data_objs - still using ei    \n",
    "lca = bc.LCA({wood_chipping_act.id: 1}, data_objs=data_objs) # old motor + add [dp] (new motor)\n",
    "lca.lci()\n",
    "lca.lcia()\n",
    "wc_score = lca.score"
   ]
  },
  {
   "cell_type": "code",
   "execution_count": 85,
   "metadata": {},
   "outputs": [
    {
     "data": {
      "text/plain": [
       "277.7695616489718"
      ]
     },
     "execution_count": 85,
     "metadata": {},
     "output_type": "execute_result"
    }
   ],
   "source": [
    "wc_score"
   ]
  },
  {
   "cell_type": "code",
   "execution_count": 86,
   "metadata": {},
   "outputs": [],
   "source": [
    "_, data_objs, _ = bd.prepare_lca_inputs({concrete_market: 1}, ipcc) # data_objs - still using ei    \n",
    "lca = bc.LCA({concrete_market.id: 1}, data_objs=data_objs) # old motor + add [dp] (new motor)\n",
    "lca.lci()\n",
    "lca.lcia()\n",
    "cm_score = lca.score"
   ]
  },
  {
   "cell_type": "code",
   "execution_count": 87,
   "metadata": {},
   "outputs": [
    {
     "data": {
      "text/plain": [
       "283.44576866175305"
      ]
     },
     "execution_count": 87,
     "metadata": {},
     "output_type": "execute_result"
    }
   ],
   "source": [
    "cm_score"
   ]
  },
  {
   "cell_type": "code",
   "execution_count": 88,
   "metadata": {},
   "outputs": [],
   "source": [
    "_, data_objs, _ = bd.prepare_lca_inputs({concrete_RNA: 1}, ipcc) # data_objs - still using ei    \n",
    "lca = bc.LCA({concrete_RNA.id: 1}, data_objs=data_objs) # old motor + add [dp] (new motor)\n",
    "lca.lci()\n",
    "lca.lcia()\n",
    "RNA_score = lca.score"
   ]
  },
  {
   "cell_type": "code",
   "execution_count": 89,
   "metadata": {},
   "outputs": [
    {
     "data": {
      "text/plain": [
       "285.41105693490425"
      ]
     },
     "execution_count": 89,
     "metadata": {},
     "output_type": "execute_result"
    }
   ],
   "source": [
    "RNA_score"
   ]
  },
  {
   "cell_type": "code",
   "execution_count": 68,
   "metadata": {},
   "outputs": [
    {
     "name": "stdout",
     "output_type": "stream",
     "text": [
      "Fraction of score | Absolute score | Amount | Activity\n",
      "0001 | 283.4 |     1 | 'market group for concrete, normal' (cubic meter, GLO, None)\n",
      "  0.0144 | 4.086 | 0.0226 | 'market for concrete, normal' (cubic meter, BR, None)\n",
      "    0.0144 | 4.086 | 0.0226 | 'concrete, all types to generic market for concrete, normal strength' \n",
      "      0.0115 | 3.253 | 0.01876 | 'market for concrete, 25MPa' (cubic meter, BR, None)\n",
      "  0.0261 |  7.39 | 0.01907 | 'market for concrete, normal' (cubic meter, IN, None)\n",
      "    0.0261 |  7.39 | 0.01907 | 'concrete, all types to generic market for concrete, normal strength' \n",
      "      0.0261 |  7.39 | 0.01907 | 'market for concrete, 25-30MPa' (cubic meter, IN, None)\n",
      "  0.0129 | 3.665 | 0.01072 | 'market for concrete, normal' (cubic meter, PE, None)\n",
      "    0.0129 | 3.665 | 0.01072 | 'concrete, all types to generic market for concrete, normal strength' \n",
      "      0.0129 | 3.665 | 0.01072 | 'market for concrete, 20MPa' (cubic meter, PE, None)\n",
      "  0.0457 | 12.96 | 0.04542 | 'market for concrete, normal' (cubic meter, RNA, None)\n",
      "    0.0457 | 12.96 | 0.04542 | 'concrete, all types to generic market for concrete, normal strength' \n",
      "      0.00797 |  2.26 | 0.009174 | 'market for concrete, 20MPa' (cubic meter, RNA, None)\n",
      "      0.0134 | 3.806 | 0.01099 | 'market for concrete, 35MPa' (cubic meter, RNA, None)\n",
      "      0.0162 | 4.597 | 0.01835 | 'market for concrete, 25MPa' (cubic meter, RNA, None)\n",
      "      0.00811 | 2.298 | 0.006903 | 'market for concrete, 30-32MPa' (cubic meter, RNA, None)\n",
      "  0.897 | 254.2 | 0.8976 | 'market for concrete, normal' (cubic meter, RoW, None)\n",
      "    0.895 | 253.7 | 0.8956 | 'concrete, all types to generic market for concrete, normal strength' \n",
      "      0.0909 | 25.76 | 0.1085 | 'market for concrete, 20MPa' (cubic meter, RoW, None)\n",
      "      0.184 | 52.24 | 0.2281 | 'market for concrete, 25MPa' (cubic meter, RoW, None)\n",
      "      0.44 | 124.7 | 0.383 | 'market for concrete, 25-30MPa' (cubic meter, RoW, None)\n",
      "      0.0903 | 25.59 | 0.09174 | 'market for concrete, 35MPa' (cubic meter, RoW, None)\n",
      "      0.0276 |  7.82 | 0.02833 | 'market for concrete, 30MPa' (cubic meter, RoW, None)\n",
      "      0.0621 | 17.61 | 0.05588 | 'market for concrete, 30-32MPa' (cubic meter, RoW, None)\n"
     ]
    }
   ],
   "source": [
    "ba.print_recursive_calculation(concrete_market, ipcc, cutoff=0.005)"
   ]
  },
  {
   "cell_type": "code",
   "execution_count": 69,
   "metadata": {},
   "outputs": [],
   "source": [
    "demand=0.0457 # amount of RNA in market group"
   ]
  },
  {
   "cell_type": "code",
   "execution_count": 90,
   "metadata": {},
   "outputs": [
    {
     "data": {
      "text/plain": [
       "283.44576866175305"
      ]
     },
     "execution_count": 90,
     "metadata": {},
     "output_type": "execute_result"
    }
   ],
   "source": [
    "cm_score"
   ]
  },
  {
   "cell_type": "code",
   "execution_count": 91,
   "metadata": {},
   "outputs": [
    {
     "data": {
      "text/plain": [
       "283.0965523271859"
      ]
     },
     "execution_count": 91,
     "metadata": {},
     "output_type": "execute_result"
    }
   ],
   "source": [
    "cm_score - demand*RNA_score + demand*wc_score"
   ]
  },
  {
   "cell_type": "code",
   "execution_count": 92,
   "metadata": {},
   "outputs": [
    {
     "name": "stdout",
     "output_type": "stream",
     "text": [
      "[283.4457686617518, 283.09872575637183]\n"
     ]
    }
   ],
   "source": [
    "print(replace_stuff(concrete_market, concrete_RNA, wood_chipping_act, ipcc))"
   ]
  },
  {
   "cell_type": "markdown",
   "metadata": {},
   "source": [
    "ok!"
   ]
  },
  {
   "cell_type": "markdown",
   "metadata": {
    "tags": []
   },
   "source": [
    "## plot results"
   ]
  },
  {
   "cell_type": "code",
   "execution_count": 19,
   "metadata": {},
   "outputs": [],
   "source": [
    "first_results = replace_stuff(concrete_market, concrete_RNA, charcrete, ipcc)"
   ]
  },
  {
   "cell_type": "code",
   "execution_count": 20,
   "metadata": {},
   "outputs": [
    {
     "data": {
      "image/png": "[encoded data removed]",
      "text/plain": [
       "<Figure size 640x480 with 1 Axes>"
      ]
     },
     "metadata": {},
     "output_type": "display_data"
    }
   ],
   "source": [
    "labels = ['Concrete', 'Charcrete']\n",
    "width = 0.35       # the width of the bars: can also be len(x) sequence\n",
    "\n",
    "fig, ax = plt.subplots()\n",
    "\n",
    "ax.bar(labels, first_results, width, color='palevioletred')\n",
    "\n",
    "ax.set_ylabel('Climate Impact')\n",
    "ax.set_title('Manipulated market - RNA -> Charcrete')\n",
    "\n",
    "plt.show()"
   ]
  },
  {
   "cell_type": "code",
   "execution_count": 21,
   "metadata": {},
   "outputs": [],
   "source": [
    "fig.savefig(\"result1_v2\")"
   ]
  },
  {
   "cell_type": "code",
   "execution_count": 22,
   "metadata": {},
   "outputs": [],
   "source": [
    "RoW_results = replace_stuff(concrete_market, concrete_RoW, charcrete, ipcc)"
   ]
  },
  {
   "cell_type": "code",
   "execution_count": 23,
   "metadata": {},
   "outputs": [
    {
     "data": {
      "image/png": "[encoded data removed]",
      "text/plain": [
       "<Figure size 640x480 with 1 Axes>"
      ]
     },
     "metadata": {},
     "output_type": "display_data"
    }
   ],
   "source": [
    "labels = ['Concrete', 'Charcrete']\n",
    "width = 0.35       # the width of the bars: can also be len(x) sequence\n",
    "\n",
    "fig, ax = plt.subplots()\n",
    "\n",
    "ax.bar(labels, RoW_results, width, color='palevioletred')\n",
    "\n",
    "ax.set_ylabel('Climate Impact')\n",
    "ax.set_title('Manipulated market (RoW -> Charcrete)')\n",
    "\n",
    "plt.show()"
   ]
  },
  {
   "cell_type": "code",
   "execution_count": 24,
   "metadata": {},
   "outputs": [],
   "source": [
    "fig.savefig(\"result2_RoW_v2\")"
   ]
  },
  {
   "cell_type": "markdown",
   "metadata": {
    "jp-MarkdownHeadingCollapsed": true,
    "tags": []
   },
   "source": [
    "# Changing recursive_calculation"
   ]
  },
  {
   "cell_type": "code",
   "execution_count": 31,
   "metadata": {},
   "outputs": [],
   "source": [
    "def return_recursive_calculation(\n",
    "    activity,\n",
    "    lcia_method,\n",
    "    amount=1,\n",
    "    max_level=3,\n",
    "    cutoff=1e-2,\n",
    "    file_obj=None,\n",
    "    tab_character=\"  \",\n",
    "    use_matrix_values=False,\n",
    "    _lca_obj=None,\n",
    "    _total_score=None,\n",
    "    __level=0,\n",
    "    __first=True,\n",
    "    test_object = {}\n",
    "):\n",
    "    \"\"\"\n",
    "    \"opened up\" version of print_recursive_calculation, to save the values that are printed\n",
    "    First level only (for now)\n",
    "    Ideas for future improvement:\n",
    "    Pass an argument for how many levels to return\n",
    "\n",
    "    \"\"\"\n",
    "    activity = bd.get_activity(activity)\n",
    "    #if file_obj is None:\n",
    "        #file_obj = sys.stdout # i dont think we need this\n",
    "\n",
    "    if _lca_obj is None:\n",
    "        _lca_obj = bc.LCA({activity: amount}, lcia_method)\n",
    "        _lca_obj.lci()\n",
    "        _lca_obj.lcia()\n",
    "        _total_score = _lca_obj.score\n",
    "    elif _total_score is None:\n",
    "        raise ValueError\n",
    "    else:\n",
    "        _lca_obj.redo_lcia({activity.id: amount})\n",
    "        if abs(_lca_obj.score) <= abs(_total_score * cutoff):\n",
    "            return\n",
    "    if __first:\n",
    "        print(\"Fraction of score | Absolute score | Amount | Activity\\n\")\n",
    "    message = \"{}{:04.3g} | {:5.4n} | {:5.4n} | {:.70}\".format(\n",
    "        tab_character * __level,\n",
    "        _lca_obj.score / _total_score,\n",
    "        _lca_obj.score,\n",
    "        float(amount),\n",
    "        str(activity),\n",
    "    )\n",
    "    print(message + \"\\n\")\n",
    "    '''\n",
    "    print(\"TEST: \",      tab_character * __level, # this is just the indentation, we don't need it\n",
    "          \"Fraction of score? \", \n",
    "        _lca_obj.score / _total_score,\n",
    "          \"Absolute score? \",\n",
    "        _lca_obj.score,\n",
    "          \"Amount? \", \n",
    "        float(amount),\n",
    "          \"Activity? \",\n",
    "        str(activity))\n",
    "    \n",
    "    print(\"LEVEL: \", __level)\n",
    "    '''\n",
    "    if __level == 1:\n",
    "        test_object[str(activity)] = {\"Fraction of score\": _lca_obj.score / _total_score,\n",
    "          \"Absolute score\" : _lca_obj.score,\n",
    "          \"Amount\" : float(amount),\n",
    "          \"Location\" : activity['location']  \n",
    "                                     }\n",
    "    \n",
    "    if __level < max_level:\n",
    "        prod_exchanges = list(activity.production())\n",
    "        if not prod_exchanges:\n",
    "            prod_amount = 1\n",
    "        elif len(prod_exchanges) > 1:\n",
    "            warn(\"Hit multiple production exchanges; aborting in this branch\")\n",
    "            return\n",
    "        else:\n",
    "            prod_amount = _lca_obj.technosphere_matrix[\n",
    "                _lca_obj.dicts.product[prod_exchanges[0].input.id],\n",
    "                _lca_obj.dicts.activity[prod_exchanges[0].output.id],\n",
    "            ]\n",
    "\n",
    "        for exc in activity.technosphere():\n",
    "            if exc.input.id == exc.output.id:\n",
    "                continue\n",
    "\n",
    "            if use_matrix_values:\n",
    "                sign = (\n",
    "                    -1\n",
    "                    if exc.get(\"type\") in (\"technosphere\", \"generic technosphere\")\n",
    "                    else 1\n",
    "                )\n",
    "                tm_amount = (\n",
    "                    _lca_obj.technosphere_matrix[\n",
    "                        _lca_obj.dicts.product[exc.input.id],\n",
    "                        _lca_obj.dicts.activity[exc.output.id],\n",
    "                    ]\n",
    "                    * sign\n",
    "                )\n",
    "            else:\n",
    "                tm_amount = exc[\"amount\"]\n",
    "\n",
    "                \n",
    "            return_recursive_calculation(\n",
    "                activity=exc.input,\n",
    "                lcia_method=lcia_method,\n",
    "                amount=amount * tm_amount / prod_amount,\n",
    "                max_level=max_level,\n",
    "                cutoff=cutoff,\n",
    "                file_obj=file_obj,\n",
    "                tab_character=tab_character,\n",
    "                __first=False,\n",
    "                _lca_obj=_lca_obj,\n",
    "                _total_score=_total_score,\n",
    "                __level=__level + 1,\n",
    "            )\n",
    "            \n",
    "    return(test_object)"
   ]
  },
  {
   "cell_type": "code",
   "execution_count": 26,
   "metadata": {},
   "outputs": [
    {
     "data": {
      "text/plain": [
       "'GLO'"
      ]
     },
     "execution_count": 26,
     "metadata": {},
     "output_type": "execute_result"
    }
   ],
   "source": [
    "concrete_market['location']"
   ]
  },
  {
   "cell_type": "code",
   "execution_count": 32,
   "metadata": {},
   "outputs": [
    {
     "name": "stdout",
     "output_type": "stream",
     "text": [
      "Fraction of score | Absolute score | Amount | Activity\n",
      "\n",
      "0001 | 283.4 |     1 | 'market group for concrete, normal' (cubic meter, GLO, None)\n",
      "\n",
      "  0.0144 | 4.086 | 0.0226 | 'market for concrete, normal' (cubic meter, BR, None)\n",
      "\n",
      "    0.0144 | 4.086 | 0.0226 | 'concrete, all types to generic market for concrete, normal strength' \n",
      "\n",
      "      0.00275 | 0.7798 | 0.003616 | 'market for concrete, 30MPa' (cubic meter, BR, None)\n",
      "\n",
      "      0.0115 | 3.253 | 0.01876 | 'market for concrete, 25MPa' (cubic meter, BR, None)\n",
      "\n",
      "  0.00208 | 0.5893 | 0.002355 | 'market for concrete, normal' (cubic meter, CO, None)\n",
      "\n",
      "    0.00208 | 0.5893 | 0.002355 | 'concrete, all types to generic market for concrete, normal strength' \n",
      "\n",
      "      0.00208 | 0.5893 | 0.002355 | 'market for concrete, 20MPa' (cubic meter, CO, None)\n",
      "\n",
      "  0.0261 |  7.39 | 0.01907 | 'market for concrete, normal' (cubic meter, IN, None)\n",
      "\n",
      "    0.0261 |  7.39 | 0.01907 | 'concrete, all types to generic market for concrete, normal strength' \n",
      "\n",
      "      0.0261 |  7.39 | 0.01907 | 'market for concrete, 25-30MPa' (cubic meter, IN, None)\n",
      "\n",
      "  0.0129 | 3.665 | 0.01072 | 'market for concrete, normal' (cubic meter, PE, None)\n",
      "\n",
      "    0.0129 | 3.665 | 0.01072 | 'concrete, all types to generic market for concrete, normal strength' \n",
      "\n",
      "      0.0129 | 3.665 | 0.01072 | 'market for concrete, 20MPa' (cubic meter, PE, None)\n",
      "\n",
      "  0.0457 | 12.96 | 0.04542 | 'market for concrete, normal' (cubic meter, RNA, None)\n",
      "\n",
      "    0.0457 | 12.96 | 0.04542 | 'concrete, all types to generic market for concrete, normal strength' \n",
      "\n",
      "      0.00797 |  2.26 | 0.009174 | 'market for concrete, 20MPa' (cubic meter, RNA, None)\n",
      "\n",
      "      0.0134 | 3.806 | 0.01099 | 'market for concrete, 35MPa' (cubic meter, RNA, None)\n",
      "\n",
      "      0.0162 | 4.597 | 0.01835 | 'market for concrete, 25MPa' (cubic meter, RNA, None)\n",
      "\n",
      "      0.00811 | 2.298 | 0.006903 | 'market for concrete, 30-32MPa' (cubic meter, RNA, None)\n",
      "\n",
      "  0.00158 | 0.4488 | 0.001532 | 'market for concrete, normal' (cubic meter, ZA, None)\n",
      "\n",
      "    0.00158 | 0.4488 | 0.001532 | 'concrete, all types to generic market for concrete, normal strength' \n",
      "\n",
      "  0.897 | 254.2 | 0.8976 | 'market for concrete, normal' (cubic meter, RoW, None)\n",
      "\n",
      "    0.00191 | 0.5415 | 0.002046 | 'concrete, all types to generic market for concrete, normal strength' \n",
      "\n",
      "      0.00106 | 0.3001 | 0.001179 | 'market for concrete, 25MPa' (cubic meter, AT, None)\n",
      "\n",
      "    0.895 | 253.7 | 0.8956 | 'concrete, all types to generic market for concrete, normal strength' \n",
      "\n",
      "      0.0909 | 25.76 | 0.1085 | 'market for concrete, 20MPa' (cubic meter, RoW, None)\n",
      "\n",
      "      0.184 | 52.24 | 0.2281 | 'market for concrete, 25MPa' (cubic meter, RoW, None)\n",
      "\n",
      "      0.44 | 124.7 | 0.383 | 'market for concrete, 25-30MPa' (cubic meter, RoW, None)\n",
      "\n",
      "      0.0903 | 25.59 | 0.09174 | 'market for concrete, 35MPa' (cubic meter, RoW, None)\n",
      "\n",
      "      0.0276 |  7.82 | 0.02833 | 'market for concrete, 30MPa' (cubic meter, RoW, None)\n",
      "\n",
      "      0.0621 | 17.61 | 0.05588 | 'market for concrete, 30-32MPa' (cubic meter, RoW, None)\n",
      "\n"
     ]
    }
   ],
   "source": [
    "whats_this = return_recursive_calculation(concrete_market, ipcc, cutoff=0.001)"
   ]
  },
  {
   "cell_type": "code",
   "execution_count": null,
   "metadata": {},
   "outputs": [],
   "source": [
    "whats_this"
   ]
  },
  {
   "cell_type": "markdown",
   "metadata": {},
   "source": [
    "Now - it would be supercool if we could plot something from this dict"
   ]
  },
  {
   "cell_type": "code",
   "execution_count": 33,
   "metadata": {},
   "outputs": [
    {
     "data": {
      "text/plain": [
       "\"\\nfor (key, value, score) in zip(whats_this.items(), all_scores):\\n    #print(key)\\n    #print(value['Location'])\\n    #print(value['Fraction of score'])\\n    \\n    locations.append(value['Location'])\\n    amounts.append(value['Amount'])\\n    score_fractions.append(value['Fraction of score'])\\n    absolute_scores.append(value['Absolute score'])\\n    \\n    score.append(value['Location'], value['Amount'], value['Fraction of score'], value['Absolute score']) \\n    \\n\""
      ]
     },
     "execution_count": 33,
     "metadata": {},
     "output_type": "execute_result"
    }
   ],
   "source": [
    "locations = []\n",
    "amounts = []\n",
    "score_fractions = []\n",
    "absolute_scores = []\n",
    "\n",
    "score_1 = []\n",
    "score_2 = []\n",
    "score_3 = []\n",
    "score_4 = []\n",
    "score_5 = []\n",
    "score_6 = []\n",
    "all_scores = []\n",
    "\n",
    "for key, value in whats_this.items():\n",
    "    #print(key)\n",
    "    #print(value['Location'])\n",
    "    #print(value['Fraction of score'])\n",
    "    \n",
    "    locations.append(value['Location'])\n",
    "    amounts.append(value['Amount'])\n",
    "    score_fractions.append(value['Fraction of score'])\n",
    "    absolute_scores.append(value['Absolute score'])\n",
    "    \n",
    "    score = []\n",
    "    #score.append(value['Location']) \n",
    "    score.append(value['Amount'])\n",
    "    score.append(value['Fraction of score'])\n",
    "    #score.append(value['Absolute score']) \n",
    "    all_scores.append(score)\n",
    "\n",
    "'''\n",
    "for (key, value, score) in zip(whats_this.items(), all_scores):\n",
    "    #print(key)\n",
    "    #print(value['Location'])\n",
    "    #print(value['Fraction of score'])\n",
    "    \n",
    "    locations.append(value['Location'])\n",
    "    amounts.append(value['Amount'])\n",
    "    score_fractions.append(value['Fraction of score'])\n",
    "    absolute_scores.append(value['Absolute score'])\n",
    "    \n",
    "    score.append(value['Location'], value['Amount'], value['Fraction of score'], value['Absolute score']) \n",
    "    \n",
    "'''\n",
    "    "
   ]
  },
  {
   "cell_type": "code",
   "execution_count": 133,
   "metadata": {},
   "outputs": [
    {
     "data": {
      "text/plain": [
       "[[0.0226016949011232, 0.014416282651548335],\n",
       " [0.00235506608812062, 0.0020789840026996546],\n",
       " [0.01906591647549, 0.02607040572019465],\n",
       " [0.0107245780174631, 0.012930554303038206],\n",
       " [0.0454155754069573, 0.04573046702868509],\n",
       " [0.00153183994392364, 0.001583355162659201],\n",
       " [0.897624403578512, 0.8968405662116437]]"
      ]
     },
     "execution_count": 133,
     "metadata": {},
     "output_type": "execute_result"
    }
   ],
   "source": [
    "all_scores"
   ]
  },
  {
   "cell_type": "code",
   "execution_count": 134,
   "metadata": {},
   "outputs": [
    {
     "data": {
      "text/plain": [
       "0.0226016949011232"
      ]
     },
     "execution_count": 134,
     "metadata": {},
     "output_type": "execute_result"
    }
   ],
   "source": [
    "all_scores[0][0]"
   ]
  },
  {
   "cell_type": "code",
   "execution_count": 135,
   "metadata": {},
   "outputs": [
    {
     "data": {
      "text/plain": [
       "['BR', 'CO', 'IN', 'PE', 'RNA', 'ZA', 'RoW']"
      ]
     },
     "execution_count": 135,
     "metadata": {},
     "output_type": "execute_result"
    }
   ],
   "source": [
    "locations"
   ]
  },
  {
   "cell_type": "code",
   "execution_count": 136,
   "metadata": {},
   "outputs": [
    {
     "data": {
      "text/plain": [
       "[0.0226016949011232,\n",
       " 0.00235506608812062,\n",
       " 0.01906591647549,\n",
       " 0.0107245780174631,\n",
       " 0.0454155754069573,\n",
       " 0.00153183994392364,\n",
       " 0.897624403578512]"
      ]
     },
     "execution_count": 136,
     "metadata": {},
     "output_type": "execute_result"
    }
   ],
   "source": [
    "amounts"
   ]
  },
  {
   "cell_type": "code",
   "execution_count": 74,
   "metadata": {},
   "outputs": [
    {
     "data": {
      "text/plain": [
       "[0.014416282651548335,\n",
       " 0.0020789840026996546,\n",
       " 0.02607040572019465,\n",
       " 0.012930554303038206,\n",
       " 0.04573046702868509,\n",
       " 0.001583355162659201,\n",
       " 0.8968405662116437]"
      ]
     },
     "execution_count": 74,
     "metadata": {},
     "output_type": "execute_result"
    }
   ],
   "source": [
    "score_fractions"
   ]
  },
  {
   "cell_type": "code",
   "execution_count": 67,
   "metadata": {},
   "outputs": [
    {
     "data": {
      "text/plain": [
       "[4.086234317413193,\n",
       " 0.5892792186806887,\n",
       " 7.389546188684299,\n",
       " 3.6651109036471845,\n",
       " 12.962107378206536,\n",
       " 0.44879532114449,\n",
       " 254.2056636568999]"
      ]
     },
     "execution_count": 75,
     "metadata": {},
     "output_type": "execute_result"
    }
   ],
   "source": [
    "absolute_scores"
   ]
  },
  {
   "cell_type": "code",
   "execution_count": 108,
   "metadata": {},
   "outputs": [
    {
     "data": {
      "image/png": "[encoded data removed]",
      "text/plain": [
       "<Figure size 640x480 with 1 Axes>"
      ]
     },
     "metadata": {},
     "output_type": "display_data"
    }
   ],
   "source": [
    "labels = 'Market1', 'Market2', 'Market3', 'Market4', 'Market5', 'Market6', 'Market7'\n",
    "#sizes = [15, 30, 45, 10]\n",
    "nice_colors = ['palevioletred', 'powderblue', 'palegoldenrod', 'darkgray', 'green', 'blue', 'yellow']\n",
    "\n",
    "fig1, ax1 = plt.subplots()\n",
    "ax1.pie(amounts, labels=labels, autopct='%1.1f%%', startangle=90, counterclock=False, colors = nice_colors)\n",
    "ax1.axis('equal')  # Equal aspect ratio ensures that pie is drawn as a circle.\n",
    "\n",
    "plt.show()"
   ]
  },
  {
   "cell_type": "code",
   "execution_count": 53,
   "metadata": {},
   "outputs": [
    {
     "name": "stdout",
     "output_type": "stream",
     "text": [
      "  Amount        BR        CO        IN        PE       RNA        ZA       RoW\n",
      "0         0.022602  0.002355  0.019066  0.010725  0.045416  0.001532  0.897624\n"
     ]
    },
    {
     "data": {
      "image/png": "[encoded data removed]",
      "text/plain": [
       "<Figure size 640x480 with 1 Axes>"
      ]
     },
     "metadata": {},
     "output_type": "display_data"
    }
   ],
   "source": [
    "nice_colors = ['palevioletred', 'powderblue', 'palegoldenrod', 'darkgreen', 'darkgray', 'blue', 'lightgreen']\n",
    "\n",
    " # create data\n",
    "df = pd.DataFrame([[''] + amounts],\n",
    "                  columns=['Amount'] + locations)\n",
    "# view data\n",
    "print(df)\n",
    " \n",
    "# plot data in stack manner of bar type\n",
    "df.plot(x='Amount', kind='bar', stacked=True,\n",
    "        title='Market share of different concrete markets', color=nice_colors)\n",
    "plt.show()"
   ]
  },
  {
   "cell_type": "markdown",
   "metadata": {
    "tags": []
   },
   "source": [
    "# Changing market shares"
   ]
  },
  {
   "cell_type": "code",
   "execution_count": 54,
   "metadata": {},
   "outputs": [],
   "source": [
    "def change_market_shares(main_act, repl_act, market_share, method):\n",
    "    \n",
    "    gangnam_style = 1_000_000\n",
    "\n",
    "    indices = np.array(\n",
    "    [\n",
    "        (gangnam_style, gangnam_style), # Production exchange for new main_act ( activity produces itself ) - need to have this to make matrix square\n",
    "        (main_act.id, gangnam_style)]\n",
    "        +\n",
    "        [\n",
    "        \n",
    "        (exc.input.id, gangnam_style) for exc in main_act.exchanges()\n",
    "        #(sub_act.id, gangnam_style), # subtract sub_act - here we need to add all the sub_acts\n",
    "    ] + [\n",
    "        (node.id, gangnam_style) for node in [repl_act] # replace with this - something about new dps replacing old ones - could also have the values being added together?\n",
    "        # see gh bw processing -> policies\n",
    "    ], dtype=bwp.INDICES_DTYPE\n",
    "    )\n",
    "    \n",
    "    data = np.array([\n",
    "            1,\n",
    "            1,\n",
    "        ]\n",
    "        +\n",
    "        [\n",
    "        exc['amount']*(market_share) for exc in list(main_act.exchanges()) # amount*0.1 - what we want to \" remove\"\n",
    "        ]\n",
    "        +\n",
    "        [\n",
    "            market_share # new activity - same amount\n",
    "            # 0 # (i was just testing something)\n",
    "        ]\n",
    "    ) \n",
    "    flip = np.array(\n",
    "        [False, True] + [False for exc in list(main_act.exchanges())] + [True for _ in [repl_act]] # neg for sub acts, pos for new act\n",
    "    )\n",
    "    \n",
    "    dp = bwp.create_datapackage()\n",
    "\n",
    "    dp.add_persistent_vector(\n",
    "        matrix=\"technosphere_matrix\",\n",
    "        data_array=data,\n",
    "        indices_array=indices,\n",
    "        flip_array=flip,\n",
    "        name=\"New technosphere\",\n",
    "    )\n",
    "    \n",
    "    _, data_objs, _ = bd.prepare_lca_inputs({main_act: 1}, ipcc) # data_objs - still using ei\n",
    "    \n",
    "    \n",
    "    lca = bc.LCA({main_act.id: 1}, data_objs=data_objs + [dp]) # old motor + add [dp] (new motor)\n",
    "    lca.lci()\n",
    "    lca.lcia()\n",
    "    lcascore1 = lca.score\n",
    "    \n",
    "    lca.lcia({gangnam_style: 1}) # new motor\n",
    "    lcascore2 = lca.score\n",
    "\n",
    "    \n",
    "    return(lcascore1, lcascore2)"
   ]
  },
  {
   "cell_type": "code",
   "execution_count": 55,
   "metadata": {},
   "outputs": [
    {
     "name": "stdout",
     "output_type": "stream",
     "text": [
      "(283.4457686617526, 254.53357198151193)\n"
     ]
    }
   ],
   "source": [
    "print(change_market_shares(concrete_market, wood_chipping_act, 0.1, ipcc))"
   ]
  },
  {
   "cell_type": "code",
   "execution_count": 59,
   "metadata": {},
   "outputs": [],
   "source": [
    "lca1, lca2 = change_market_shares(concrete_market, wood_chipping_act, 0.1, ipcc)"
   ]
  },
  {
   "cell_type": "markdown",
   "metadata": {},
   "source": [
    "uhm... so now we get results... how do we check if this is reasonable?"
   ]
  },
  {
   "cell_type": "markdown",
   "metadata": {},
   "source": [
    "ok - let's break down what we have done\n",
    "\n",
    "We have taken away 10% of the OG act, and replaces that with 0.1 of the replacement act\n",
    "\n",
    "So 283 x 0.9 + 0.1 of repl_act should be our result\n",
    "\n",
    "let's do an LCA of the repl_act\n"
   ]
  },
  {
   "cell_type": "code",
   "execution_count": 57,
   "metadata": {},
   "outputs": [],
   "source": [
    "_, data_objs, _ = bd.prepare_lca_inputs({wood_chipping_act: 1}, ipcc) # data_objs - still using ei    \n",
    "lca = bc.LCA({wood_chipping_act.id: 1}, data_objs=data_objs) # old motor + add [dp] (new motor)\n",
    "lca.lci()\n",
    "lca.lcia()\n",
    "wc_score = lca.score"
   ]
  },
  {
   "cell_type": "code",
   "execution_count": 58,
   "metadata": {},
   "outputs": [
    {
     "data": {
      "text/plain": [
       "277.7695616489718"
      ]
     },
     "execution_count": 58,
     "metadata": {},
     "output_type": "execute_result"
    }
   ],
   "source": [
    "wc_score"
   ]
  },
  {
   "cell_type": "code",
   "execution_count": 60,
   "metadata": {},
   "outputs": [
    {
     "data": {
      "text/plain": [
       "283.4457686617526"
      ]
     },
     "execution_count": 60,
     "metadata": {},
     "output_type": "execute_result"
    }
   ],
   "source": [
    "lca1"
   ]
  },
  {
   "cell_type": "code",
   "execution_count": 62,
   "metadata": {},
   "outputs": [
    {
     "data": {
      "text/plain": [
       "282.8781479604745"
      ]
     },
     "execution_count": 62,
     "metadata": {},
     "output_type": "execute_result"
    }
   ],
   "source": [
    "# What we should get:\n",
    "lca1*0.9 + wc_score*0.1"
   ]
  },
  {
   "cell_type": "code",
   "execution_count": 63,
   "metadata": {},
   "outputs": [
    {
     "data": {
      "text/plain": [
       "254.53357198151193"
      ]
     },
     "execution_count": 63,
     "metadata": {},
     "output_type": "execute_result"
    }
   ],
   "source": [
    "# what we get\n",
    "lca2"
   ]
  },
  {
   "cell_type": "markdown",
   "metadata": {},
   "source": [
    "???"
   ]
  },
  {
   "cell_type": "markdown",
   "metadata": {
    "jp-MarkdownHeadingCollapsed": true,
    "tags": []
   },
   "source": [
    "# Helpers (no need to run these)"
   ]
  },
  {
   "cell_type": "markdown",
   "metadata": {},
   "source": [
    "This section basically just contains me playing around in the bw framework"
   ]
  },
  {
   "cell_type": "markdown",
   "metadata": {
    "jp-MarkdownHeadingCollapsed": true,
    "tags": []
   },
   "source": [
    "## Template for searching activities etc"
   ]
  },
  {
   "cell_type": "code",
   "execution_count": 22,
   "metadata": {},
   "outputs": [
    {
     "data": {
      "text/plain": [
       "('ei 3.8 cutoff', 'a63718ddc8a975480cf624318b8e5eb0')"
      ]
     },
     "execution_count": 22,
     "metadata": {},
     "output_type": "execute_result"
    }
   ],
   "source": [
    "'ei 3.8 cutoff', 'a63718ddc8a975480cf624318b8e5eb0'"
   ]
  },
  {
   "cell_type": "code",
   "execution_count": 63,
   "metadata": {},
   "outputs": [
    {
     "data": {
      "text/plain": [
       "'ei38-teaching-25'"
      ]
     },
     "execution_count": 63,
     "metadata": {},
     "output_type": "execute_result"
    }
   ],
   "source": [
    "bd.projects.current"
   ]
  },
  {
   "cell_type": "code",
   "execution_count": 64,
   "metadata": {},
   "outputs": [
    {
     "data": {
      "text/plain": [
       "Databases dictionary with 2 object(s):\n",
       "\tbiosphere3\n",
       "\tei 3.8 cutoff"
      ]
     },
     "execution_count": 64,
     "metadata": {},
     "output_type": "execute_result"
    }
   ],
   "source": [
    "bi.databases"
   ]
  },
  {
   "cell_type": "code",
   "execution_count": 65,
   "metadata": {},
   "outputs": [],
   "source": [
    "concrete_market = bd.get_activity(('ei 3.8 cutoff', 'a63718ddc8a975480cf624318b8e5eb0'))"
   ]
  },
  {
   "cell_type": "code",
   "execution_count": 77,
   "metadata": {},
   "outputs": [
    {
     "data": {
      "text/plain": [
       "'market group for concrete, normal' (cubic meter, GLO, None)"
      ]
     },
     "execution_count": 77,
     "metadata": {},
     "output_type": "execute_result"
    }
   ],
   "source": [
    "concrete_market"
   ]
  },
  {
   "cell_type": "code",
   "execution_count": 78,
   "metadata": {},
   "outputs": [
    {
     "data": {
      "text/plain": [
       "[Exchange: 1.0 cubic meter 'market group for concrete, normal' (cubic meter, GLO, None) to 'market group for concrete, normal' (cubic meter, GLO, None)>,\n",
       " Exchange: 0.0226016949011232 cubic meter 'market for concrete, normal' (cubic meter, BR, None) to 'market group for concrete, normal' (cubic meter, GLO, None)>,\n",
       " Exchange: 0.000680925588410356 cubic meter 'market for concrete, normal' (cubic meter, CH, None) to 'market group for concrete, normal' (cubic meter, GLO, None)>,\n",
       " Exchange: 0.00235506608812062 cubic meter 'market for concrete, normal' (cubic meter, CO, None) to 'market group for concrete, normal' (cubic meter, GLO, None)>,\n",
       " Exchange: 0.01906591647549 cubic meter 'market for concrete, normal' (cubic meter, IN, None) to 'market group for concrete, normal' (cubic meter, GLO, None)>,\n",
       " Exchange: 0.0107245780174631 cubic meter 'market for concrete, normal' (cubic meter, PE, None) to 'market group for concrete, normal' (cubic meter, GLO, None)>,\n",
       " Exchange: 0.0454155754069573 cubic meter 'market for concrete, normal' (cubic meter, RNA, None) to 'market group for concrete, normal' (cubic meter, GLO, None)>,\n",
       " Exchange: 0.00153183994392364 cubic meter 'market for concrete, normal' (cubic meter, ZA, None) to 'market group for concrete, normal' (cubic meter, GLO, None)>,\n",
       " Exchange: 0.897624403578512 cubic meter 'market for concrete, normal' (cubic meter, RoW, None) to 'market group for concrete, normal' (cubic meter, GLO, None)>]"
      ]
     },
     "execution_count": 78,
     "metadata": {},
     "output_type": "execute_result"
    }
   ],
   "source": [
    "list(concrete_market.exchanges())"
   ]
  },
  {
   "cell_type": "code",
   "execution_count": 43,
   "metadata": {},
   "outputs": [
    {
     "name": "stdout",
     "output_type": "stream",
     "text": [
      "Exchange: 0.0226016949011232 cubic meter 'market for concrete, normal' (cubic meter, BR, None) to 'market group for concrete, normal' (cubic meter, GLO, None)>\n",
      "Exchange: 0.000680925588410356 cubic meter 'market for concrete, normal' (cubic meter, CH, None) to 'market group for concrete, normal' (cubic meter, GLO, None)>\n",
      "Exchange: 0.00235506608812062 cubic meter 'market for concrete, normal' (cubic meter, CO, None) to 'market group for concrete, normal' (cubic meter, GLO, None)>\n",
      "Exchange: 0.01906591647549 cubic meter 'market for concrete, normal' (cubic meter, IN, None) to 'market group for concrete, normal' (cubic meter, GLO, None)>\n",
      "Exchange: 0.0107245780174631 cubic meter 'market for concrete, normal' (cubic meter, PE, None) to 'market group for concrete, normal' (cubic meter, GLO, None)>\n",
      "Exchange: 0.0454155754069573 cubic meter 'market for concrete, normal' (cubic meter, RNA, None) to 'market group for concrete, normal' (cubic meter, GLO, None)>\n",
      "Exchange: 0.00153183994392364 cubic meter 'market for concrete, normal' (cubic meter, ZA, None) to 'market group for concrete, normal' (cubic meter, GLO, None)>\n",
      "Exchange: 0.897624403578512 cubic meter 'market for concrete, normal' (cubic meter, RoW, None) to 'market group for concrete, normal' (cubic meter, GLO, None)>\n",
      "Exchange: 0 cubic meter 'Charcrete production 5%' (cubic meter, SE, None) to 'market group for concrete, normal' (cubic meter, GLO, None)>\n",
      "Exchange: 0 cubic meter 'Charcrete production 7.5%' (cubic meter, SE, None) to 'market group for concrete, normal' (cubic meter, GLO, None)>\n",
      "Exchange with missing fields (call ``valid(why=True)`` to see more)\n",
      "Exchange with missing fields (call ``valid(why=True)`` to see more)\n",
      "Exchange with missing fields (call ``valid(why=True)`` to see more)\n",
      "Exchange with missing fields (call ``valid(why=True)`` to see more)\n",
      "Exchange with missing fields (call ``valid(why=True)`` to see more)\n",
      "Exchange: 0 cubic meter 'Charcrete production 7.5%' (cubic meter, SE, None) to 'market group for concrete, normal' (cubic meter, GLO, None)>\n"
     ]
    }
   ],
   "source": [
    "for exc in concrete_market.technosphere():\n",
    "    print(exc)"
   ]
  },
  {
   "cell_type": "code",
   "execution_count": 40,
   "metadata": {},
   "outputs": [
    {
     "name": "stdout",
     "output_type": "stream",
     "text": [
      "Exchange: 1.0 cubic meter 'market group for concrete, normal' (cubic meter, GLO, None) to 'market group for concrete, normal' (cubic meter, GLO, None)>\n",
      "18901\n",
      "Exchange: 0.0226016949011232 cubic meter 'market for concrete, normal' (cubic meter, BR, None) to 'market group for concrete, normal' (cubic meter, GLO, None)>\n",
      "5266\n",
      "Exchange: 0.000680925588410356 cubic meter 'market for concrete, normal' (cubic meter, CH, None) to 'market group for concrete, normal' (cubic meter, GLO, None)>\n",
      "18417\n",
      "Exchange: 0.00235506608812062 cubic meter 'market for concrete, normal' (cubic meter, CO, None) to 'market group for concrete, normal' (cubic meter, GLO, None)>\n",
      "11087\n",
      "Exchange: 0.01906591647549 cubic meter 'market for concrete, normal' (cubic meter, IN, None) to 'market group for concrete, normal' (cubic meter, GLO, None)>\n",
      "14553\n",
      "Exchange: 0.0107245780174631 cubic meter 'market for concrete, normal' (cubic meter, PE, None) to 'market group for concrete, normal' (cubic meter, GLO, None)>\n",
      "23135\n",
      "Exchange: 0.0454155754069573 cubic meter 'market for concrete, normal' (cubic meter, RNA, None) to 'market group for concrete, normal' (cubic meter, GLO, None)>\n",
      "22099\n",
      "Exchange: 0.00153183994392364 cubic meter 'market for concrete, normal' (cubic meter, ZA, None) to 'market group for concrete, normal' (cubic meter, GLO, None)>\n",
      "16409\n",
      "Exchange: 0.897624403578512 cubic meter 'market for concrete, normal' (cubic meter, RoW, None) to 'market group for concrete, normal' (cubic meter, GLO, None)>\n",
      "19248\n",
      "Exchange: 0 cubic meter 'Charcrete production 5%' (cubic meter, SE, None) to 'market group for concrete, normal' (cubic meter, GLO, None)>\n",
      "33111\n",
      "Exchange: 0 cubic meter 'Charcrete production 7.5%' (cubic meter, SE, None) to 'market group for concrete, normal' (cubic meter, GLO, None)>\n",
      "33112\n",
      "Exchange with missing fields (call ``valid(why=True)`` to see more)\n"
     ]
    },
    {
     "ename": "TypeError",
     "evalue": "'Exchange' object is not callable",
     "output_type": "error",
     "traceback": [
      "\u001b[0;31m---------------------------------------------------------------------------\u001b[0m",
      "\u001b[0;31mUnknownObject\u001b[0m                             Traceback (most recent call last)",
      "Cell \u001b[0;32mIn [40], line 4\u001b[0m\n\u001b[1;32m      3\u001b[0m \u001b[38;5;28;01mtry\u001b[39;00m:\n\u001b[0;32m----> 4\u001b[0m     \u001b[38;5;28mprint\u001b[39m(exch\u001b[38;5;241m.\u001b[39minput\u001b[38;5;241m.\u001b[39mid)\n\u001b[1;32m      5\u001b[0m \u001b[38;5;28;01mexcept\u001b[39;00m:\n",
      "File \u001b[0;32m/opt/tljh/user/envs/bw25/lib/python3.10/site-packages/bw2data/proxies.py:150\u001b[0m, in \u001b[0;36mExchangeProxyBase._get_input\u001b[0;34m(self)\u001b[0m\n\u001b[1;32m    149\u001b[0m \u001b[38;5;28;01melif\u001b[39;00m \u001b[38;5;129;01mnot\u001b[39;00m \u001b[38;5;28mhasattr\u001b[39m(\u001b[38;5;28mself\u001b[39m, \u001b[38;5;124m\"\u001b[39m\u001b[38;5;124m_input\u001b[39m\u001b[38;5;124m\"\u001b[39m):\n\u001b[0;32m--> 150\u001b[0m     \u001b[38;5;28mself\u001b[39m\u001b[38;5;241m.\u001b[39m_input \u001b[38;5;241m=\u001b[39m \u001b[43mget_activity\u001b[49m\u001b[43m(\u001b[49m\u001b[38;5;28;43mself\u001b[39;49m\u001b[43m[\u001b[49m\u001b[38;5;124;43m\"\u001b[39;49m\u001b[38;5;124;43minput\u001b[39;49m\u001b[38;5;124;43m\"\u001b[39;49m\u001b[43m]\u001b[49m\u001b[43m)\u001b[49m\n\u001b[1;32m    151\u001b[0m \u001b[38;5;28;01mreturn\u001b[39;00m \u001b[38;5;28mself\u001b[39m\u001b[38;5;241m.\u001b[39m_input\n",
      "File \u001b[0;32m/opt/tljh/user/envs/bw25/lib/python3.10/site-packages/bw2data/utils.py:468\u001b[0m, in \u001b[0;36mget_activity\u001b[0;34m(key, **kwargs)\u001b[0m\n\u001b[1;32m    467\u001b[0m     kwargs[\u001b[38;5;124m\"\u001b[39m\u001b[38;5;124mid\u001b[39m\u001b[38;5;124m\"\u001b[39m] \u001b[38;5;241m=\u001b[39m key\n\u001b[0;32m--> 468\u001b[0m \u001b[38;5;28;01mreturn\u001b[39;00m \u001b[43mget_node\u001b[49m\u001b[43m(\u001b[49m\u001b[38;5;241;43m*\u001b[39;49m\u001b[38;5;241;43m*\u001b[39;49m\u001b[43mkwargs\u001b[49m\u001b[43m)\u001b[49m\n",
      "File \u001b[0;32m/opt/tljh/user/envs/bw25/lib/python3.10/site-packages/bw2data/utils.py:450\u001b[0m, in \u001b[0;36mget_node\u001b[0;34m(**kwargs)\u001b[0m\n\u001b[1;32m    449\u001b[0m \u001b[38;5;28;01melif\u001b[39;00m \u001b[38;5;129;01mnot\u001b[39;00m candidates:\n\u001b[0;32m--> 450\u001b[0m     \u001b[38;5;28;01mraise\u001b[39;00m UnknownObject\n\u001b[1;32m    451\u001b[0m \u001b[38;5;28;01mreturn\u001b[39;00m candidates[\u001b[38;5;241m0\u001b[39m]\n",
      "\u001b[0;31mUnknownObject\u001b[0m: ",
      "\nDuring handling of the above exception, another exception occurred:\n",
      "\u001b[0;31mTypeError\u001b[0m                                 Traceback (most recent call last)",
      "Cell \u001b[0;32mIn [40], line 6\u001b[0m\n\u001b[1;32m      4\u001b[0m     \u001b[38;5;28mprint\u001b[39m(exch\u001b[38;5;241m.\u001b[39minput\u001b[38;5;241m.\u001b[39mid)\n\u001b[1;32m      5\u001b[0m \u001b[38;5;28;01mexcept\u001b[39;00m:\n\u001b[0;32m----> 6\u001b[0m     exch()\u001b[38;5;241m.\u001b[39mdelete()\n",
      "\u001b[0;31mTypeError\u001b[0m: 'Exchange' object is not callable"
     ]
    }
   ],
   "source": [
    "for exch in concrete_market.exchanges():\n",
    "    print(exch)\n",
    "    try:\n",
    "        print(exch.input.id)\n",
    "    except:\n",
    "        exch().delete()"
   ]
  },
  {
   "cell_type": "code",
   "execution_count": 36,
   "metadata": {},
   "outputs": [
    {
     "name": "stdout",
     "output_type": "stream",
     "text": [
      "Exchange: 1.0 cubic meter 'market group for concrete, normal' (cubic meter, GLO, None) to 'market group for concrete, normal' (cubic meter, GLO, None)>\n",
      "18901\n",
      "Exchange: 0.0226016949011232 cubic meter 'market for concrete, normal' (cubic meter, BR, None) to 'market group for concrete, normal' (cubic meter, GLO, None)>\n",
      "5266\n",
      "Exchange: 0.000680925588410356 cubic meter 'market for concrete, normal' (cubic meter, CH, None) to 'market group for concrete, normal' (cubic meter, GLO, None)>\n",
      "18417\n",
      "Exchange: 0.00235506608812062 cubic meter 'market for concrete, normal' (cubic meter, CO, None) to 'market group for concrete, normal' (cubic meter, GLO, None)>\n",
      "11087\n",
      "Exchange: 0.01906591647549 cubic meter 'market for concrete, normal' (cubic meter, IN, None) to 'market group for concrete, normal' (cubic meter, GLO, None)>\n",
      "14553\n",
      "Exchange: 0.0107245780174631 cubic meter 'market for concrete, normal' (cubic meter, PE, None) to 'market group for concrete, normal' (cubic meter, GLO, None)>\n",
      "23135\n",
      "Exchange: 0.0454155754069573 cubic meter 'market for concrete, normal' (cubic meter, RNA, None) to 'market group for concrete, normal' (cubic meter, GLO, None)>\n",
      "22099\n",
      "Exchange: 0.00153183994392364 cubic meter 'market for concrete, normal' (cubic meter, ZA, None) to 'market group for concrete, normal' (cubic meter, GLO, None)>\n",
      "16409\n",
      "Exchange: 0.897624403578512 cubic meter 'market for concrete, normal' (cubic meter, RoW, None) to 'market group for concrete, normal' (cubic meter, GLO, None)>\n",
      "19248\n",
      "Exchange: 0 cubic meter 'Charcrete production 5%' (cubic meter, SE, None) to 'market group for concrete, normal' (cubic meter, GLO, None)>\n",
      "33111\n",
      "Exchange: 0 cubic meter 'Charcrete production 7.5%' (cubic meter, SE, None) to 'market group for concrete, normal' (cubic meter, GLO, None)>\n",
      "33112\n",
      "Exchange with missing fields (call ``valid(why=True)`` to see more)\n"
     ]
    },
    {
     "ename": "TypeError",
     "evalue": "'Exchange' object is not callable",
     "output_type": "error",
     "traceback": [
      "\u001b[0;31m---------------------------------------------------------------------------\u001b[0m",
      "\u001b[0;31mUnknownObject\u001b[0m                             Traceback (most recent call last)",
      "Cell \u001b[0;32mIn [36], line 4\u001b[0m\n\u001b[1;32m      3\u001b[0m \u001b[38;5;28;01mtry\u001b[39;00m:\n\u001b[0;32m----> 4\u001b[0m     \u001b[38;5;28mprint\u001b[39m(exch\u001b[38;5;241m.\u001b[39minput\u001b[38;5;241m.\u001b[39mid)\n\u001b[1;32m      5\u001b[0m \u001b[38;5;28;01mexcept\u001b[39;00m:\n",
      "File \u001b[0;32m/opt/tljh/user/envs/bw25/lib/python3.10/site-packages/bw2data/proxies.py:150\u001b[0m, in \u001b[0;36mExchangeProxyBase._get_input\u001b[0;34m(self)\u001b[0m\n\u001b[1;32m    149\u001b[0m \u001b[38;5;28;01melif\u001b[39;00m \u001b[38;5;129;01mnot\u001b[39;00m \u001b[38;5;28mhasattr\u001b[39m(\u001b[38;5;28mself\u001b[39m, \u001b[38;5;124m\"\u001b[39m\u001b[38;5;124m_input\u001b[39m\u001b[38;5;124m\"\u001b[39m):\n\u001b[0;32m--> 150\u001b[0m     \u001b[38;5;28mself\u001b[39m\u001b[38;5;241m.\u001b[39m_input \u001b[38;5;241m=\u001b[39m \u001b[43mget_activity\u001b[49m\u001b[43m(\u001b[49m\u001b[38;5;28;43mself\u001b[39;49m\u001b[43m[\u001b[49m\u001b[38;5;124;43m\"\u001b[39;49m\u001b[38;5;124;43minput\u001b[39;49m\u001b[38;5;124;43m\"\u001b[39;49m\u001b[43m]\u001b[49m\u001b[43m)\u001b[49m\n\u001b[1;32m    151\u001b[0m \u001b[38;5;28;01mreturn\u001b[39;00m \u001b[38;5;28mself\u001b[39m\u001b[38;5;241m.\u001b[39m_input\n",
      "File \u001b[0;32m/opt/tljh/user/envs/bw25/lib/python3.10/site-packages/bw2data/utils.py:468\u001b[0m, in \u001b[0;36mget_activity\u001b[0;34m(key, **kwargs)\u001b[0m\n\u001b[1;32m    467\u001b[0m     kwargs[\u001b[38;5;124m\"\u001b[39m\u001b[38;5;124mid\u001b[39m\u001b[38;5;124m\"\u001b[39m] \u001b[38;5;241m=\u001b[39m key\n\u001b[0;32m--> 468\u001b[0m \u001b[38;5;28;01mreturn\u001b[39;00m \u001b[43mget_node\u001b[49m\u001b[43m(\u001b[49m\u001b[38;5;241;43m*\u001b[39;49m\u001b[38;5;241;43m*\u001b[39;49m\u001b[43mkwargs\u001b[49m\u001b[43m)\u001b[49m\n",
      "File \u001b[0;32m/opt/tljh/user/envs/bw25/lib/python3.10/site-packages/bw2data/utils.py:450\u001b[0m, in \u001b[0;36mget_node\u001b[0;34m(**kwargs)\u001b[0m\n\u001b[1;32m    449\u001b[0m \u001b[38;5;28;01melif\u001b[39;00m \u001b[38;5;129;01mnot\u001b[39;00m candidates:\n\u001b[0;32m--> 450\u001b[0m     \u001b[38;5;28;01mraise\u001b[39;00m UnknownObject\n\u001b[1;32m    451\u001b[0m \u001b[38;5;28;01mreturn\u001b[39;00m candidates[\u001b[38;5;241m0\u001b[39m]\n",
      "\u001b[0;31mUnknownObject\u001b[0m: ",
      "\nDuring handling of the above exception, another exception occurred:\n",
      "\u001b[0;31mTypeError\u001b[0m                                 Traceback (most recent call last)",
      "Cell \u001b[0;32mIn [36], line 6\u001b[0m\n\u001b[1;32m      4\u001b[0m     \u001b[38;5;28mprint\u001b[39m(exch\u001b[38;5;241m.\u001b[39minput\u001b[38;5;241m.\u001b[39mid)\n\u001b[1;32m      5\u001b[0m \u001b[38;5;28;01mexcept\u001b[39;00m:\n\u001b[0;32m----> 6\u001b[0m     exch()\u001b[38;5;241m.\u001b[39mdelete()\n",
      "\u001b[0;31mTypeError\u001b[0m: 'Exchange' object is not callable"
     ]
    }
   ],
   "source": [
    "for exch in list(concrete_market.exchanges()):\n",
    "    print(exch)\n",
    "    try:\n",
    "        print(exch.input.id)\n",
    "    except:\n",
    "        exch().delete()"
   ]
  },
  {
   "cell_type": "code",
   "execution_count": null,
   "metadata": {},
   "outputs": [],
   "source": [
    "bd.Database(ecoinvent).search('copper')"
   ]
  },
  {
   "cell_type": "code",
   "execution_count": null,
   "metadata": {},
   "outputs": [
    {
     "data": {
      "text/plain": [
       "'Carbon dioxide, fossil' (kilogram, None, ('air', 'urban air close to ground'))"
      ]
     },
     "execution_count": 31,
     "metadata": {},
     "output_type": "execute_result"
    }
   ],
   "source": [
    "activity_I_want = [act for act in bd.Database(biosphere) if 'Carbon dioxide' in act['name'] \n",
    "                                            and 'fossil' in act['name']\n",
    "                                            and 'non' not in act['name']\n",
    "                                            and 'urban air close to ground' in str(act['categories'])\n",
    "         ][0]\n",
    "activity_I_want"
   ]
  },
  {
   "cell_type": "code",
   "execution_count": 32,
   "metadata": {
    "collapsed": false,
    "editable": true,
    "jupyter": {
     "outputs_hidden": false
    }
   },
   "outputs": [
    {
     "data": {
      "text/plain": [
       "('biosphere3', 'f9749677-9c9f-4678-ab55-c607dfdc2cb9')"
      ]
     },
     "execution_count": 32,
     "metadata": {},
     "output_type": "execute_result"
    }
   ],
   "source": [
    "activity_I_want.key"
   ]
  },
  {
   "cell_type": "code",
   "execution_count": 34,
   "metadata": {},
   "outputs": [
    {
     "data": {
      "text/plain": [
       "'Carbon dioxide, fossil' (kilogram, None, ('air', 'urban air close to ground'))"
      ]
     },
     "execution_count": 34,
     "metadata": {},
     "output_type": "execute_result"
    }
   ],
   "source": [
    "bd.get_activity(activity_I_want.key)"
   ]
  },
  {
   "cell_type": "code",
   "execution_count": 51,
   "metadata": {},
   "outputs": [
    {
     "name": "stdout",
     "output_type": "stream",
     "text": [
      "Excluding 19 filtered results\n"
     ]
    },
    {
     "data": {
      "text/plain": [
       "['Carbon dioxide, fossil' (kilogram, None, ('air', 'urban air close to ground')),\n",
       " 'Carbon dioxide, fossil' (kilogram, None, ('air', 'non-urban air or from high stacks')),\n",
       " 'Carbon dioxide, non-fossil' (kilogram, None, ('air', 'non-urban air or from high stacks')),\n",
       " 'Carbon dioxide, non-fossil' (kilogram, None, ('air', 'urban air close to ground'))]"
      ]
     },
     "execution_count": 51,
     "metadata": {},
     "output_type": "execute_result"
    }
   ],
   "source": [
    "bd.Database(biosphere).search('carbon dioxide', filter={'categories':'urban', 'name':'fossil'})"
   ]
  },
  {
   "cell_type": "code",
   "execution_count": null,
   "metadata": {},
   "outputs": [],
   "source": [
    "# Using search\n",
    "bd.Database(ecoinvent).search('transport', filter={'name':'lorry'})"
   ]
  },
  {
   "cell_type": "markdown",
   "metadata": {
    "jp-MarkdownHeadingCollapsed": true,
    "tags": []
   },
   "source": [
    "## Methods"
   ]
  },
  {
   "cell_type": "code",
   "execution_count": 39,
   "metadata": {},
   "outputs": [],
   "source": [
    "ipcc2013 = [m for m in bd.methods if 'IPCC' in m[0]\n",
    "                    and ('2013') in str(m)\n",
    "                    and 'GWP 100' in str(m)\n",
    "                    and 'no LT' not in str(m)][0]"
   ]
  },
  {
   "cell_type": "code",
   "execution_count": 42,
   "metadata": {},
   "outputs": [
    {
     "data": {
      "text/plain": [
       "tuple"
      ]
     },
     "execution_count": 42,
     "metadata": {},
     "output_type": "execute_result"
    }
   ],
   "source": [
    "type(ipcc2013)"
   ]
  },
  {
   "cell_type": "code",
   "execution_count": 40,
   "metadata": {
    "editable": true,
    "tags": []
   },
   "outputs": [],
   "source": [
    "ipcc_2013_method = bd.Method(ipcc2013)"
   ]
  },
  {
   "cell_type": "code",
   "execution_count": 41,
   "metadata": {
    "collapsed": false,
    "editable": true,
    "jupyter": {
     "outputs_hidden": false
    }
   },
   "outputs": [
    {
     "data": {
      "text/plain": [
       "bw2data.method.Method"
      ]
     },
     "execution_count": 41,
     "metadata": {},
     "output_type": "execute_result"
    }
   ],
   "source": [
    "type(ipcc_2013_method)"
   ]
  },
  {
   "cell_type": "code",
   "execution_count": 41,
   "metadata": {
    "collapsed": false,
    "editable": true,
    "jupyter": {
     "outputs_hidden": false
    }
   },
   "outputs": [
    {
     "data": {
      "text/plain": [
       "('IPCC 2013', 'climate change', 'GWP 100a')"
      ]
     },
     "execution_count": 41,
     "metadata": {},
     "output_type": "execute_result"
    }
   ],
   "source": [
    "ipcc_2013_method.name"
   ]
  },
  {
   "cell_type": "code",
   "execution_count": 42,
   "metadata": {
    "collapsed": false,
    "editable": true,
    "jupyter": {
     "outputs_hidden": false
    }
   },
   "outputs": [
    {
     "data": {
      "text/plain": [
       "{'description': \"IPCC characterisation factors for the direct global warming potential of air emissions in ecoinvent 3.2. See the ecoinvent report 'Implementation of IPCC impact assessment method 2007 and 2013 to ecoinvent database 3.2 (2015.11.30)' for more details. Doesn't include: indirect formation of dinitrogen monoxide from nitrogen emissions, radiative forcing due to emissions of NOx, water, sulphate, etc. in the lower stratosphere + upper troposphere, carbon climate feedbacks, and any emissions which have cooling effects (e.g. black carbon). All CO is assumed to convert completely to CO2. Biogenic CO2 uptake and biogenic CO2 emissions are not characterised, except for 'Carbon dioxide, from soil or biomass stock' (deforestation and land transformation).\",\n",
       " 'filename': 'LCIA_Implementation_3.8.xlsx',\n",
       " 'unit': 'kg CO2-Eq',\n",
       " 'abbreviation': 'ipcc-2013cg.bd5af3f67229a1cc291b8ecb7f316fcf',\n",
       " 'num_cfs': 211}"
      ]
     },
     "execution_count": 42,
     "metadata": {},
     "output_type": "execute_result"
    }
   ],
   "source": [
    "ipcc_2013_method.metadata"
   ]
  },
  {
   "cell_type": "code",
   "execution_count": 43,
   "metadata": {
    "collapsed": false,
    "editable": true,
    "jupyter": {
     "outputs_hidden": false
    }
   },
   "outputs": [
    {
     "data": {
      "text/plain": [
       "'kg CO2-Eq'"
      ]
     },
     "execution_count": 43,
     "metadata": {},
     "output_type": "execute_result"
    }
   ],
   "source": [
    "ipcc_2013_method.metadata['unit']"
   ]
  },
  {
   "cell_type": "code",
   "execution_count": null,
   "metadata": {},
   "outputs": [],
   "source": []
  },
  {
   "cell_type": "markdown",
   "metadata": {
    "jp-MarkdownHeadingCollapsed": true,
    "tags": []
   },
   "source": [
    "## Creating LCI"
   ]
  },
  {
   "cell_type": "code",
   "execution_count": 74,
   "metadata": {},
   "outputs": [
    {
     "data": {
      "text/plain": [
       "Databases dictionary with 5 object(s):\n",
       "\tEXIOBASE 3.8.1 2017 monetary\n",
       "\tEXIOBASE 3.8.1 2017 monetary biosphere\n",
       "\tbiosphere3\n",
       "\tcharcrete\n",
       "\tei 3.8 cutoff"
      ]
     },
     "execution_count": 74,
     "metadata": {},
     "output_type": "execute_result"
    }
   ],
   "source": [
    "# creating new activity? let's do that in our database?\n",
    "bd.databases"
   ]
  },
  {
   "cell_type": "code",
   "execution_count": 73,
   "metadata": {},
   "outputs": [],
   "source": [
    "user_db = bd.Database(\"charcrete\")"
   ]
  },
  {
   "cell_type": "code",
   "execution_count": 70,
   "metadata": {},
   "outputs": [
    {
     "data": {
      "text/plain": [
       "Databases dictionary with 4 object(s):\n",
       "\tEXIOBASE 3.8.1 2017 monetary\n",
       "\tEXIOBASE 3.8.1 2017 monetary biosphere\n",
       "\tbiosphere3\n",
       "\tei 3.8 cutoff"
      ]
     },
     "execution_count": 70,
     "metadata": {},
     "output_type": "execute_result"
    }
   ],
   "source": [
    "bd.databases"
   ]
  },
  {
   "cell_type": "code",
   "execution_count": 84,
   "metadata": {
    "collapsed": false,
    "editable": true,
    "jupyter": {
     "outputs_hidden": false
    }
   },
   "outputs": [],
   "source": [
    "example_data3 = {\n",
    "    (\"charcrete\", \"A\"): {\n",
    "        \"name\": \"A\",\n",
    "        \"exchanges\": [{\n",
    "            \"amount\": 1.0,\n",
    "            \"input\": (\"charcrete\", \"B\"),\n",
    "            \"type\": \"technosphere\"\n",
    "            }],\n",
    "        'unit': 'kilogram',\n",
    "        'location': 'here',\n",
    "        'categories': (\"very\", \"interesting\")\n",
    "        },\n",
    "    (\"charcrete\", \"B\"): {\n",
    "        \"name\": \"B\",\n",
    "        \"exchanges\": [],\n",
    "        'unit': 'microgram',\n",
    "        'location': 'there',\n",
    "        'categories': ('quite', 'boring')\n",
    "        }\n",
    "    }"
   ]
  },
  {
   "cell_type": "code",
   "execution_count": 85,
   "metadata": {},
   "outputs": [
    {
     "name": "stdout",
     "output_type": "stream",
     "text": [
      "Not able to determine geocollections for all datasets. This database is not ready for regionalization.\n",
      "Warning: No valid output stream.\n",
      "Title: Writing activities to SQLite3 database:\n",
      "  Started: 10/26/2022 12:16:34\n",
      "  Finished: 10/26/2022 12:16:34\n",
      "  Total time elapsed: 00:00:00\n",
      "  CPU %: 0.00\n",
      "  Memory %: 0.20\n"
     ]
    }
   ],
   "source": [
    "user_db.write(example_data3)"
   ]
  },
  {
   "cell_type": "code",
   "execution_count": 87,
   "metadata": {},
   "outputs": [
    {
     "data": {
      "text/plain": [
       "2"
      ]
     },
     "execution_count": 87,
     "metadata": {},
     "output_type": "execute_result"
    }
   ],
   "source": [
    "len(user_db)"
   ]
  },
  {
   "cell_type": "code",
   "execution_count": 109,
   "metadata": {},
   "outputs": [
    {
     "data": {
      "text/plain": [
       "[]"
      ]
     },
     "execution_count": 109,
     "metadata": {},
     "output_type": "execute_result"
    }
   ],
   "source": [
    "user_db.search('*')"
   ]
  },
  {
   "cell_type": "code",
   "execution_count": 104,
   "metadata": {},
   "outputs": [],
   "source": [
    "act = user_db.search('*')[0]"
   ]
  },
  {
   "cell_type": "code",
   "execution_count": 107,
   "metadata": {},
   "outputs": [],
   "source": [
    "del(act)"
   ]
  },
  {
   "cell_type": "code",
   "execution_count": 108,
   "metadata": {},
   "outputs": [
    {
     "data": {
      "text/plain": [
       "[]"
      ]
     },
     "execution_count": 108,
     "metadata": {},
     "output_type": "execute_result"
    }
   ],
   "source": [
    "user_db.search('*')"
   ]
  },
  {
   "cell_type": "code",
   "execution_count": 110,
   "metadata": {},
   "outputs": [
    {
     "data": {
      "text/plain": [
       "Brightway2 SQLiteBackend: charcrete"
      ]
     },
     "execution_count": 110,
     "metadata": {},
     "output_type": "execute_result"
    }
   ],
   "source": [
    "user_db"
   ]
  },
  {
   "cell_type": "code",
   "execution_count": 111,
   "metadata": {},
   "outputs": [
    {
     "data": {
      "text/plain": [
       "0"
      ]
     },
     "execution_count": 111,
     "metadata": {},
     "output_type": "execute_result"
    }
   ],
   "source": [
    "len(user_db)"
   ]
  },
  {
   "cell_type": "code",
   "execution_count": null,
   "metadata": {},
   "outputs": [],
   "source": []
  },
  {
   "cell_type": "markdown",
   "metadata": {
    "jp-MarkdownHeadingCollapsed": true,
    "tags": []
   },
   "source": [
    "## find data"
   ]
  },
  {
   "cell_type": "code",
   "execution_count": 112,
   "metadata": {},
   "outputs": [
    {
     "data": {
      "text/plain": [
       "['market for forwarding, forwarder' (hour, GLO, None),\n",
       " 'forwarding, forwarder' (hour, RER, None),\n",
       " 'forwarding, forwarder' (hour, RoW, None)]"
      ]
     },
     "execution_count": 112,
     "metadata": {},
     "output_type": "execute_result"
    }
   ],
   "source": [
    "bd.Database(ecoinvent).search('forwarding')"
   ]
  },
  {
   "cell_type": "code",
   "execution_count": 115,
   "metadata": {},
   "outputs": [
    {
     "data": {
      "text/plain": [
       "'forwarding, forwarder' (hour, RER, None)"
      ]
     },
     "execution_count": 115,
     "metadata": {},
     "output_type": "execute_result"
    }
   ],
   "source": [
    "activity_I_want = [act for act in bd.Database(ecoinvent) if 'forwarding' in act['name'] and act['location'] == \n",
    "                   'RER'\n",
    "         ][0]\n",
    "activity_I_want"
   ]
  },
  {
   "cell_type": "code",
   "execution_count": 116,
   "metadata": {},
   "outputs": [],
   "source": [
    "forwarding_act = [act for act in bd.Database(ecoinvent) if 'forwarding' in act['name'] and act['location'] == \n",
    "                   'RER'][0]"
   ]
  },
  {
   "cell_type": "code",
   "execution_count": 117,
   "metadata": {},
   "outputs": [
    {
     "data": {
      "text/plain": [
       "'forwarding, forwarder' (hour, RER, None)"
      ]
     },
     "execution_count": 117,
     "metadata": {},
     "output_type": "execute_result"
    }
   ],
   "source": [
    "forwarding_act"
   ]
  },
  {
   "cell_type": "code",
   "execution_count": 118,
   "metadata": {},
   "outputs": [
    {
     "data": {
      "text/plain": [
       "['market for wood chipping, chipper, mobile, diesel, at forest road' (hour, GLO, None),\n",
       " 'wood chipping, mobile chipper, at forest road' (hour, RER, None),\n",
       " 'wood chipping, mobile chipper, at forest road' (hour, RoW, None)]"
      ]
     },
     "execution_count": 118,
     "metadata": {},
     "output_type": "execute_result"
    }
   ],
   "source": [
    "bd.Database(ecoinvent).search('wood chipping, mobile chipper, at forest road')"
   ]
  },
  {
   "cell_type": "code",
   "execution_count": 119,
   "metadata": {},
   "outputs": [
    {
     "data": {
      "text/plain": [
       "'wood chipping, mobile chipper, at forest road' (hour, RER, None)"
      ]
     },
     "execution_count": 119,
     "metadata": {},
     "output_type": "execute_result"
    }
   ],
   "source": [
    "activity_I_want = [act for act in bd.Database(ecoinvent) if 'wood chipping, mobile chipper, at forest road' in act['name'] and act['location'] == \n",
    "                   'RER'\n",
    "         ][0]\n",
    "activity_I_want"
   ]
  },
  {
   "cell_type": "code",
   "execution_count": 120,
   "metadata": {
    "tags": []
   },
   "outputs": [
    {
     "data": {
      "text/plain": [
       "'wood chipping, mobile chipper, at forest road' (hour, RER, None)"
      ]
     },
     "execution_count": 120,
     "metadata": {},
     "output_type": "execute_result"
    }
   ],
   "source": [
    "activity_I_want"
   ]
  },
  {
   "cell_type": "code",
   "execution_count": 121,
   "metadata": {},
   "outputs": [],
   "source": [
    "wood_chipping_act = [act for act in bd.Database(ecoinvent) if 'wood chipping, mobile chipper, at forest road' in act['name'] \n",
    "                     and act['location'] == 'RER'][0]"
   ]
  },
  {
   "cell_type": "code",
   "execution_count": 122,
   "metadata": {},
   "outputs": [
    {
     "data": {
      "text/plain": [
       "'wood chipping, mobile chipper, at forest road' (hour, RER, None)"
      ]
     },
     "execution_count": 122,
     "metadata": {},
     "output_type": "execute_result"
    }
   ],
   "source": [
    "wood_chipping_act"
   ]
  }
 ],
 "metadata": {
  "kernelspec": {
   "display_name": "Python [conda env:bw25]",
   "language": "python",
   "name": "conda-env-bw25-py"
  },
  "language_info": {
   "codemirror_mode": {
    "name": "ipython",
    "version": 3
   },
   "file_extension": ".py",
   "mimetype": "text/x-python",
   "name": "python",
   "nbconvert_exporter": "python",
   "pygments_lexer": "ipython3",
   "version": "3.10.6"
  },
  "widgets": {
   "state": {},
   "version": "1.1.2"
  }
 },
 "nbformat": 4,
 "nbformat_minor": 4
}
