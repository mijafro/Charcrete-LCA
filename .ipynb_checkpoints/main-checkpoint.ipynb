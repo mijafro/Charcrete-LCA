{
 "cells": [
  {
   "cell_type": "markdown",
   "id": "c511dc3c-074e-457d-b2ea-b2be5b3a1d2b",
   "metadata": {},
   "source": [
    "# Main - Charcrete LCA"
   ]
  },
  {
   "cell_type": "markdown",
   "id": "00fd2deb-66f0-4de4-a91b-03617d9294bd",
   "metadata": {},
   "source": [
    "## 1. Set the project and import Charcrete database"
   ]
  },
  {
   "cell_type": "code",
   "execution_count": 117,
   "id": "1a0b7cb1-236c-48f1-8cae-c5eba833b87c",
   "metadata": {},
   "outputs": [],
   "source": [
    "# === Switch to kernel bw25! ===\n",
    "\n",
    "# Brightway libraries\n",
    "import bw2data as bd\n",
    "import bw2io as bi\n",
    "import bw2calc as bc\n",
    "import bw2analyzer as ba\n",
    "import bw_processing as bwp\n",
    "\n",
    "# General libraries\n",
    "import numpy as np\n",
    "import pandas as pd\n",
    "from fs.zipfs import ZipFS\n",
    "import json                        # Library for working with json files\n",
    "from pathlib import Path           # Library for working with paths in different OS     \n",
    "import matplotlib.pyplot as plt    # Library for creating plots\n",
    "import os\n",
    "\n",
    "# Our own functions\n",
    "%run utils.ipynb"
   ]
  },
  {
   "cell_type": "code",
   "execution_count": 91,
   "id": "01f01d0c-536a-4fa0-9559-fdc815fc2dfb",
   "metadata": {},
   "outputs": [],
   "source": [
    "bd.projects.set_current(\"ei38-teaching-25\")"
   ]
  },
  {
   "cell_type": "code",
   "execution_count": 92,
   "id": "c78cbc52-2e04-493c-88f1-7db9cbc75b33",
   "metadata": {},
   "outputs": [],
   "source": [
    "wdir = os.getcwd()"
   ]
  },
  {
   "cell_type": "markdown",
   "id": "b8080533-ffa5-4061-a834-13bf8bb68ed8",
   "metadata": {},
   "source": [
    "### Importing Charcrete database Excel-file"
   ]
  },
  {
   "cell_type": "code",
   "execution_count": 32,
   "id": "66d2ebb1-737c-4eda-aa46-61651dad718d",
   "metadata": {},
   "outputs": [
    {
     "name": "stdout",
     "output_type": "stream",
     "text": [
      "Extracted 1 worksheets in 0.01 seconds\n",
      "Applying strategy: csv_restore_tuples\n",
      "Applying strategy: csv_restore_booleans\n",
      "Applying strategy: csv_numerize\n",
      "Applying strategy: csv_drop_unknown\n",
      "Applying strategy: csv_add_missing_exchanges_section\n",
      "Applying strategy: normalize_units\n",
      "Applying strategy: normalize_biosphere_categories\n",
      "Applying strategy: normalize_biosphere_names\n",
      "Applying strategy: strip_biosphere_exc_locations\n",
      "Applying strategy: set_code_by_activity_hash\n",
      "Applying strategy: link_iterable_by_fields\n",
      "Applying strategy: assign_only_product_as_production\n",
      "Applying strategy: link_technosphere_by_activity_hash\n",
      "Applying strategy: drop_falsey_uncertainty_fields_but_keep_zeros\n",
      "Applying strategy: convert_uncertainty_types_to_integers\n",
      "Applying strategy: convert_activity_parameters_to_list\n",
      "Applied 16 strategies in 7.42 seconds\n",
      "Applying strategy: link_iterable_by_fields\n",
      "Applying strategy: link_iterable_by_fields\n",
      "5 datasets\n",
      "23 exchanges\n",
      "0 unlinked exchanges\n",
      "  \n",
      "Warning: No valid output stream.\n",
      "Title: Writing activities to SQLite3 database:\n",
      "  Started: 10/27/2022 08:31:06\n",
      "  Finished: 10/27/2022 08:31:06\n",
      "  Total time elapsed: 00:00:00\n",
      "  CPU %: 0.00\n",
      "  Memory %: 0.36\n",
      "Created database: Charcrete_38\n"
     ]
    }
   ],
   "source": [
    "if \"Charcrete_38\" in bd.databases:\n",
    "    del bd.databases[\"Charcrete_38\"]\n",
    "else:\n",
    "    # 1. Specify filepath to your foreground inventories.\n",
    "    charcrete_path = wdir+\"/data/Charcrete_database_38.xlsx\"\n",
    "    #charcrete_path = \"/home/jupyter-mija.frossard/Charcrete-LCA/Water_database_38.xlsx\"\n",
    "    # 2. Create an instance of a class that contains basic methods for importing a database from an excel file.\n",
    "    charcrete = bi.ExcelImporter(charcrete_path)  \n",
    "    # 3. `apply_strategies` is one of such basic methods, it makes sure units, locations, etc are in correct format.\n",
    "    charcrete.apply_strategies()\n",
    "    # 4. Next step is to link your foreground exchanges to existing databases by matching relevant exchanges fields.\n",
    "    charcrete.match_database(\"biosphere3\", fields=(\"name\", \"unit\", \"categories\"))\n",
    "    charcrete.match_database(\"ei 3.8 cutoff\", fields=(\"name\", \"location\", \"unit\"))\n",
    "    #charcrete.metadata.pop(None)  # Remove metadata None entry. TODO\n",
    "    # 5. If everything is linked, write database so that it is saved in your project.\n",
    "    if charcrete.all_linked:\n",
    "        charcrete.write_database()"
   ]
  },
  {
   "cell_type": "code",
   "execution_count": 33,
   "id": "d3b2f6b6-077d-4e0b-9cca-d3d6f1fc3b99",
   "metadata": {},
   "outputs": [],
   "source": [
    "for unlinked in charcrete.unlinked:\n",
    "    print(unlinked)"
   ]
  },
  {
   "cell_type": "code",
   "execution_count": 34,
   "id": "5df72dbb-0169-48b3-beab-cc234ddefcb6",
   "metadata": {},
   "outputs": [
    {
     "data": {
      "text/plain": [
       "Databases dictionary with 7 object(s):\n",
       "\tCharcrete_38\n",
       "\tEXIOBASE 3.8.1 2017 monetary\n",
       "\tEXIOBASE 3.8.1 2017 monetary biosphere\n",
       "\tKorean Motors Chaebol\n",
       "\tWater_38\n",
       "\tbiosphere3\n",
       "\tei 3.8 cutoff"
      ]
     },
     "execution_count": 34,
     "metadata": {},
     "output_type": "execute_result"
    }
   ],
   "source": [
    "bd.databases"
   ]
  },
  {
   "cell_type": "code",
   "execution_count": 57,
   "id": "c54fe20e-eaef-4fef-9303-4570f9e3dc7b",
   "metadata": {},
   "outputs": [
    {
     "data": {
      "text/plain": [
       "5"
      ]
     },
     "execution_count": 57,
     "metadata": {},
     "output_type": "execute_result"
    }
   ],
   "source": [
    "len(char_db)"
   ]
  },
  {
   "cell_type": "markdown",
   "id": "bab9c9c6-1934-49c9-ad6e-870b876e64aa",
   "metadata": {},
   "source": [
    "## 2. Basic calculations and comparisons"
   ]
  },
  {
   "cell_type": "code",
   "execution_count": 58,
   "id": "cbb1175a-0e23-4901-8537-6a84da3881bf",
   "metadata": {},
   "outputs": [],
   "source": [
    "bd.projects.set_current(\"ei38-teaching-25\")"
   ]
  },
  {
   "cell_type": "code",
   "execution_count": 35,
   "id": "1c9c7eb0-6c08-4848-914f-e1c8e0ed1cde",
   "metadata": {},
   "outputs": [],
   "source": [
    "char_db = bd.Database(\"Charcrete_38\")"
   ]
  },
  {
   "cell_type": "code",
   "execution_count": 36,
   "id": "98760784-3c4e-4bf5-9d2f-41612c33de75",
   "metadata": {},
   "outputs": [],
   "source": [
    "ei_db = bd.Database(\"ei 3.8 cutoff\")"
   ]
  },
  {
   "cell_type": "code",
   "execution_count": 38,
   "id": "edaa2772-804a-4dc4-9f2b-e58abaed2966",
   "metadata": {},
   "outputs": [
    {
     "data": {
      "text/plain": [
       "'Charcrete production' (cubic meter, SE, None)"
      ]
     },
     "execution_count": 38,
     "metadata": {},
     "output_type": "execute_result"
    }
   ],
   "source": [
    "[act for act in char_db]\n",
    "charcrete = [act for act in char_db if \"Charcrete\" in act[\"name\"]][0]\n",
    "charcrete"
   ]
  },
  {
   "cell_type": "code",
   "execution_count": 39,
   "id": "b5307f7f-da4a-4083-a3be-0874a0aaf3d6",
   "metadata": {},
   "outputs": [
    {
     "data": {
      "text/plain": [
       "['concrete production 20MPa' (cubic meter, North America without Quebec, None),\n",
       " 'concrete production 20MPa' (cubic meter, ZA, None),\n",
       " 'concrete production 20MPa' (cubic meter, CA-QC, None),\n",
       " 'concrete production 20MPa' (cubic meter, RoW, None)]"
      ]
     },
     "execution_count": 39,
     "metadata": {},
     "output_type": "execute_result"
    }
   ],
   "source": [
    "concrete_ei = [act for act in ei_db if \"concrete production 20MPa\" in act[\"name\"]]\n",
    "concrete_ei"
   ]
  },
  {
   "cell_type": "markdown",
   "id": "57f6a7a8-d933-45b0-a0bd-2193831b55c4",
   "metadata": {},
   "source": [
    "#### Choice of an LCIA method: IPCC 2013 GWP 100"
   ]
  },
  {
   "cell_type": "code",
   "execution_count": 41,
   "id": "37b7a808-05b6-40fb-8e2e-3453738651c1",
   "metadata": {},
   "outputs": [],
   "source": [
    "ipcc = ('IPCC 2013', 'climate change', 'GWP 100a')\n",
    "method = bd.Method(ipcc)"
   ]
  },
  {
   "cell_type": "markdown",
   "id": "901dfde0-ad13-447a-903a-6394e6e5cff3",
   "metadata": {},
   "source": [
    "#### Analysis of standard concrete production"
   ]
  },
  {
   "cell_type": "code",
   "execution_count": 94,
   "id": "5430e209-74a0-4b50-857d-f5515fa808bb",
   "metadata": {},
   "outputs": [],
   "source": [
    "concretes_gwp = [calculateLCA(act, 1, ipcc) for act in concrete_ei]"
   ]
  },
  {
   "cell_type": "code",
   "execution_count": 97,
   "id": "64aff395-9d6f-4efc-ac3b-24f601bb7066",
   "metadata": {},
   "outputs": [
    {
     "data": {
      "text/html": [
       "<div>\n",
       "<style scoped>\n",
       "    .dataframe tbody tr th:only-of-type {\n",
       "        vertical-align: middle;\n",
       "    }\n",
       "\n",
       "    .dataframe tbody tr th {\n",
       "        vertical-align: top;\n",
       "    }\n",
       "\n",
       "    .dataframe thead th {\n",
       "        text-align: right;\n",
       "    }\n",
       "</style>\n",
       "<table border=\"1\" class=\"dataframe\">\n",
       "  <thead>\n",
       "    <tr style=\"text-align: right;\">\n",
       "      <th></th>\n",
       "      <th>activity</th>\n",
       "      <th>location</th>\n",
       "      <th>GWP</th>\n",
       "    </tr>\n",
       "  </thead>\n",
       "  <tbody>\n",
       "    <tr>\n",
       "      <th>0</th>\n",
       "      <td>concrete production 20MPa</td>\n",
       "      <td>North America without Quebec</td>\n",
       "      <td>217.552437</td>\n",
       "    </tr>\n",
       "    <tr>\n",
       "      <th>1</th>\n",
       "      <td>concrete production 20MPa</td>\n",
       "      <td>ZA</td>\n",
       "      <td>229.719127</td>\n",
       "    </tr>\n",
       "    <tr>\n",
       "      <th>2</th>\n",
       "      <td>concrete production 20MPa</td>\n",
       "      <td>CA-QC</td>\n",
       "      <td>234.187992</td>\n",
       "    </tr>\n",
       "    <tr>\n",
       "      <th>3</th>\n",
       "      <td>concrete production 20MPa</td>\n",
       "      <td>RoW</td>\n",
       "      <td>193.853911</td>\n",
       "    </tr>\n",
       "    <tr>\n",
       "      <th>4</th>\n",
       "      <td>Charcrete production</td>\n",
       "      <td>SE</td>\n",
       "      <td>317.228383</td>\n",
       "    </tr>\n",
       "  </tbody>\n",
       "</table>\n",
       "</div>"
      ],
      "text/plain": [
       "                    activity                      location         GWP\n",
       "0  concrete production 20MPa  North America without Quebec  217.552437\n",
       "1  concrete production 20MPa                            ZA  229.719127\n",
       "2  concrete production 20MPa                         CA-QC  234.187992\n",
       "3  concrete production 20MPa                           RoW  193.853911\n",
       "4       Charcrete production                            SE  317.228383"
      ]
     },
     "execution_count": 97,
     "metadata": {},
     "output_type": "execute_result"
    }
   ],
   "source": [
    "first_lca = pd.DataFrame(list(zip([act[\"name\"] for act in concrete_ei],[act[\"location\"] for act in concrete_ei], concretes_gwp)), columns=[\"activity\", \"location\", \"GWP\"])\n",
    "first_lca"
   ]
  },
  {
   "cell_type": "code",
   "execution_count": 96,
   "id": "1225583b-6443-4db8-ad57-3e1bf8336031",
   "metadata": {},
   "outputs": [],
   "source": [
    "best_concrete_idx = first_lca[['GWP']].idxmin()[0]\n",
    "worst_concrete_idx = first_lca[['GWP']].idxmax()[0]"
   ]
  },
  {
   "cell_type": "code",
   "execution_count": null,
   "id": "b53a46aa-f80c-48f4-b245-6b1ccb0b8154",
   "metadata": {},
   "outputs": [
    {
     "name": "stdout",
     "output_type": "stream",
     "text": [
      "Fraction of score | Absolute score | Amount | Activity\n",
      "0001 | 193.9 |     1 | 'concrete production 20MPa' (cubic meter, RoW, None)\n",
      "  0.0214 | 4.153 | 858.8 | 'market for gravel, round' (kilogram, CH, None)\n",
      "    0.0118 | 2.283 |  17.4 | 'market for transport, freight, lorry, unspecified' (ton kilometer, RE\n",
      "  0.839 | 162.6 | 256.6 | 'market for cement, portland fly ash cement 21-35%' (kilogram, RoW, No\n",
      "    00.8 |   155 | 256.6 | 'cement production, fly ash 21-35%' (kilogram, RoW, None)\n",
      "      0.0296 | 5.739 | 6.118 | 'market group for electricity, medium voltage' (kilowatt hour, RAS, No\n",
      "      0.146 | 28.27 | 30.21 | 'market for clinker' (kilogram, Europe without Switzerland, None)\n",
      "      0.0303 | 5.868 | 6.363 | 'market for clinker' (kilogram, BR, None)\n",
      "      0.129 | 24.98 | 28.23 | 'market for clinker' (kilogram, IN, None)\n",
      "      0.43 | 83.42 | 90.59 | 'market for clinker' (kilogram, RoW, None)\n",
      "    0.0318 | 6.173 | 44.72 | 'market for transport, freight, lorry, unspecified' (ton kilometer, Ro\n",
      "      0.0133 | 2.573 | 18.16 | 'transport, freight, lorry, all sizes, EURO3 to generic market for tra\n",
      "      0.0105 | 2.045 | 15.35 | 'transport, freight, lorry, all sizes, EURO4 to generic market for tra\n",
      "  0.0167 | 3.237 | 1.752 | 'market for ethylene oxide' (kilogram, RER, None)\n",
      "    0.0167 | 3.237 | 1.752 | 'ethylene oxide production' (kilogram, RER, None)\n",
      "      0.0108 | 2.101 | 1.445 | 'market for ethylene' (kilogram, RER, None)\n",
      "  0.0106 |  2.06 | 2.196 | 'market group for electricity, medium voltage' (kilowatt hour, RAS, No\n",
      "  0.0792 | 15.36 |  1142 | 'market for sand' (kilogram, BR, None)\n",
      "    0.0116 | 2.241 | 8.713 | 'market for transport, freight, lorry 3.5-7.5 metric ton, EURO3' (ton \n",
      "      0.0116 | 2.241 | 8.713 | 'transport, freight, lorry 3.5-7.5 metric ton, EURO3' (ton kilometer, \n",
      "    0.0271 | 5.252 | 40.44 | 'market for transport, freight, lorry 16-32 metric ton, EURO3' (ton ki\n",
      "      0.0271 | 5.252 | 40.44 | 'transport, freight, lorry 16-32 metric ton, EURO3' (ton kilometer, BR\n",
      "    0.0195 | 3.789 | 799.6 | 'sand quarry operation, extraction from river bed' (kilogram, BR, None\n",
      "      0.019 | 3.683 | 39.91 | 'market for diesel, burned in building machine' (megajoule, GLO, None)\n",
      "    0.0124 |  2.41 | 342.7 | 'sand quarry operation, open pit mine' (kilogram, BR, None)\n",
      "      0.0122 | 2.365 | 25.63 | 'market for diesel, burned in building machine' (megajoule, GLO, None)\n"
     ]
    }
   ],
   "source": [
    "ba.print_recursive_calculation(concrete_ei[best_concrete_idx], ipcc, cutoff=0.010)"
   ]
  },
  {
   "cell_type": "code",
   "execution_count": null,
   "id": "d9f09a18-1e10-4c69-9843-0089f39f71ea",
   "metadata": {},
   "outputs": [
    {
     "name": "stdout",
     "output_type": "stream",
     "text": [
      "Fraction of score | Absolute score | Amount | Activity\n",
      "0001 | 317.2 |     1 | 'Charcrete production' (cubic meter, SE, None)\n",
      "  0.0126 | 3.996 | 0.0183 | 'Biochar production' (ton, SE, None)\n",
      "  0.0166 | 5.272 |   857 | 'market for gravel, crushed' (kilogram, CH, None)\n",
      "  0.0131 | 4.144 |   857 | 'market for sand' (kilogram, CH, None)\n",
      "  0.0183 | 5.819 |  4.37 | 'market for plasticiser, for concrete, based on sulfonated melamine fo\n",
      "    0.0177 | 5.599 |  4.37 | 'plasticiser production, for concrete, based on sulfonated melamine fo\n",
      "  0.957 | 303.6 |   347 | 'market for cement, Portland' (kilogram, Europe without Switzerland, N\n",
      "    0.0153 | 4.868 | 37.09 | 'market for transport, freight, lorry, unspecified' (ton kilometer, RE\n",
      "    0.934 | 296.2 |   347 | 'cement production, Portland' (kilogram, Europe without Switzerland, N\n",
      "      0.0161 | 5.098 | 13.05 | 'market group for electricity, medium voltage' (kilowatt hour, Europe \n",
      "      0.914 | 289.8 | 313.2 | 'clinker production' (kilogram, Europe without Switzerland, None)\n"
     ]
    }
   ],
   "source": [
    "ba.print_recursive_calculation(concrete_ei[worst_concrete_idx], ipcc, cutoff=0.010)"
   ]
  },
  {
   "cell_type": "markdown",
   "id": "40ea5e88-a5cd-4979-992e-2354e0a1e596",
   "metadata": {},
   "source": [
    "Concrete with the least impact has \"market for cement, portland fly ash cement 21-35%, RoW\""
   ]
  },
  {
   "cell_type": "markdown",
   "id": "dc6a02f4-058b-4f43-8f4e-36b8878885a0",
   "metadata": {},
   "source": [
    "#### Analysis over the cement production"
   ]
  },
  {
   "cell_type": "code",
   "execution_count": 116,
   "id": "cdbac957-0fb4-4bfa-b08b-343c89005398",
   "metadata": {},
   "outputs": [
    {
     "data": {
      "text/plain": [
       "['market for cement, Portland' (kilogram, RoW, None),\n",
       " 'market for cement, sulphate resistant' (kilogram, BR, None),\n",
       " 'cement, all types to generic market for cement, unspecified' (kilogram, CA-QC, None),\n",
       " 'market for cement, blast furnace slag 70-100%' (kilogram, US, None),\n",
       " 'market for cement, pozzolana and fly ash 5-15%' (kilogram, RoW, None),\n",
       " 'market for cement, unspecified' (kilogram, BR, None),\n",
       " 'market for cement, blast furnace slag 21-35%' (kilogram, ZA, None),\n",
       " 'cement, all types to generic market for cement, unspecified' (kilogram, CO, None),\n",
       " 'market for cement, pozzolana and fly ash 15-40%' (kilogram, US, None),\n",
       " 'market for cement, Portland' (kilogram, PE, None),\n",
       " 'market for cement, blast furnace slag 36-65%' (kilogram, ZA, None),\n",
       " 'market for cement, blast furnace slag 18-30% and 18-30% other alternative constituents' (kilogram, CH, None),\n",
       " 'market for cement, limestone 21-35%' (kilogram, PE, None),\n",
       " 'market for cement, portland fly ash cement 6-20%' (kilogram, RoW, None),\n",
       " 'market for cement, blast furnace slag 70-100%' (kilogram, RoW, None),\n",
       " 'market for cement, blast furnace slag 21-35%' (kilogram, RoW, None),\n",
       " 'market for cement, Portland' (kilogram, IN, None),\n",
       " 'market for cement, unspecified' (kilogram, ZA, None),\n",
       " 'market for cement, portland fly ash cement 21-35%' (kilogram, ZA, None),\n",
       " 'cement, all types to generic market for cement, unspecified' (kilogram, IN, None),\n",
       " 'cement, all types to generic market for cement, unspecified' (kilogram, Europe without Switzerland, None),\n",
       " 'market for cement, unspecified' (kilogram, Europe without Switzerland, None),\n",
       " 'market for cement, limestone 21-35%' (kilogram, RoW, None),\n",
       " 'market for cement, Portland' (kilogram, US, None),\n",
       " 'cement, all types to generic market for cement, unspecified' (kilogram, ZA, None),\n",
       " 'market for cement, blast furnace slag 18-30% and 18-30% other alternative constituents' (kilogram, Europe without Switzerland, None),\n",
       " 'market for cement, alternative constituents 45%' (kilogram, CO, None),\n",
       " 'market for cement, unspecified' (kilogram, IN, None),\n",
       " 'market for cement, pozzolana and fly ash 11-35%' (kilogram, Europe without Switzerland, None),\n",
       " 'market for cement, pozzolana and fly ash 25-35%' (kilogram, RoW, None),\n",
       " 'market for cement, Portland' (kilogram, BR, None),\n",
       " 'market for cement, blast furnace slag 36-65%' (kilogram, Europe without Switzerland, None),\n",
       " 'market for cement, blast furnace slag 25-70%' (kilogram, US, None),\n",
       " 'cement, all types to generic market for cement, unspecified' (kilogram, BR, None),\n",
       " 'market for cement, blast furnace slag 40-70%' (kilogram, RoW, None),\n",
       " 'market for cement, blast furnace slag 18-30% and 18-30% other alternative constituents' (kilogram, RoW, None),\n",
       " 'market for cement, blast furnace slag 31-50% and 31-50% other alternative constituents' (kilogram, CH, None),\n",
       " 'cement, all types to generic market for cement, unspecified' (kilogram, US, None),\n",
       " 'market for cement, pozzolana and fly ash 15-50%' (kilogram, BR, None),\n",
       " 'market for cement, pozzolana and fly ash 36-55%' (kilogram, CH, None),\n",
       " 'market for cement, alternative constituents 6-20%' (kilogram, Europe without Switzerland, None),\n",
       " 'market for cement, pozzolana and fly ash 5-15%' (kilogram, US, None),\n",
       " 'cement, all types to generic market for cement, unspecified' (kilogram, PE, None),\n",
       " 'market for cement, pozzolana and fly ash 36-55%' (kilogram, RoW, None),\n",
       " 'market for cement, unspecified' (kilogram, PE, None),\n",
       " 'market for cement, unspecified' (kilogram, US, None),\n",
       " 'market for cement, blast furnace slag 36-65%' (kilogram, RoW, None),\n",
       " 'market for cement, blast furnace slag 6-20%' (kilogram, ZA, None),\n",
       " 'market for cement, Portland' (kilogram, CA-QC, None),\n",
       " 'market for cement, blast furnace slag 6-34%' (kilogram, BR, None),\n",
       " 'market for cement, Portland' (kilogram, Europe without Switzerland, None),\n",
       " 'market for cement, blast furnace slag 5-25%' (kilogram, RoW, None),\n",
       " 'market for cement, blast furnace slag 6-34%' (kilogram, RoW, None),\n",
       " 'market for cement, alternative constituents 6-20%' (kilogram, RoW, None),\n",
       " 'market for cement, pozzolana and fly ash 11-35%' (kilogram, CH, None),\n",
       " 'cement, all types to generic market for cement, unspecified' (kilogram, CH, None),\n",
       " 'market for cement, alternative constituents 21-35%' (kilogram, Europe without Switzerland, None),\n",
       " 'market for cement, unspecified' (kilogram, CO, None),\n",
       " 'market for cement, blast furnace slag 35-70%' (kilogram, BR, None),\n",
       " 'market for cement, blast furnace slag 81-95%' (kilogram, RoW, None),\n",
       " 'market for cement, limestone 6-10%' (kilogram, RoW, None),\n",
       " 'market for cement, blast furnace slag 25-70%' (kilogram, RoW, None),\n",
       " 'market for cement, blast furnace slag 66-80%' (kilogram, Europe without Switzerland, None),\n",
       " 'market for cement, pozzolana and fly ash 25-35%' (kilogram, IN, None),\n",
       " 'market for cement, portland fly ash cement 6-20%' (kilogram, ZA, None),\n",
       " 'market for cement, pozzolana and fly ash 6-14%' (kilogram, RoW, None),\n",
       " 'market for cement, unspecified' (kilogram, RoW, None),\n",
       " 'market for cement, pozzolana and fly ash 11-35%' (kilogram, RoW, None),\n",
       " 'market for cement, blast furnace slag 6-20%' (kilogram, RoW, None),\n",
       " 'market for cement, blast furnace slag 31-50% and 31-50% other alternative constituents' (kilogram, RoW, None),\n",
       " 'market for cement, blast furnace slag 31-50% and 31-50% other alternative constituents' (kilogram, Europe without Switzerland, None),\n",
       " 'market for cement, blast furnace slag 36-65%' (kilogram, CH, None),\n",
       " 'market for cement, blast furnace slag 81-95%' (kilogram, Europe without Switzerland, None),\n",
       " 'market for cement, blast furnace slag 35-70%' (kilogram, RoW, None),\n",
       " 'cement, all types to generic market for cement, unspecified' (kilogram, RoW, None),\n",
       " 'market for cement, unspecified' (kilogram, CA-QC, None),\n",
       " 'market for cement, limestone 6-20%' (kilogram, RoW, None),\n",
       " 'market for cement, blast furnace slag 5-25%' (kilogram, US, None),\n",
       " 'market for cement, alternative constituents 6-20%' (kilogram, CH, None),\n",
       " 'market for cement, unspecified' (kilogram, CH, None),\n",
       " 'market for cement, blast furnace slag 66-80%' (kilogram, CH, None),\n",
       " 'market for cement, alternative constituents 6-20%' (kilogram, CA-QC, None),\n",
       " 'market for cement, portland fly ash cement 21-35%' (kilogram, RoW, None),\n",
       " 'market for cement, pozzolana and fly ash 15-50%' (kilogram, RoW, None),\n",
       " 'market for cement, blast furnace slag 81-95%' (kilogram, CH, None),\n",
       " 'market for cement, limestone 6-10%' (kilogram, BR, None),\n",
       " 'market for cement, alternative constituents 45%' (kilogram, RoW, None),\n",
       " 'market for cement, Portland' (kilogram, CH, None),\n",
       " 'market for cement, pozzolana and fly ash 36-55%' (kilogram, Europe without Switzerland, None),\n",
       " 'market for cement, blast furnace slag 66-80%' (kilogram, RoW, None),\n",
       " 'market for cement, alternative constituents 21-35%' (kilogram, CO, None),\n",
       " 'market for cement, alternative constituents 21-35%' (kilogram, CH, None),\n",
       " 'market for cement, limestone 6-20%' (kilogram, ZA, None),\n",
       " 'market for cement, pozzolana and fly ash 6-14%' (kilogram, BR, None),\n",
       " 'market for cement, blast furnace slag 40-70%' (kilogram, IN, None),\n",
       " 'market for cement, pozzolana and fly ash 15-40%' (kilogram, RoW, None),\n",
       " 'market for cement, Portland' (kilogram, ZA, None),\n",
       " 'market for cement, alternative constituents 21-35%' (kilogram, RoW, None)]"
      ]
     },
     "execution_count": 116,
     "metadata": {},
     "output_type": "execute_result"
    }
   ],
   "source": [
    "cement = [act for act in ei_db if 'market for cement,' in act[\"name\"] and \"kilogram\" in act[\"unit\"]]\n",
    "cement"
   ]
  },
  {
   "cell_type": "code",
   "execution_count": 128,
   "id": "12338791-69ed-41bf-9e44-2b1a9c07c2d7",
   "metadata": {},
   "outputs": [
    {
     "data": {
      "text/html": [
       "<div>\n",
       "<style scoped>\n",
       "    .dataframe tbody tr th:only-of-type {\n",
       "        vertical-align: middle;\n",
       "    }\n",
       "\n",
       "    .dataframe tbody tr th {\n",
       "        vertical-align: top;\n",
       "    }\n",
       "\n",
       "    .dataframe thead th {\n",
       "        text-align: right;\n",
       "    }\n",
       "</style>\n",
       "<table border=\"1\" class=\"dataframe\">\n",
       "  <thead>\n",
       "    <tr style=\"text-align: right;\">\n",
       "      <th></th>\n",
       "      <th>activity</th>\n",
       "      <th>location</th>\n",
       "      <th>GWP</th>\n",
       "    </tr>\n",
       "  </thead>\n",
       "  <tbody>\n",
       "    <tr>\n",
       "      <th>0</th>\n",
       "      <td>market for cement, Portland</td>\n",
       "      <td>RoW</td>\n",
       "      <td>0.865775</td>\n",
       "    </tr>\n",
       "    <tr>\n",
       "      <th>1</th>\n",
       "      <td>market for cement, sulphate resistant</td>\n",
       "      <td>BR</td>\n",
       "      <td>0.740920</td>\n",
       "    </tr>\n",
       "    <tr>\n",
       "      <th>2</th>\n",
       "      <td>cement, all types to generic market for cement...</td>\n",
       "      <td>CA-QC</td>\n",
       "      <td>0.846402</td>\n",
       "    </tr>\n",
       "    <tr>\n",
       "      <th>3</th>\n",
       "      <td>market for cement, blast furnace slag 70-100%</td>\n",
       "      <td>US</td>\n",
       "      <td>0.323796</td>\n",
       "    </tr>\n",
       "    <tr>\n",
       "      <th>4</th>\n",
       "      <td>market for cement, pozzolana and fly ash 5-15%</td>\n",
       "      <td>RoW</td>\n",
       "      <td>0.848432</td>\n",
       "    </tr>\n",
       "    <tr>\n",
       "      <th>...</th>\n",
       "      <td>...</td>\n",
       "      <td>...</td>\n",
       "      <td>...</td>\n",
       "    </tr>\n",
       "    <tr>\n",
       "      <th>93</th>\n",
       "      <td>market for cement, pozzolana and fly ash 6-14%</td>\n",
       "      <td>BR</td>\n",
       "      <td>0.739441</td>\n",
       "    </tr>\n",
       "    <tr>\n",
       "      <th>94</th>\n",
       "      <td>market for cement, blast furnace slag 40-70%</td>\n",
       "      <td>IN</td>\n",
       "      <td>0.623681</td>\n",
       "    </tr>\n",
       "    <tr>\n",
       "      <th>95</th>\n",
       "      <td>market for cement, pozzolana and fly ash 15-40%</td>\n",
       "      <td>RoW</td>\n",
       "      <td>0.691555</td>\n",
       "    </tr>\n",
       "    <tr>\n",
       "      <th>96</th>\n",
       "      <td>market for cement, Portland</td>\n",
       "      <td>ZA</td>\n",
       "      <td>1.025265</td>\n",
       "    </tr>\n",
       "    <tr>\n",
       "      <th>97</th>\n",
       "      <td>market for cement, alternative constituents 21...</td>\n",
       "      <td>RoW</td>\n",
       "      <td>0.686936</td>\n",
       "    </tr>\n",
       "  </tbody>\n",
       "</table>\n",
       "<p>98 rows × 3 columns</p>\n",
       "</div>"
      ],
      "text/plain": [
       "                                             activity location       GWP\n",
       "0                         market for cement, Portland      RoW  0.865775\n",
       "1               market for cement, sulphate resistant       BR  0.740920\n",
       "2   cement, all types to generic market for cement...    CA-QC  0.846402\n",
       "3       market for cement, blast furnace slag 70-100%       US  0.323796\n",
       "4      market for cement, pozzolana and fly ash 5-15%      RoW  0.848432\n",
       "..                                                ...      ...       ...\n",
       "93     market for cement, pozzolana and fly ash 6-14%       BR  0.739441\n",
       "94       market for cement, blast furnace slag 40-70%       IN  0.623681\n",
       "95    market for cement, pozzolana and fly ash 15-40%      RoW  0.691555\n",
       "96                        market for cement, Portland       ZA  1.025265\n",
       "97  market for cement, alternative constituents 21...      RoW  0.686936\n",
       "\n",
       "[98 rows x 3 columns]"
      ]
     },
     "execution_count": 128,
     "metadata": {},
     "output_type": "execute_result"
    }
   ],
   "source": [
    "#cement_gwp = [calculateLCA(act, 1, ipcc) for act in cement]\n",
    "fu, data_objs, _ = bd.prepare_lca_inputs({cement[0]: 1}, method=ipcc)\n",
    "lca = bc.LCA(fu, data_objs=data_objs)\n",
    "lca.lci()\n",
    "lca.lcia()\n",
    "results_ciment = []\n",
    "for act in cement:\n",
    "    lca.redo_lcia({act.id: 1})\n",
    "    results_ciment.append((act[\"name\"], act[\"location\"], lca.score))\n",
    "\n",
    "cements_lca = pd.DataFrame(results_ciment, columns=[\"activity\", \"location\", \"GWP\"])\n",
    "cements_lca.to_csv(wdir+\"/outputs/gwp_results_cement_1_kg.csv\")\n",
    "cements_lca"
   ]
  },
  {
   "cell_type": "code",
   "execution_count": 130,
   "id": "85ba66ec-b502-492a-b222-7b21e9a302df",
   "metadata": {},
   "outputs": [
    {
     "name": "stderr",
     "output_type": "stream",
     "text": [
      "/tmp/ipykernel_692988/3274956943.py:1: FutureWarning: The default value of numeric_only in DataFrameGroupBy.mean is deprecated. In a future version, numeric_only will default to False. Either specify numeric_only or select only columns which should be valid for the function.\n",
      "  cements_lca.groupby(\"activity\").mean()\n"
     ]
    },
    {
     "data": {
      "text/html": [
       "<div>\n",
       "<style scoped>\n",
       "    .dataframe tbody tr th:only-of-type {\n",
       "        vertical-align: middle;\n",
       "    }\n",
       "\n",
       "    .dataframe tbody tr th {\n",
       "        vertical-align: top;\n",
       "    }\n",
       "\n",
       "    .dataframe thead th {\n",
       "        text-align: right;\n",
       "    }\n",
       "</style>\n",
       "<table border=\"1\" class=\"dataframe\">\n",
       "  <thead>\n",
       "    <tr style=\"text-align: right;\">\n",
       "      <th></th>\n",
       "      <th>GWP</th>\n",
       "    </tr>\n",
       "    <tr>\n",
       "      <th>activity</th>\n",
       "      <th></th>\n",
       "    </tr>\n",
       "  </thead>\n",
       "  <tbody>\n",
       "    <tr>\n",
       "      <th>cement, all types to generic market for cement, unspecified</th>\n",
       "      <td>0.768689</td>\n",
       "    </tr>\n",
       "    <tr>\n",
       "      <th>market for cement, Portland</th>\n",
       "      <td>0.885446</td>\n",
       "    </tr>\n",
       "    <tr>\n",
       "      <th>market for cement, alternative constituents 21-35%</th>\n",
       "      <td>0.688380</td>\n",
       "    </tr>\n",
       "    <tr>\n",
       "      <th>market for cement, alternative constituents 45%</th>\n",
       "      <td>0.602292</td>\n",
       "    </tr>\n",
       "    <tr>\n",
       "      <th>market for cement, alternative constituents 6-20%</th>\n",
       "      <td>0.761097</td>\n",
       "    </tr>\n",
       "    <tr>\n",
       "      <th>market for cement, blast furnace slag 18-30% and 18-30% other alternative constituents</th>\n",
       "      <td>0.506860</td>\n",
       "    </tr>\n",
       "    <tr>\n",
       "      <th>market for cement, blast furnace slag 21-35%</th>\n",
       "      <td>0.749325</td>\n",
       "    </tr>\n",
       "    <tr>\n",
       "      <th>market for cement, blast furnace slag 25-70%</th>\n",
       "      <td>0.602029</td>\n",
       "    </tr>\n",
       "    <tr>\n",
       "      <th>market for cement, blast furnace slag 31-50% and 31-50% other alternative constituents</th>\n",
       "      <td>0.411496</td>\n",
       "    </tr>\n",
       "    <tr>\n",
       "      <th>market for cement, blast furnace slag 35-70%</th>\n",
       "      <td>0.437826</td>\n",
       "    </tr>\n",
       "    <tr>\n",
       "      <th>market for cement, blast furnace slag 36-65%</th>\n",
       "      <td>0.561652</td>\n",
       "    </tr>\n",
       "    <tr>\n",
       "      <th>market for cement, blast furnace slag 40-70%</th>\n",
       "      <td>0.601922</td>\n",
       "    </tr>\n",
       "    <tr>\n",
       "      <th>market for cement, blast furnace slag 5-25%</th>\n",
       "      <td>0.835633</td>\n",
       "    </tr>\n",
       "    <tr>\n",
       "      <th>market for cement, blast furnace slag 6-20%</th>\n",
       "      <td>0.814109</td>\n",
       "    </tr>\n",
       "    <tr>\n",
       "      <th>market for cement, blast furnace slag 6-34%</th>\n",
       "      <td>0.670149</td>\n",
       "    </tr>\n",
       "    <tr>\n",
       "      <th>market for cement, blast furnace slag 66-80%</th>\n",
       "      <td>0.370074</td>\n",
       "    </tr>\n",
       "    <tr>\n",
       "      <th>market for cement, blast furnace slag 70-100%</th>\n",
       "      <td>0.332879</td>\n",
       "    </tr>\n",
       "    <tr>\n",
       "      <th>market for cement, blast furnace slag 81-95%</th>\n",
       "      <td>0.265754</td>\n",
       "    </tr>\n",
       "    <tr>\n",
       "      <th>market for cement, limestone 21-35%</th>\n",
       "      <td>0.716732</td>\n",
       "    </tr>\n",
       "    <tr>\n",
       "      <th>market for cement, limestone 6-10%</th>\n",
       "      <td>0.849066</td>\n",
       "    </tr>\n",
       "    <tr>\n",
       "      <th>market for cement, limestone 6-20%</th>\n",
       "      <td>0.826611</td>\n",
       "    </tr>\n",
       "    <tr>\n",
       "      <th>market for cement, portland fly ash cement 21-35%</th>\n",
       "      <td>0.685307</td>\n",
       "    </tr>\n",
       "    <tr>\n",
       "      <th>market for cement, portland fly ash cement 6-20%</th>\n",
       "      <td>0.779091</td>\n",
       "    </tr>\n",
       "    <tr>\n",
       "      <th>market for cement, pozzolana and fly ash 11-35%</th>\n",
       "      <td>0.679006</td>\n",
       "    </tr>\n",
       "    <tr>\n",
       "      <th>market for cement, pozzolana and fly ash 15-40%</th>\n",
       "      <td>0.694822</td>\n",
       "    </tr>\n",
       "    <tr>\n",
       "      <th>market for cement, pozzolana and fly ash 15-50%</th>\n",
       "      <td>0.602708</td>\n",
       "    </tr>\n",
       "    <tr>\n",
       "      <th>market for cement, pozzolana and fly ash 25-35%</th>\n",
       "      <td>0.658596</td>\n",
       "    </tr>\n",
       "    <tr>\n",
       "      <th>market for cement, pozzolana and fly ash 36-55%</th>\n",
       "      <td>0.515111</td>\n",
       "    </tr>\n",
       "    <tr>\n",
       "      <th>market for cement, pozzolana and fly ash 5-15%</th>\n",
       "      <td>0.852935</td>\n",
       "    </tr>\n",
       "    <tr>\n",
       "      <th>market for cement, pozzolana and fly ash 6-14%</th>\n",
       "      <td>0.746063</td>\n",
       "    </tr>\n",
       "    <tr>\n",
       "      <th>market for cement, sulphate resistant</th>\n",
       "      <td>0.740920</td>\n",
       "    </tr>\n",
       "    <tr>\n",
       "      <th>market for cement, unspecified</th>\n",
       "      <td>0.770486</td>\n",
       "    </tr>\n",
       "  </tbody>\n",
       "</table>\n",
       "</div>"
      ],
      "text/plain": [
       "                                                         GWP\n",
       "activity                                                    \n",
       "cement, all types to generic market for cement,...  0.768689\n",
       "market for cement, Portland                         0.885446\n",
       "market for cement, alternative constituents 21-35%  0.688380\n",
       "market for cement, alternative constituents 45%     0.602292\n",
       "market for cement, alternative constituents 6-20%   0.761097\n",
       "market for cement, blast furnace slag 18-30% an...  0.506860\n",
       "market for cement, blast furnace slag 21-35%        0.749325\n",
       "market for cement, blast furnace slag 25-70%        0.602029\n",
       "market for cement, blast furnace slag 31-50% an...  0.411496\n",
       "market for cement, blast furnace slag 35-70%        0.437826\n",
       "market for cement, blast furnace slag 36-65%        0.561652\n",
       "market for cement, blast furnace slag 40-70%        0.601922\n",
       "market for cement, blast furnace slag 5-25%         0.835633\n",
       "market for cement, blast furnace slag 6-20%         0.814109\n",
       "market for cement, blast furnace slag 6-34%         0.670149\n",
       "market for cement, blast furnace slag 66-80%        0.370074\n",
       "market for cement, blast furnace slag 70-100%       0.332879\n",
       "market for cement, blast furnace slag 81-95%        0.265754\n",
       "market for cement, limestone 21-35%                 0.716732\n",
       "market for cement, limestone 6-10%                  0.849066\n",
       "market for cement, limestone 6-20%                  0.826611\n",
       "market for cement, portland fly ash cement 21-35%   0.685307\n",
       "market for cement, portland fly ash cement 6-20%    0.779091\n",
       "market for cement, pozzolana and fly ash 11-35%     0.679006\n",
       "market for cement, pozzolana and fly ash 15-40%     0.694822\n",
       "market for cement, pozzolana and fly ash 15-50%     0.602708\n",
       "market for cement, pozzolana and fly ash 25-35%     0.658596\n",
       "market for cement, pozzolana and fly ash 36-55%     0.515111\n",
       "market for cement, pozzolana and fly ash 5-15%      0.852935\n",
       "market for cement, pozzolana and fly ash 6-14%      0.746063\n",
       "market for cement, sulphate resistant               0.740920\n",
       "market for cement, unspecified                      0.770486"
      ]
     },
     "execution_count": 130,
     "metadata": {},
     "output_type": "execute_result"
    }
   ],
   "source": [
    "cements_lca.groupby(\"activity\").mean()"
   ]
  },
  {
   "cell_type": "code",
   "execution_count": 127,
   "id": "6272bf6f-471d-4a63-987b-41140de4261f",
   "metadata": {},
   "outputs": [
    {
     "data": {
      "text/plain": [
       "activity    32\n",
       "location    10\n",
       "GWP         98\n",
       "dtype: int64"
      ]
     },
     "execution_count": 127,
     "metadata": {},
     "output_type": "execute_result"
    }
   ],
   "source": [
    "cements_lca.nunique()"
   ]
  },
  {
   "cell_type": "markdown",
   "id": "c85170ed-c5da-40fa-9d90-dd1ef11edad7",
   "metadata": {},
   "source": [
    "#### Adding the charcrete to the comparison"
   ]
  },
  {
   "cell_type": "code",
   "execution_count": 40,
   "id": "a8ab9468-19dc-4cfe-a01c-d8c71e1bc37c",
   "metadata": {},
   "outputs": [
    {
     "name": "stdout",
     "output_type": "stream",
     "text": [
      "['concrete production 20MPa' (cubic meter, North America without Quebec, None), 'concrete production 20MPa' (cubic meter, ZA, None), 'concrete production 20MPa' (cubic meter, CA-QC, None), 'concrete production 20MPa' (cubic meter, RoW, None), 'Charcrete production' (cubic meter, SE, None)]\n"
     ]
    }
   ],
   "source": [
    "concrete_ei.append(charcrete)\n",
    "print(concrete_ei)"
   ]
  },
  {
   "cell_type": "code",
   "execution_count": 107,
   "id": "1ae61a45-2914-4df4-ab89-54b38bfc2802",
   "metadata": {},
   "outputs": [
    {
     "data": {
      "text/html": [
       "<div>\n",
       "<style scoped>\n",
       "    .dataframe tbody tr th:only-of-type {\n",
       "        vertical-align: middle;\n",
       "    }\n",
       "\n",
       "    .dataframe tbody tr th {\n",
       "        vertical-align: top;\n",
       "    }\n",
       "\n",
       "    .dataframe thead th {\n",
       "        text-align: right;\n",
       "    }\n",
       "</style>\n",
       "<table border=\"1\" class=\"dataframe\">\n",
       "  <thead>\n",
       "    <tr style=\"text-align: right;\">\n",
       "      <th></th>\n",
       "      <th>activity</th>\n",
       "      <th>location</th>\n",
       "      <th>GWP</th>\n",
       "    </tr>\n",
       "  </thead>\n",
       "  <tbody>\n",
       "    <tr>\n",
       "      <th>0</th>\n",
       "      <td>concrete production 20MPa</td>\n",
       "      <td>North America without Quebec</td>\n",
       "      <td>217.552437</td>\n",
       "    </tr>\n",
       "    <tr>\n",
       "      <th>1</th>\n",
       "      <td>concrete production 20MPa</td>\n",
       "      <td>ZA</td>\n",
       "      <td>229.719127</td>\n",
       "    </tr>\n",
       "    <tr>\n",
       "      <th>2</th>\n",
       "      <td>concrete production 20MPa</td>\n",
       "      <td>CA-QC</td>\n",
       "      <td>234.187992</td>\n",
       "    </tr>\n",
       "    <tr>\n",
       "      <th>3</th>\n",
       "      <td>concrete production 20MPa</td>\n",
       "      <td>RoW</td>\n",
       "      <td>193.853911</td>\n",
       "    </tr>\n",
       "    <tr>\n",
       "      <th>4</th>\n",
       "      <td>Charcrete production</td>\n",
       "      <td>SE</td>\n",
       "      <td>317.228383</td>\n",
       "    </tr>\n",
       "  </tbody>\n",
       "</table>\n",
       "</div>"
      ],
      "text/plain": [
       "                    activity                      location         GWP\n",
       "0  concrete production 20MPa  North America without Quebec  217.552437\n",
       "1  concrete production 20MPa                            ZA  229.719127\n",
       "2  concrete production 20MPa                         CA-QC  234.187992\n",
       "3  concrete production 20MPa                           RoW  193.853911\n",
       "4       Charcrete production                            SE  317.228383"
      ]
     },
     "execution_count": 107,
     "metadata": {},
     "output_type": "execute_result"
    }
   ],
   "source": [
    "first_lca = pd.DataFrame(list(zip([act[\"name\"] for act in concrete_ei],[act[\"location\"] for act in concrete_ei], concretes_gwp)), columns=[\"activity\", \"location\", \"GWP\"])\n",
    "first_lca.to_csv(wdir+\"/outputs/first_lca_results_concrete_1_m3.csv\")\n",
    "first_lca"
   ]
  },
  {
   "cell_type": "code",
   "execution_count": 108,
   "id": "f3ebc5e7-c433-41bd-adb1-d4a0a1e91575",
   "metadata": {},
   "outputs": [
    {
     "name": "stdout",
     "output_type": "stream",
     "text": [
      "Fraction of score | Absolute score | Amount | Activity\n",
      "0001 | 317.2 |     1 | 'Charcrete production' (cubic meter, SE, None)\n",
      "  0.0126 | 3.996 | 0.0183 | 'Biochar production' (ton, SE, None)\n",
      "  0.0166 | 5.272 |   857 | 'market for gravel, crushed' (kilogram, CH, None)\n",
      "  0.0131 | 4.144 |   857 | 'market for sand' (kilogram, CH, None)\n",
      "  0.0183 | 5.819 |  4.37 | 'market for plasticiser, for concrete, based on sulfonated melamine fo\n",
      "    0.0177 | 5.599 |  4.37 | 'plasticiser production, for concrete, based on sulfonated melamine fo\n",
      "  0.957 | 303.6 |   347 | 'market for cement, Portland' (kilogram, Europe without Switzerland, N\n",
      "    0.0153 | 4.868 | 37.09 | 'market for transport, freight, lorry, unspecified' (ton kilometer, RE\n",
      "    0.934 | 296.2 |   347 | 'cement production, Portland' (kilogram, Europe without Switzerland, N\n",
      "      0.0161 | 5.098 | 13.05 | 'market group for electricity, medium voltage' (kilowatt hour, Europe \n",
      "      0.914 | 289.8 | 313.2 | 'clinker production' (kilogram, Europe without Switzerland, None)\n"
     ]
    }
   ],
   "source": [
    "ba.print_recursive_calculation(charcrete, ipcc, cutoff=0.010)"
   ]
  },
  {
   "cell_type": "markdown",
   "id": "952e4578-f5c9-4a8b-b3f0-483bb80f4c56",
   "metadata": {},
   "source": [
    "**Charcrete** is not that good I guess... Need to investigate the formulation of the concrete and other parameters with more data/uncertainty analysis on : \n",
    "- cement production process and localisation\n",
    "- formulation of cement/biochar/other..."
   ]
  },
  {
   "cell_type": "markdown",
   "id": "bf41cd9b-9aed-4d27-a05c-7a43ad565a2e",
   "metadata": {},
   "source": [
    "## Replacing stuff in the activity"
   ]
  },
  {
   "cell_type": "code",
   "execution_count": 56,
   "id": "869b85ca-252e-4dc5-8f32-b8a6d309ab1c",
   "metadata": {},
   "outputs": [
    {
     "data": {
      "text/plain": [
       "<function __main__.replace_stuff(main_act, sub_act, repl_act, method)>"
      ]
     },
     "execution_count": 56,
     "metadata": {},
     "output_type": "execute_result"
    }
   ],
   "source": [
    "replace_stuff"
   ]
  },
  {
   "cell_type": "code",
   "execution_count": null,
   "id": "cfa37955-dd04-4793-8b09-afaf0c45e6ce",
   "metadata": {},
   "outputs": [],
   "source": []
  }
 ],
 "metadata": {
  "kernelspec": {
   "display_name": "Python [conda env:bw25]",
   "language": "python",
   "name": "conda-env-bw25-py"
  },
  "language_info": {
   "codemirror_mode": {
    "name": "ipython",
    "version": 3
   },
   "file_extension": ".py",
   "mimetype": "text/x-python",
   "name": "python",
   "nbconvert_exporter": "python",
   "pygments_lexer": "ipython3",
   "version": "3.10.6"
  }
 },
 "nbformat": 4,
 "nbformat_minor": 5
}
