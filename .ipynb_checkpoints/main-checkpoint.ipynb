{
 "cells": [
  {
   "cell_type": "markdown",
   "id": "c511dc3c-074e-457d-b2ea-b2be5b3a1d2b",
   "metadata": {},
   "source": [
    "# Main - Charcrete LCA"
   ]
  },
  {
   "cell_type": "markdown",
   "id": "00fd2deb-66f0-4de4-a91b-03617d9294bd",
   "metadata": {},
   "source": [
    "## 1. Set the project and import Charcrete database"
   ]
  },
  {
   "cell_type": "code",
   "execution_count": 295,
   "id": "1a0b7cb1-236c-48f1-8cae-c5eba833b87c",
   "metadata": {},
   "outputs": [],
   "source": [
    "# === Switch to kernel bw25! ===\n",
    "\n",
    "# Brightway libraries\n",
    "import bw2data as bd\n",
    "import bw2io as bi\n",
    "import bw2calc as bc\n",
    "import bw2analyzer as ba\n",
    "import bw_processing as bwp\n",
    "\n",
    "# General libraries\n",
    "import numpy as np\n",
    "import pandas as pd\n",
    "from fs.zipfs import ZipFS\n",
    "import json                        # Library for working with json files\n",
    "from pathlib import Path           # Library for working with paths in different OS     \n",
    "import matplotlib.pyplot as plt    # Library for creating plots\n",
    "import os\n",
    "\n",
    "# Our own functions\n",
    "%run utils.ipynb"
   ]
  },
  {
   "cell_type": "code",
   "execution_count": 296,
   "id": "01f01d0c-536a-4fa0-9559-fdc815fc2dfb",
   "metadata": {},
   "outputs": [],
   "source": [
    "bd.projects.set_current(\"ei38-teaching-25\")"
   ]
  },
  {
   "cell_type": "code",
   "execution_count": 297,
   "id": "c78cbc52-2e04-493c-88f1-7db9cbc75b33",
   "metadata": {},
   "outputs": [],
   "source": [
    "wdir = os.getcwd()"
   ]
  },
  {
   "cell_type": "markdown",
   "id": "b8080533-ffa5-4061-a834-13bf8bb68ed8",
   "metadata": {},
   "source": [
    "### Importing Charcrete database Excel-file"
   ]
  },
  {
   "cell_type": "code",
   "execution_count": 298,
   "id": "66d2ebb1-737c-4eda-aa46-61651dad718d",
   "metadata": {},
   "outputs": [
    {
     "name": "stdout",
     "output_type": "stream",
     "text": [
      "Extracted 2 worksheets in 0.01 seconds\n",
      "Applying strategy: csv_restore_tuples\n",
      "Applying strategy: csv_restore_booleans\n",
      "Applying strategy: csv_numerize\n",
      "Applying strategy: csv_drop_unknown\n",
      "Applying strategy: csv_add_missing_exchanges_section\n",
      "Applying strategy: normalize_units\n",
      "Applying strategy: normalize_biosphere_categories\n",
      "Applying strategy: normalize_biosphere_names\n",
      "Applying strategy: strip_biosphere_exc_locations\n",
      "Applying strategy: set_code_by_activity_hash\n",
      "Applying strategy: link_iterable_by_fields\n",
      "Applying strategy: assign_only_product_as_production\n",
      "Applying strategy: link_technosphere_by_activity_hash\n",
      "Applying strategy: drop_falsey_uncertainty_fields_but_keep_zeros\n",
      "Applying strategy: convert_uncertainty_types_to_integers\n",
      "Applying strategy: convert_activity_parameters_to_list\n",
      "Applied 16 strategies in 7.04 seconds\n",
      "Applying strategy: link_iterable_by_fields\n",
      "Applying strategy: link_iterable_by_fields\n",
      "7 datasets\n",
      "43 exchanges\n",
      "0 unlinked exchanges\n",
      "  \n",
      "Warning: No valid output stream.\n",
      "Title: Writing activities to SQLite3 database:\n",
      "  Started: 10/27/2022 15:39:21\n",
      "  Finished: 10/27/2022 15:39:21\n",
      "  Total time elapsed: 00:00:00\n",
      "  CPU %: 0.00\n",
      "  Memory %: 0.72\n",
      "Created database: Charcrete_38\n"
     ]
    }
   ],
   "source": [
    "if \"Charcrete_38\" in bd.databases:\n",
    "    del bd.databases[\"Charcrete_38\"]\n",
    "\n",
    "# 1. Specify filepath to your foreground inventories.\n",
    "charcrete_path = wdir+\"/data/Charcrete_database_38.xlsx\"\n",
    "#charcrete_path = \"/home/jupyter-mija.frossard/Charcrete-LCA/Water_database_38.xlsx\"\n",
    "# 2. Create an instance of a class that contains basic methods for importing a database from an excel file.\n",
    "charcrete = bi.ExcelImporter(charcrete_path)  \n",
    "# 3. `apply_strategies` is one of such basic methods, it makes sure units, locations, etc are in correct format.\n",
    "charcrete.apply_strategies()\n",
    "# 4. Next step is to link your foreground exchanges to existing databases by matching relevant exchanges fields.\n",
    "charcrete.match_database(\"biosphere3\", fields=(\"name\", \"unit\", \"categories\"))\n",
    "charcrete.match_database(\"ei 3.8 cutoff\", fields=(\"name\", \"location\", \"unit\"))\n",
    "#charcrete.metadata.pop(None)  # Remove metadata None entry. TODO\n",
    "# 5. If everything is linked, write database so that it is saved in your project.\n",
    "if charcrete.all_linked:\n",
    "    charcrete.write_database()"
   ]
  },
  {
   "cell_type": "code",
   "execution_count": 299,
   "id": "d3b2f6b6-077d-4e0b-9cca-d3d6f1fc3b99",
   "metadata": {},
   "outputs": [],
   "source": [
    "for unlinked in charcrete.unlinked:\n",
    "    print(unlinked)"
   ]
  },
  {
   "cell_type": "code",
   "execution_count": 300,
   "id": "5df72dbb-0169-48b3-beab-cc234ddefcb6",
   "metadata": {},
   "outputs": [
    {
     "data": {
      "text/plain": [
       "Databases dictionary with 7 object(s):\n",
       "\tCharcrete_38\n",
       "\tEXIOBASE 3.8.1 2017 monetary\n",
       "\tEXIOBASE 3.8.1 2017 monetary biosphere\n",
       "\tKorean Motors Chaebol\n",
       "\tWater_38\n",
       "\tbiosphere3\n",
       "\tei 3.8 cutoff"
      ]
     },
     "execution_count": 300,
     "metadata": {},
     "output_type": "execute_result"
    }
   ],
   "source": [
    "bd.databases"
   ]
  },
  {
   "cell_type": "code",
   "execution_count": 301,
   "id": "c54fe20e-eaef-4fef-9303-4570f9e3dc7b",
   "metadata": {},
   "outputs": [
    {
     "data": {
      "text/plain": [
       "7"
      ]
     },
     "execution_count": 301,
     "metadata": {},
     "output_type": "execute_result"
    }
   ],
   "source": [
    "len(bd.Database(\"Charcrete_38\"))"
   ]
  },
  {
   "cell_type": "markdown",
   "id": "bab9c9c6-1934-49c9-ad6e-870b876e64aa",
   "metadata": {},
   "source": [
    "## 2. Basic calculations and comparisons"
   ]
  },
  {
   "cell_type": "code",
   "execution_count": 302,
   "id": "cbb1175a-0e23-4901-8537-6a84da3881bf",
   "metadata": {},
   "outputs": [],
   "source": [
    "bd.projects.set_current(\"ei38-teaching-25\")"
   ]
  },
  {
   "cell_type": "code",
   "execution_count": 303,
   "id": "1c9c7eb0-6c08-4848-914f-e1c8e0ed1cde",
   "metadata": {},
   "outputs": [],
   "source": [
    "char_db = bd.Database(\"Charcrete_38\")"
   ]
  },
  {
   "cell_type": "code",
   "execution_count": 304,
   "id": "98760784-3c4e-4bf5-9d2f-41612c33de75",
   "metadata": {},
   "outputs": [],
   "source": [
    "ei_db = bd.Database(\"ei 3.8 cutoff\")"
   ]
  },
  {
   "cell_type": "code",
   "execution_count": 305,
   "id": "edaa2772-804a-4dc4-9f2b-e58abaed2966",
   "metadata": {},
   "outputs": [
    {
     "data": {
      "text/plain": [
       "'Charcrete production 5%' (cubic meter, SE, None)"
      ]
     },
     "execution_count": 305,
     "metadata": {},
     "output_type": "execute_result"
    }
   ],
   "source": [
    "charcrete = [act for act in char_db if \"Charcrete production 5%\" in act[\"name\"]][0]\n",
    "charcrete_7 = [act for act in char_db if \"Charcrete production 7.5%\" in act[\"name\"]][0]\n",
    "charcrete_10 = [act for act in char_db if \"Charcrete production 10%\" in act[\"name\"]][0]\n",
    "charcrete"
   ]
  },
  {
   "cell_type": "code",
   "execution_count": 306,
   "id": "b5307f7f-da4a-4083-a3be-0874a0aaf3d6",
   "metadata": {},
   "outputs": [
    {
     "data": {
      "text/plain": [
       "['concrete production 20MPa' (cubic meter, North America without Quebec, None),\n",
       " 'concrete production 20MPa' (cubic meter, CA-QC, None),\n",
       " 'concrete production 20MPa' (cubic meter, RoW, None),\n",
       " 'concrete production 20MPa' (cubic meter, ZA, None)]"
      ]
     },
     "execution_count": 306,
     "metadata": {},
     "output_type": "execute_result"
    }
   ],
   "source": [
    "concrete_ei = [act for act in ei_db if \"concrete production 20MPa\" in act[\"name\"]]\n",
    "concrete_ei"
   ]
  },
  {
   "cell_type": "markdown",
   "id": "57f6a7a8-d933-45b0-a0bd-2193831b55c4",
   "metadata": {},
   "source": [
    "#### Choice of an LCIA method: IPCC 2013 GWP 100"
   ]
  },
  {
   "cell_type": "code",
   "execution_count": 307,
   "id": "37b7a808-05b6-40fb-8e2e-3453738651c1",
   "metadata": {},
   "outputs": [],
   "source": [
    "ipcc = ('IPCC 2013', 'climate change', 'GWP 100a')\n",
    "method = bd.Method(ipcc)"
   ]
  },
  {
   "cell_type": "markdown",
   "id": "901dfde0-ad13-447a-903a-6394e6e5cff3",
   "metadata": {},
   "source": [
    "#### Analysis of standard concrete production"
   ]
  },
  {
   "cell_type": "code",
   "execution_count": 308,
   "id": "5430e209-74a0-4b50-857d-f5515fa808bb",
   "metadata": {},
   "outputs": [
    {
     "name": "stdout",
     "output_type": "stream",
     "text": [
      "'concrete production 20MPa' (cubic meter, North America without Quebec, None) 217.55243665066354\n",
      "'concrete production 20MPa' (cubic meter, CA-QC, None) 234.1879918934279\n",
      "'concrete production 20MPa' (cubic meter, RoW, None) 193.85391050515568\n",
      "'concrete production 20MPa' (cubic meter, ZA, None) 229.71912735575845\n"
     ]
    }
   ],
   "source": [
    "concretes_gwp = [calculateLCA(act, 1, ipcc) for act in concrete_ei]"
   ]
  },
  {
   "cell_type": "code",
   "execution_count": 309,
   "id": "64aff395-9d6f-4efc-ac3b-24f601bb7066",
   "metadata": {},
   "outputs": [
    {
     "data": {
      "text/html": [
       "<div>\n",
       "<style scoped>\n",
       "    .dataframe tbody tr th:only-of-type {\n",
       "        vertical-align: middle;\n",
       "    }\n",
       "\n",
       "    .dataframe tbody tr th {\n",
       "        vertical-align: top;\n",
       "    }\n",
       "\n",
       "    .dataframe thead th {\n",
       "        text-align: right;\n",
       "    }\n",
       "</style>\n",
       "<table border=\"1\" class=\"dataframe\">\n",
       "  <thead>\n",
       "    <tr style=\"text-align: right;\">\n",
       "      <th></th>\n",
       "      <th>activity</th>\n",
       "      <th>location</th>\n",
       "      <th>GWP</th>\n",
       "    </tr>\n",
       "  </thead>\n",
       "  <tbody>\n",
       "    <tr>\n",
       "      <th>0</th>\n",
       "      <td>concrete production 20MPa</td>\n",
       "      <td>North America without Quebec</td>\n",
       "      <td>217.552437</td>\n",
       "    </tr>\n",
       "    <tr>\n",
       "      <th>1</th>\n",
       "      <td>concrete production 20MPa</td>\n",
       "      <td>CA-QC</td>\n",
       "      <td>234.187992</td>\n",
       "    </tr>\n",
       "    <tr>\n",
       "      <th>2</th>\n",
       "      <td>concrete production 20MPa</td>\n",
       "      <td>RoW</td>\n",
       "      <td>193.853911</td>\n",
       "    </tr>\n",
       "    <tr>\n",
       "      <th>3</th>\n",
       "      <td>concrete production 20MPa</td>\n",
       "      <td>ZA</td>\n",
       "      <td>229.719127</td>\n",
       "    </tr>\n",
       "  </tbody>\n",
       "</table>\n",
       "</div>"
      ],
      "text/plain": [
       "                    activity                      location         GWP\n",
       "0  concrete production 20MPa  North America without Quebec  217.552437\n",
       "1  concrete production 20MPa                         CA-QC  234.187992\n",
       "2  concrete production 20MPa                           RoW  193.853911\n",
       "3  concrete production 20MPa                            ZA  229.719127"
      ]
     },
     "execution_count": 309,
     "metadata": {},
     "output_type": "execute_result"
    }
   ],
   "source": [
    "first_lca = pd.DataFrame(list(zip([act[\"name\"] for act in concrete_ei],[act[\"location\"] for act in concrete_ei], concretes_gwp)), columns=[\"activity\", \"location\", \"GWP\"])\n",
    "first_lca"
   ]
  },
  {
   "cell_type": "code",
   "execution_count": 310,
   "id": "1225583b-6443-4db8-ad57-3e1bf8336031",
   "metadata": {},
   "outputs": [],
   "source": [
    "best_concrete_idx = first_lca[['GWP']].idxmin()[0]\n",
    "worst_concrete_idx = first_lca[['GWP']].idxmax()[0]"
   ]
  },
  {
   "cell_type": "code",
   "execution_count": 311,
   "id": "b53a46aa-f80c-48f4-b245-6b1ccb0b8154",
   "metadata": {},
   "outputs": [
    {
     "name": "stdout",
     "output_type": "stream",
     "text": [
      "Fraction of score | Absolute score | Amount | Activity\n",
      "0001 | 193.9 |     1 | 'concrete production 20MPa' (cubic meter, RoW, None)\n",
      "  0.0214 | 4.153 | 858.8 | 'market for gravel, round' (kilogram, CH, None)\n",
      "    0.0118 | 2.283 |  17.4 | 'market for transport, freight, lorry, unspecified' (ton kilometer, RE\n",
      "  0.839 | 162.6 | 256.6 | 'market for cement, portland fly ash cement 21-35%' (kilogram, RoW, No\n",
      "    00.8 |   155 | 256.6 | 'cement production, fly ash 21-35%' (kilogram, RoW, None)\n",
      "      0.0296 | 5.739 | 6.118 | 'market group for electricity, medium voltage' (kilowatt hour, RAS, No\n",
      "      0.146 | 28.27 | 30.21 | 'market for clinker' (kilogram, Europe without Switzerland, None)\n",
      "      0.0303 | 5.868 | 6.363 | 'market for clinker' (kilogram, BR, None)\n",
      "      0.129 | 24.98 | 28.23 | 'market for clinker' (kilogram, IN, None)\n",
      "      0.43 | 83.42 | 90.59 | 'market for clinker' (kilogram, RoW, None)\n",
      "    0.0318 | 6.173 | 44.72 | 'market for transport, freight, lorry, unspecified' (ton kilometer, Ro\n",
      "      0.0133 | 2.573 | 18.16 | 'transport, freight, lorry, all sizes, EURO3 to generic market for tra\n",
      "      0.0105 | 2.045 | 15.35 | 'transport, freight, lorry, all sizes, EURO4 to generic market for tra\n",
      "  0.0167 | 3.237 | 1.752 | 'market for ethylene oxide' (kilogram, RER, None)\n",
      "    0.0167 | 3.237 | 1.752 | 'ethylene oxide production' (kilogram, RER, None)\n",
      "      0.0108 | 2.101 | 1.445 | 'market for ethylene' (kilogram, RER, None)\n",
      "  0.0106 |  2.06 | 2.196 | 'market group for electricity, medium voltage' (kilowatt hour, RAS, No\n",
      "  0.0792 | 15.36 |  1142 | 'market for sand' (kilogram, BR, None)\n",
      "    0.0116 | 2.241 | 8.713 | 'market for transport, freight, lorry 3.5-7.5 metric ton, EURO3' (ton \n",
      "      0.0116 | 2.241 | 8.713 | 'transport, freight, lorry 3.5-7.5 metric ton, EURO3' (ton kilometer, \n",
      "    0.0271 | 5.252 | 40.44 | 'market for transport, freight, lorry 16-32 metric ton, EURO3' (ton ki\n",
      "      0.0271 | 5.252 | 40.44 | 'transport, freight, lorry 16-32 metric ton, EURO3' (ton kilometer, BR\n",
      "    0.0195 | 3.789 | 799.6 | 'sand quarry operation, extraction from river bed' (kilogram, BR, None\n",
      "      0.019 | 3.683 | 39.91 | 'market for diesel, burned in building machine' (megajoule, GLO, None)\n",
      "    0.0124 |  2.41 | 342.7 | 'sand quarry operation, open pit mine' (kilogram, BR, None)\n",
      "      0.0122 | 2.365 | 25.63 | 'market for diesel, burned in building machine' (megajoule, GLO, None)\n"
     ]
    }
   ],
   "source": [
    "ba.print_recursive_calculation(concrete_ei[best_concrete_idx], ipcc, cutoff=0.010)"
   ]
  },
  {
   "cell_type": "code",
   "execution_count": 312,
   "id": "d9f09a18-1e10-4c69-9843-0089f39f71ea",
   "metadata": {},
   "outputs": [
    {
     "name": "stdout",
     "output_type": "stream",
     "text": [
      "Fraction of score | Absolute score | Amount | Activity\n",
      "0001 | 234.2 |     1 | 'concrete production 20MPa' (cubic meter, CA-QC, None)\n",
      "  0.0483 |  11.3 |   950 | 'market for sand' (kilogram, RoW, None)\n",
      "    0.0181 | 4.235 | 30.68 | 'market for transport, freight, lorry, unspecified' (ton kilometer, Ro\n",
      "    0.0121 | 2.824 | 672.1 | 'gravel and sand quarry operation' (kilogram, RoW, None)\n",
      "  0.0477 | 11.17 | 960.1 | 'market for gravel, round' (kilogram, RoW, None)\n",
      "    0.0172 | 4.034 | 960.1 | 'gravel and sand quarry operation' (kilogram, RoW, None)\n",
      "    0.0159 | 3.714 | 26.91 | 'market for transport, freight, lorry, unspecified' (ton kilometer, Ro\n",
      "  0.878 | 205.6 | 239.5 | 'market for cement, Portland' (kilogram, CA-QC, None)\n",
      "    0.0151 | 3.534 |  25.6 | 'market for transport, freight, lorry, unspecified' (ton kilometer, Ro\n",
      "    0.855 | 200.2 | 239.5 | 'cement production, Portland' (kilogram, CA-QC, None)\n",
      "      0.85 |   199 | 220.4 | 'clinker production' (kilogram, CA-QC, None)\n"
     ]
    }
   ],
   "source": [
    "ba.print_recursive_calculation(concrete_ei[worst_concrete_idx], ipcc, cutoff=0.010)"
   ]
  },
  {
   "cell_type": "markdown",
   "id": "40ea5e88-a5cd-4979-992e-2354e0a1e596",
   "metadata": {},
   "source": [
    "Concrete with the least impact has \"market for cement, portland fly ash cement 21-35%, RoW\""
   ]
  },
  {
   "cell_type": "markdown",
   "id": "dc6a02f4-058b-4f43-8f4e-36b8878885a0",
   "metadata": {},
   "source": [
    "#### Analysis over the cement production"
   ]
  },
  {
   "cell_type": "code",
   "execution_count": 313,
   "id": "cdbac957-0fb4-4bfa-b08b-343c89005398",
   "metadata": {},
   "outputs": [],
   "source": [
    "cement = [act for act in ei_db if 'market for cement,' in act[\"name\"] and \"kilogram\" in act[\"unit\"]]"
   ]
  },
  {
   "cell_type": "code",
   "execution_count": 314,
   "id": "12338791-69ed-41bf-9e44-2b1a9c07c2d7",
   "metadata": {},
   "outputs": [
    {
     "data": {
      "text/html": [
       "<div>\n",
       "<style scoped>\n",
       "    .dataframe tbody tr th:only-of-type {\n",
       "        vertical-align: middle;\n",
       "    }\n",
       "\n",
       "    .dataframe tbody tr th {\n",
       "        vertical-align: top;\n",
       "    }\n",
       "\n",
       "    .dataframe thead th {\n",
       "        text-align: right;\n",
       "    }\n",
       "</style>\n",
       "<table border=\"1\" class=\"dataframe\">\n",
       "  <thead>\n",
       "    <tr style=\"text-align: right;\">\n",
       "      <th></th>\n",
       "      <th>activity</th>\n",
       "      <th>location</th>\n",
       "      <th>GWP</th>\n",
       "    </tr>\n",
       "  </thead>\n",
       "  <tbody>\n",
       "    <tr>\n",
       "      <th>0</th>\n",
       "      <td>market for cement, Portland</td>\n",
       "      <td>Europe without Switzerland</td>\n",
       "      <td>0.875039</td>\n",
       "    </tr>\n",
       "    <tr>\n",
       "      <th>1</th>\n",
       "      <td>market for cement, limestone 21-35%</td>\n",
       "      <td>RoW</td>\n",
       "      <td>0.758066</td>\n",
       "    </tr>\n",
       "    <tr>\n",
       "      <th>2</th>\n",
       "      <td>market for cement, pozzolana and fly ash 11-35%</td>\n",
       "      <td>Europe without Switzerland</td>\n",
       "      <td>0.714784</td>\n",
       "    </tr>\n",
       "    <tr>\n",
       "      <th>3</th>\n",
       "      <td>market for cement, sulphate resistant</td>\n",
       "      <td>BR</td>\n",
       "      <td>0.740920</td>\n",
       "    </tr>\n",
       "    <tr>\n",
       "      <th>4</th>\n",
       "      <td>market for cement, pozzolana and fly ash 15-50%</td>\n",
       "      <td>RoW</td>\n",
       "      <td>0.609570</td>\n",
       "    </tr>\n",
       "    <tr>\n",
       "      <th>...</th>\n",
       "      <td>...</td>\n",
       "      <td>...</td>\n",
       "      <td>...</td>\n",
       "    </tr>\n",
       "    <tr>\n",
       "      <th>93</th>\n",
       "      <td>market for cement, Portland</td>\n",
       "      <td>US</td>\n",
       "      <td>0.903289</td>\n",
       "    </tr>\n",
       "    <tr>\n",
       "      <th>94</th>\n",
       "      <td>market for cement, pozzolana and fly ash 15-50%</td>\n",
       "      <td>BR</td>\n",
       "      <td>0.595846</td>\n",
       "    </tr>\n",
       "    <tr>\n",
       "      <th>95</th>\n",
       "      <td>market for cement, portland fly ash cement 21-35%</td>\n",
       "      <td>ZA</td>\n",
       "      <td>0.737057</td>\n",
       "    </tr>\n",
       "    <tr>\n",
       "      <th>96</th>\n",
       "      <td>market for cement, Portland</td>\n",
       "      <td>CH</td>\n",
       "      <td>0.743008</td>\n",
       "    </tr>\n",
       "    <tr>\n",
       "      <th>97</th>\n",
       "      <td>market for cement, pozzolana and fly ash 25-35%</td>\n",
       "      <td>IN</td>\n",
       "      <td>0.657335</td>\n",
       "    </tr>\n",
       "  </tbody>\n",
       "</table>\n",
       "<p>98 rows × 3 columns</p>\n",
       "</div>"
      ],
      "text/plain": [
       "                                             activity  \\\n",
       "0                         market for cement, Portland   \n",
       "1                 market for cement, limestone 21-35%   \n",
       "2     market for cement, pozzolana and fly ash 11-35%   \n",
       "3               market for cement, sulphate resistant   \n",
       "4     market for cement, pozzolana and fly ash 15-50%   \n",
       "..                                                ...   \n",
       "93                        market for cement, Portland   \n",
       "94    market for cement, pozzolana and fly ash 15-50%   \n",
       "95  market for cement, portland fly ash cement 21-35%   \n",
       "96                        market for cement, Portland   \n",
       "97    market for cement, pozzolana and fly ash 25-35%   \n",
       "\n",
       "                      location       GWP  \n",
       "0   Europe without Switzerland  0.875039  \n",
       "1                          RoW  0.758066  \n",
       "2   Europe without Switzerland  0.714784  \n",
       "3                           BR  0.740920  \n",
       "4                          RoW  0.609570  \n",
       "..                         ...       ...  \n",
       "93                          US  0.903289  \n",
       "94                          BR  0.595846  \n",
       "95                          ZA  0.737057  \n",
       "96                          CH  0.743008  \n",
       "97                          IN  0.657335  \n",
       "\n",
       "[98 rows x 3 columns]"
      ]
     },
     "execution_count": 314,
     "metadata": {},
     "output_type": "execute_result"
    }
   ],
   "source": [
    "#cement_gwp = [calculateLCA(act, 1, ipcc) for act in cement]\n",
    "fu, data_objs, _ = bd.prepare_lca_inputs({cement[0]: 1}, method=ipcc)\n",
    "lca = bc.LCA(fu, data_objs=data_objs)\n",
    "lca.lci()\n",
    "lca.lcia()\n",
    "results_ciment = []\n",
    "for act in cement:\n",
    "    lca.redo_lcia({act.id: 1})\n",
    "    results_ciment.append((act[\"name\"], act[\"location\"], lca.score))\n",
    "\n",
    "cements_lca = pd.DataFrame(results_ciment, columns=[\"activity\", \"location\", \"GWP\"])\n",
    "cements_lca.to_csv(wdir+\"/outputs/gwp_results_cement_1_kg.csv\")\n",
    "cements_lca"
   ]
  },
  {
   "cell_type": "code",
   "execution_count": 315,
   "id": "6272bf6f-471d-4a63-987b-41140de4261f",
   "metadata": {},
   "outputs": [
    {
     "data": {
      "text/plain": [
       "activity    32\n",
       "location    10\n",
       "GWP         98\n",
       "dtype: int64"
      ]
     },
     "execution_count": 315,
     "metadata": {},
     "output_type": "execute_result"
    }
   ],
   "source": [
    "cements_lca.nunique()"
   ]
  },
  {
   "cell_type": "markdown",
   "id": "c85170ed-c5da-40fa-9d90-dd1ef11edad7",
   "metadata": {},
   "source": [
    "#### Adding the charcrete to the comparison"
   ]
  },
  {
   "cell_type": "code",
   "execution_count": 316,
   "id": "a8ab9468-19dc-4cfe-a01c-d8c71e1bc37c",
   "metadata": {},
   "outputs": [
    {
     "name": "stdout",
     "output_type": "stream",
     "text": [
      "['concrete production 20MPa' (cubic meter, North America without Quebec, None), 'concrete production 20MPa' (cubic meter, CA-QC, None), 'concrete production 20MPa' (cubic meter, RoW, None), 'concrete production 20MPa' (cubic meter, ZA, None), 'Charcrete production 5%' (cubic meter, SE, None), 'Charcrete production 7.5%' (cubic meter, SE, None), 'Charcrete production 10%' (cubic meter, SE, None)]\n",
      "'concrete production 20MPa' (cubic meter, North America without Quebec, None) 217.55243665066354\n",
      "'concrete production 20MPa' (cubic meter, CA-QC, None) 234.1879918934279\n",
      "'concrete production 20MPa' (cubic meter, RoW, None) 193.85391050515568\n",
      "'concrete production 20MPa' (cubic meter, ZA, None) 229.71912735575845\n",
      "'Charcrete production 5%' (cubic meter, SE, None) 177.6456230224958\n",
      "'Charcrete production 7.5%' (cubic meter, SE, None) 173.5558197613203\n",
      "'Charcrete production 10%' (cubic meter, SE, None) 169.37472406675374\n"
     ]
    }
   ],
   "source": [
    "concrete_ei = [*concrete_ei, charcrete, charcrete_7, charcrete_10]\n",
    "print(concrete_ei)\n",
    "concretes_gwp = [calculateLCA(act, 1, ipcc) for act in concrete_ei]"
   ]
  },
  {
   "cell_type": "code",
   "execution_count": 317,
   "id": "1ae61a45-2914-4df4-ab89-54b38bfc2802",
   "metadata": {},
   "outputs": [
    {
     "data": {
      "text/html": [
       "<div>\n",
       "<style scoped>\n",
       "    .dataframe tbody tr th:only-of-type {\n",
       "        vertical-align: middle;\n",
       "    }\n",
       "\n",
       "    .dataframe tbody tr th {\n",
       "        vertical-align: top;\n",
       "    }\n",
       "\n",
       "    .dataframe thead th {\n",
       "        text-align: right;\n",
       "    }\n",
       "</style>\n",
       "<table border=\"1\" class=\"dataframe\">\n",
       "  <thead>\n",
       "    <tr style=\"text-align: right;\">\n",
       "      <th></th>\n",
       "      <th>activity</th>\n",
       "      <th>location</th>\n",
       "      <th>GWP</th>\n",
       "    </tr>\n",
       "  </thead>\n",
       "  <tbody>\n",
       "    <tr>\n",
       "      <th>0</th>\n",
       "      <td>concrete production 20MPa</td>\n",
       "      <td>North America without Quebec</td>\n",
       "      <td>217.552437</td>\n",
       "    </tr>\n",
       "    <tr>\n",
       "      <th>1</th>\n",
       "      <td>concrete production 20MPa</td>\n",
       "      <td>CA-QC</td>\n",
       "      <td>234.187992</td>\n",
       "    </tr>\n",
       "    <tr>\n",
       "      <th>2</th>\n",
       "      <td>concrete production 20MPa</td>\n",
       "      <td>RoW</td>\n",
       "      <td>193.853911</td>\n",
       "    </tr>\n",
       "    <tr>\n",
       "      <th>3</th>\n",
       "      <td>concrete production 20MPa</td>\n",
       "      <td>ZA</td>\n",
       "      <td>229.719127</td>\n",
       "    </tr>\n",
       "    <tr>\n",
       "      <th>4</th>\n",
       "      <td>Charcrete production 5%</td>\n",
       "      <td>SE</td>\n",
       "      <td>177.645623</td>\n",
       "    </tr>\n",
       "    <tr>\n",
       "      <th>5</th>\n",
       "      <td>Charcrete production 7.5%</td>\n",
       "      <td>SE</td>\n",
       "      <td>173.555820</td>\n",
       "    </tr>\n",
       "    <tr>\n",
       "      <th>6</th>\n",
       "      <td>Charcrete production 10%</td>\n",
       "      <td>SE</td>\n",
       "      <td>169.374724</td>\n",
       "    </tr>\n",
       "  </tbody>\n",
       "</table>\n",
       "</div>"
      ],
      "text/plain": [
       "                    activity                      location         GWP\n",
       "0  concrete production 20MPa  North America without Quebec  217.552437\n",
       "1  concrete production 20MPa                         CA-QC  234.187992\n",
       "2  concrete production 20MPa                           RoW  193.853911\n",
       "3  concrete production 20MPa                            ZA  229.719127\n",
       "4    Charcrete production 5%                            SE  177.645623\n",
       "5  Charcrete production 7.5%                            SE  173.555820\n",
       "6   Charcrete production 10%                            SE  169.374724"
      ]
     },
     "execution_count": 317,
     "metadata": {},
     "output_type": "execute_result"
    }
   ],
   "source": [
    "first_lca = pd.DataFrame(list(zip([act[\"name\"] for act in concrete_ei],[act[\"location\"] for act in concrete_ei], concretes_gwp)), columns=[\"activity\", \"location\", \"GWP\"])\n",
    "first_lca.to_csv(wdir+\"/outputs/first_lca_results_concrete_1_m3.csv\")\n",
    "first_lca"
   ]
  },
  {
   "cell_type": "code",
   "execution_count": 318,
   "id": "f3ebc5e7-c433-41bd-adb1-d4a0a1e91575",
   "metadata": {},
   "outputs": [
    {
     "name": "stdout",
     "output_type": "stream",
     "text": [
      "Fraction of score | Absolute score | Amount | Activity\n",
      "0001 | 177.6 |     1 | 'Charcrete production 5%' (cubic meter, SE, None)\n",
      "  0.0123 | 2.184 |  0.01 | 'Biochar production' (ton, SE, None)\n",
      "  0.0346 | 6.151 |  1000 | 'market for gravel, crushed' (kilogram, CH, None)\n",
      "    0.015 | 2.659 | 20.26 | 'market for transport, freight, lorry, unspecified' (ton kilometer, RE\n",
      "    0.0194 | 3.437 |  1000 | 'gravel production, crushed' (kilogram, CH, None)\n",
      "  0.0255 | 4.536 |   938 | 'market for sand' (kilogram, CH, None)\n",
      "    0.014 | 2.494 |    19 | 'market for transport, freight, lorry, unspecified' (ton kilometer, RE\n",
      "    0.0112 | 1.991 |   938 | 'gravel and sand quarry operation' (kilogram, CH, None)\n",
      "  0.024 | 4.261 |   3.2 | 'market for plasticiser, for concrete, based on sulfonated melamine fo\n",
      "    0.0231 |   4.1 |   3.2 | 'plasticiser production, for concrete, based on sulfonated melamine fo\n",
      "      0.0121 | 2.147 | 1.075 | 'market for chemical, organic' (kilogram, GLO, None)\n",
      "  0.92 | 163.5 | 186.8 | 'market for cement, Portland' (kilogram, Europe without Switzerland, N\n",
      "    0.0148 |  2.62 | 19.97 | 'market for transport, freight, lorry, unspecified' (ton kilometer, RE\n",
      "    0.898 | 159.5 | 186.8 | 'cement production, Portland' (kilogram, Europe without Switzerland, N\n",
      "      0.0154 | 2.744 | 7.024 | 'market group for electricity, medium voltage' (kilowatt hour, Europe \n",
      "      0.878 |   156 | 168.6 | 'clinker production' (kilogram, Europe without Switzerland, None)\n"
     ]
    }
   ],
   "source": [
    "ba.print_recursive_calculation(charcrete, ipcc, cutoff=0.010)"
   ]
  },
  {
   "cell_type": "markdown",
   "id": "952e4578-f5c9-4a8b-b3f0-483bb80f4c56",
   "metadata": {},
   "source": [
    "**Charcrete** is not that good I guess... Need to investigate the formulation of the concrete and other parameters with more data/uncertainty analysis on : \n",
    "- cement production process and localisation\n",
    "- formulation of cement/biochar/other..."
   ]
  },
  {
   "cell_type": "markdown",
   "id": "bf41cd9b-9aed-4d27-a05c-7a43ad565a2e",
   "metadata": {},
   "source": [
    "## Replacing stuff in the activity"
   ]
  },
  {
   "cell_type": "code",
   "execution_count": 319,
   "id": "869b85ca-252e-4dc5-8f32-b8a6d309ab1c",
   "metadata": {},
   "outputs": [
    {
     "data": {
      "text/plain": [
       "<function __main__.replace_stuff(main_act, sub_act, repl_act, method)>"
      ]
     },
     "execution_count": 319,
     "metadata": {},
     "output_type": "execute_result"
    }
   ],
   "source": [
    "replace_stuff"
   ]
  },
  {
   "cell_type": "code",
   "execution_count": null,
   "id": "cfa37955-dd04-4793-8b09-afaf0c45e6ce",
   "metadata": {},
   "outputs": [],
   "source": []
  },
  {
   "cell_type": "markdown",
   "id": "4d6df822-0540-46ff-b3e8-2076a5dccdeb",
   "metadata": {},
   "source": [
    "## Scenarios of charcrete"
   ]
  },
  {
   "cell_type": "code",
   "execution_count": 320,
   "id": "9b6a49a2-64fe-4e88-a580-bff48e14363d",
   "metadata": {},
   "outputs": [
    {
     "data": {
      "text/html": [
       "<div>\n",
       "<style scoped>\n",
       "    .dataframe tbody tr th:only-of-type {\n",
       "        vertical-align: middle;\n",
       "    }\n",
       "\n",
       "    .dataframe tbody tr th {\n",
       "        vertical-align: top;\n",
       "    }\n",
       "\n",
       "    .dataframe thead th {\n",
       "        text-align: right;\n",
       "    }\n",
       "</style>\n",
       "<table border=\"1\" class=\"dataframe\">\n",
       "  <thead>\n",
       "    <tr style=\"text-align: right;\">\n",
       "      <th></th>\n",
       "      <th>Activity name</th>\n",
       "      <th>reference product</th>\n",
       "      <th>location</th>\n",
       "      <th>Charcrete production 5%</th>\n",
       "      <th>Charcrete production 7.5%</th>\n",
       "      <th>Charcrete production 10%</th>\n",
       "      <th>unit</th>\n",
       "      <th>database</th>\n",
       "      <th>type</th>\n",
       "    </tr>\n",
       "  </thead>\n",
       "  <tbody>\n",
       "    <tr>\n",
       "      <th>0</th>\n",
       "      <td>Charcrete production 5%</td>\n",
       "      <td>Charcrete production 5%</td>\n",
       "      <td>SE</td>\n",
       "      <td>1.000</td>\n",
       "      <td>1.000</td>\n",
       "      <td>1.000</td>\n",
       "      <td>cubic meter</td>\n",
       "      <td>Charcrete_38</td>\n",
       "      <td>production</td>\n",
       "    </tr>\n",
       "    <tr>\n",
       "      <th>1</th>\n",
       "      <td>Biochar production</td>\n",
       "      <td>Biochar production</td>\n",
       "      <td>SE</td>\n",
       "      <td>0.010</td>\n",
       "      <td>0.015</td>\n",
       "      <td>0.020</td>\n",
       "      <td>ton</td>\n",
       "      <td>Charcrete_38</td>\n",
       "      <td>technosphere</td>\n",
       "    </tr>\n",
       "    <tr>\n",
       "      <th>2</th>\n",
       "      <td>market for gravel, crushed</td>\n",
       "      <td>gravel, crushed</td>\n",
       "      <td>CH</td>\n",
       "      <td>1000.000</td>\n",
       "      <td>1000.000</td>\n",
       "      <td>1000.000</td>\n",
       "      <td>kilogram</td>\n",
       "      <td>ei 3.8 cutoff</td>\n",
       "      <td>technosphere</td>\n",
       "    </tr>\n",
       "    <tr>\n",
       "      <th>3</th>\n",
       "      <td>market for electricity, medium voltage</td>\n",
       "      <td>electricity, medium voltage</td>\n",
       "      <td>SE</td>\n",
       "      <td>5.500</td>\n",
       "      <td>5.500</td>\n",
       "      <td>5.500</td>\n",
       "      <td>kilowatt hour</td>\n",
       "      <td>ei 3.8 cutoff</td>\n",
       "      <td>technosphere</td>\n",
       "    </tr>\n",
       "    <tr>\n",
       "      <th>4</th>\n",
       "      <td>market for tap water</td>\n",
       "      <td>tap water</td>\n",
       "      <td>Europe without Switzerland</td>\n",
       "      <td>156.000</td>\n",
       "      <td>156.000</td>\n",
       "      <td>156.000</td>\n",
       "      <td>kilogram</td>\n",
       "      <td>ei 3.8 cutoff</td>\n",
       "      <td>technosphere</td>\n",
       "    </tr>\n",
       "    <tr>\n",
       "      <th>5</th>\n",
       "      <td>market for sand</td>\n",
       "      <td>sand</td>\n",
       "      <td>CH</td>\n",
       "      <td>938.000</td>\n",
       "      <td>938.000</td>\n",
       "      <td>938.000</td>\n",
       "      <td>kilogram</td>\n",
       "      <td>ei 3.8 cutoff</td>\n",
       "      <td>technosphere</td>\n",
       "    </tr>\n",
       "    <tr>\n",
       "      <th>6</th>\n",
       "      <td>market for plasticiser, for concrete, based on...</td>\n",
       "      <td>plasticiser, for concrete, based on sulfonated...</td>\n",
       "      <td>GLO</td>\n",
       "      <td>3.200</td>\n",
       "      <td>5.000</td>\n",
       "      <td>6.600</td>\n",
       "      <td>kilogram</td>\n",
       "      <td>ei 3.8 cutoff</td>\n",
       "      <td>technosphere</td>\n",
       "    </tr>\n",
       "    <tr>\n",
       "      <th>7</th>\n",
       "      <td>market for diesel, burned in building machine</td>\n",
       "      <td>diesel, burned in building machine</td>\n",
       "      <td>GLO</td>\n",
       "      <td>0.200</td>\n",
       "      <td>0.200</td>\n",
       "      <td>0.200</td>\n",
       "      <td>MJ</td>\n",
       "      <td>ei 3.8 cutoff</td>\n",
       "      <td>technosphere</td>\n",
       "    </tr>\n",
       "    <tr>\n",
       "      <th>8</th>\n",
       "      <td>market for cement, Portland</td>\n",
       "      <td>cement, Portland</td>\n",
       "      <td>Europe without Switzerland</td>\n",
       "      <td>186.800</td>\n",
       "      <td>180.000</td>\n",
       "      <td>173.400</td>\n",
       "      <td>kilogram</td>\n",
       "      <td>ei 3.8 cutoff</td>\n",
       "      <td>technosphere</td>\n",
       "    </tr>\n",
       "    <tr>\n",
       "      <th>9</th>\n",
       "      <td>Carbon dioxide, to soil or biomass stock</td>\n",
       "      <td>NaN</td>\n",
       "      <td>NaN</td>\n",
       "      <td>3.256</td>\n",
       "      <td>4.884</td>\n",
       "      <td>6.512</td>\n",
       "      <td>kilogram</td>\n",
       "      <td>biosphere3</td>\n",
       "      <td>biosphere</td>\n",
       "    </tr>\n",
       "  </tbody>\n",
       "</table>\n",
       "</div>"
      ],
      "text/plain": [
       "                                       Activity name  \\\n",
       "0                            Charcrete production 5%   \n",
       "1                                 Biochar production   \n",
       "2                         market for gravel, crushed   \n",
       "3             market for electricity, medium voltage   \n",
       "4                               market for tap water   \n",
       "5                                    market for sand   \n",
       "6  market for plasticiser, for concrete, based on...   \n",
       "7      market for diesel, burned in building machine   \n",
       "8                        market for cement, Portland   \n",
       "9           Carbon dioxide, to soil or biomass stock   \n",
       "\n",
       "                                   reference product  \\\n",
       "0                            Charcrete production 5%   \n",
       "1                                 Biochar production   \n",
       "2                                    gravel, crushed   \n",
       "3                        electricity, medium voltage   \n",
       "4                                          tap water   \n",
       "5                                               sand   \n",
       "6  plasticiser, for concrete, based on sulfonated...   \n",
       "7                 diesel, burned in building machine   \n",
       "8                                   cement, Portland   \n",
       "9                                                NaN   \n",
       "\n",
       "                     location  Charcrete production 5%  \\\n",
       "0                          SE                    1.000   \n",
       "1                          SE                    0.010   \n",
       "2                          CH                 1000.000   \n",
       "3                          SE                    5.500   \n",
       "4  Europe without Switzerland                  156.000   \n",
       "5                          CH                  938.000   \n",
       "6                         GLO                    3.200   \n",
       "7                         GLO                    0.200   \n",
       "8  Europe without Switzerland                  186.800   \n",
       "9                         NaN                    3.256   \n",
       "\n",
       "   Charcrete production 7.5%  Charcrete production 10%           unit  \\\n",
       "0                      1.000                     1.000    cubic meter   \n",
       "1                      0.015                     0.020            ton   \n",
       "2                   1000.000                  1000.000       kilogram   \n",
       "3                      5.500                     5.500  kilowatt hour   \n",
       "4                    156.000                   156.000       kilogram   \n",
       "5                    938.000                   938.000       kilogram   \n",
       "6                      5.000                     6.600       kilogram   \n",
       "7                      0.200                     0.200             MJ   \n",
       "8                    180.000                   173.400       kilogram   \n",
       "9                      4.884                     6.512       kilogram   \n",
       "\n",
       "        database          type  \n",
       "0   Charcrete_38    production  \n",
       "1   Charcrete_38  technosphere  \n",
       "2  ei 3.8 cutoff  technosphere  \n",
       "3  ei 3.8 cutoff  technosphere  \n",
       "4  ei 3.8 cutoff  technosphere  \n",
       "5  ei 3.8 cutoff  technosphere  \n",
       "6  ei 3.8 cutoff  technosphere  \n",
       "7  ei 3.8 cutoff  technosphere  \n",
       "8  ei 3.8 cutoff  technosphere  \n",
       "9     biosphere3     biosphere  "
      ]
     },
     "execution_count": 320,
     "metadata": {},
     "output_type": "execute_result"
    }
   ],
   "source": [
    "scenario_df = pd.read_excel(wdir+\"/data/Charcrete_database_38.xlsx\", sheet_name=\"scenario\")\n",
    "scenario_df"
   ]
  },
  {
   "cell_type": "code",
   "execution_count": 321,
   "id": "65822e04-2aa2-4571-9963-f543ba9fc5e7",
   "metadata": {},
   "outputs": [],
   "source": [
    "def find_id(x):\n",
    "    if x[\"type\"] == \"technosphere\" or x[\"type\"] == \"production\" :\n",
    "        try:\n",
    "            activity = bd.get_activity(database=x[\"database\"], name=x[\"Activity name\"], location=x[\"location\"])\n",
    "            id_val = activity.id\n",
    "        except:\n",
    "            print(\"erreur : \"+x[\"Activity name\"])\n",
    "    if x[\"type\"] == \"biosphere\":\n",
    "            act = bd.get_activity(database=\"Charcrete_38\", name=\"Charcrete production 5%\", location=\"SE\")\n",
    "            activity = [flow for flow in act.biosphere() if x[\"Activity name\"] in flow[\"name\"]][0]\n",
    "            id_val = activity.input.id\n",
    "    return id_val"
   ]
  },
  {
   "cell_type": "code",
   "execution_count": 322,
   "id": "9284542b-a2c7-47f1-bf9f-7f00fbe6c027",
   "metadata": {},
   "outputs": [
    {
     "data": {
      "text/html": [
       "<div>\n",
       "<style scoped>\n",
       "    .dataframe tbody tr th:only-of-type {\n",
       "        vertical-align: middle;\n",
       "    }\n",
       "\n",
       "    .dataframe tbody tr th {\n",
       "        vertical-align: top;\n",
       "    }\n",
       "\n",
       "    .dataframe thead th {\n",
       "        text-align: right;\n",
       "    }\n",
       "</style>\n",
       "<table border=\"1\" class=\"dataframe\">\n",
       "  <thead>\n",
       "    <tr style=\"text-align: right;\">\n",
       "      <th></th>\n",
       "      <th>Activity name</th>\n",
       "      <th>reference product</th>\n",
       "      <th>location</th>\n",
       "      <th>Charcrete production 5%</th>\n",
       "      <th>Charcrete production 7.5%</th>\n",
       "      <th>Charcrete production 10%</th>\n",
       "      <th>unit</th>\n",
       "      <th>database</th>\n",
       "      <th>type</th>\n",
       "      <th>id</th>\n",
       "    </tr>\n",
       "  </thead>\n",
       "  <tbody>\n",
       "    <tr>\n",
       "      <th>0</th>\n",
       "      <td>Charcrete production 5%</td>\n",
       "      <td>Charcrete production 5%</td>\n",
       "      <td>SE</td>\n",
       "      <td>1.000</td>\n",
       "      <td>1.000</td>\n",
       "      <td>1.000</td>\n",
       "      <td>cubic meter</td>\n",
       "      <td>Charcrete_38</td>\n",
       "      <td>production</td>\n",
       "      <td>33105</td>\n",
       "    </tr>\n",
       "    <tr>\n",
       "      <th>1</th>\n",
       "      <td>Biochar production</td>\n",
       "      <td>Biochar production</td>\n",
       "      <td>SE</td>\n",
       "      <td>0.010</td>\n",
       "      <td>0.015</td>\n",
       "      <td>0.020</td>\n",
       "      <td>ton</td>\n",
       "      <td>Charcrete_38</td>\n",
       "      <td>technosphere</td>\n",
       "      <td>33104</td>\n",
       "    </tr>\n",
       "    <tr>\n",
       "      <th>2</th>\n",
       "      <td>market for gravel, crushed</td>\n",
       "      <td>gravel, crushed</td>\n",
       "      <td>CH</td>\n",
       "      <td>1000.000</td>\n",
       "      <td>1000.000</td>\n",
       "      <td>1000.000</td>\n",
       "      <td>kilogram</td>\n",
       "      <td>ei 3.8 cutoff</td>\n",
       "      <td>technosphere</td>\n",
       "      <td>15962</td>\n",
       "    </tr>\n",
       "    <tr>\n",
       "      <th>3</th>\n",
       "      <td>market for electricity, medium voltage</td>\n",
       "      <td>electricity, medium voltage</td>\n",
       "      <td>SE</td>\n",
       "      <td>5.500</td>\n",
       "      <td>5.500</td>\n",
       "      <td>5.500</td>\n",
       "      <td>kilowatt hour</td>\n",
       "      <td>ei 3.8 cutoff</td>\n",
       "      <td>technosphere</td>\n",
       "      <td>10117</td>\n",
       "    </tr>\n",
       "    <tr>\n",
       "      <th>4</th>\n",
       "      <td>market for tap water</td>\n",
       "      <td>tap water</td>\n",
       "      <td>Europe without Switzerland</td>\n",
       "      <td>156.000</td>\n",
       "      <td>156.000</td>\n",
       "      <td>156.000</td>\n",
       "      <td>kilogram</td>\n",
       "      <td>ei 3.8 cutoff</td>\n",
       "      <td>technosphere</td>\n",
       "      <td>15716</td>\n",
       "    </tr>\n",
       "    <tr>\n",
       "      <th>5</th>\n",
       "      <td>market for sand</td>\n",
       "      <td>sand</td>\n",
       "      <td>CH</td>\n",
       "      <td>938.000</td>\n",
       "      <td>938.000</td>\n",
       "      <td>938.000</td>\n",
       "      <td>kilogram</td>\n",
       "      <td>ei 3.8 cutoff</td>\n",
       "      <td>technosphere</td>\n",
       "      <td>5008</td>\n",
       "    </tr>\n",
       "    <tr>\n",
       "      <th>6</th>\n",
       "      <td>market for plasticiser, for concrete, based on...</td>\n",
       "      <td>plasticiser, for concrete, based on sulfonated...</td>\n",
       "      <td>GLO</td>\n",
       "      <td>3.200</td>\n",
       "      <td>5.000</td>\n",
       "      <td>6.600</td>\n",
       "      <td>kilogram</td>\n",
       "      <td>ei 3.8 cutoff</td>\n",
       "      <td>technosphere</td>\n",
       "      <td>6509</td>\n",
       "    </tr>\n",
       "    <tr>\n",
       "      <th>7</th>\n",
       "      <td>market for diesel, burned in building machine</td>\n",
       "      <td>diesel, burned in building machine</td>\n",
       "      <td>GLO</td>\n",
       "      <td>0.200</td>\n",
       "      <td>0.200</td>\n",
       "      <td>0.200</td>\n",
       "      <td>MJ</td>\n",
       "      <td>ei 3.8 cutoff</td>\n",
       "      <td>technosphere</td>\n",
       "      <td>10200</td>\n",
       "    </tr>\n",
       "    <tr>\n",
       "      <th>8</th>\n",
       "      <td>market for cement, Portland</td>\n",
       "      <td>cement, Portland</td>\n",
       "      <td>Europe without Switzerland</td>\n",
       "      <td>186.800</td>\n",
       "      <td>180.000</td>\n",
       "      <td>173.400</td>\n",
       "      <td>kilogram</td>\n",
       "      <td>ei 3.8 cutoff</td>\n",
       "      <td>technosphere</td>\n",
       "      <td>13050</td>\n",
       "    </tr>\n",
       "    <tr>\n",
       "      <th>9</th>\n",
       "      <td>Carbon dioxide, to soil or biomass stock</td>\n",
       "      <td>NaN</td>\n",
       "      <td>NaN</td>\n",
       "      <td>3.256</td>\n",
       "      <td>4.884</td>\n",
       "      <td>6.512</td>\n",
       "      <td>kilogram</td>\n",
       "      <td>biosphere3</td>\n",
       "      <td>biosphere</td>\n",
       "      <td>3891</td>\n",
       "    </tr>\n",
       "  </tbody>\n",
       "</table>\n",
       "</div>"
      ],
      "text/plain": [
       "                                       Activity name  \\\n",
       "0                            Charcrete production 5%   \n",
       "1                                 Biochar production   \n",
       "2                         market for gravel, crushed   \n",
       "3             market for electricity, medium voltage   \n",
       "4                               market for tap water   \n",
       "5                                    market for sand   \n",
       "6  market for plasticiser, for concrete, based on...   \n",
       "7      market for diesel, burned in building machine   \n",
       "8                        market for cement, Portland   \n",
       "9           Carbon dioxide, to soil or biomass stock   \n",
       "\n",
       "                                   reference product  \\\n",
       "0                            Charcrete production 5%   \n",
       "1                                 Biochar production   \n",
       "2                                    gravel, crushed   \n",
       "3                        electricity, medium voltage   \n",
       "4                                          tap water   \n",
       "5                                               sand   \n",
       "6  plasticiser, for concrete, based on sulfonated...   \n",
       "7                 diesel, burned in building machine   \n",
       "8                                   cement, Portland   \n",
       "9                                                NaN   \n",
       "\n",
       "                     location  Charcrete production 5%  \\\n",
       "0                          SE                    1.000   \n",
       "1                          SE                    0.010   \n",
       "2                          CH                 1000.000   \n",
       "3                          SE                    5.500   \n",
       "4  Europe without Switzerland                  156.000   \n",
       "5                          CH                  938.000   \n",
       "6                         GLO                    3.200   \n",
       "7                         GLO                    0.200   \n",
       "8  Europe without Switzerland                  186.800   \n",
       "9                         NaN                    3.256   \n",
       "\n",
       "   Charcrete production 7.5%  Charcrete production 10%           unit  \\\n",
       "0                      1.000                     1.000    cubic meter   \n",
       "1                      0.015                     0.020            ton   \n",
       "2                   1000.000                  1000.000       kilogram   \n",
       "3                      5.500                     5.500  kilowatt hour   \n",
       "4                    156.000                   156.000       kilogram   \n",
       "5                    938.000                   938.000       kilogram   \n",
       "6                      5.000                     6.600       kilogram   \n",
       "7                      0.200                     0.200             MJ   \n",
       "8                    180.000                   173.400       kilogram   \n",
       "9                      4.884                     6.512       kilogram   \n",
       "\n",
       "        database          type     id  \n",
       "0   Charcrete_38    production  33105  \n",
       "1   Charcrete_38  technosphere  33104  \n",
       "2  ei 3.8 cutoff  technosphere  15962  \n",
       "3  ei 3.8 cutoff  technosphere  10117  \n",
       "4  ei 3.8 cutoff  technosphere  15716  \n",
       "5  ei 3.8 cutoff  technosphere   5008  \n",
       "6  ei 3.8 cutoff  technosphere   6509  \n",
       "7  ei 3.8 cutoff  technosphere  10200  \n",
       "8  ei 3.8 cutoff  technosphere  13050  \n",
       "9     biosphere3     biosphere   3891  "
      ]
     },
     "execution_count": 322,
     "metadata": {},
     "output_type": "execute_result"
    }
   ],
   "source": [
    "scenario_df[\"id\"] = scenario_df.apply(find_id, axis=1)\n",
    "scenario_df"
   ]
  },
  {
   "cell_type": "code",
   "execution_count": 323,
   "id": "9bce16b6-26d4-4f78-acc9-8ac591b3558b",
   "metadata": {},
   "outputs": [
    {
     "data": {
      "text/plain": [
       "array([[1.000e+00, 1.000e+00, 1.000e+00],\n",
       "       [1.000e-02, 1.500e-02, 2.000e-02],\n",
       "       [1.000e+03, 1.000e+03, 1.000e+03],\n",
       "       [5.500e+00, 5.500e+00, 5.500e+00],\n",
       "       [1.560e+02, 1.560e+02, 1.560e+02],\n",
       "       [9.380e+02, 9.380e+02, 9.380e+02],\n",
       "       [3.200e+00, 5.000e+00, 6.600e+00],\n",
       "       [2.000e-01, 2.000e-01, 2.000e-01],\n",
       "       [1.868e+02, 1.800e+02, 1.734e+02]])"
      ]
     },
     "execution_count": 323,
     "metadata": {},
     "output_type": "execute_result"
    }
   ],
   "source": [
    "data = scenario_df[(scenario_df[\"type\"]==\"technosphere\") | (scenario_df[\"type\"]==\"production\")][[\"Charcrete production 5%\", \"Charcrete production 7.5%\", \"Charcrete production 10%\"]].values.tolist()\n",
    "t_data_array = np.array(data)\n",
    "t_data_array"
   ]
  },
  {
   "cell_type": "code",
   "execution_count": 324,
   "id": "29a08fcc-530c-4b51-b245-68900d5f07bc",
   "metadata": {},
   "outputs": [
    {
     "data": {
      "text/plain": [
       "Exchange: 3.2560000000000002 kilogram 'Carbon dioxide, to soil or biomass stock' (kilogram, None, ('soil', 'industrial')) to 'Charcrete production 5%' (cubic meter, SE, None)>"
      ]
     },
     "execution_count": 324,
     "metadata": {},
     "output_type": "execute_result"
    }
   ],
   "source": [
    "[flow for flow in charcrete.biosphere()][0]"
   ]
  },
  {
   "cell_type": "code",
   "execution_count": 325,
   "id": "6493e4a6-ba69-4066-96fd-8460ba020191",
   "metadata": {},
   "outputs": [
    {
     "name": "stdout",
     "output_type": "stream",
     "text": [
      "1: 'Charcrete production 5%' (cubic meter, SE, None)\n",
      "  0.01: 'Biochar production' (ton, SE, None)\n",
      "    0.027: 'Woodchip production' (ton, SE, None)\n",
      "    0.027: 'Woodchip transport' (ton, SE, None)\n",
      "    0.027: 'Pyrolysis' (ton, SE, None)\n",
      "  1e+03: 'market for gravel, crushed' (kilogram, CH, None)\n",
      "    3.72: 'market for transport, freight train' (ton kilometer, CH, None)\n",
      "    20.3: 'market for transport, freight, lorry, unspecified' (ton kilometer, RE\n",
      "    1e+03: 'gravel production, crushed' (kilogram, CH, None)\n",
      "  5.5: 'market for electricity, medium voltage' (kilowatt hour, SE, None)\n",
      "    1.03e-07: 'market for transmission network, electricity, medium voltage' (kilome\n",
      "    6.24e-07: 'market for sulfur hexafluoride, liquid' (kilogram, RER, None)\n",
      "    5.39: 'electricity voltage transformation from high to medium voltage' (kilo\n",
      "    0.135: 'electricity, from municipal waste incineration to generic market for \n",
      "  156: 'market for tap water' (kilogram, Europe without Switzerland, None)\n",
      "    9.13e-08: 'market for water supply network' (kilometer, GLO, None)\n",
      "    56: 'tap water production, conventional treatment' (kilogram, Europe witho\n",
      "    12.1: 'tap water production, conventional with biological treatment' (kilogr\n",
      "    69: 'tap water production, direct filtration treatment' (kilogram, Europe \n",
      "    4.38: 'tap water production, microstrainer treatment' (kilogram, Europe with\n",
      "    4.68: 'tap water production, ultrafiltration treatment' (kilogram, Europe wi\n",
      "    7.51: 'tap water production, underground water with chemical treatment' (kil\n",
      "    7.51: 'tap water production, underground water with disinfection' (kilogram,\n",
      "    17.9: 'tap water production, underground water without treatment' (kilogram,\n",
      "  938: 'market for sand' (kilogram, CH, None)\n",
      "    3.49: 'market for transport, freight train' (ton kilometer, CH, None)\n",
      "    19: 'market for transport, freight, lorry, unspecified' (ton kilometer, RE\n",
      "    938: 'gravel and sand quarry operation' (kilogram, CH, None)\n",
      "  3.2: 'market for plasticiser, for concrete, based on sulfonated melamine fo\n",
      "    0.989: 'market group for transport, freight train' (ton kilometer, GLO, None)\n",
      "    1.92: 'market for transport, freight, sea, container ship' (ton kilometer, G\n",
      "    0.0787: 'market group for transport, freight, inland waterways, barge' (ton ki\n",
      "    0.668: 'market group for transport, freight, lorry, unspecified' (ton kilomet\n",
      "    3.2: 'plasticiser production, for concrete, based on sulfonated melamine fo\n",
      "  0.2: 'market for diesel, burned in building machine' (megajoule, GLO, None)\n",
      "    0.2: 'diesel, burned in building machine' (megajoule, GLO, None)\n",
      "  187: 'market for cement, Portland' (kilogram, Europe without Switzerland, N\n",
      "    0.616: 'market for transport, freight, light commercial vehicle' (ton kilomet\n",
      "    4.67: 'market for transport, freight train' (ton kilometer, Europe without S\n",
      "    20: 'market for transport, freight, lorry, unspecified' (ton kilometer, RE\n",
      "    187: 'cement production, Portland' (kilogram, Europe without Switzerland, N\n"
     ]
    }
   ],
   "source": [
    "ba.print_recursive_supply_chain(charcrete)"
   ]
  },
  {
   "cell_type": "code",
   "execution_count": 326,
   "id": "98b226c9-9b57-44a7-94b6-077ba591c71e",
   "metadata": {},
   "outputs": [],
   "source": [
    "ind_list = scenario_df[(scenario_df[\"type\"]==\"technosphere\") | (scenario_df[\"type\"]==\"production\")][\"id\"].values.tolist()\n",
    "indices = [(ind, 33105) for ind in ind_list]\n",
    "t_indices = np.array(indices, dtype=bwp.INDICES_DTYPE)"
   ]
  },
  {
   "cell_type": "code",
   "execution_count": 327,
   "id": "91d2dea2-781d-4c70-8626-efe62c3b2f3b",
   "metadata": {},
   "outputs": [
    {
     "data": {
      "text/plain": [
       "array([False,  True,  True,  True,  True,  True,  True,  True,  True])"
      ]
     },
     "execution_count": 327,
     "metadata": {},
     "output_type": "execute_result"
    }
   ],
   "source": [
    "t_flip = np.array([False]+[True for i in range(len(scenario_df[(scenario_df[\"type\"]==\"technosphere\")]))])\n",
    "t_flip"
   ]
  },
  {
   "cell_type": "code",
   "execution_count": 328,
   "id": "1d9c76c6-70e3-45f1-b923-d37a4371cd87",
   "metadata": {},
   "outputs": [
    {
     "data": {
      "text/plain": [
       "array([(3891, 33105)], dtype=[('row', '<i4'), ('col', '<i4')])"
      ]
     },
     "execution_count": 328,
     "metadata": {},
     "output_type": "execute_result"
    }
   ],
   "source": [
    "ind_list = scenario_df[(scenario_df[\"type\"]==\"biosphere\")][\"id\"].values.tolist()\n",
    "indices = [(ind, 33105) for ind in ind_list]\n",
    "b_indices = np.array(indices, dtype=bwp.INDICES_DTYPE)\n",
    "b_indices"
   ]
  },
  {
   "cell_type": "code",
   "execution_count": 329,
   "id": "30ec88f3-e81d-440e-9806-7a4bd791290a",
   "metadata": {},
   "outputs": [
    {
     "data": {
      "text/plain": [
       "array([[3.256, 4.884, 6.512]])"
      ]
     },
     "execution_count": 329,
     "metadata": {},
     "output_type": "execute_result"
    }
   ],
   "source": [
    "data = scenario_df[(scenario_df[\"type\"]==\"biosphere\")][[\"Charcrete production 5%\", \"Charcrete production 7.5%\", \"Charcrete production 10%\"]].values.tolist()\n",
    "b_data = np.array(data)\n",
    "b_data"
   ]
  },
  {
   "cell_type": "code",
   "execution_count": 330,
   "id": "23856ba5-9160-44dc-b9e6-f0a605e373e7",
   "metadata": {},
   "outputs": [],
   "source": [
    "dp_arrays = bwp.create_datapackage(sequential=True, seed=25323) # sequential sampling of columns = [0,1,2,0,1,...]\n",
    "dp_arrays.add_persistent_array(\n",
    "    matrix='technosphere_matrix',\n",
    "    indices_array=t_indices,\n",
    "    data_array=t_data_array,\n",
    "    flip_array=t_flip,\n",
    ")\n",
    "dp_arrays.add_persistent_array(\n",
    "    matrix='biosphere_matrix',\n",
    "    indices_array=b_indices,\n",
    "    data_array=b_data,\n",
    ")"
   ]
  },
  {
   "cell_type": "code",
   "execution_count": 331,
   "id": "0e33fe9f-bb99-4b57-86b1-135e47928512",
   "metadata": {},
   "outputs": [
    {
     "data": {
      "text/plain": [
       "'Charcrete production 5%' (cubic meter, SE, None)"
      ]
     },
     "execution_count": 331,
     "metadata": {},
     "output_type": "execute_result"
    }
   ],
   "source": [
    "charcrete"
   ]
  },
  {
   "cell_type": "code",
   "execution_count": 332,
   "id": "0643a3aa-44d8-499c-ad30-9f8e8ff3e11d",
   "metadata": {},
   "outputs": [
    {
     "data": {
      "text/plain": [
       "177.6456203790934"
      ]
     },
     "execution_count": 332,
     "metadata": {},
     "output_type": "execute_result"
    }
   ],
   "source": [
    "fu, data_objs, _ = bd.prepare_lca_inputs({charcrete: 1}, method=ipcc)\n",
    "lca_b = bc.LCA(\n",
    "    fu,\n",
    "    data_objs=[*data_objs, dp_arrays],\n",
    "    use_distributions=False,\n",
    "    use_arrays=True, \n",
    "#     seed_override=42,  # Seed should not be used it randoms the columns order\n",
    ")\n",
    "lca_b.lci()\n",
    "lca_b.lcia()\n",
    "lca_b.score"
   ]
  },
  {
   "cell_type": "code",
   "execution_count": 333,
   "id": "d5c15875-5175-4b14-b58b-ca3d56b8d474",
   "metadata": {},
   "outputs": [
    {
     "data": {
      "text/plain": [
       "[177.6456203790934, 173.55581965877943, 169.37472971580868]"
      ]
     },
     "execution_count": 333,
     "metadata": {},
     "output_type": "execute_result"
    }
   ],
   "source": [
    "lca_b.keep_first_iteration()\n",
    "iterations = 3\n",
    "scores_b = [lca_b.score for _ in zip(range(iterations), lca_b)]\n",
    "scores_b"
   ]
  },
  {
   "cell_type": "markdown",
   "id": "215d48e5-b6d7-4439-b2d7-8ceb40d6fea8",
   "metadata": {},
   "source": [
    "## Correlated uncertainties"
   ]
  },
  {
   "cell_type": "code",
   "execution_count": null,
   "id": "83fac746-0e8c-47ff-90d5-78ecc2099fb2",
   "metadata": {},
   "outputs": [],
   "source": []
  }
 ],
 "metadata": {
  "kernelspec": {
   "display_name": "Python [conda env:bw25]",
   "language": "python",
   "name": "conda-env-bw25-py"
  },
  "language_info": {
   "codemirror_mode": {
    "name": "ipython",
    "version": 3
   },
   "file_extension": ".py",
   "mimetype": "text/x-python",
   "name": "python",
   "nbconvert_exporter": "python",
   "pygments_lexer": "ipython3",
   "version": "3.10.6"
  }
 },
 "nbformat": 4,
 "nbformat_minor": 5
}
